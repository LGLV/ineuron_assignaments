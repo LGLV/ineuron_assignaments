{
  "nbformat": 4,
  "nbformat_minor": 0,
  "metadata": {
    "colab": {
      "provenance": [],
      "authorship_tag": "ABX9TyMzog4a9bhK821f0+yhSyq0",
      "include_colab_link": true
    },
    "kernelspec": {
      "name": "python3",
      "display_name": "Python 3"
    },
    "language_info": {
      "name": "python"
    }
  },
  "cells": [
    {
      "cell_type": "markdown",
      "metadata": {
        "id": "view-in-github",
        "colab_type": "text"
      },
      "source": [
        "<a href=\"https://colab.research.google.com/github/LGLV/ineuron_assignaments/blob/main/Programming_Assignment_8.ipynb\" target=\"_parent\"><img src=\"https://colab.research.google.com/assets/colab-badge.svg\" alt=\"Open In Colab\"/></a>"
      ]
    },
    {
      "cell_type": "markdown",
      "source": [
        "**1. Write a Python Program to Add Two Matrices?**\n",
        "\n",
        "In Python, we can implement a matrix as a nested list (list inside a list). We can treat each element as a row of the matrix.\n",
        "\n",
        "For example X = [[1, 2], [4, 5], [3, 6]] would represent a 3x2 matrix. First row can be selected as X[0] and the element in first row, first column can be selected as X[0][0].\n"
      ],
      "metadata": {
        "id": "_IQ1OOYtlmgF"
      }
    },
    {
      "cell_type": "code",
      "source": [
        "# Using nested for loops to iterate through each row and each column.\n",
        "\n",
        "a = [[1,2,3], [4,5,6], [7,8,9]]\n",
        "b = [[1,2,3], [4,5,6], [7,8,9]]\n",
        "\n",
        "# First row can be selected as a[0] and the element in first row, first column can be selected as a[0][0].\n",
        "\n",
        "result = [[0,0,0], [0,0,0], [0,0,0]]\n",
        "\n",
        "# Iterate through rows\n",
        "for i in range(len(a)):\n",
        "    # Iterate through columns\n",
        "    for j in range(len(a[0])):\n",
        "        result[i][j] = a[i][j] + b[i][j]\n",
        "    \n",
        "for k in result:\n",
        "    print(k)"
      ],
      "metadata": {
        "colab": {
          "base_uri": "https://localhost:8080/"
        },
        "id": "wz6MtAltzd8N",
        "outputId": "a2d45d76-848a-4271-a4b7-c17ea2ebcd95"
      },
      "execution_count": 10,
      "outputs": [
        {
          "output_type": "stream",
          "name": "stdout",
          "text": [
            "[2, 4, 6]\n",
            "[8, 10, 12]\n",
            "[14, 16, 18]\n"
          ]
        }
      ]
    },
    {
      "cell_type": "code",
      "source": [
        "# Using list comprehension.\n",
        "\n",
        "a = [[1,2,3], [4,5,6], [7,8,9]]\n",
        "b = [[1,2,3], [4,5,6], [7,8,9]]\n",
        "\n",
        "res = [[a[i][j] + b[i][j] for j in range(len(a[0]))] for i in range(len(a))]\n",
        "\n",
        "for r in res:\n",
        "    print(r)"
      ],
      "metadata": {
        "colab": {
          "base_uri": "https://localhost:8080/"
        },
        "id": "QEVFBfRe3mfT",
        "outputId": "710e6420-8af3-47aa-dd8a-fafe18a98dfd"
      },
      "execution_count": 19,
      "outputs": [
        {
          "output_type": "stream",
          "name": "stdout",
          "text": [
            "[2, 4, 6]\n",
            "[8, 10, 12]\n",
            "[14, 16, 18]\n"
          ]
        }
      ]
    },
    {
      "cell_type": "markdown",
      "source": [
        "**2. Write a Python Program to Multiply Two Matrices?**\n",
        "\n",
        "In Python, we can implement a matrix as nested list (list inside a list).\n",
        "\n",
        "We can treat each element as a row of the matrix.\n",
        "\n",
        "For example X = [[1, 2], [4, 5], [3, 6]] would represent a 3x2 matrix.\n",
        "\n",
        "The first row can be selected as X[0]. And, the element in first row, first column can be selected as X[0][0].\n",
        "\n",
        "Multiplication of two matrices X and Y is defined only if the number of columns in X is equal to the number of rows Y.\n",
        "\n",
        "If X is a n x m matrix and Y is a m x l matrix then, XY is defined and has the dimension n x l (but YX is not defined). "
      ],
      "metadata": {
        "id": "wyJcN5s0lte7"
      }
    },
    {
      "cell_type": "code",
      "source": [
        "# Using nested loops.\n",
        "\n",
        "a = [[1,2,3], [4,5,6], [7,8,9]]\n",
        "b = [[1,2,3,4], [4,5,6,7], [7,8,9,10]]\n",
        "\n",
        "result = [[0,0,0,0], [0,0,0,0], [0,0,0,0]]\n",
        "\n",
        "# Iterate through rows of a\n",
        "for i in range(len(a)):\n",
        "    # Iterate through columns of b\n",
        "    for j in range(len(b[0])):\n",
        "        # Iterate through rows of b\n",
        "        for k in range(len(b)):\n",
        "            result[i][j] += a[i][k] * b[k][j]\n",
        "    \n",
        "for k in result:\n",
        "    print(k)"
      ],
      "metadata": {
        "colab": {
          "base_uri": "https://localhost:8080/"
        },
        "id": "bx1Ob1p27jxk",
        "outputId": "3e5d03b4-56aa-4a4b-95a0-99205df3a5d1"
      },
      "execution_count": 25,
      "outputs": [
        {
          "output_type": "stream",
          "name": "stdout",
          "text": [
            "[30, 36, 42, 48]\n",
            "[66, 81, 96, 111]\n",
            "[102, 126, 150, 174]\n"
          ]
        }
      ]
    },
    {
      "cell_type": "code",
      "source": [
        "# Using list comprehension\n",
        "\n",
        "# 3x3 matrix\n",
        "a = [[1,2,3], [4,5,6], [7,8,9]]\n",
        "\n",
        "# 3x4 matrix\n",
        "b = [[1,2,3,4], [4,5,6,7], [7,8,9,10]]\n",
        "\n",
        "# result is 3x4\n",
        "result = [[sum(x*y for x,y in zip(X_row,Y_col)) for Y_col in zip(*b)] for X_row in a]\n",
        "\n",
        "for r in result:\n",
        "   print(r)"
      ],
      "metadata": {
        "colab": {
          "base_uri": "https://localhost:8080/"
        },
        "id": "Peo3MMBn06-e",
        "outputId": "efd44555-eb94-4c4a-ccf6-32cde0f55dd6"
      },
      "execution_count": 26,
      "outputs": [
        {
          "output_type": "stream",
          "name": "stdout",
          "text": [
            "[30, 36, 42, 48]\n",
            "[66, 81, 96, 111]\n",
            "[102, 126, 150, 174]\n"
          ]
        }
      ]
    },
    {
      "cell_type": "markdown",
      "source": [
        "**3. Write a Python Program to Transpose a Matrix?**\n"
      ],
      "metadata": {
        "id": "firsUStwlvDN"
      }
    },
    {
      "cell_type": "code",
      "source": [
        "# Transpose a matrix using a nested loop.\n",
        "\n",
        "X = [[12,7],\n",
        "    [4 ,5],\n",
        "    [3 ,8]]\n",
        "\n",
        "result = [[0,0,0],\n",
        "         [0,0,0]]\n",
        "\n",
        "# iterate through rows\n",
        "for i in range(len(X)):\n",
        "   # iterate through columns\n",
        "   for j in range(len(X[0])):\n",
        "       result[j][i] = X[i][j]\n",
        "\n",
        "for r in result:\n",
        "   print(r)"
      ],
      "metadata": {
        "colab": {
          "base_uri": "https://localhost:8080/"
        },
        "id": "VMP2xtSDM51N",
        "outputId": "cbe632a8-ec5e-4377-dd74-f456d68f63b7"
      },
      "execution_count": 1,
      "outputs": [
        {
          "output_type": "stream",
          "name": "stdout",
          "text": [
            "[12, 4, 3]\n",
            "[7, 5, 8]\n"
          ]
        }
      ]
    },
    {
      "cell_type": "code",
      "source": [
        "# Transpose a matrix using list comprehension.\n",
        "\n",
        "X = [[12,7],\n",
        "    [4 ,5],\n",
        "    [3 ,8]]\n",
        "\n",
        "result = [[X[j][i] for j in range(len(X))] for i in range(len(X[0]))]\n",
        "\n",
        "for r in result:\n",
        "   print(r)"
      ],
      "metadata": {
        "colab": {
          "base_uri": "https://localhost:8080/"
        },
        "id": "L3YmNCVPNYtn",
        "outputId": "781178da-f44f-4d9b-f0ee-7f3bc62639ef"
      },
      "execution_count": 3,
      "outputs": [
        {
          "output_type": "stream",
          "name": "stdout",
          "text": [
            "[12, 4, 3]\n",
            "[7, 5, 8]\n"
          ]
        }
      ]
    },
    {
      "cell_type": "markdown",
      "source": [
        "**4. Write a Python Program to Sort Words in Alphabetic Order?**\n"
      ],
      "metadata": {
        "id": "Ls2OUOzslumm"
      }
    },
    {
      "cell_type": "code",
      "source": [
        "my_word = input('Enter a string: ')\n",
        "\n",
        "word = [word.capitalize() for word in my_word.split()]\n",
        "\n",
        "word.sort()\n",
        "\n",
        "for w in word:\n",
        "    print(f'The sorted string is:{w}')"
      ],
      "metadata": {
        "colab": {
          "base_uri": "https://localhost:8080/"
        },
        "id": "yVq9dtQFOsxd",
        "outputId": "7be62a24-e05b-402a-a5e3-d0400fb15668"
      },
      "execution_count": 7,
      "outputs": [
        {
          "output_type": "stream",
          "name": "stdout",
          "text": [
            "Enter a string: My name is Luis Germán López Valdez\n",
            "The sorted string is:Germán\n",
            "The sorted string is:Is\n",
            "The sorted string is:Luis\n",
            "The sorted string is:López\n",
            "The sorted string is:My\n",
            "The sorted string is:Name\n",
            "The sorted string is:Valdez\n"
          ]
        }
      ]
    },
    {
      "cell_type": "markdown",
      "source": [
        "**5. Write a Python Program to Remove Punctuation From a String?**"
      ],
      "metadata": {
        "id": "5lyDp01EluHo"
      }
    },
    {
      "cell_type": "code",
      "source": [
        "# To take input from the user\n",
        "my_str = input(\"The string: \")\n",
        "\n",
        "# define punctuation\n",
        "punctuations = '''!()-[]{};:'\"\\,<>./?@#$%^&*_~'''\n",
        "\n",
        "# remove punctuation from the string\n",
        "no_punct = \"\"\n",
        "for ele in my_str:\n",
        "   if ele not in punctuations:\n",
        "       no_punct = no_punct + ele\n",
        "\n",
        "# display the unpunctuated string\n",
        "print('The result:', no_punct.upper())"
      ],
      "metadata": {
        "colab": {
          "base_uri": "https://localhost:8080/"
        },
        "id": "MofQkwDEwdY0",
        "outputId": "b866c33b-2e2f-48e9-a6f3-a89025c594b6"
      },
      "execution_count": 15,
      "outputs": [
        {
          "output_type": "stream",
          "name": "stdout",
          "text": [
            "The string: \"All stories begin with 'Once upon a time.' And that's just what this story is all about: what happened, once upon a time.\"\n",
            "The result: ALL STORIES BEGIN WITH ONCE UPON A TIME AND THATS JUST WHAT THIS STORY IS ALL ABOUT WHAT HAPPENED ONCE UPON A TIME\n"
          ]
        }
      ]
    }
  ]
}