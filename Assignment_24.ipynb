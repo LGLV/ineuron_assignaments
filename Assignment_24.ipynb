{
  "nbformat": 4,
  "nbformat_minor": 0,
  "metadata": {
    "colab": {
      "provenance": [],
      "authorship_tag": "ABX9TyOKIud3Dcz7U8R2IKmi3n7R",
      "include_colab_link": true
    },
    "kernelspec": {
      "name": "python3",
      "display_name": "Python 3"
    },
    "language_info": {
      "name": "python"
    }
  },
  "cells": [
    {
      "cell_type": "markdown",
      "metadata": {
        "id": "view-in-github",
        "colab_type": "text"
      },
      "source": [
        "<a href=\"https://colab.research.google.com/github/LGLV/ineuron_assignaments/blob/main/Assignment_24.ipynb\" target=\"_parent\"><img src=\"https://colab.research.google.com/assets/colab-badge.svg\" alt=\"Open In Colab\"/></a>"
      ]
    },
    {
      "cell_type": "markdown",
      "source": [
        "**1. What is the relationship between def statements and lambda expressions ?**\n",
        "\n",
        "* Both lambda and def create the same kind of function – they have the same kind of metadata and capabilities. \n",
        "* Their technical difference is syntactical:\n",
        "\n",
        "    *A lambda is an expression producing a function.*\n",
        "\n",
        "    *A def is a statement producing a function.*"
      ],
      "metadata": {
        "id": "oLgNfJBdo1sR"
      }
    },
    {
      "cell_type": "markdown",
      "source": [
        "**2. What is the benefit of lambda?**\n",
        "\n",
        "* Lambda helps you use a function only once, and hence, avoids cluttering up the code with function definitions. \n",
        "* In short, Python's lambda keyword lets you define a function in a single line of code and use it immediately."
      ],
      "metadata": {
        "id": "JhloYDXIpJ9W"
      }
    },
    {
      "cell_type": "markdown",
      "source": [
        "**3. Compare and contrast map, filter, and reduce.**\n",
        "\n",
        "* The map(), filter() and reduce() functions bring a bit of functional programming to Python. All three of these are convenience functions that can be replaced with List Comprehensions or loops, but provide a more elegant and short-hand approach to some problems."
      ],
      "metadata": {
        "id": "xGTBB8W5qwHC"
      }
    },
    {
      "cell_type": "code",
      "source": [
        "# The map() Function\n",
        "# The map() function iterates through all items in the given iterable \n",
        "# and executes the function we passed as an argument on each of them.\n",
        "\n",
        "def starts_with_A(s):\n",
        "    return s[0] == \"A\"\n",
        "\n",
        "fruit = [\"Apple\", \"Banana\", \"Pear\", \"Apricot\", \"Orange\"]\n",
        "map_object = map(starts_with_A, fruit)\n",
        "\n",
        "print(list(map_object))"
      ],
      "metadata": {
        "colab": {
          "base_uri": "https://localhost:8080/"
        },
        "id": "GevYLdfOgjFl",
        "outputId": "3e0d7715-53a6-4bfa-a9fd-079919690312"
      },
      "execution_count": 1,
      "outputs": [
        {
          "output_type": "stream",
          "name": "stdout",
          "text": [
            "[True, False, False, True, False]\n"
          ]
        }
      ]
    },
    {
      "cell_type": "code",
      "source": [
        "# The filter() Function\n",
        "# Similar to map(), filter() takes a function object and an iterable and creates a new list. \n",
        "# As the name suggests, filter() forms a new list that contains only elements that satisfy a certain condition, \n",
        "# i.e. the function we passed returns True.\n",
        "\n",
        "def starts_with_A(s):\n",
        "    return s[0] == \"A\"\n",
        "\n",
        "fruit = [\"Apple\", \"Banana\", \"Pear\", \"Apricot\", \"Orange\"]\n",
        "filter_object = filter(starts_with_A, fruit)\n",
        "\n",
        "print(list(filter_object))"
      ],
      "metadata": {
        "colab": {
          "base_uri": "https://localhost:8080/"
        },
        "id": "q9cXMGWghWX9",
        "outputId": "ff1b9a41-6968-4c58-9191-3a155781ce7c"
      },
      "execution_count": 2,
      "outputs": [
        {
          "output_type": "stream",
          "name": "stdout",
          "text": [
            "['Apple', 'Apricot']\n"
          ]
        }
      ]
    },
    {
      "cell_type": "code",
      "execution_count": 3,
      "metadata": {
        "colab": {
          "base_uri": "https://localhost:8080/"
        },
        "id": "PJO8w8lAo009",
        "outputId": "1c70cc79-b37f-46c3-a51d-68b1cc35f4fb"
      },
      "outputs": [
        {
          "output_type": "stream",
          "name": "stdout",
          "text": [
            "16\n"
          ]
        }
      ],
      "source": [
        "# The reduce() Function\n",
        "# reduce() works differently than map() and filter(). It does not return a new list based on \n",
        "# the function and iterable we've passed. Instead, it returns a single value.\n",
        "# Also, in Python 3 reduce() isn't a built-in function anymore, and it can be found in the functools module.\n",
        "\n",
        "from functools import reduce\n",
        "\n",
        "def add(x, y):\n",
        "    return x + y\n",
        "\n",
        "list = [2, 4, 7, 3]\n",
        "print(reduce(add, list))"
      ]
    },
    {
      "cell_type": "markdown",
      "source": [
        "**4. What are function annotations, and how are they used?**\n",
        "\n",
        "Function annotations are some random expressions which are written with the functions, and they are evaluated at compile time. They do not exist at run time, and there is no meaning of these expressions to python. They are used and interpreted by a third party or external python libraries.\n",
        "\n",
        "As we know, function annotations are used by third-party libraries because different libraries have different benefits from these function annotations. For example:\n",
        "\n",
        "Function annotations with strings can be used as messages at compile time to describe the functionality of different methods, classes and variables.\n",
        "\n",
        "[def fxn(a:\"int\", b:\"float\"=5.0) -> \"int\"]\n",
        "\n",
        "In the above example, these annotations can be used to define the data types of the parameters because python supports dynamic type checking, and there is no way to check the return type or the data type. Libraries like mypy use these kinds of annotations."
      ],
      "metadata": {
        "id": "r9vxYUXRiYNH"
      }
    },
    {
      "cell_type": "markdown",
      "source": [
        "**5. What are recursive functions, and how are they used?**\n",
        "\n",
        "A recursive function is a function defined in terms of itself via self-referential expressions.\n",
        "\n",
        "This means that the function will continue to call itself and repeat its behavior until some condition is met to return a result. All recursive functions share a common structure made up of two parts: base case and recursive case. "
      ],
      "metadata": {
        "id": "L8VjzMtcjpu5"
      }
    },
    {
      "cell_type": "code",
      "source": [
        "def factorial(n):\n",
        "    if n == 1:\n",
        "        return n\n",
        "    else:\n",
        "        return n * factorial(n-1)\n",
        "\n",
        "factorial(10)"
      ],
      "metadata": {
        "colab": {
          "base_uri": "https://localhost:8080/"
        },
        "id": "poXyPJZpk97u",
        "outputId": "4f79769e-087a-481c-f73b-0cb897c1e68a"
      },
      "execution_count": 10,
      "outputs": [
        {
          "output_type": "execute_result",
          "data": {
            "text/plain": [
              "3628800"
            ]
          },
          "metadata": {},
          "execution_count": 10
        }
      ]
    },
    {
      "cell_type": "markdown",
      "source": [
        "**6. What are some general design guidelines for coding functions?**\n",
        "\n",
        "* Python Coding Style Guide\n",
        "\n",
        "Use a tab for indentation. ...\n",
        "\n",
        "Pythons' default UTF-8 or ASCII encoding. ...\n",
        "\n",
        "Using docstrings. ...\n",
        "\n",
        "Don't write more than 79 characters in a line. ...\n",
        "\n",
        "Using spaces. ...\n",
        "\n",
        "Naming Variables, Constants, Classes and Functions."
      ],
      "metadata": {
        "id": "RGfgjrj4mKWY"
      }
    },
    {
      "cell_type": "markdown",
      "source": [
        "**7. Name three or more ways that functions can communicate results to a caller.**\n",
        "\n",
        "There are three types of functions in Python:\n",
        "\n",
        "* Built-in functions, such as help() to ask for help, min() to get the minimum value, print() to print an object to the terminal.\n",
        "\n",
        "* User-Defined Functions (UDFs), which are functions that users create to help them out. \n",
        "\n",
        "* And Anonymous functions, which are also called lambda functions because they are not declared with the standard (**def**) keyword.\n"
      ],
      "metadata": {
        "id": "CDuppz_DnY8P"
      }
    }
  ]
}