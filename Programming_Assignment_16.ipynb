{
  "nbformat": 4,
  "nbformat_minor": 0,
  "metadata": {
    "colab": {
      "provenance": [],
      "authorship_tag": "ABX9TyOYNP5rLMDLS7PeBemD+0ec",
      "include_colab_link": true
    },
    "kernelspec": {
      "name": "python3",
      "display_name": "Python 3"
    },
    "language_info": {
      "name": "python"
    }
  },
  "cells": [
    {
      "cell_type": "markdown",
      "metadata": {
        "id": "view-in-github",
        "colab_type": "text"
      },
      "source": [
        "<a href=\"https://colab.research.google.com/github/LGLV/ineuron_assignaments/blob/main/Programming_Assignment_16.ipynb\" target=\"_parent\"><img src=\"https://colab.research.google.com/assets/colab-badge.svg\" alt=\"Open In Colab\"/></a>"
      ]
    },
    {
      "cell_type": "markdown",
      "source": [
        "Question1. Write a function that stutters a word as if someone is struggling to read it. The\n",
        "first two letters are repeated twice with an ellipsis ... and space after each, and then the\n",
        "word is pronounced with a question mark ?.\n",
        "\n",
        "Examples\n",
        "\n",
        "* stutter(&quot;incredible&quot;) ➞ &quot;in... in... incredible?&quot;\n",
        "\n",
        "* stutter(&quot;enthusiastic&quot;) ➞ &quot;en... en... enthusiastic?&quot;\n",
        "\n",
        "* stutter(&quot;outstanding&quot;) ➞ &quot;ou... ou... outstanding?&quot;\n",
        "\n",
        "\n",
        "\n",
        "Hint :- Assume all input is in lower case and at least two characters long."
      ],
      "metadata": {
        "id": "-ELrn-yaEQJU"
      }
    },
    {
      "cell_type": "code",
      "execution_count": 1,
      "metadata": {
        "colab": {
          "base_uri": "https://localhost:8080/"
        },
        "id": "vKpXX1jLEGHm",
        "outputId": "c6872e22-5ae4-45e2-fec2-5a1d7e4fe8cf"
      },
      "outputs": [
        {
          "output_type": "stream",
          "name": "stdout",
          "text": [
            "in... in... incredible?\n",
            "en... en... enthusiastic?\n",
            "ou... ou... outstanding?\n"
          ]
        }
      ],
      "source": [
        "def stutter(word):\n",
        "    # Take the first two letters of the word\n",
        "    first_two_letters = word[:2]\n",
        "    # Create the stutter effect with ellipsis and space\n",
        "    stuttered_part = f\"{first_two_letters}... {first_two_letters}... \"\n",
        "    # Concatenate the stuttered part with the original word followed by a question mark\n",
        "    result = stuttered_part + word + \"?\"\n",
        "    return result\n",
        "\n",
        "# Examples\n",
        "print(stutter(\"incredible\"))    # Output: \"in... in... incredible?\"\n",
        "print(stutter(\"enthusiastic\"))  # Output: \"en... en... enthusiastic?\"\n",
        "print(stutter(\"outstanding\"))   # Output: \"ou... ou... outstanding?\"\n"
      ]
    },
    {
      "cell_type": "markdown",
      "source": [
        "Question 2.Create a function that takes an angle in radians and returns the corresponding\n",
        "angle in degrees rounded to one decimal place.\n",
        "\n",
        "Examples\n",
        "\n",
        "* radians_to_degrees(1) ➞ 57.3\n",
        "* radians_to_degrees(20) ➞ 1145.9\n",
        "* radians_to_degrees(50) ➞ 2864.8\n",
        "\n"
      ],
      "metadata": {
        "id": "fbeClvQwL5zM"
      }
    },
    {
      "cell_type": "code",
      "source": [
        "import math\n",
        "\n",
        "def radians_to_degrees(radians):\n",
        "    # Convert radians to degrees using the formula degrees = radians * (180 / π)\n",
        "    degrees = radians * (180 / math.pi)\n",
        "    # Round the result to one decimal place\n",
        "    return round(degrees, 1)\n",
        "\n",
        "# Examples\n",
        "print('Degrees of 1 radins:', radians_to_degrees(1))   # Output: 57.3\n",
        "print('Degrees of 20 radins:', radians_to_degrees(20))  # Output: 1145.9\n",
        "print('Degrees of 50 radin:', radians_to_degrees(50))  # Output: 2864.8\n"
      ],
      "metadata": {
        "colab": {
          "base_uri": "https://localhost:8080/"
        },
        "id": "QZMZOGe0L5a9",
        "outputId": "557e4573-ab8e-427d-cdfd-367f864e4f53"
      },
      "execution_count": 6,
      "outputs": [
        {
          "output_type": "stream",
          "name": "stdout",
          "text": [
            "Degrees of 1 radins: 57.3\n",
            "Degrees of 20 radins: 1145.9\n",
            "Degrees of 50 radin: 2864.8\n"
          ]
        }
      ]
    },
    {
      "cell_type": "markdown",
      "source": [
        "Question 3. In this challenge, establish if a given integer num is a Curzon number. If 1 plus\n",
        "2 elevated to num is exactly divisible by 1 plus 2 multiplied by num, then num is a Curzon\n",
        "number.\n",
        "Given a non-negative integer num, implement a function that returns True if num is a Curzon\n",
        "number, or False otherwise.\n",
        "\n",
        "Examples\n",
        "\n",
        "* is_curzon(5) ➞ True\n",
        "\n",
        "2 ** 5 + 1 = 33\n",
        "\n",
        "2 * 5 + 1 = 11\n",
        "\n",
        "33 is a multiple of 11\n",
        "\n",
        "* is_curzon(10) ➞ False\n",
        "\n",
        "2 ** 10 + 1 = 1025\n",
        "\n",
        "2 * 10 + 1 = 21\n",
        "\n",
        "1025 is not a multiple of 21\n",
        "\n",
        "* is_curzon(14) ➞ True\n",
        "\n",
        "2 ** 14 + 1 = 16385\n",
        "\n",
        "2 * 14 + 1 = 29\n",
        "\n",
        "16385 is a multiple of 29"
      ],
      "metadata": {
        "id": "zGohDg5yNlyD"
      }
    },
    {
      "cell_type": "code",
      "source": [
        "def is_curzon(num):\n",
        "    # Calculate 2 ** num + 1\n",
        "    power_term = 2 ** num + 1\n",
        "    # Calculate 2 * num + 1\n",
        "    multiply_term = 2 * num + 1\n",
        "    # Check if power_term is divisible by multiply_term\n",
        "    return power_term % multiply_term == 0\n",
        "\n",
        "# Examples\n",
        "print('Is 5 a curzon number:', is_curzon(5))   # Output: True\n",
        "print('Is 10 a curzon number:',is_curzon(10))  # Output: False\n",
        "print('Is 14 a curzon number:', is_curzon(14))  # Output: True\n"
      ],
      "metadata": {
        "colab": {
          "base_uri": "https://localhost:8080/"
        },
        "id": "yxKaYdmnNm4H",
        "outputId": "390cc1e4-7404-4edc-a95e-202047b2cc67"
      },
      "execution_count": 8,
      "outputs": [
        {
          "output_type": "stream",
          "name": "stdout",
          "text": [
            "Is 5 a curzon number: True\n",
            "Is 10 a curzon number: False\n",
            "Is 14 a curzon number: True\n"
          ]
        }
      ]
    },
    {
      "cell_type": "markdown",
      "source": [
        "Question 4.Given the side length x find the area of a hexagon. Examples\n",
        "\n",
        "area_of_hexagon(1) ➞ 2.6\n",
        "\n",
        "area_of_hexagon(2) ➞ 10.4\n",
        "\n",
        "area_of_hexagon(3) ➞ 23.4"
      ],
      "metadata": {
        "id": "BH6ztsvJPjdD"
      }
    },
    {
      "cell_type": "code",
      "source": [
        "import math\n",
        "\n",
        "def area_of_hexagon(x):\n",
        "    # Use the formula (3 * sqrt(3) / 2) * x^2\n",
        "    return round((3 * math.sqrt(3) / 2) * x ** 2, 1)\n",
        "\n",
        "# Examples\n",
        "print('Hexagon area of sides lenght 1:', area_of_hexagon(1))  # Output: 2.6\n",
        "print('Hexagon area of sides lenght 2:', area_of_hexagon(2))  # Output: 10.4\n",
        "print('Hexagon area of sides lenght 3:', area_of_hexagon(3))  # Output: 23.4\n"
      ],
      "metadata": {
        "colab": {
          "base_uri": "https://localhost:8080/"
        },
        "id": "k02NJ3IiPigL",
        "outputId": "a9dccaf2-0b44-45bd-cba9-d5ec6004ae25"
      },
      "execution_count": 10,
      "outputs": [
        {
          "output_type": "stream",
          "name": "stdout",
          "text": [
            "Hexagon area of sides lenght 1: 2.6\n",
            "Hexagon area of sides lenght 2: 10.4\n",
            "Hexagon area of sides lenght 3: 23.4\n"
          ]
        }
      ]
    },
    {
      "cell_type": "markdown",
      "source": [
        "Question 5. Create a function that returns a base-2 (binary) representation of a base-10\n",
        "(decimal) string number. To convert is simple: ((2) means base-2 and (10) means base-10)\n",
        "010101001(2) = 1 + 8 + 32 + 128.\n",
        "Going from right to left, the value of the most right bit is 1, now from that every bit to the left\n",
        "will be x2 the value, value of an 8 bit binary numbers are (256, 128, 64, 32, 16, 8, 4, 2, 1).\n",
        "\n",
        "Examples\n",
        "\n",
        "* binary(1) ➞ &quot;1&quot;\n",
        "\n",
        "1* 1 = 1\n",
        "\n",
        "* binary(5) ➞ &quot;101&quot;\n",
        "\n",
        "1* 1+ 1* 4 = 5\n",
        "\n",
        "* binary(10) ➞ &quot;1010&quot;\n",
        "\n",
        "1* 2 + 1* 8 = 10"
      ],
      "metadata": {
        "id": "sPhIc-RTRaL1"
      }
    },
    {
      "cell_type": "code",
      "source": [
        "def binary(n):\n",
        "    # Use Python's built-in bin() function and slice off the '0b' prefix\n",
        "    return bin(n)[2:]\n",
        "\n",
        "# Examples\n",
        "print('The binary number of 1 is:',binary(1))  # Output: \"1\"\n",
        "print('The binary number of 5 is:',binary(5))  # Output: \"101\"\n",
        "print('The binary number of 10 is:',binary(10)) # Output: \"1010\"\n"
      ],
      "metadata": {
        "colab": {
          "base_uri": "https://localhost:8080/"
        },
        "id": "odz8_6jER7ih",
        "outputId": "709891b5-3a2c-4585-86c8-51d509829e01"
      },
      "execution_count": 14,
      "outputs": [
        {
          "output_type": "stream",
          "name": "stdout",
          "text": [
            "The binary number of 1 is: 1\n",
            "The binary number of 5 is: 101\n",
            "The binary number of 10 is: 1010\n"
          ]
        }
      ]
    }
  ]
}