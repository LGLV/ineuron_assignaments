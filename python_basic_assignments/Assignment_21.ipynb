{
  "nbformat": 4,
  "nbformat_minor": 0,
  "metadata": {
    "colab": {
      "provenance": [],
      "authorship_tag": "ABX9TyNU/kKIHInwtEjiydsLKt2Y",
      "include_colab_link": true
    },
    "kernelspec": {
      "name": "python3",
      "display_name": "Python 3"
    },
    "language_info": {
      "name": "python"
    }
  },
  "cells": [
    {
      "cell_type": "markdown",
      "metadata": {
        "id": "view-in-github",
        "colab_type": "text"
      },
      "source": [
        "<a href=\"https://colab.research.google.com/github/LGLV/ineuron_assignaments/blob/main/Assignment_21.ipynb\" target=\"_parent\"><img src=\"https://colab.research.google.com/assets/colab-badge.svg\" alt=\"Open In Colab\"/></a>"
      ]
    },
    {
      "cell_type": "markdown",
      "source": [
        "**1. Add the current date to the text file today.txt as a string.**"
      ],
      "metadata": {
        "id": "KquQrL3qx82_"
      }
    },
    {
      "cell_type": "code",
      "execution_count": 2,
      "metadata": {
        "colab": {
          "base_uri": "https://localhost:8080/",
          "height": 35
        },
        "id": "OFHQZRzWx3Qh",
        "outputId": "3e27d885-07fd-4987-e79a-d896310fa2f9"
      },
      "outputs": [
        {
          "output_type": "execute_result",
          "data": {
            "text/plain": [
              "'2023-05-31'"
            ],
            "application/vnd.google.colaboratory.intrinsic+json": {
              "type": "string"
            }
          },
          "metadata": {},
          "execution_count": 2
        }
      ],
      "source": [
        "import datetime\n",
        "from datetime import date\n",
        "to_day = date.today()\n",
        "now = to_day.isoformat()\n",
        "now"
      ]
    },
    {
      "cell_type": "code",
      "source": [
        "with open('today.txt', 'w') as file:\n",
        "    file.write(now)"
      ],
      "metadata": {
        "id": "XwbtW9C-ysV2"
      },
      "execution_count": 9,
      "outputs": []
    },
    {
      "cell_type": "markdown",
      "source": [
        "**2. Read the text file today.txt into the string today_string**"
      ],
      "metadata": {
        "id": "FhKRGKTDzOHM"
      }
    },
    {
      "cell_type": "code",
      "source": [
        "with open('today.txt', 'r') as file:\n",
        "    today_string = file.read()\n",
        "today_string"
      ],
      "metadata": {
        "colab": {
          "base_uri": "https://localhost:8080/",
          "height": 35
        },
        "id": "Do6eLhElzMY5",
        "outputId": "10f53b5c-6d8f-42d4-c4b4-4d57516c8c08"
      },
      "execution_count": 11,
      "outputs": [
        {
          "output_type": "execute_result",
          "data": {
            "text/plain": [
              "'2023-05-31'"
            ],
            "application/vnd.google.colaboratory.intrinsic+json": {
              "type": "string"
            }
          },
          "metadata": {},
          "execution_count": 11
        }
      ]
    },
    {
      "cell_type": "markdown",
      "source": [
        "**3. Parse the date from today_string.**"
      ],
      "metadata": {
        "id": "CFy8hnjQ0F5V"
      }
    },
    {
      "cell_type": "code",
      "source": [
        "from datetime import datetime\n",
        "ft = '%Y-%m-%d'\n",
        "datetime.strptime(today_string,ft)"
      ],
      "metadata": {
        "colab": {
          "base_uri": "https://localhost:8080/"
        },
        "id": "ZlHiB3Fe0RlD",
        "outputId": "9ccfcfdb-f61a-4f97-9731-a7fd3917a541"
      },
      "execution_count": 12,
      "outputs": [
        {
          "output_type": "execute_result",
          "data": {
            "text/plain": [
              "datetime.datetime(2023, 5, 31, 0, 0)"
            ]
          },
          "metadata": {},
          "execution_count": 12
        }
      ]
    },
    {
      "cell_type": "markdown",
      "source": [
        "**4. List the files in your current directory**"
      ],
      "metadata": {
        "id": "WFdNBfUo0krP"
      }
    },
    {
      "cell_type": "code",
      "source": [
        "import os\n",
        "for folders, subfolders, files in os.walk(os.getcwd()):\n",
        "    for file in files:\n",
        "        print(file)"
      ],
      "metadata": {
        "colab": {
          "base_uri": "https://localhost:8080/"
        },
        "id": "PqNrbWza0qUg",
        "outputId": "9540c24d-2244-44de-ab83-d7659442afda"
      },
      "execution_count": 14,
      "outputs": [
        {
          "output_type": "stream",
          "name": "stdout",
          "text": [
            "today.txt\n",
            ".last_opt_in_prompt.yaml\n",
            "config_sentinel\n",
            "gce\n",
            ".last_survey_prompt.yaml\n",
            "active_config\n",
            ".last_update_check.json\n",
            "13.47.20.430721.log\n",
            "13.47.55.044066.log\n",
            "13.47.55.757168.log\n",
            "13.46.55.291565.log\n",
            "13.46.28.642850.log\n",
            "13.47.28.632090.log\n",
            "config_default\n",
            "anscombe.json\n",
            "README.md\n",
            "california_housing_train.csv\n",
            "california_housing_test.csv\n",
            "mnist_train_small.csv\n",
            "mnist_test.csv\n"
          ]
        }
      ]
    },
    {
      "cell_type": "markdown",
      "source": [
        "**5. Create a list of all of the files in your parent directory (minimum five files should be available).**"
      ],
      "metadata": {
        "id": "wRCv1cZT1HdX"
      }
    },
    {
      "cell_type": "code",
      "source": [
        "import os \n",
        "os.listdir()"
      ],
      "metadata": {
        "colab": {
          "base_uri": "https://localhost:8080/"
        },
        "id": "0Tk2En3q1vMb",
        "outputId": "88018dd7-2c15-42ab-e836-ed5b7d3d8a41"
      },
      "execution_count": 15,
      "outputs": [
        {
          "output_type": "execute_result",
          "data": {
            "text/plain": [
              "['.config', 'today.txt', 'sample_data']"
            ]
          },
          "metadata": {},
          "execution_count": 15
        }
      ]
    },
    {
      "cell_type": "markdown",
      "source": [
        "**6. Use multiprocessing to create three separate processes. Make each one wait a random number of seconds between one and five, print the current time, and then exit.**"
      ],
      "metadata": {
        "id": "AlBV4agc1uaJ"
      }
    },
    {
      "cell_type": "code",
      "source": [
        "import multiprocessing\n",
        "import time\n",
        "import random\n",
        "import datetime\n",
        "\n",
        "import multiprocessing\n",
        "\n",
        "def printsec(seconds):\n",
        "    from datetime import datetime\n",
        "    from time import sleep\n",
        "    sleep(seconds)\n",
        "    print('wait', seconds, 'seconds, time is', datetime.utcnow())\n",
        "    \n",
        "if __name__ == '__main__':\n",
        "    import random    \n",
        "    for n in range(3):\n",
        "        seconds = random.random()\n",
        "        proc = multiprocessing.Process(target=printsec, args=(seconds,))\n",
        "        proc.start()\n",
        "printsec(5)"
      ],
      "metadata": {
        "colab": {
          "base_uri": "https://localhost:8080/"
        },
        "id": "JeH7oSlD2EMA",
        "outputId": "da3bf4b6-799f-4ded-a01b-4a5c2a845701"
      },
      "execution_count": 18,
      "outputs": [
        {
          "output_type": "stream",
          "name": "stdout",
          "text": [
            "wait 0.10118229050238037 seconds, time is 2023-05-31 04:31:18.948891\n",
            "wait 0.16751652524441563 seconds, time is 2023-05-31 04:31:19.008715\n",
            "wait 0.8523268526960012 seconds, time is 2023-05-31 04:31:19.699284\n",
            "wait 5 seconds, time is 2023-05-31 04:31:23.849848\n"
          ]
        }
      ]
    },
    {
      "cell_type": "markdown",
      "source": [
        "**7. Create a date object of your day of birth.**"
      ],
      "metadata": {
        "id": "tttJ4VfT3hZE"
      }
    },
    {
      "cell_type": "code",
      "source": [
        "date_ob = (1974,8,19)\n",
        "date_ob"
      ],
      "metadata": {
        "colab": {
          "base_uri": "https://localhost:8080/"
        },
        "id": "6gfN9sUrWlTU",
        "outputId": "70ee57b3-f15d-4487-c3ea-854159cffe2a"
      },
      "execution_count": 2,
      "outputs": [
        {
          "output_type": "execute_result",
          "data": {
            "text/plain": [
              "(1974, 8, 19)"
            ]
          },
          "metadata": {},
          "execution_count": 2
        }
      ]
    },
    {
      "cell_type": "code",
      "source": [
        "from datetime import datetime\n",
        "date_ob = datetime.strptime('29/08/1974','%d/%m/%Y')\n",
        "print(date_ob, type(date_ob))"
      ],
      "metadata": {
        "colab": {
          "base_uri": "https://localhost:8080/"
        },
        "id": "K2j1KdsxW7N9",
        "outputId": "b1d41d28-84f7-495c-c88e-e263058d7f49"
      },
      "execution_count": 6,
      "outputs": [
        {
          "output_type": "stream",
          "name": "stdout",
          "text": [
            "1974-08-29 00:00:00 <class 'datetime.datetime'>\n"
          ]
        }
      ]
    },
    {
      "cell_type": "markdown",
      "source": [
        "**8. What day of the week was your day of birth?**"
      ],
      "metadata": {
        "id": "GUI-YrVbtSyO"
      }
    },
    {
      "cell_type": "code",
      "source": [
        "date_ob.weekday()"
      ],
      "metadata": {
        "colab": {
          "base_uri": "https://localhost:8080/"
        },
        "id": "u5pjCBoCtV1c",
        "outputId": "df854513-f5c2-4960-9d5b-4acf73563b15"
      },
      "execution_count": 7,
      "outputs": [
        {
          "output_type": "execute_result",
          "data": {
            "text/plain": [
              "3"
            ]
          },
          "metadata": {},
          "execution_count": 7
        }
      ]
    },
    {
      "cell_type": "markdown",
      "source": [
        "**9. When will you be (or when were you) 10,000 days old?**"
      ],
      "metadata": {
        "id": "e_b1SqSLtyQ2"
      }
    },
    {
      "cell_type": "code",
      "source": [
        "from datetime import timedelta\n",
        "day_10000 = date_ob + timedelta(days=10000)\n",
        "print(f'In {day_10000}, I was 10,000 day of live.')"
      ],
      "metadata": {
        "colab": {
          "base_uri": "https://localhost:8080/"
        },
        "id": "_6j-7fisumIS",
        "outputId": "f6fcd93b-bf11-4f32-c572-eb016e66fdab"
      },
      "execution_count": 16,
      "outputs": [
        {
          "output_type": "stream",
          "name": "stdout",
          "text": [
            "In 2002-01-14 00:00:00, I was 10,000 day of live.\n"
          ]
        }
      ]
    },
    {
      "cell_type": "code",
      "source": [
        "day_18000 = date_ob + timedelta(days=18000)\n",
        "print(f'In {day_18000}, I will be 18,000 days of live.')"
      ],
      "metadata": {
        "colab": {
          "base_uri": "https://localhost:8080/"
        },
        "id": "rkM8iBXctt3i",
        "outputId": "a2f880e9-0860-46dc-f431-79ac37e299a7"
      },
      "execution_count": 17,
      "outputs": [
        {
          "output_type": "stream",
          "name": "stdout",
          "text": [
            "In 2023-12-10 00:00:00, I will be 18,000 days of live.\n"
          ]
        }
      ]
    }
  ]
}