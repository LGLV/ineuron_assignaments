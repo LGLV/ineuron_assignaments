{
  "nbformat": 4,
  "nbformat_minor": 0,
  "metadata": {
    "colab": {
      "provenance": [],
      "authorship_tag": "ABX9TyPmOxAeieb0ncQm0i5VTYkM",
      "include_colab_link": true
    },
    "kernelspec": {
      "name": "python3",
      "display_name": "Python 3"
    },
    "language_info": {
      "name": "python"
    }
  },
  "cells": [
    {
      "cell_type": "markdown",
      "metadata": {
        "id": "view-in-github",
        "colab_type": "text"
      },
      "source": [
        "<a href=\"https://colab.research.google.com/github/LGLV/ineuron_assignaments/blob/main/Assignment_25.ipynb\" target=\"_parent\"><img src=\"https://colab.research.google.com/assets/colab-badge.svg\" alt=\"Open In Colab\"/></a>"
      ]
    },
    {
      "cell_type": "markdown",
      "source": [
        "**1. What is the difference between enclosing a list comprehension in square brackets and\n",
        "parentheses?**"
      ],
      "metadata": {
        "id": "tAe73VuLpn79"
      }
    },
    {
      "cell_type": "code",
      "execution_count": 1,
      "metadata": {
        "colab": {
          "base_uri": "https://localhost:8080/"
        },
        "id": "k_43o1UTpmAz",
        "outputId": "c4ac22bb-ef85-4884-acbc-27166c491991"
      },
      "outputs": [
        {
          "output_type": "execute_result",
          "data": {
            "text/plain": [
              "[0, 1, 2, 3, 4, 5, 6, 7, 8, 9]"
            ]
          },
          "metadata": {},
          "execution_count": 1
        }
      ],
      "source": [
        "[i for i in range(10)] # A list comprehension between square brackets gives a list."
      ]
    },
    {
      "cell_type": "code",
      "source": [
        "(i for i in range(10)) # A list comprehension between parentheses gives a generator object."
      ],
      "metadata": {
        "colab": {
          "base_uri": "https://localhost:8080/"
        },
        "id": "OkA-CRAlq7xH",
        "outputId": "a6ff759c-19c1-4161-ae4f-43b7f0c77d2f"
      },
      "execution_count": 2,
      "outputs": [
        {
          "output_type": "execute_result",
          "data": {
            "text/plain": [
              "<generator object <genexpr> at 0x7f6abc688d60>"
            ]
          },
          "metadata": {},
          "execution_count": 2
        }
      ]
    },
    {
      "cell_type": "code",
      "source": [
        "l = list(i for i in range(10))\n",
        "l"
      ],
      "metadata": {
        "colab": {
          "base_uri": "https://localhost:8080/"
        },
        "id": "C0KwyEZirba_",
        "outputId": "c7a28ce2-32e4-4dee-cf00-5df99de3880a"
      },
      "execution_count": 5,
      "outputs": [
        {
          "output_type": "execute_result",
          "data": {
            "text/plain": [
              "[0, 1, 2, 3, 4, 5, 6, 7, 8, 9]"
            ]
          },
          "metadata": {},
          "execution_count": 5
        }
      ]
    },
    {
      "cell_type": "markdown",
      "source": [
        "**2. What is the relationship between generators and iterators?**\n",
        "\n",
        "Iterator\n",
        "\n",
        "An iterator is an object which contains a countable number of values and it is used to iterate over iterable objects like list, tuples, sets, etc. Iterators are implemented using a class and a local variable for iterating is not required here, It follows lazy evaluation where the evaluation of the expression will be on hold and stored in the memory until the item is called specifically which helps us to avoid repeated evaluation. As lazy evaluation is implemented, it requires only 1 memory location to process the value and when we are using a large dataset then, wastage of RAM space will be reduced the need to load the entire dataset at the same time will not be there.\n",
        "\n",
        "Using an iterator-\n",
        "\n",
        "    iter() keyword is used to create an iterator containing an iterable object.\n",
        "    next() keyword is used to call the next element in the iterable object.\n",
        "    After the iterable object is completed, to use them again reassign them to the same object.\n",
        "\n",
        "Generators\n",
        "\n",
        "It is another way of creating iterators in a simple way where it uses the keyword “yield” instead of returning it in a defined function. Generators are implemented using a function. Just as iterators, generators also follow lazy evaluation. Here, the yield function returns the data without affecting or exiting the function. It will return a sequence of data in an iterable format where we need to iterate over the sequence to use the data as they won’t store the entire sequence in the memory."
      ],
      "metadata": {
        "id": "deV2vGxSsGYf"
      }
    },
    {
      "cell_type": "code",
      "source": [
        "# Iterator \n",
        "iter_list = iter(['iNeuron', 'For', 'iNeuronists'])\n",
        "print(next(iter_list))\n",
        "print(next(iter_list))\n",
        "print(next(iter_list))"
      ],
      "metadata": {
        "colab": {
          "base_uri": "https://localhost:8080/"
        },
        "id": "cd47ye6zuL5H",
        "outputId": "7c21dac5-5cb7-458e-b3e9-acd2eaaf03dc"
      },
      "execution_count": 8,
      "outputs": [
        {
          "output_type": "stream",
          "name": "stdout",
          "text": [
            "iNeuron\n",
            "For\n",
            "iNeuronists\n"
          ]
        }
      ]
    },
    {
      "cell_type": "code",
      "source": [
        "# Generator\n",
        "def sq_numbers(n):\n",
        "    for i in range(1, n+1):\n",
        "        yield i*i\n",
        "  \n",
        "  \n",
        "a = sq_numbers(3)\n",
        "  \n",
        "print(\"The square of numbers 1,2,3 are : \")\n",
        "print(next(a))\n",
        "print(next(a))\n",
        "print(next(a))"
      ],
      "metadata": {
        "colab": {
          "base_uri": "https://localhost:8080/"
        },
        "id": "nN8ZaYVWunae",
        "outputId": "d8e96281-25d7-4921-d234-1109c1b111a9"
      },
      "execution_count": 9,
      "outputs": [
        {
          "output_type": "stream",
          "name": "stdout",
          "text": [
            "The square of numbers 1,2,3 are : \n",
            "1\n",
            "4\n",
            "9\n"
          ]
        }
      ]
    },
    {
      "cell_type": "markdown",
      "source": [
        "**3. What are the signs that a function is a generator function?**\n",
        "\n",
        "We can only tell it's a generator function by the presence of a (**yield**) statement. \n",
        "\n",
        "A (**yield**) statement turns a regular function into a generator function."
      ],
      "metadata": {
        "id": "llEq2e3QvCS4"
      }
    },
    {
      "cell_type": "markdown",
      "source": [
        "**4. What is the purpose of a yield statement?**\n",
        "\n",
        "The yield keyword in Python controls the flow of a generator function. This is similar to a return statement used for returning values in Python.\n",
        "\n",
        "The yield statement returns a generator object to the one who calls the function which contains yield, instead of simply returning a value."
      ],
      "metadata": {
        "id": "ZleupIjvvl_p"
      }
    },
    {
      "cell_type": "markdown",
      "source": [
        "**5. What is the relationship between map calls and list comprehensions? Make a comparison and\n",
        "contrast between the two.**\n",
        "\n",
        "* Suppose we have a function and we want to compute this function for different values in a single line of code . This is where map() function plays its role ! map() function returns a map object(which is an iterator) of the results after applying the given function to each item of a given iterable (list, tuple etc.)\n",
        "\n",
        "* List Comprehension is a substitute for the lambda function, map(), filter() and reduce(). It follows the form of the mathematical set-builder notation. It provide a concise way to create lists.\n",
        "\n",
        "Map VS List Comprehension\n",
        "\n",
        "* List comprehension is more concise and easier to read as compared to map.\n",
        "* List comprehension allows filtering. In map, we have no such facility. For example, to print all even numbers in range of 100, we can write [n for n in range(100) if n%2 == 0]. There is no alternate for it in map\n",
        "* List comprehension are used when a list of results is required as map only returns a map object and does not return any list.\n",
        "* List comprehension is faster than map when we need to evaluate expressions that are too long or complicated to express\n",
        "Map is faster in case of calling an already defined function (as no lambda is required)."
      ],
      "metadata": {
        "id": "jI04gottwHwT"
      }
    }
  ]
}