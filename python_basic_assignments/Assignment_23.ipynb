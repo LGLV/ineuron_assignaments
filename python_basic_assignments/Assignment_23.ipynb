{
  "nbformat": 4,
  "nbformat_minor": 0,
  "metadata": {
    "colab": {
      "provenance": [],
      "authorship_tag": "ABX9TyPNlylzmRZbwZajU4FSdF1y",
      "include_colab_link": true
    },
    "kernelspec": {
      "name": "python3",
      "display_name": "Python 3"
    },
    "language_info": {
      "name": "python"
    }
  },
  "cells": [
    {
      "cell_type": "markdown",
      "metadata": {
        "id": "view-in-github",
        "colab_type": "text"
      },
      "source": [
        "<a href=\"https://colab.research.google.com/github/LGLV/ineuron_assignaments/blob/main/Assignment_23.ipynb\" target=\"_parent\"><img src=\"https://colab.research.google.com/assets/colab-badge.svg\" alt=\"Open In Colab\"/></a>"
      ]
    },
    {
      "cell_type": "markdown",
      "source": [
        "**1. What is the result of the code, and why?**\n",
        "\n",
        "&gt;&gt;&gt; def func(a, b=6, c=8):\n",
        "\n",
        "print(a, b, c)\n",
        "\n",
        "&gt;&gt;&gt; func(1, 2)"
      ],
      "metadata": {
        "id": "PCqwZjY7aUpp"
      }
    },
    {
      "cell_type": "code",
      "execution_count": 2,
      "metadata": {
        "colab": {
          "base_uri": "https://localhost:8080/"
        },
        "id": "h_iUCh--aT8Q",
        "outputId": "609d4c99-8f6a-44c2-eb30-e89540e902d2"
      },
      "outputs": [
        {
          "output_type": "stream",
          "name": "stdout",
          "text": [
            "1 2 8\n"
          ]
        }
      ],
      "source": [
        "def func(a, b=6, c=8): # This function takes a positional argument and 2 keyward argument. Thus, no matter if you enter only one value,\n",
        "                        # it ever will give 3 values.\n",
        "    print(a, b, c)\n",
        "\n",
        "func(1, 2)"
      ]
    },
    {
      "cell_type": "code",
      "source": [
        "func(0, 3, 7)"
      ],
      "metadata": {
        "colab": {
          "base_uri": "https://localhost:8080/"
        },
        "id": "QSwJ7poOaloo",
        "outputId": "07f93986-d8dc-40fa-b25a-70d123583d5c"
      },
      "execution_count": 6,
      "outputs": [
        {
          "output_type": "stream",
          "name": "stdout",
          "text": [
            "0 3 7\n"
          ]
        }
      ]
    },
    {
      "cell_type": "markdown",
      "source": [
        "**2. What is the result of this code, and why?**\n",
        "\n",
        "&gt;&gt;&gt; def func(a, b, c=5):\n",
        "\n",
        "print(a, b, c)\n",
        "\n",
        "&gt;&gt;&gt; func(1, c=3, b=2)"
      ],
      "metadata": {
        "id": "w9Bc5S8qcgl3"
      }
    },
    {
      "cell_type": "code",
      "source": [
        "def func(a, b, c=5):\n",
        "    print(a, b, c)\n",
        "\n",
        "func(1, c=3, b=2) # In this case, the function call will order the position of the arguments."
      ],
      "metadata": {
        "colab": {
          "base_uri": "https://localhost:8080/"
        },
        "id": "Y0fZ-B0rcfqI",
        "outputId": "2ea2f0ed-c829-47e0-c93a-3009f41158a8"
      },
      "execution_count": 8,
      "outputs": [
        {
          "output_type": "stream",
          "name": "stdout",
          "text": [
            "1 2 3\n"
          ]
        }
      ]
    },
    {
      "cell_type": "code",
      "source": [
        "func(b = 1, c = 3, a = 2)"
      ],
      "metadata": {
        "colab": {
          "base_uri": "https://localhost:8080/"
        },
        "id": "znqEoO9vc_dz",
        "outputId": "f3095df3-e3ba-422d-a45f-1c0f161533a3"
      },
      "execution_count": 11,
      "outputs": [
        {
          "output_type": "stream",
          "name": "stdout",
          "text": [
            "2 1 3\n"
          ]
        }
      ]
    },
    {
      "cell_type": "markdown",
      "source": [
        "**3. How about this code: what is its result, and why?**\n",
        "\n",
        "&gt;&gt;&gt; def func(a, *pargs):\n",
        "\n",
        "print(a, pargs)\n",
        "\n",
        "&gt;&gt;&gt; func(1, 2, 3)"
      ],
      "metadata": {
        "id": "b1iUmiHQeW2e"
      }
    },
    {
      "cell_type": "code",
      "source": [
        "def func(a, *pargs): # *pargs returns a tuple, while **kargs returns a dictionary\n",
        "    print(a, pargs)\n",
        "\n",
        "func(1, 2, 3)"
      ],
      "metadata": {
        "colab": {
          "base_uri": "https://localhost:8080/"
        },
        "id": "snay8CVdeisW",
        "outputId": "13c1f993-41d7-442c-daaa-af5e0fda52f7"
      },
      "execution_count": 21,
      "outputs": [
        {
          "output_type": "stream",
          "name": "stdout",
          "text": [
            "1 (2, 3)\n"
          ]
        }
      ]
    },
    {
      "cell_type": "code",
      "source": [
        "def func(a, **kargs): # *pargs returns a tuple, while **kargs returns a dictionary\n",
        "    print(a, kargs)\n",
        "\n",
        "func(4)"
      ],
      "metadata": {
        "colab": {
          "base_uri": "https://localhost:8080/"
        },
        "id": "tcW6d_YTf5hb",
        "outputId": "9c606944-1b40-4c26-e1c2-fb00433ac01f"
      },
      "execution_count": 31,
      "outputs": [
        {
          "output_type": "stream",
          "name": "stdout",
          "text": [
            "4 {}\n"
          ]
        }
      ]
    },
    {
      "cell_type": "markdown",
      "source": [
        "**4. What does this code print, and why?**\n",
        "\n",
        "&gt;&gt;&gt; def func(a, **kargs):\n",
        "\n",
        "print(a, kargs)\n",
        "\n",
        "&gt;&gt;&gt; func(a=1, c=3, b=2)"
      ],
      "metadata": {
        "id": "Wr2TYN6qgPCA"
      }
    },
    {
      "cell_type": "code",
      "source": [
        "def func(a, **kargs):# This functionwith the parameter a and with the parameter **kargs, will returns an a parameter and a dictionary.\n",
        "    print(a, kargs)\n",
        "\n",
        "func(a=1, c=3, b=2)"
      ],
      "metadata": {
        "colab": {
          "base_uri": "https://localhost:8080/"
        },
        "id": "18U9oCKCgb4x",
        "outputId": "5de32cf8-8c52-4c98-f478-eddd669d4a1e"
      },
      "execution_count": 29,
      "outputs": [
        {
          "output_type": "stream",
          "name": "stdout",
          "text": [
            "1 {'c': 3, 'b': 2}\n"
          ]
        }
      ]
    },
    {
      "cell_type": "code",
      "source": [
        "def func(**kargs): # This function with the parameter **kargs, will returns a dictionary.\n",
        "    print(kargs)\n",
        "\n",
        "func(a=1, c=3, b=2)"
      ],
      "metadata": {
        "colab": {
          "base_uri": "https://localhost:8080/"
        },
        "id": "RYA8LrFoglQr",
        "outputId": "583b8a39-228d-417b-8f9a-be7d3167af5d"
      },
      "execution_count": 30,
      "outputs": [
        {
          "output_type": "stream",
          "name": "stdout",
          "text": [
            "{'a': 1, 'c': 3, 'b': 2}\n"
          ]
        }
      ]
    },
    {
      "cell_type": "markdown",
      "source": [
        "5. What gets printed by this, and explain?\n",
        "\n",
        "&gt;&gt;&gt; def func(a, b, c=8, d=5): \n",
        "\n",
        "print(a, b, c, d)\n",
        "\n",
        "&gt;&gt;&gt; func(1, *(5, 6))"
      ],
      "metadata": {
        "id": "nyRcRLaMhgzD"
      }
    },
    {
      "cell_type": "code",
      "source": [
        "def func(a, b, c=8, d=5):\n",
        "    print(a, b, c, d)\n",
        "func(1, *(5, 6))\n",
        "\n",
        "# The * operator is an unpacking operator that will unpack the values from any iterable object, \n",
        "# such as lists, tuples, strings, etc… And that's it! The asterisk, *, or unpacking operator, \n",
        "# unpacks num_list, and passes the values, or elements, of num_list as separate arguments to the num_sum function."
      ],
      "metadata": {
        "colab": {
          "base_uri": "https://localhost:8080/"
        },
        "id": "9H4KRmFYhn6M",
        "outputId": "10543da0-9a2d-4ad8-b330-4be151c279ee"
      },
      "execution_count": 32,
      "outputs": [
        {
          "output_type": "stream",
          "name": "stdout",
          "text": [
            "1 5 6 5\n"
          ]
        }
      ]
    },
    {
      "cell_type": "markdown",
      "source": [
        "**6. what is the result of this, and explain?**\n",
        "\n",
        "&gt;&gt;&gt; def func(a, b, c): \n",
        "\n",
        "a = 2; b[0] = &#39;x&#39;; c[&#39;a&#39;] = &#39;y&#39;\n",
        "\n",
        "&gt;&gt;&gt; l=1; m=[1]; n={&#39;a&#39;:0}\n",
        "\n",
        "&gt;&gt;&gt; func(l, m, n)\n",
        "\n",
        "&gt;&gt;&gt; l, m, n"
      ],
      "metadata": {
        "id": "3VTBleMcjENa"
      }
    },
    {
      "cell_type": "code",
      "source": [
        "def func(a, b, c):\n",
        "    a = 2; b[0] = 'x'; c['a'] = 'y'\n",
        "\n",
        "l=1; m=[1]; n={'a':0}\n",
        "\n",
        "func(l, m, n)\n",
        "\n",
        "l, m, n\n",
        "\n",
        "#   Here in the code, the list and dict are passed as argument, and those are mutable. Here the list l and parameter b point \n",
        "#   to the same list in the memory location where as dict n and c point to the same memory location. Any updates to this \n",
        "#   list will update in the memory location\n",
        "\n",
        "#l = 1 , integer values, immutable, m is list, mutable, n is dict, mutable."
      ],
      "metadata": {
        "colab": {
          "base_uri": "https://localhost:8080/"
        },
        "id": "QMrxq9AJjy4O",
        "outputId": "bad29752-a998-40d4-9aac-69ce367c7fe5"
      },
      "execution_count": 34,
      "outputs": [
        {
          "output_type": "execute_result",
          "data": {
            "text/plain": [
              "(1, ['x'], {'a': 'y'})"
            ]
          },
          "metadata": {},
          "execution_count": 34
        }
      ]
    }
  ]
}