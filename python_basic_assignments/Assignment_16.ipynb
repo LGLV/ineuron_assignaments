{
  "nbformat": 4,
  "nbformat_minor": 0,
  "metadata": {
    "colab": {
      "provenance": [],
      "authorship_tag": "ABX9TyMg+hM8ipBTUKUauI+QWYA2",
      "include_colab_link": true
    },
    "kernelspec": {
      "name": "python3",
      "display_name": "Python 3"
    },
    "language_info": {
      "name": "python"
    }
  },
  "cells": [
    {
      "cell_type": "markdown",
      "metadata": {
        "id": "view-in-github",
        "colab_type": "text"
      },
      "source": [
        "<a href=\"https://colab.research.google.com/github/LGLV/ineuron_assignaments/blob/main/Assignment_16.ipynb\" target=\"_parent\"><img src=\"https://colab.research.google.com/assets/colab-badge.svg\" alt=\"Open In Colab\"/></a>"
      ]
    },
    {
      "cell_type": "markdown",
      "source": [
        "**1. Create a list called years_list, starting with the year of your birth, and each year thereafter until\n",
        "the year of your fifth birthday. For example, if you were born in 1980. the list would be years_list = [1980, 1981, 1982, 1983, 1984, 1985].**"
      ],
      "metadata": {
        "id": "TG3GogudCIv6"
      }
    },
    {
      "cell_type": "code",
      "execution_count": 1,
      "metadata": {
        "id": "-GdLmCpK3VkO",
        "colab": {
          "base_uri": "https://localhost:8080/"
        },
        "outputId": "b25af386-477d-47b6-fa48-ae780736bbb2"
      },
      "outputs": [
        {
          "output_type": "execute_result",
          "data": {
            "text/plain": [
              "[1974, 1975, 1976, 1977, 1978, 1979]"
            ]
          },
          "metadata": {},
          "execution_count": 1
        }
      ],
      "source": [
        "years_list = [1974, 1975, 1976, 1977, 1978, 1979]\n",
        "years_list"
      ]
    },
    {
      "cell_type": "markdown",
      "source": [
        "**2. In which year in years_list was your third birthday? Remember, you were 0 years of age for your first year.**"
      ],
      "metadata": {
        "id": "g8PY4mWKCq_X"
      }
    },
    {
      "cell_type": "code",
      "source": [
        "my_third_year = years_list[3]\n",
        "print(f'I was 3 yeas old in {my_third_year}')"
      ],
      "metadata": {
        "colab": {
          "base_uri": "https://localhost:8080/"
        },
        "id": "nFOsoTX1CIG_",
        "outputId": "ed49d793-d675-4283-8ede-9218295eecc7"
      },
      "execution_count": 3,
      "outputs": [
        {
          "output_type": "stream",
          "name": "stdout",
          "text": [
            "I was 3 yeas old in 1977\n"
          ]
        }
      ]
    },
    {
      "cell_type": "markdown",
      "source": [
        "**3. In the years list, which year were you the oldest?**"
      ],
      "metadata": {
        "id": "meGADP6EDSiR"
      }
    },
    {
      "cell_type": "code",
      "source": [
        "my_older_age = years_list[-1]\n",
        "print(f'My older age in the list was in {my_older_age}')"
      ],
      "metadata": {
        "colab": {
          "base_uri": "https://localhost:8080/"
        },
        "id": "pv7LtYttDVgi",
        "outputId": "86705811-0ad5-4840-f0cf-f1e40c9e447d"
      },
      "execution_count": 10,
      "outputs": [
        {
          "output_type": "stream",
          "name": "stdout",
          "text": [
            "My older age in the list was 1979\n"
          ]
        }
      ]
    },
    {
      "cell_type": "code",
      "source": [
        "my_older_age = years_list[-1]\n",
        "age = 5\n",
        "'My older age in the list was in {}. I was {} yeas old'. format(my_older_age, age)"
      ],
      "metadata": {
        "colab": {
          "base_uri": "https://localhost:8080/",
          "height": 35
        },
        "id": "nSnFYMFfEmtU",
        "outputId": "8df41df4-ed8a-409f-cb9f-6629a027113f"
      },
      "execution_count": 19,
      "outputs": [
        {
          "output_type": "execute_result",
          "data": {
            "text/plain": [
              "'My older age in the list was in 1979. I was 5 yeas old'"
            ],
            "application/vnd.google.colaboratory.intrinsic+json": {
              "type": "string"
            }
          },
          "metadata": {},
          "execution_count": 19
        }
      ]
    },
    {
      "cell_type": "markdown",
      "source": [
        "**4. Make a list called things with these three strings as elements: &quot;mozzarella&quot;, &quot;cinderella&quot;,&quot;salmonella&quot;.**"
      ],
      "metadata": {
        "id": "abwPuGIGFjA4"
      }
    },
    {
      "cell_type": "code",
      "source": [
        "things = [a for a in [\"mozzarella\", \"cinderella\", \"salmonella\"]]\n",
        "things"
      ],
      "metadata": {
        "colab": {
          "base_uri": "https://localhost:8080/"
        },
        "id": "VRp3VtFDFvJ4",
        "outputId": "61b78b20-b644-4e73-bca4-eef21b539f78"
      },
      "execution_count": 22,
      "outputs": [
        {
          "output_type": "execute_result",
          "data": {
            "text/plain": [
              "['mozzarella', 'cinderella', 'salmonella']"
            ]
          },
          "metadata": {},
          "execution_count": 22
        }
      ]
    },
    {
      "cell_type": "code",
      "source": [
        "things_2 = [a + 'ella' for a in [\"mozzar\", \"cinder\", \"salmon\"]]\n",
        "things_2"
      ],
      "metadata": {
        "colab": {
          "base_uri": "https://localhost:8080/"
        },
        "id": "dgf2oLHiGXSC",
        "outputId": "08690628-d606-4f71-85a0-0975357b1c57"
      },
      "execution_count": 24,
      "outputs": [
        {
          "output_type": "execute_result",
          "data": {
            "text/plain": [
              "['mozzarella', 'cinderella', 'salmonella']"
            ]
          },
          "metadata": {},
          "execution_count": 24
        }
      ]
    },
    {
      "cell_type": "markdown",
      "source": [
        "**5. Capitalize the element in things that refers to a person and then print the list. Did it change the element in the list?**"
      ],
      "metadata": {
        "id": "9i00ZPLAGmQt"
      }
    },
    {
      "cell_type": "code",
      "source": [
        "for element in range(len(things)):\n",
        "    if things[element] == 'cinderella':\n",
        "        things[element] = things[element].capitalize()\n",
        "print(things)"
      ],
      "metadata": {
        "colab": {
          "base_uri": "https://localhost:8080/"
        },
        "id": "d2o8kU68Gz_D",
        "outputId": "e97c3616-29b5-4c63-f0e0-3025f77e47ee"
      },
      "execution_count": 35,
      "outputs": [
        {
          "output_type": "stream",
          "name": "stdout",
          "text": [
            "['mozzarella', 'Cinderella', 'salmonella']\n"
          ]
        }
      ]
    },
    {
      "cell_type": "markdown",
      "source": [
        "**6. Make a surprise list with the elements &quot;Groucho,&quot; &quot;Chico,&quot; and &quot;Harpo.&quot;**"
      ],
      "metadata": {
        "id": "im_ZBFwAITyz"
      }
    },
    {
      "cell_type": "code",
      "source": [
        "surprise = [\"Groucho\", \"Chico\", \"Harpo\"]\n",
        "surprise"
      ],
      "metadata": {
        "colab": {
          "base_uri": "https://localhost:8080/"
        },
        "id": "es9JE8qaIW5m",
        "outputId": "90211777-f905-4e0e-8b33-015c72cce9c7"
      },
      "execution_count": 37,
      "outputs": [
        {
          "output_type": "execute_result",
          "data": {
            "text/plain": [
              "['Groucho', 'Chico', 'Harpo']"
            ]
          },
          "metadata": {},
          "execution_count": 37
        }
      ]
    },
    {
      "cell_type": "markdown",
      "source": [
        "**7. Lowercase the last element of the surprise list, reverse it, and then capitalize it.**"
      ],
      "metadata": {
        "id": "JAY9w4e1Ialr"
      }
    },
    {
      "cell_type": "code",
      "source": [
        "surprise[-1].lower()[::-1].capitalize()"
      ],
      "metadata": {
        "colab": {
          "base_uri": "https://localhost:8080/",
          "height": 35
        },
        "id": "0RQObVIaI5Q9",
        "outputId": "8e517d68-27c8-4c7a-db0f-8f9be777a734"
      },
      "execution_count": 43,
      "outputs": [
        {
          "output_type": "execute_result",
          "data": {
            "text/plain": [
              "'Oprah'"
            ],
            "application/vnd.google.colaboratory.intrinsic+json": {
              "type": "string"
            }
          },
          "metadata": {},
          "execution_count": 43
        }
      ]
    },
    {
      "cell_type": "markdown",
      "source": [
        "**8. Make an English-to-French dictionary called e2f and print it. Here are your starter words: dog is chien, cat is chat, and walrus is morse.**"
      ],
      "metadata": {
        "id": "_h2P_VjLKGMV"
      }
    },
    {
      "cell_type": "code",
      "source": [
        "e2f = {'dog':'chien', 'cat':'chat', 'walrus':'morse'}\n",
        "e2f"
      ],
      "metadata": {
        "colab": {
          "base_uri": "https://localhost:8080/"
        },
        "id": "1ZD2PTkFKJZf",
        "outputId": "c5e58355-31e8-4d45-f5b4-3581c309c8d5"
      },
      "execution_count": 44,
      "outputs": [
        {
          "output_type": "execute_result",
          "data": {
            "text/plain": [
              "{'dog': 'chien', 'cat': 'chat', 'walrus': 'morse'}"
            ]
          },
          "metadata": {},
          "execution_count": 44
        }
      ]
    },
    {
      "cell_type": "markdown",
      "source": [
        "**9. Write the French word for walrus in your three-word dictionary e2f.**"
      ],
      "metadata": {
        "id": "cEijpkZvKsny"
      }
    },
    {
      "cell_type": "code",
      "source": [
        "e2f.get('walrus')"
      ],
      "metadata": {
        "colab": {
          "base_uri": "https://localhost:8080/",
          "height": 35
        },
        "id": "STpVpehpKvNB",
        "outputId": "7cd85ef5-674f-4f2a-e01b-8452e23d8ab7"
      },
      "execution_count": 45,
      "outputs": [
        {
          "output_type": "execute_result",
          "data": {
            "text/plain": [
              "'morse'"
            ],
            "application/vnd.google.colaboratory.intrinsic+json": {
              "type": "string"
            }
          },
          "metadata": {},
          "execution_count": 45
        }
      ]
    },
    {
      "cell_type": "markdown",
      "source": [
        "**10. Make a French-to-English dictionary called f2e from e2f. Use the items method.**"
      ],
      "metadata": {
        "id": "1HeDre6jMJXG"
      }
    },
    {
      "cell_type": "code",
      "source": [
        "f2e = dict([a[::-1] for a in e2f.items()])\n",
        "f2e"
      ],
      "metadata": {
        "colab": {
          "base_uri": "https://localhost:8080/"
        },
        "id": "Jhq0PXcJMOCh",
        "outputId": "9cf5f7ed-cef9-40ad-eb05-6b7d2e8e040d"
      },
      "execution_count": 47,
      "outputs": [
        {
          "output_type": "execute_result",
          "data": {
            "text/plain": [
              "{'chien': 'dog', 'chat': 'cat', 'morse': 'walrus'}"
            ]
          },
          "metadata": {},
          "execution_count": 47
        }
      ]
    },
    {
      "cell_type": "markdown",
      "source": [
        "**11. Print the English version of the French word chien using f2e.**"
      ],
      "metadata": {
        "id": "VA-odQNnNhUE"
      }
    },
    {
      "cell_type": "code",
      "source": [
        "f2e.get('chien')"
      ],
      "metadata": {
        "colab": {
          "base_uri": "https://localhost:8080/",
          "height": 35
        },
        "id": "cunckXDsNjaz",
        "outputId": "df1cb638-8ef1-4b27-b7e0-e824c36bf7f5"
      },
      "execution_count": 48,
      "outputs": [
        {
          "output_type": "execute_result",
          "data": {
            "text/plain": [
              "'dog'"
            ],
            "application/vnd.google.colaboratory.intrinsic+json": {
              "type": "string"
            }
          },
          "metadata": {},
          "execution_count": 48
        }
      ]
    },
    {
      "cell_type": "markdown",
      "source": [
        "**12. Make and print a set of English words from the keys in e2f.**"
      ],
      "metadata": {
        "id": "Q4H_b4W2N-Q7"
      }
    },
    {
      "cell_type": "code",
      "source": [
        "eng_words = list(e2f.keys())\n",
        "eng_words"
      ],
      "metadata": {
        "colab": {
          "base_uri": "https://localhost:8080/"
        },
        "id": "h1shX-ndODIs",
        "outputId": "fa4010ab-c687-4735-c61d-61aa21f780bf"
      },
      "execution_count": 52,
      "outputs": [
        {
          "output_type": "execute_result",
          "data": {
            "text/plain": [
              "['dog', 'cat', 'walrus']"
            ]
          },
          "metadata": {},
          "execution_count": 52
        }
      ]
    },
    {
      "cell_type": "code",
      "source": [
        "e2f.keys()"
      ],
      "metadata": {
        "colab": {
          "base_uri": "https://localhost:8080/"
        },
        "id": "Po-tDg4uVNGh",
        "outputId": "9f54a0b1-37e1-4527-8c4c-ffa27c5e9935"
      },
      "execution_count": 78,
      "outputs": [
        {
          "output_type": "execute_result",
          "data": {
            "text/plain": [
              "dict_keys(['dog', 'cat', 'walrus'])"
            ]
          },
          "metadata": {},
          "execution_count": 78
        }
      ]
    },
    {
      "cell_type": "code",
      "source": [
        "fr_words = list(e2f.values())\n",
        "fr_words"
      ],
      "metadata": {
        "colab": {
          "base_uri": "https://localhost:8080/"
        },
        "id": "aXcsJuleO1dr",
        "outputId": "1479bc90-76f8-4fc7-b5b8-f3dcea312e1d"
      },
      "execution_count": 54,
      "outputs": [
        {
          "output_type": "execute_result",
          "data": {
            "text/plain": [
              "['chien', 'chat', 'morse']"
            ]
          },
          "metadata": {},
          "execution_count": 54
        }
      ]
    },
    {
      "cell_type": "code",
      "source": [
        "e2f.values()"
      ],
      "metadata": {
        "colab": {
          "base_uri": "https://localhost:8080/"
        },
        "id": "bhstWDkoVD0h",
        "outputId": "bf7ebff4-38d7-4690-f42c-59ff61ae735f"
      },
      "execution_count": 77,
      "outputs": [
        {
          "output_type": "execute_result",
          "data": {
            "text/plain": [
              "dict_values(['chien', 'chat', 'morse'])"
            ]
          },
          "metadata": {},
          "execution_count": 77
        }
      ]
    },
    {
      "cell_type": "markdown",
      "source": [
        "**13. Make a multilevel dictionary called life. Use these strings for the topmost keys: 'animals', 'plants', and 'other'. Make the 'animals' key refer to another dictionary with the keys 'cats', 'octopi', and 'emus'. Make the 'cats' key refer to a list of strings with the values 'Henri', 'Grumpy', and 'Lucy'. Make all the other keys refer to empty dictionaries.**"
      ],
      "metadata": {
        "id": "rZKqlPAGPIgi"
      }
    },
    {
      "cell_type": "code",
      "source": [
        "life = {'animals':{ 'cats':['Henri', 'Grumpy', 'Lucy'],\n",
        "                   'octopi':{},\n",
        "                   'emus':{}},\n",
        "        'plants':{},\n",
        "        'other':{}}\n",
        "life"
      ],
      "metadata": {
        "colab": {
          "base_uri": "https://localhost:8080/"
        },
        "id": "dmKBcjjEPVz5",
        "outputId": "0d05c721-b09e-439d-e640-b34530d0c803"
      },
      "execution_count": 55,
      "outputs": [
        {
          "output_type": "execute_result",
          "data": {
            "text/plain": [
              "{'animals': {'cats': ['Henri', 'Grumpy', 'Lucy'], 'octopi': {}, 'emus': {}},\n",
              " 'plants': {},\n",
              " 'other': {}}"
            ]
          },
          "metadata": {},
          "execution_count": 55
        }
      ]
    },
    {
      "cell_type": "markdown",
      "source": [
        "**14. Print the top-level keys of life.**"
      ],
      "metadata": {
        "id": "6z7CKWwqRryJ"
      }
    },
    {
      "cell_type": "code",
      "source": [
        "list(life.keys())"
      ],
      "metadata": {
        "colab": {
          "base_uri": "https://localhost:8080/"
        },
        "id": "1QtxZW69R1vl",
        "outputId": "40c719b5-2ffb-40a3-8f8d-df3282ed3804"
      },
      "execution_count": 59,
      "outputs": [
        {
          "output_type": "execute_result",
          "data": {
            "text/plain": [
              "['animals', 'plants', 'other']"
            ]
          },
          "metadata": {},
          "execution_count": 59
        }
      ]
    },
    {
      "cell_type": "code",
      "source": [
        "life.keys()"
      ],
      "metadata": {
        "colab": {
          "base_uri": "https://localhost:8080/"
        },
        "id": "z5eVUtepUw6q",
        "outputId": "759f9a84-4d81-4a47-c652-ea212397a6b5"
      },
      "execution_count": 74,
      "outputs": [
        {
          "output_type": "execute_result",
          "data": {
            "text/plain": [
              "dict_keys(['animals', 'plants', 'other'])"
            ]
          },
          "metadata": {},
          "execution_count": 74
        }
      ]
    },
    {
      "cell_type": "markdown",
      "source": [
        "**15. Print the keys for life['animals'].**"
      ],
      "metadata": {
        "id": "keddAeMuTpol"
      }
    },
    {
      "cell_type": "code",
      "source": [
        "list(life['animals'].keys())"
      ],
      "metadata": {
        "colab": {
          "base_uri": "https://localhost:8080/"
        },
        "id": "mdwOHvLQTtHg",
        "outputId": "b46d2e00-4a49-42f2-ff86-0cf157a246aa"
      },
      "execution_count": 69,
      "outputs": [
        {
          "output_type": "execute_result",
          "data": {
            "text/plain": [
              "['cats', 'octopi', 'emus']"
            ]
          },
          "metadata": {},
          "execution_count": 69
        }
      ]
    },
    {
      "cell_type": "code",
      "source": [
        "life['animals'].keys()"
      ],
      "metadata": {
        "colab": {
          "base_uri": "https://localhost:8080/"
        },
        "id": "OK08g70FU2qe",
        "outputId": "c9771a86-56a3-4b14-d53e-7ffe9b729e38"
      },
      "execution_count": 75,
      "outputs": [
        {
          "output_type": "execute_result",
          "data": {
            "text/plain": [
              "dict_keys(['cats', 'octopi', 'emus'])"
            ]
          },
          "metadata": {},
          "execution_count": 75
        }
      ]
    },
    {
      "cell_type": "markdown",
      "source": [
        "**16. Print the values for life['animals']['cats']**"
      ],
      "metadata": {
        "id": "xo-aIllkUj8_"
      }
    },
    {
      "cell_type": "code",
      "source": [
        "list(life['animals']['cats'])"
      ],
      "metadata": {
        "colab": {
          "base_uri": "https://localhost:8080/"
        },
        "id": "RxhCKSQ2SKve",
        "outputId": "4f07154e-d348-4b23-af5d-64056f831755"
      },
      "execution_count": 72,
      "outputs": [
        {
          "output_type": "execute_result",
          "data": {
            "text/plain": [
              "['Henri', 'Grumpy', 'Lucy']"
            ]
          },
          "metadata": {},
          "execution_count": 72
        }
      ]
    },
    {
      "cell_type": "code",
      "source": [
        "life['animals']['cats']"
      ],
      "metadata": {
        "colab": {
          "base_uri": "https://localhost:8080/"
        },
        "id": "maM18VVySzJG",
        "outputId": "deb491fb-0e36-48e8-e11d-a5edce4e71ab"
      },
      "execution_count": 73,
      "outputs": [
        {
          "output_type": "execute_result",
          "data": {
            "text/plain": [
              "['Henri', 'Grumpy', 'Lucy']"
            ]
          },
          "metadata": {},
          "execution_count": 73
        }
      ]
    }
  ]
}