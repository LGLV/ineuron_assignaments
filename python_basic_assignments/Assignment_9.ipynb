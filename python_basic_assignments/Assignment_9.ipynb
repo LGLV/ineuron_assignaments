{
  "nbformat": 4,
  "nbformat_minor": 0,
  "metadata": {
    "colab": {
      "provenance": [],
      "authorship_tag": "ABX9TyPN2QCN8kxqcXVvT6tQ6Piw",
      "include_colab_link": true
    },
    "kernelspec": {
      "name": "python3",
      "display_name": "Python 3"
    },
    "language_info": {
      "name": "python"
    }
  },
  "cells": [
    {
      "cell_type": "markdown",
      "metadata": {
        "id": "view-in-github",
        "colab_type": "text"
      },
      "source": [
        "<a href=\"https://colab.research.google.com/github/LGLV/ineuron_assignaments/blob/main/Assignment_9.ipynb\" target=\"_parent\"><img src=\"https://colab.research.google.com/assets/colab-badge.svg\" alt=\"Open In Colab\"/></a>"
      ]
    },
    {
      "cell_type": "markdown",
      "source": [
        "**1. To what does a relative path refer?**\n",
        "\n",
        "* A relative path in Python is a path that describes the location of a directory relative to the entry point where you run the Python script.\n",
        "\n",
        "* The relative path is the path to some file with respect to your current working directory (PWD).\n",
        "* For example: if Absolute path to a file called stuff.txt is: C:/users/admin/docs/stuff.txt If my PWD is C:/users/admin/ , then the relative path to stuff.txt would be: docs/stuff.txt\n",
        "* Note: PWD + relative path = absolute path"
      ],
      "metadata": {
        "id": "I7uhx6VCGfwf"
      }
    },
    {
      "cell_type": "markdown",
      "source": [
        "**2. What does an absolute path start with your operating system?**\n",
        "\n",
        "* Absolute paths ensure that Python can find the exact file on your computer."
      ],
      "metadata": {
        "id": "atBQeikMHB1q"
      }
    },
    {
      "cell_type": "markdown",
      "source": [
        "**3. What do the functions os.getcwd() and os.chdir() do?**\n",
        "\n",
        "* Check and Set Your Working Directory Using OS\n",
        "* getcwd() : CWD stands for Current Working Directory. This function allows you to see what your current working directory is. \n",
        "* chdir(\"path-to-dir\") : Short for CHange DIRectory, this function allows you to set the current working directory to a path of your choice."
      ],
      "metadata": {
        "id": "8rBAonbwHyBa"
      }
    },
    {
      "cell_type": "markdown",
      "source": [
        "**4. What are the . and .. folders?**\n",
        "\n",
        "* We use the double dot (..) to access the parent directory, whereas the single dot (.) represents the current directory.\n",
        "\n",
        "OR\n",
        "\n",
        "* . Represents the Current Directory Whereas .. Represents the Parent Directory of the Current Directory\n",
        "* For Example: if the below path is my absolute path:\n",
        "* C:\\\\Users\\\\vishnu\\\\Documents\\\\iNeuron-Assignments\\\\Python Basic Assignment\n",
        "* Then . represents the path\n",
        "* C:\\\\Users\\\\vishnu\\\\Documents\\\\iNeuron-Assignments\\\\Python Basic Assignment\n",
        "* Where as .. represents the path \n",
        "* C:\\\\Users\\\\vishnu\\\\Documents\\\\iNeuron-Assignments"
      ],
      "metadata": {
        "id": "we5FJGgQHyMS"
      }
    },
    {
      "cell_type": "markdown",
      "source": [
        "**5. In C:\\bacon\\eggs\\spam.txt, which part is the dir name, and which part is the base name?**\n",
        "\n",
        "* C:\\bacon\\eggs is the dir name, while spam. txt is the base name."
      ],
      "metadata": {
        "id": "EgUzQ_TBHyaa"
      }
    },
    {
      "cell_type": "markdown",
      "source": [
        "**6. What are the three “mode” arguments that can be passed to the open() function?**\n",
        "\n",
        "* r : Opens the file in read-only mode. ... \n",
        "* rb : Opens the file as read-only in binary format and starts reading from the beginning of the file. ... \n",
        "* r+ : Opens a file for reading and writing, placing the pointer at the beginning of the file.\n",
        "\n",
        "OR\n",
        "\n",
        "* A file can be Accessed in python using open() function. open function takes two arguments filename and mode of operation (optional). if mode is not provided the default mode of opening is read mode\n",
        "* So, the syntax being: open(filename, mode)\n",
        "\n",
        "* ‘r’ – Read Mode: This is the default mode for open(). The file is opened and a pointer is positioned at the beginning of the file’s content.\n",
        "* ‘w’ – Write Mode: Using this mode will overwrite any existing content in a file. If the given file does not exist, a new one will be created.\n",
        "* ‘r+’ – Read/Write Mode: Use this mode if you need to simultaneously read and write to a file.\n",
        "* ‘a’ – Append Mode: With this mode the user can append the data without overwriting any already existing data in the file.\n",
        "* ‘a+’ – Append and Read Mode: In this mode you can read and append the data without overwriting the original file.\n",
        "* ‘x’ – Exclusive Creating Mode: This mode is for the sole purpose of creating new files. Use this mode if you know the file to be written doesn’t exist beforehand.\n",
        "\n"
      ],
      "metadata": {
        "id": "GdHku0eCHyk5"
      }
    },
    {
      "cell_type": "markdown",
      "source": [
        "**7. What happens if an existing file is opened in write mode?**\n",
        "\n",
        "* Using this mode will overwrite any existing content in a file. If the given file does not exist, a new one will be created.\n"
      ],
      "metadata": {
        "id": "HPg3K2Pdq9TT"
      }
    },
    {
      "cell_type": "markdown",
      "source": [
        "**8.How do you tell the difference between read() and readlines() ?**\n",
        "\n",
        "* The main difference is that read() will read the whole file at once and then print out the first characters that take up as many bytes as you specify in the parenthesis\n",
        "\n",
        "* Whereas the readline() that will read and print out only the first characters that take up as many bytes as you specify in the parenthesis. You may want to use readline() when you're reading files that are too big for your RAM.\n",
        "* The read() would treat each character in the file separately, meaning that the iteration would happen for every character.\n",
        "* The readline() function, on the other hand, only reads a single line of the file. This means that if the first line of the file were three lines long, the readline() function would only parse (or iterate/operate) on the first line of the file.\n",
        "\n"
      ],
      "metadata": {
        "id": "Z9kpY4PPvGMW"
      }
    },
    {
      "cell_type": "markdown",
      "source": [
        "**9. What data structure does a shelf value resemble ?**\n",
        "\n",
        "* It contains key and values it represents dictionary.\n"
      ],
      "metadata": {
        "id": "e0hxoGqPvgcu"
      }
    }
  ]
}