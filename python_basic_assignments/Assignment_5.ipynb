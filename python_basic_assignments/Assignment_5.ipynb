{
  "nbformat": 4,
  "nbformat_minor": 0,
  "metadata": {
    "colab": {
      "provenance": [],
      "authorship_tag": "ABX9TyMtrCawOiS5OMHhB328Hv0E",
      "include_colab_link": true
    },
    "kernelspec": {
      "name": "python3",
      "display_name": "Python 3"
    },
    "language_info": {
      "name": "python"
    }
  },
  "cells": [
    {
      "cell_type": "markdown",
      "metadata": {
        "id": "view-in-github",
        "colab_type": "text"
      },
      "source": [
        "<a href=\"https://colab.research.google.com/github/LGLV/ineuron_assignaments/blob/main/Assignment_5.ipynb\" target=\"_parent\"><img src=\"https://colab.research.google.com/assets/colab-badge.svg\" alt=\"Open In Colab\"/></a>"
      ]
    },
    {
      "cell_type": "markdown",
      "source": [
        "**1. What does an empty dictionary's code look like?**"
      ],
      "metadata": {
        "id": "E-ZYwhCc9sAl"
      }
    },
    {
      "cell_type": "code",
      "source": [
        "# empty dictionary\n",
        "d = {}\n",
        "type(d)"
      ],
      "metadata": {
        "colab": {
          "base_uri": "https://localhost:8080/"
        },
        "id": "0slar2DL9yzO",
        "outputId": "c3bba3c1-cc27-40a0-bdb5-93eea5108189"
      },
      "execution_count": 1,
      "outputs": [
        {
          "output_type": "execute_result",
          "data": {
            "text/plain": [
              "dict"
            ]
          },
          "metadata": {},
          "execution_count": 1
        }
      ]
    },
    {
      "cell_type": "markdown",
      "source": [
        "**2. What is the value of a dictionary value with the key 'foo' and the value 42?**"
      ],
      "metadata": {
        "id": "E7SxYe1e98-4"
      }
    },
    {
      "cell_type": "code",
      "source": [
        "d2 = {'foo':42}\n",
        "d2"
      ],
      "metadata": {
        "colab": {
          "base_uri": "https://localhost:8080/"
        },
        "id": "MEL97fwl-VJ9",
        "outputId": "21931ea9-1478-47ef-8113-c9fec0f65ded"
      },
      "execution_count": 2,
      "outputs": [
        {
          "output_type": "execute_result",
          "data": {
            "text/plain": [
              "{'foo': 42}"
            ]
          },
          "metadata": {},
          "execution_count": 2
        }
      ]
    },
    {
      "cell_type": "markdown",
      "source": [
        "**3. What is the most significant distinction between a dictionary and a list?**\n",
        "\n",
        "•\tlist is ordered and mutable\n",
        "\n",
        "•\tdictionaries are unordered and mutable\n"
      ],
      "metadata": {
        "id": "6Seu4mCD-_no"
      }
    },
    {
      "cell_type": "markdown",
      "source": [
        "**4. What happens if you try to access spam['foo'] if spam is {'bar': 100}?**"
      ],
      "metadata": {
        "id": "-q74IsaN_uF2"
      }
    },
    {
      "cell_type": "code",
      "source": [
        "spam = {'bar':100}\n",
        "spam['foo']"
      ],
      "metadata": {
        "colab": {
          "base_uri": "https://localhost:8080/",
          "height": 189
        },
        "id": "NEaQa86w_x2O",
        "outputId": "8ff1278d-9474-4e6c-f9ce-e15178e00f46"
      },
      "execution_count": 3,
      "outputs": [
        {
          "output_type": "error",
          "ename": "KeyError",
          "evalue": "ignored",
          "traceback": [
            "\u001b[0;31m---------------------------------------------------------------------------\u001b[0m",
            "\u001b[0;31mKeyError\u001b[0m                                  Traceback (most recent call last)",
            "\u001b[0;32m<ipython-input-3-cea1cd791e68>\u001b[0m in \u001b[0;36m<cell line: 2>\u001b[0;34m()\u001b[0m\n\u001b[1;32m      1\u001b[0m \u001b[0mspam\u001b[0m \u001b[0;34m=\u001b[0m \u001b[0;34m{\u001b[0m\u001b[0;34m'bar'\u001b[0m\u001b[0;34m:\u001b[0m\u001b[0;36m100\u001b[0m\u001b[0;34m}\u001b[0m\u001b[0;34m\u001b[0m\u001b[0;34m\u001b[0m\u001b[0m\n\u001b[0;32m----> 2\u001b[0;31m \u001b[0mspam\u001b[0m\u001b[0;34m[\u001b[0m\u001b[0;34m'foo'\u001b[0m\u001b[0;34m]\u001b[0m\u001b[0;34m\u001b[0m\u001b[0;34m\u001b[0m\u001b[0m\n\u001b[0m",
            "\u001b[0;31mKeyError\u001b[0m: 'foo'"
          ]
        }
      ]
    },
    {
      "cell_type": "markdown",
      "source": [
        "**5. If a dictionary is stored in spam, what is the difference between the expressions 'cat' in spam and 'cat' in spam.keys()?**"
      ],
      "metadata": {
        "id": "imvX4lklAerE"
      }
    },
    {
      "cell_type": "code",
      "source": [
        "spam = {'cat':1}\n",
        "'cat' in spam"
      ],
      "metadata": {
        "colab": {
          "base_uri": "https://localhost:8080/"
        },
        "id": "7Bx0szqkAtT7",
        "outputId": "8823f525-f401-4242-98ce-2cdc3e146ed4"
      },
      "execution_count": 4,
      "outputs": [
        {
          "output_type": "execute_result",
          "data": {
            "text/plain": [
              "True"
            ]
          },
          "metadata": {},
          "execution_count": 4
        }
      ]
    },
    {
      "cell_type": "code",
      "source": [
        "'cat' in spam.keys() # There is not any difference"
      ],
      "metadata": {
        "colab": {
          "base_uri": "https://localhost:8080/"
        },
        "id": "TFP9xLodA3tg",
        "outputId": "cc44988d-f4c6-4eb7-a89f-c26db7ca4985"
      },
      "execution_count": 6,
      "outputs": [
        {
          "output_type": "execute_result",
          "data": {
            "text/plain": [
              "True"
            ]
          },
          "metadata": {},
          "execution_count": 6
        }
      ]
    },
    {
      "cell_type": "markdown",
      "source": [
        "**6. If a dictionary is stored in spam, what is the difference between the expressions 'cat' in spam and 'cat' in spam.values()?**"
      ],
      "metadata": {
        "id": "yR73PaX7BcwF"
      }
    },
    {
      "cell_type": "code",
      "source": [
        "'cat' in spam"
      ],
      "metadata": {
        "colab": {
          "base_uri": "https://localhost:8080/"
        },
        "id": "0SU-l7rmBpyp",
        "outputId": "026f37a7-d557-407b-fa88-50203e46421a"
      },
      "execution_count": 7,
      "outputs": [
        {
          "output_type": "execute_result",
          "data": {
            "text/plain": [
              "True"
            ]
          },
          "metadata": {},
          "execution_count": 7
        }
      ]
    },
    {
      "cell_type": "code",
      "source": [
        "'cat' in spam.values() # The difference is that, if the expression 'cat' is not a value in the dict {key:value}, it will arise Felse result"
      ],
      "metadata": {
        "colab": {
          "base_uri": "https://localhost:8080/"
        },
        "id": "BpdIRSL5ByKS",
        "outputId": "f797dfc0-1995-4270-b170-2e4540acbfd0"
      },
      "execution_count": 8,
      "outputs": [
        {
          "output_type": "execute_result",
          "data": {
            "text/plain": [
              "False"
            ]
          },
          "metadata": {},
          "execution_count": 8
        }
      ]
    },
    {
      "cell_type": "markdown",
      "source": [
        "**7. What is a shortcut for the following code?**\n",
        "\n",
        "if 'color' not in spam:\n",
        "\n",
        "spam['color'] = 'black'\n"
      ],
      "metadata": {
        "id": "zP9wbJ4YDSZ9"
      }
    },
    {
      "cell_type": "code",
      "source": [
        "if 'color' not in spam:\n",
        "    spam['color'] = 'black'\n",
        "\n",
        "spam"
      ],
      "metadata": {
        "colab": {
          "base_uri": "https://localhost:8080/"
        },
        "id": "I0BhDyOEDb9r",
        "outputId": "3174f4bd-2dc4-4adb-f75b-0bc3764a5482"
      },
      "execution_count": 10,
      "outputs": [
        {
          "output_type": "execute_result",
          "data": {
            "text/plain": [
              "{'cat': 1, 'color': 'black'}"
            ]
          },
          "metadata": {},
          "execution_count": 10
        }
      ]
    },
    {
      "cell_type": "markdown",
      "source": [
        "**8. How do you \"pretty print\" dictionary values using which module and function?**\n",
        "\n",
        "•\tThe module used is the pprint module within which we have the pprint function of the same name. The function can be implemented to pretty-print the specific string or object."
      ],
      "metadata": {
        "id": "caBjUxfID0tz"
      }
    },
    {
      "cell_type": "code",
      "source": [
        "import pprint"
      ],
      "metadata": {
        "id": "-ejl4m91EeAm"
      },
      "execution_count": 11,
      "outputs": []
    },
    {
      "cell_type": "code",
      "source": [
        "dict1 = [\n",
        "    {'jen': 'python', 'sarah': 'c', 'edward': 'ruby', 'phil': 'python'},\n",
        "    {'jhonn': 'python', 'arah': 'c', 'edwin': 'ruby', 'joe': 'python'},\n",
        "    {'jeny': 'python', 'zony': 'c', 'richard': 'ruby', 'pavel': 'python',},\n",
        "\n",
        "]"
      ],
      "metadata": {
        "id": "6QU-GFMnE7CK"
      },
      "execution_count": 20,
      "outputs": []
    },
    {
      "cell_type": "code",
      "source": [
        "pprint.pprint(dict1)"
      ],
      "metadata": {
        "colab": {
          "base_uri": "https://localhost:8080/"
        },
        "id": "TJzYt9wfG47b",
        "outputId": "de696b2f-1e92-4650-e4d6-100474c32889"
      },
      "execution_count": 21,
      "outputs": [
        {
          "output_type": "stream",
          "name": "stdout",
          "text": [
            "[{'edward': 'ruby', 'jen': 'python', 'phil': 'python', 'sarah': 'c'},\n",
            " {'arah': 'c', 'edwin': 'ruby', 'jhonn': 'python', 'joe': 'python'},\n",
            " {'jeny': 'python', 'pavel': 'python', 'richard': 'ruby', 'zony': 'c'}]\n"
          ]
        }
      ]
    },
    {
      "cell_type": "code",
      "source": [
        "print(dict1)"
      ],
      "metadata": {
        "colab": {
          "base_uri": "https://localhost:8080/"
        },
        "id": "gaTUYTdjHlwG",
        "outputId": "5e183c0b-5e3f-405a-ed70-c2b63e083d22"
      },
      "execution_count": 17,
      "outputs": [
        {
          "output_type": "stream",
          "name": "stdout",
          "text": [
            "[{'jen': 'python', 'sarah': 'c', 'edward': 'ruby', 'phil': 'python'}, {'jhonn': 'python', 'arah': 'c', 'edwin': 'ruby', 'joe': 'python'}, {'jeny': 'c', 'zony': 'python', 'richard': 'julia', 'pavel': 'python'}]\n"
          ]
        }
      ]
    }
  ]
}