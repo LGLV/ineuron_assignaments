{
  "nbformat": 4,
  "nbformat_minor": 0,
  "metadata": {
    "colab": {
      "provenance": [],
      "authorship_tag": "ABX9TyPjFdxqIOYeC7mq044i+rje",
      "include_colab_link": true
    },
    "kernelspec": {
      "name": "python3",
      "display_name": "Python 3"
    },
    "language_info": {
      "name": "python"
    }
  },
  "cells": [
    {
      "cell_type": "markdown",
      "metadata": {
        "id": "view-in-github",
        "colab_type": "text"
      },
      "source": [
        "<a href=\"https://colab.research.google.com/github/LGLV/ineuron_assignaments/blob/main/Assignament_3.ipynb\" target=\"_parent\"><img src=\"https://colab.research.google.com/assets/colab-badge.svg\" alt=\"Open In Colab\"/></a>"
      ]
    },
    {
      "cell_type": "markdown",
      "source": [
        "**1. Why are functions advantageous to have in your programs?**\n",
        "\n",
        "•\tFunctions are like recipes. They can execute a set of instructions on data or variables and return the result. The very utility of functions is that they are recyclable. That is, the function can be used repeatedly without having to write the same code again."
      ],
      "metadata": {
        "id": "x4x64giP-fRg"
      }
    },
    {
      "cell_type": "markdown",
      "source": [
        "**2. When does the code in a function run: when it's specified or when it's called?**\n",
        "\n",
        "•\tWhen it's called"
      ],
      "metadata": {
        "id": "PsStC-dH_Wap"
      }
    },
    {
      "cell_type": "markdown",
      "source": [
        "**3. What statement creates a function?**\n",
        "\n",
        "•\tdef() defines or creates a function"
      ],
      "metadata": {
        "id": "95A8QNHJ_-bw"
      }
    },
    {
      "cell_type": "markdown",
      "source": [
        "**4. What is the difference between a function and a function call?**\n",
        "\n",
        "•\tA function consists of the def statement and the code in its def clause.\n",
        "\n",
        "•\tA function call is what moves the program execution into the function, and the function call evaluates to the function's return value.\n"
      ],
      "metadata": {
        "id": "aD37DU_4_-qc"
      }
    },
    {
      "cell_type": "code",
      "source": [
        "def greet_user():\n",
        "    \"\"\"Display a simple greeting.\"\"\"\n",
        "    print(\"Hello!\")\n",
        "greet_user()"
      ],
      "metadata": {
        "colab": {
          "base_uri": "https://localhost:8080/"
        },
        "id": "yplJ0dziqWEV",
        "outputId": "35d6b09d-06ed-41d3-98b7-fec141cd95c1"
      },
      "execution_count": 5,
      "outputs": [
        {
          "output_type": "stream",
          "name": "stdout",
          "text": [
            "Hello!\n"
          ]
        }
      ]
    },
    {
      "cell_type": "markdown",
      "source": [
        "**5. How many global scopes are there in a Python program? How many local scopes?**\n",
        "\n",
        "•\tThere's only one global Python scope per program execution. This scope remains in existence until the program terminates.\n",
        "\n",
        "•\tA local scope is created whenever a function is called.\n"
      ],
      "metadata": {
        "id": "5p6hcj_l_-3c"
      }
    },
    {
      "cell_type": "markdown",
      "source": [
        "**6. What happens to variables in a local scope when the function call returns?**\n",
        "\n",
        "•\tWhen a function returns, the local scope disappears."
      ],
      "metadata": {
        "id": "7m3f-rtt__Il"
      }
    },
    {
      "cell_type": "markdown",
      "source": [
        "**7. What is the concept of a return value? Is it possible to have a return value in an expression?**\n",
        "\n",
        "•\tA return value is the value that a function call evaluates to.\n",
        " \n",
        "•\tLike any value, a return value can be used as part of an expression.\n"
      ],
      "metadata": {
        "id": "pFoewsAP__T0"
      }
    },
    {
      "cell_type": "markdown",
      "source": [
        "**8. If a function does not have a return statement, what is the return value of a call to that function?**\n",
        "\n",
        "•\tThe return value is the same and it remains in the function, but it only wont returns."
      ],
      "metadata": {
        "id": "28OJ8WND_tx3"
      }
    },
    {
      "cell_type": "markdown",
      "source": [
        "**9. How do you make a function variable refer to the global variable?**\n",
        "\n",
        "•\tTo make function variable as a global variable you can use the global keyword to declare which variables are global."
      ],
      "metadata": {
        "id": "z3Ct8cXtus1g"
      }
    },
    {
      "cell_type": "markdown",
      "source": [
        "**10. What is the data type of None?**\n",
        "\n",
        "•\tNone keyword is an object, and it is a data type of the class NoneType . We can assign None to any variable, but you cannot create other NoneType objects. Note: All variables that are assigned None point to the same object.\n"
      ],
      "metadata": {
        "id": "IJswMZxLvl2f"
      }
    },
    {
      "cell_type": "markdown",
      "source": [
        "**11. What does the sentence import areallyourpetsnamederic do?**\n",
        "\n",
        "•\tThis sentence imports the module areallyourpetsnamederic: Nevertheless,  areallyourpetsnamederic module perhaps does not exist in python."
      ],
      "metadata": {
        "id": "jObr_eZwRZfr"
      }
    },
    {
      "cell_type": "markdown",
      "source": [
        "**12. If you had a bacon() feature in a spam module, what would you call it after importing spam?**"
      ],
      "metadata": {
        "id": "OyLD-xJrSZso"
      }
    },
    {
      "cell_type": "code",
      "source": [
        "import spam:\n",
        "    spam.bacon()"
      ],
      "metadata": {
        "id": "JlLA7XZgSYcB"
      },
      "execution_count": null,
      "outputs": []
    },
    {
      "cell_type": "markdown",
      "source": [
        "**13. What can you do to save a programme from crashing if it encounters an error?**\n",
        "\n",
        "•\tWe can use try except clause to save a program from crashing."
      ],
      "metadata": {
        "id": "33XRL6hqTPPm"
      }
    },
    {
      "cell_type": "markdown",
      "source": [
        "**14. What is the purpose of the try clause? What is the purpose of the except clause?**\n",
        "\n",
        "•\tWhen you use try-except blocks, your programs will continue running even if things start to go wrong. Instead of tracebacks, which can be confusing for users to read, users will see friendly error messages that you write."
      ],
      "metadata": {
        "id": "zxXbdVqSTx7_"
      }
    }
  ]
}