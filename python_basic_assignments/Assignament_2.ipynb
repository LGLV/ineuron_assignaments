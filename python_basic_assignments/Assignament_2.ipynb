{
  "nbformat": 4,
  "nbformat_minor": 0,
  "metadata": {
    "colab": {
      "provenance": [],
      "authorship_tag": "ABX9TyN54CuX4hQXK0Zg58pbS3U8",
      "include_colab_link": true
    },
    "kernelspec": {
      "name": "python3",
      "display_name": "Python 3"
    },
    "language_info": {
      "name": "python"
    }
  },
  "cells": [
    {
      "cell_type": "markdown",
      "metadata": {
        "id": "view-in-github",
        "colab_type": "text"
      },
      "source": [
        "<a href=\"https://colab.research.google.com/github/LGLV/ineuron_assignaments/blob/main/Assignament_2.ipynb\" target=\"_parent\"><img src=\"https://colab.research.google.com/assets/colab-badge.svg\" alt=\"Open In Colab\"/></a>"
      ]
    },
    {
      "cell_type": "markdown",
      "source": [
        "**1. What are the two values of the Boolean data type? How do you write them?**\n",
        "\n",
        "\n",
        "•\tThe two values of the Boolean data type are: True and False.\n",
        "\n",
        "•\tWe have to write them beginning wit capital letters.\n"
      ],
      "metadata": {
        "id": "TVO8Jr1BoNxw"
      }
    },
    {
      "cell_type": "markdown",
      "source": [
        "**2. What are the three different types of Boolean operators?**\n",
        "\n",
        "\n",
        "•\tand, or, not\n"
      ],
      "metadata": {
        "id": "jHlNVK6qoZK_"
      }
    },
    {
      "cell_type": "markdown",
      "source": [
        "**3. Make a list of each Boolean operator's truth tables (i.e. every possible combination of Boolean values for the operator and what it evaluate).**\n",
        "\n",
        "\n",
        "\n",
        "•\tTrue and True is True. \n",
        "\n",
        "•\tTrue and False is False. \n",
        "\n",
        "•\tFalse and True is False. \n",
        "\n",
        "•\tFalse and False is False.\n",
        "\n",
        "•\tTrue or True is True.\n",
        "\n",
        "•\tTrue or False is True.\n",
        "\n",
        "•\tFalse or True is True.\n",
        "\n",
        "•\tFalse or False is False.\n",
        "\n",
        "•\tnot True is False.\n",
        "\n",
        "•\tnot False is True.\n"
      ],
      "metadata": {
        "id": "pZYjV_hbojvg"
      }
    },
    {
      "cell_type": "markdown",
      "source": [
        "4. What are the values of the following expressions?"
      ],
      "metadata": {
        "id": "VNe1Q07SoyQe"
      }
    },
    {
      "cell_type": "code",
      "source": [
        "(5 > 4) and (3 == 5)"
      ],
      "metadata": {
        "colab": {
          "base_uri": "https://localhost:8080/"
        },
        "id": "t4QvNSUZoz7F",
        "outputId": "4c135940-2d20-448d-9c4d-2555f63e2289"
      },
      "execution_count": 7,
      "outputs": [
        {
          "output_type": "execute_result",
          "data": {
            "text/plain": [
              "False"
            ]
          },
          "metadata": {},
          "execution_count": 7
        }
      ]
    },
    {
      "cell_type": "code",
      "source": [
        "not (5 > 4)"
      ],
      "metadata": {
        "colab": {
          "base_uri": "https://localhost:8080/"
        },
        "id": "9LSpl-n0o4AE",
        "outputId": "2e20f583-3876-4233-c741-b4459630640e"
      },
      "execution_count": 8,
      "outputs": [
        {
          "output_type": "execute_result",
          "data": {
            "text/plain": [
              "False"
            ]
          },
          "metadata": {},
          "execution_count": 8
        }
      ]
    },
    {
      "cell_type": "code",
      "source": [
        "(5 > 4) or (3 == 5)"
      ],
      "metadata": {
        "colab": {
          "base_uri": "https://localhost:8080/"
        },
        "id": "h9fwCNoXo_lh",
        "outputId": "a68a0a34-f6e9-49f4-fc06-9d23957a4ee4"
      },
      "execution_count": 9,
      "outputs": [
        {
          "output_type": "execute_result",
          "data": {
            "text/plain": [
              "True"
            ]
          },
          "metadata": {},
          "execution_count": 9
        }
      ]
    },
    {
      "cell_type": "code",
      "source": [
        "not ((5 > 4) or (3 == 5))"
      ],
      "metadata": {
        "colab": {
          "base_uri": "https://localhost:8080/"
        },
        "id": "TsR0HK1xpFwj",
        "outputId": "f31862eb-c47b-4341-d215-cbdbe26044d9"
      },
      "execution_count": 10,
      "outputs": [
        {
          "output_type": "execute_result",
          "data": {
            "text/plain": [
              "False"
            ]
          },
          "metadata": {},
          "execution_count": 10
        }
      ]
    },
    {
      "cell_type": "code",
      "source": [
        "(True and True) and (True == False)"
      ],
      "metadata": {
        "colab": {
          "base_uri": "https://localhost:8080/"
        },
        "id": "7ujGwWVypKhY",
        "outputId": "f8a0a717-c819-40ad-ddf0-8c3218766710"
      },
      "execution_count": 11,
      "outputs": [
        {
          "output_type": "execute_result",
          "data": {
            "text/plain": [
              "False"
            ]
          },
          "metadata": {},
          "execution_count": 11
        }
      ]
    },
    {
      "cell_type": "code",
      "source": [
        "(not False) or (not True)"
      ],
      "metadata": {
        "colab": {
          "base_uri": "https://localhost:8080/"
        },
        "id": "Uo-lmMAUpORh",
        "outputId": "ba614c20-3d13-4de6-c208-4f92b40a620d"
      },
      "execution_count": 12,
      "outputs": [
        {
          "output_type": "execute_result",
          "data": {
            "text/plain": [
              "True"
            ]
          },
          "metadata": {},
          "execution_count": 12
        }
      ]
    },
    {
      "cell_type": "markdown",
      "source": [
        "**5. What are the six comparison operators?**\n",
        "\n",
        "==,!=, <, >, <=, >="
      ],
      "metadata": {
        "id": "PwqO71ADpeqr"
      }
    },
    {
      "cell_type": "markdown",
      "source": [
        "**6. How do you tell the difference between the equal to and assignment operators? Describe a condition and when you would use one.**\n",
        "\n",
        "== is equal to an operator that compares two values evaluated as a Boolean. \n",
        "\n",
        "= operator thata stores a value in a variable."
      ],
      "metadata": {
        "id": "wQSMiKDBqjjN"
      }
    },
    {
      "cell_type": "code",
      "source": [
        "a = 2\n",
        "b = 3\n",
        "if(a==b):\n",
        "    print('True')\n",
        "else:\n",
        "    print('False')\n",
        "\n",
        "print('a =', a, '; '  'b =', b)\n"
      ],
      "metadata": {
        "colab": {
          "base_uri": "https://localhost:8080/"
        },
        "id": "uzJMbzsasojA",
        "outputId": "1312a905-465f-42e2-d62b-e186598a27d6"
      },
      "execution_count": 24,
      "outputs": [
        {
          "output_type": "stream",
          "name": "stdout",
          "text": [
            "False\n",
            "a = 2 ; b = 3\n"
          ]
        }
      ]
    },
    {
      "cell_type": "markdown",
      "source": [
        "**7. Identify the three blocks in this code:**\n"
      ],
      "metadata": {
        "id": "Rw7xq1y4w0pp"
      }
    },
    {
      "cell_type": "code",
      "source": [
        "spam = 0\n",
        "\n",
        "if spam == 10:\n",
        "\n",
        "    print('eggs') # Block 1\n",
        "\n",
        "if spam > 5:\n",
        "    print('bacon') # Block 2\n",
        "else:\n",
        "    print('ham') # Block 3\n",
        "    print('spam')\n",
        "    print('spam')"
      ],
      "metadata": {
        "colab": {
          "base_uri": "https://localhost:8080/"
        },
        "id": "I3tcmrMUx62e",
        "outputId": "3c091550-b775-440e-abef-a8b46319bae3"
      },
      "execution_count": 25,
      "outputs": [
        {
          "output_type": "stream",
          "name": "stdout",
          "text": [
            "ham\n",
            "spam\n",
            "spam\n"
          ]
        }
      ]
    },
    {
      "cell_type": "markdown",
      "source": [
        "**8. Write code that prints Hello if 1 is stored in spam, prints Howdy if 2 is stored in spam, and prints Greetings! if anything else is stored in spam.**"
      ],
      "metadata": {
        "id": "F0CSdF4Fx4ij"
      }
    },
    {
      "cell_type": "code",
      "source": [
        "spam = int(input('Please enter a number:'))\n",
        "if spam == 1:\n",
        "    print('Hello')\n",
        "if spam == 2:\n",
        "    print('Howdy')\n",
        "\n",
        "else:\n",
        "    print('Greetings to everyone!')"
      ],
      "metadata": {
        "colab": {
          "base_uri": "https://localhost:8080/"
        },
        "id": "B_mQMW0AyIE3",
        "outputId": "9cc026e3-6e14-4676-8832-36d015d3f96c"
      },
      "execution_count": 27,
      "outputs": [
        {
          "output_type": "stream",
          "name": "stdout",
          "text": [
            "Please enter a number:20\n",
            "Greetings to everyone!\n"
          ]
        }
      ]
    },
    {
      "cell_type": "markdown",
      "source": [
        "**9. If your programme is stuck in an endless loop, what keys you’ll press?**\n",
        "\n",
        "\n",
        "•\tAn infinite loop is a loop that runs indefinitely and it only stops with external intervention or when a break statement is found. You can stop an infinite loop with CTRL + C .\n"
      ],
      "metadata": {
        "id": "kSqF6Xny0fAo"
      }
    },
    {
      "cell_type": "markdown",
      "source": [
        "**10. How can you tell the difference between break and continue?**\n",
        "\n",
        "Break: A break statement in Python alters the flow of a loop by terminating it once a specified condition is met. \n",
        "\n",
        "Continue: The continue statement in Python is used to skip the remaining code inside a loop for the current iteration only.\n"
      ],
      "metadata": {
        "id": "i9-K-s-b0fj-"
      }
    },
    {
      "cell_type": "markdown",
      "source": [
        "**11. In a for loop, what is the difference between range(10), range(0, 10), and range(0, 10, 1)?**"
      ],
      "metadata": {
        "id": "n1RrcbXX1fLC"
      }
    },
    {
      "cell_type": "code",
      "source": [
        "for i in range(10):\n",
        "    print(i)\n",
        "print('_____________________')\n",
        "for j in range(0,10):\n",
        "    print(j)\n",
        "print('_____________________')\n",
        "for k in range(0,10,1):\n",
        "    print(k)\n"
      ],
      "metadata": {
        "colab": {
          "base_uri": "https://localhost:8080/"
        },
        "id": "HrV_cMUB1eFl",
        "outputId": "bcad8d5c-d5ea-4af2-abd3-970335f8758e"
      },
      "execution_count": 30,
      "outputs": [
        {
          "output_type": "stream",
          "name": "stdout",
          "text": [
            "0\n",
            "1\n",
            "2\n",
            "3\n",
            "4\n",
            "5\n",
            "6\n",
            "7\n",
            "8\n",
            "9\n",
            "_____________________\n",
            "0\n",
            "1\n",
            "2\n",
            "3\n",
            "4\n",
            "5\n",
            "6\n",
            "7\n",
            "8\n",
            "9\n",
            "_____________________\n",
            "0\n",
            "1\n",
            "2\n",
            "3\n",
            "4\n",
            "5\n",
            "6\n",
            "7\n",
            "8\n",
            "9\n"
          ]
        }
      ]
    },
    {
      "cell_type": "markdown",
      "source": [
        "According to the above results, there are no differences between. range(10), range(0, 10), and range(0, 10, 1)"
      ],
      "metadata": {
        "id": "S4LdDTLX2tTH"
      }
    },
    {
      "cell_type": "markdown",
      "source": [
        "**12. Write a short program that prints the numbers 1 to 10 using a for loop. Then write an equivalent program that prints the numbers 1 to 10 using a while loop.**"
      ],
      "metadata": {
        "id": "tBKQx4Zg3lbl"
      }
    },
    {
      "cell_type": "code",
      "source": [
        "print('for loop')\n",
        "for i in range(1, 11):\n",
        "    print(i)\n",
        "print('\\nwhile loop')\n",
        "\n",
        "a = 1\n",
        "while a <= 10:\n",
        "    print(a)\n",
        "    a += 1"
      ],
      "metadata": {
        "colab": {
          "base_uri": "https://localhost:8080/"
        },
        "id": "zZeZERX62sbS",
        "outputId": "57b81e0b-5a38-4dc5-fc09-705b785baa0e"
      },
      "execution_count": 41,
      "outputs": [
        {
          "output_type": "stream",
          "name": "stdout",
          "text": [
            "for loop\n",
            "1\n",
            "2\n",
            "3\n",
            "4\n",
            "5\n",
            "6\n",
            "7\n",
            "8\n",
            "9\n",
            "10\n",
            "\n",
            "while loop\n",
            "1\n",
            "2\n",
            "3\n",
            "4\n",
            "5\n",
            "6\n",
            "7\n",
            "8\n",
            "9\n",
            "10\n"
          ]
        }
      ]
    },
    {
      "cell_type": "markdown",
      "source": [
        "**13. If you had a function named bacon() inside a module named spam, how would you call it after importing spam?**\n",
        "\n",
        "This function can be called with spam.bacon()."
      ],
      "metadata": {
        "id": "M97mqDvQ5o-5"
      }
    }
  ]
}