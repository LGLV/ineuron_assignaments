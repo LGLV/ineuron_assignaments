{
  "nbformat": 4,
  "nbformat_minor": 0,
  "metadata": {
    "colab": {
      "provenance": [],
      "authorship_tag": "ABX9TyMpPj20x+zQe91reUsFLer7",
      "include_colab_link": true
    },
    "kernelspec": {
      "name": "python3",
      "display_name": "Python 3"
    },
    "language_info": {
      "name": "python"
    }
  },
  "cells": [
    {
      "cell_type": "markdown",
      "metadata": {
        "id": "view-in-github",
        "colab_type": "text"
      },
      "source": [
        "<a href=\"https://colab.research.google.com/github/LGLV/ineuron_assignaments/blob/main/Assignment_6.ipynb\" target=\"_parent\"><img src=\"https://colab.research.google.com/assets/colab-badge.svg\" alt=\"Open In Colab\"/></a>"
      ]
    },
    {
      "cell_type": "markdown",
      "source": [
        "**1. What are escape characters, and how do you use them?**\n",
        "\n",
        "•\tTo insert characters that are illegal in a string, use an escape character. An escape character is a backslash \\ followed by the character you want to insert.\n",
        "\n",
        "\n",
        "```\n",
        "Code\t  Description\n",
        "\\’\t    Single quotation\n",
        "\\\\\t    Backslash\n",
        "\\n\t    New Line\n",
        "\\r\t    Carriage return\n",
        "\\t\t    Tab\n",
        "\\b\t    Backspace\n",
        "\\f\t    Form feed\n",
        "\\ooo\t  Octal equivalent\n",
        "\\xhhh\t Hexadecimal equivalent\n",
        "\n",
        "```"
      ],
      "metadata": {
        "id": "UKu8X3X4cCuq"
      }
    },
    {
      "cell_type": "markdown",
      "source": [
        "**2. What do the escape characters n and t stand for?**\n",
        "\n",
        "'\\n', indicates a new line.\n",
        "\n",
        "'\\t', indicates a tab."
      ],
      "metadata": {
        "id": "AryW8uWVcIVv"
      }
    },
    {
      "cell_type": "markdown",
      "source": [
        "**3. What is the way to include backslash characters in a string?**\n",
        "\n",
        "•\tThe back slash has to be inter the quotations with the string."
      ],
      "metadata": {
        "id": "mSIvI42qcIb7"
      }
    },
    {
      "cell_type": "code",
      "source": [
        "print('This is the back slash \\nfor a new line')"
      ],
      "metadata": {
        "colab": {
          "base_uri": "https://localhost:8080/"
        },
        "id": "NTWyTeYUhjHO",
        "outputId": "37da47ec-729a-46c5-a315-38c26f4c10e7"
      },
      "execution_count": 3,
      "outputs": [
        {
          "output_type": "stream",
          "name": "stdout",
          "text": [
            "This is the back slash \n",
            "for a new line\n"
          ]
        }
      ]
    },
    {
      "cell_type": "markdown",
      "source": [
        "**4. The string \"Howl's Moving Castle\" is a correct value. Why isn't the single quote character in the word Howl's not escaped a problem?**\n",
        "\n",
        "•\tHowl's not caused a problem in the string because the usage of double quotations is consistent."
      ],
      "metadata": {
        "id": "v5O775XPcIiR"
      }
    },
    {
      "cell_type": "markdown",
      "source": [
        "**5. How do you write a string of newlines if you don't want to use the n character?**\n",
        "\n",
        "•\tYou can print strings without adding a new line with end = <character>, which <character> is the character that will be used to separate the lines.\n"
      ],
      "metadata": {
        "id": "uWZitQt1cIoP"
      }
    },
    {
      "cell_type": "code",
      "source": [
        "print('This is the back slash', end = '\\n')\n",
        "print('for a new line')"
      ],
      "metadata": {
        "colab": {
          "base_uri": "https://localhost:8080/"
        },
        "id": "8XKJ9yYklA-T",
        "outputId": "c2d894c4-4ef3-4b43-d81e-065bc143543b"
      },
      "execution_count": 6,
      "outputs": [
        {
          "output_type": "stream",
          "name": "stdout",
          "text": [
            "This is the back slash\n",
            "for a new line\n"
          ]
        }
      ]
    },
    {
      "cell_type": "markdown",
      "source": [
        "**6. What are the values of the given expressions?**"
      ],
      "metadata": {
        "id": "SNj8YbYNcIug"
      }
    },
    {
      "cell_type": "code",
      "source": [
        "'Hello, world!'[1]"
      ],
      "metadata": {
        "colab": {
          "base_uri": "https://localhost:8080/",
          "height": 35
        },
        "id": "ibjtD7f4lhzG",
        "outputId": "bbc71f2f-284f-438f-e8ff-50807d4b9f32"
      },
      "execution_count": 7,
      "outputs": [
        {
          "output_type": "execute_result",
          "data": {
            "text/plain": [
              "'e'"
            ],
            "application/vnd.google.colaboratory.intrinsic+json": {
              "type": "string"
            }
          },
          "metadata": {},
          "execution_count": 7
        }
      ]
    },
    {
      "cell_type": "code",
      "source": [
        "'Hello, world!'[0:5]"
      ],
      "metadata": {
        "colab": {
          "base_uri": "https://localhost:8080/",
          "height": 35
        },
        "id": "PeeyT-0xlj_C",
        "outputId": "e302fbb2-f2c2-4995-9c40-ac5919cb8271"
      },
      "execution_count": 8,
      "outputs": [
        {
          "output_type": "execute_result",
          "data": {
            "text/plain": [
              "'Hello'"
            ],
            "application/vnd.google.colaboratory.intrinsic+json": {
              "type": "string"
            }
          },
          "metadata": {},
          "execution_count": 8
        }
      ]
    },
    {
      "cell_type": "code",
      "source": [
        "'Hello, world!'[:5]"
      ],
      "metadata": {
        "colab": {
          "base_uri": "https://localhost:8080/",
          "height": 35
        },
        "id": "wF0gtfHPlkFn",
        "outputId": "ed9e98e5-0232-493e-b15b-4ac8e1b32800"
      },
      "execution_count": 9,
      "outputs": [
        {
          "output_type": "execute_result",
          "data": {
            "text/plain": [
              "'Hello'"
            ],
            "application/vnd.google.colaboratory.intrinsic+json": {
              "type": "string"
            }
          },
          "metadata": {},
          "execution_count": 9
        }
      ]
    },
    {
      "cell_type": "code",
      "source": [
        "'Hello, world!'[3:]"
      ],
      "metadata": {
        "colab": {
          "base_uri": "https://localhost:8080/",
          "height": 35
        },
        "id": "HA8ndHtJlkLw",
        "outputId": "595ad903-98b2-4383-e163-bcafdaec4254"
      },
      "execution_count": 10,
      "outputs": [
        {
          "output_type": "execute_result",
          "data": {
            "text/plain": [
              "'lo, world!'"
            ],
            "application/vnd.google.colaboratory.intrinsic+json": {
              "type": "string"
            }
          },
          "metadata": {},
          "execution_count": 10
        }
      ]
    },
    {
      "cell_type": "markdown",
      "source": [
        "**7. What are the values of the following expressions?**"
      ],
      "metadata": {
        "id": "qUf7jEORcI00"
      }
    },
    {
      "cell_type": "code",
      "source": [
        "'Hello'.upper()"
      ],
      "metadata": {
        "colab": {
          "base_uri": "https://localhost:8080/",
          "height": 35
        },
        "id": "TnS_LVWtmp1R",
        "outputId": "e785540e-4b95-439a-d1f7-d0d5da3025b8"
      },
      "execution_count": 11,
      "outputs": [
        {
          "output_type": "execute_result",
          "data": {
            "text/plain": [
              "'HELLO'"
            ],
            "application/vnd.google.colaboratory.intrinsic+json": {
              "type": "string"
            }
          },
          "metadata": {},
          "execution_count": 11
        }
      ]
    },
    {
      "cell_type": "code",
      "source": [
        "'Hello'.upper().isupper()"
      ],
      "metadata": {
        "colab": {
          "base_uri": "https://localhost:8080/"
        },
        "id": "pwUKqouHmp8a",
        "outputId": "f93b17cd-d923-4d58-9c38-395da46a0553"
      },
      "execution_count": 12,
      "outputs": [
        {
          "output_type": "execute_result",
          "data": {
            "text/plain": [
              "True"
            ]
          },
          "metadata": {},
          "execution_count": 12
        }
      ]
    },
    {
      "cell_type": "code",
      "source": [
        "'Hello'.upper().lower()"
      ],
      "metadata": {
        "colab": {
          "base_uri": "https://localhost:8080/",
          "height": 35
        },
        "id": "mkiakOy7mqMA",
        "outputId": "afcf7297-1571-4aa8-eab8-0e04c0401e65"
      },
      "execution_count": 13,
      "outputs": [
        {
          "output_type": "execute_result",
          "data": {
            "text/plain": [
              "'hello'"
            ],
            "application/vnd.google.colaboratory.intrinsic+json": {
              "type": "string"
            }
          },
          "metadata": {},
          "execution_count": 13
        }
      ]
    },
    {
      "cell_type": "markdown",
      "source": [
        "**8. What are the values of the following expressions?**"
      ],
      "metadata": {
        "id": "5PmEQ1nicI6Y"
      }
    },
    {
      "cell_type": "code",
      "source": [
        "'Remember, remember, the fifth of July.'.split()"
      ],
      "metadata": {
        "colab": {
          "base_uri": "https://localhost:8080/"
        },
        "id": "uP_h2xeRmqTp",
        "outputId": "ee3065b0-1b50-48c7-d83b-5a19fdef5c51"
      },
      "execution_count": 14,
      "outputs": [
        {
          "output_type": "execute_result",
          "data": {
            "text/plain": [
              "['Remember,', 'remember,', 'the', 'fifth', 'of', 'July.']"
            ]
          },
          "metadata": {},
          "execution_count": 14
        }
      ]
    },
    {
      "cell_type": "code",
      "source": [
        "'-'.join('There can only one.'.split())"
      ],
      "metadata": {
        "colab": {
          "base_uri": "https://localhost:8080/",
          "height": 35
        },
        "id": "Fdi7Q6nEphzb",
        "outputId": "2fb67dd9-c759-4611-fb54-cef535e3263f"
      },
      "execution_count": 15,
      "outputs": [
        {
          "output_type": "execute_result",
          "data": {
            "text/plain": [
              "'There-can-only-one.'"
            ],
            "application/vnd.google.colaboratory.intrinsic+json": {
              "type": "string"
            }
          },
          "metadata": {},
          "execution_count": 15
        }
      ]
    },
    {
      "cell_type": "code",
      "source": [
        "'_'.join('There can only one.'.split())"
      ],
      "metadata": {
        "colab": {
          "base_uri": "https://localhost:8080/",
          "height": 35
        },
        "id": "4bDey7dLplz7",
        "outputId": "77face79-6df5-4ab1-f7a0-3a71eef3aadd"
      },
      "execution_count": 16,
      "outputs": [
        {
          "output_type": "execute_result",
          "data": {
            "text/plain": [
              "'There_can_only_one.'"
            ],
            "application/vnd.google.colaboratory.intrinsic+json": {
              "type": "string"
            }
          },
          "metadata": {},
          "execution_count": 16
        }
      ]
    },
    {
      "cell_type": "markdown",
      "source": [
        "**9. What are the methods for right-justifying, left-justifying, and centering a string?**\n",
        "\n",
        "•\tUse the rjust() , center() , or ljust() methods to right-justify, center, or left-justify strings str in Python. For numbers (int and float) they have to be converted to str() to apply the methods. "
      ],
      "metadata": {
        "id": "DgTSFEINcEZJ"
      }
    },
    {
      "cell_type": "code",
      "source": [
        "# Right-justify strings: rjust()\n",
        "\n",
        "w = 'López'\n",
        "\n",
        "print(w.rjust(8))\n",
        "print(w.rjust(8,'-'))\n",
        "print(w.rjust(8,'*'))"
      ],
      "metadata": {
        "colab": {
          "base_uri": "https://localhost:8080/"
        },
        "id": "lYpeCTDh2Woh",
        "outputId": "cd8b359b-a916-4605-96fd-25c25ecc90b4"
      },
      "execution_count": 8,
      "outputs": [
        {
          "output_type": "stream",
          "name": "stdout",
          "text": [
            "   López\n",
            "---López\n",
            "***López\n"
          ]
        }
      ]
    },
    {
      "cell_type": "code",
      "source": [
        "# Center strings: center()\n",
        "\n",
        "w2 = 'Valdez'\n",
        "\n",
        "print(w2.center(8))\n",
        "print(w2.center(8,'-'))\n",
        "print(w2.center(18,'*'))"
      ],
      "metadata": {
        "colab": {
          "base_uri": "https://localhost:8080/"
        },
        "id": "oiwrDnzl26Ex",
        "outputId": "a876fad8-7db8-4d73-eeda-0c2621a48cd8"
      },
      "execution_count": 16,
      "outputs": [
        {
          "output_type": "stream",
          "name": "stdout",
          "text": [
            " Valdez \n",
            "-Valdez-\n",
            "******Valdez******\n"
          ]
        }
      ]
    },
    {
      "cell_type": "code",
      "source": [
        "# Left-justify strings: ljust()\n",
        "\n",
        "w3 = 'LGLV'\n",
        "\n",
        "print(w3.ljust(12))\n",
        "print(w3.ljust(12, '-'))\n",
        "print(w3.ljust(12, '*'))"
      ],
      "metadata": {
        "colab": {
          "base_uri": "https://localhost:8080/"
        },
        "id": "tlkd30Uv3DoC",
        "outputId": "18a72ee1-8bac-422b-d2e3-7fd32c9abecf"
      },
      "execution_count": 21,
      "outputs": [
        {
          "output_type": "stream",
          "name": "stdout",
          "text": [
            "LGLV        \n",
            "LGLV--------\n",
            "LGLV********\n"
          ]
        }
      ]
    },
    {
      "cell_type": "markdown",
      "source": [
        "10. What is the best way to remove whitespace characters from the start or end?\n",
        "\n",
        "•\tThe best way is using the methode strip()\n",
        "\n",
        "•\tlstrip() removes whitespaces fron left\n",
        "\n",
        "•\trstrip() removes whitespaces fron right\n",
        "\n",
        "•\tstrip() removes whitespaces from both sides\n"
      ],
      "metadata": {
        "id": "eF784Q3g1uDm"
      }
    },
    {
      "cell_type": "code",
      "source": [
        "word = '   IST    '\n",
        "\n",
        "print(word.lstrip())\n",
        "print(word.rstrip())\n",
        "print(word.strip())\n"
      ],
      "metadata": {
        "colab": {
          "base_uri": "https://localhost:8080/"
        },
        "id": "9jQ5ler3HppK",
        "outputId": "405a6ff4-7059-4a01-e273-d8b3cba0ca65"
      },
      "execution_count": 26,
      "outputs": [
        {
          "output_type": "stream",
          "name": "stdout",
          "text": [
            "IST    \n",
            "   IST\n",
            "IST\n"
          ]
        }
      ]
    }
  ]
}