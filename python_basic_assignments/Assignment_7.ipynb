{
  "nbformat": 4,
  "nbformat_minor": 0,
  "metadata": {
    "colab": {
      "provenance": [],
      "authorship_tag": "ABX9TyPvX9tvHhdxU4UJiT6T4uNB",
      "include_colab_link": true
    },
    "kernelspec": {
      "name": "python3",
      "display_name": "Python 3"
    },
    "language_info": {
      "name": "python"
    }
  },
  "cells": [
    {
      "cell_type": "markdown",
      "metadata": {
        "id": "view-in-github",
        "colab_type": "text"
      },
      "source": [
        "<a href=\"https://colab.research.google.com/github/LGLV/ineuron_assignaments/blob/main/Assignment_7.ipynb\" target=\"_parent\"><img src=\"https://colab.research.google.com/assets/colab-badge.svg\" alt=\"Open In Colab\"/></a>"
      ]
    },
    {
      "cell_type": "markdown",
      "source": [
        "**1. What is the name of the feature responsible for generating Regex objects?**\n",
        "\n",
        "•\tThe re.compile() function returns Regex object"
      ],
      "metadata": {
        "id": "BaNs9K-cMBpE"
      }
    },
    {
      "cell_type": "code",
      "source": [
        "#The re.compile() function returns Regex objects.\n",
        "import re\n",
        "re.compile(\"string\")"
      ],
      "metadata": {
        "colab": {
          "base_uri": "https://localhost:8080/"
        },
        "id": "_bnavG2sUxg5",
        "outputId": "d8f0cc66-f75f-421b-fcd3-ed86cd3d8b71"
      },
      "execution_count": 2,
      "outputs": [
        {
          "output_type": "execute_result",
          "data": {
            "text/plain": [
              "re.compile(r'string', re.UNICODE)"
            ]
          },
          "metadata": {},
          "execution_count": 2
        }
      ]
    },
    {
      "cell_type": "markdown",
      "source": [
        "**2. Why do raw strings often appear in Regex objects?**\n",
        "\n",
        "•\tRaw strings are used so that backslashes do not have to be escaped"
      ],
      "metadata": {
        "id": "pko3ZtNSVSI_"
      }
    },
    {
      "cell_type": "markdown",
      "source": [
        "**3. What is the return value of the search() method?**\n",
        "\n",
        "•\tThe search() method searches a string for a specified value, and returns the position of the match.\n",
        "\n",
        "•\tThe search value can be string or a regular expression. This method returns -1 if no match is found\n"
      ],
      "metadata": {
        "id": "AfLXdRAEWSyP"
      }
    },
    {
      "cell_type": "markdown",
      "source": [
        "**4. From a Match item, how do you get the actual strings that match the pattern?**"
      ],
      "metadata": {
        "id": "etQw2eyrYWFx"
      }
    },
    {
      "cell_type": "code",
      "source": [
        "import re\n",
        "\n",
        "name = [\"A1B1\", \"djdd\", \"B2C4\", \"C2H2\", \"jdoi\",\"1A4V\"]\n",
        "\n",
        "# Match names.\n",
        "for element in name:\n",
        "     m = re.match(\"([A-Z]\\d[A-Z]\\d)\", element)\n",
        "     if m:\n",
        "        print(m.groups())"
      ],
      "metadata": {
        "colab": {
          "base_uri": "https://localhost:8080/"
        },
        "id": "GHxcMNJsWz8j",
        "outputId": "359e963e-81f3-4244-f1e6-532047287223"
      },
      "execution_count": 9,
      "outputs": [
        {
          "output_type": "stream",
          "name": "stdout",
          "text": [
            "('A1B1',)\n",
            "('B2C4',)\n",
            "('C2H2',)\n"
          ]
        }
      ]
    },
    {
      "cell_type": "markdown",
      "source": [
        "5. In the regex which created from the r'(\\d\\d\\d)-(\\d\\d\\d-\\d\\d\\d\\d)', what does group zero cover? Group 2? Group 1?"
      ],
      "metadata": {
        "id": "ORaZ99I7aXnH"
      }
    },
    {
      "cell_type": "code",
      "source": [
        "my_phone = re.compile(r'(\\d\\d\\d)-(\\d\\d\\d-\\d\\d\\d\\d)')\n",
        "mo = my_phone.search('My number is 722-153-7581.')\n",
        "\n",
        "print(mo.group(1))\n",
        "print(mo.group(2))\n",
        "print(mo.group(0))"
      ],
      "metadata": {
        "colab": {
          "base_uri": "https://localhost:8080/"
        },
        "id": "Mn4zifvjbO_j",
        "outputId": "e6f58c6e-2fd2-431c-c19e-2b0a9af9488e"
      },
      "execution_count": 10,
      "outputs": [
        {
          "output_type": "stream",
          "name": "stdout",
          "text": [
            "722\n",
            "153-7581\n",
            "722-153-7581\n"
          ]
        }
      ]
    },
    {
      "cell_type": "markdown",
      "source": [
        "**6. In standard expression syntax, parentheses and intervals have distinct meanings. How can you tell a regex that you want it to fit real parentheses and periods?**\n",
        "\n",
        "•\tPeriods and parentheses can be escaped with backslash"
      ],
      "metadata": {
        "id": "IYhMxtidi_4n"
      }
    },
    {
      "cell_type": "markdown",
      "source": [
        "**7. The findall() method returns a string list or a list of string tuples. What causes it to return one of the two options?**\n",
        "\n",
        "•\tA list of strings is returned, if the regex has no groups. \n",
        "\n",
        "•\tA list of tuples of strings is returned, if the regex has groups."
      ],
      "metadata": {
        "id": "MAAwUay2vNJJ"
      }
    },
    {
      "cell_type": "markdown",
      "source": [
        "**8. In standard expressions, what does the | character mean?**\n",
        "\n",
        "•\tThe | character is called a pipe. You can use it anywhere you want to match one of many expressions.\n",
        "\n",
        "•\tFor example, the regular expression r'Crossfit|Footbol|Soccer Sport' will match either 'Crossfit', 'Footbol' or 'Soccer Sport'.\n",
        "\n",
        "•\tWhen wichever Crossfit, Footbol and Soccer Sport occur in the searched string, the first occurrence of matching text will be returned as the Match object.\n",
        "\n",
        "•\tThe | character signifies matching “either, or” between groups\n"
      ],
      "metadata": {
        "id": "Fp_9Rlr_wAhv"
      }
    },
    {
      "cell_type": "code",
      "source": [
        "s = re.compile (r'Crossfit|Footbol|Soccer Sport')\n",
        "s1 = s.search('Crossfit|Footbol|Soccer Sport')\n",
        "s1.group()"
      ],
      "metadata": {
        "colab": {
          "base_uri": "https://localhost:8080/",
          "height": 35
        },
        "id": "dL-R7vu8xUr8",
        "outputId": "2b306b5f-5174-456b-d4cc-73df867b1481"
      },
      "execution_count": 11,
      "outputs": [
        {
          "output_type": "execute_result",
          "data": {
            "text/plain": [
              "'Crossfit'"
            ],
            "application/vnd.google.colaboratory.intrinsic+json": {
              "type": "string"
            }
          },
          "metadata": {},
          "execution_count": 11
        }
      ]
    },
    {
      "cell_type": "code",
      "source": [
        "s2 = s.search('Crossfit Sport Footbol and Soccer')\n",
        "s2.group()"
      ],
      "metadata": {
        "colab": {
          "base_uri": "https://localhost:8080/",
          "height": 35
        },
        "id": "r196yCgdyRM7",
        "outputId": "2d16a4b0-f0c0-4711-ed14-5077cea4d8c2"
      },
      "execution_count": 12,
      "outputs": [
        {
          "output_type": "execute_result",
          "data": {
            "text/plain": [
              "'Crossfit'"
            ],
            "application/vnd.google.colaboratory.intrinsic+json": {
              "type": "string"
            }
          },
          "metadata": {},
          "execution_count": 12
        }
      ]
    },
    {
      "cell_type": "markdown",
      "source": [
        "**9. In regular expressions, what does the character stand for?**\n",
        "\n",
        "•\tThe ? character can either mean “match zero or one of the preceding group”."
      ],
      "metadata": {
        "id": "JXoUeIkMxE4N"
      }
    },
    {
      "cell_type": "code",
      "source": [
        "super = re.compile(r'Super(wo)?man')\n",
        "match1 = super.search('The Power of Superman')\n",
        "match1.group()"
      ],
      "metadata": {
        "colab": {
          "base_uri": "https://localhost:8080/",
          "height": 35
        },
        "id": "JswL7gvbz-s7",
        "outputId": "9970d3ca-3ef7-4a03-dfdd-873890d26317"
      },
      "execution_count": 13,
      "outputs": [
        {
          "output_type": "execute_result",
          "data": {
            "text/plain": [
              "'Superman'"
            ],
            "application/vnd.google.colaboratory.intrinsic+json": {
              "type": "string"
            }
          },
          "metadata": {},
          "execution_count": 13
        }
      ]
    },
    {
      "cell_type": "code",
      "source": [
        "match2 = super.search('Is Supermas stronger than Superwoman?')\n",
        "match2.group()"
      ],
      "metadata": {
        "colab": {
          "base_uri": "https://localhost:8080/",
          "height": 35
        },
        "id": "XchX6s9L0Q5v",
        "outputId": "b592ce17-c4dd-4db8-a996-d84c364ccaa8"
      },
      "execution_count": 14,
      "outputs": [
        {
          "output_type": "execute_result",
          "data": {
            "text/plain": [
              "'Superwoman'"
            ],
            "application/vnd.google.colaboratory.intrinsic+json": {
              "type": "string"
            }
          },
          "metadata": {},
          "execution_count": 14
        }
      ]
    },
    {
      "cell_type": "markdown",
      "source": [
        "**10. In regular expressions, what is the difference between the + and * characters?**\n",
        "\n",
        "•\t+ matches one or more.\n",
        "\n",
        "•\t* matches zero or more\n"
      ],
      "metadata": {
        "id": "LKgX51zSxT4j"
      }
    },
    {
      "cell_type": "markdown",
      "source": [
        "**11. What is the difference between {4} and {4,5} in regular expression?**\n",
        "\n",
        "•\tThe {3} matches exactly three instances of the preceding group.\n",
        "\n",
        "•\tThe {3,5} matches between three and five instances.\n"
      ],
      "metadata": {
        "id": "cNCkNN3j2dqX"
      }
    },
    {
      "cell_type": "markdown",
      "source": [
        "**12. What do you mean by the \\d, \\w, and \\s shorthand character classes signify in regular expressions?**\n",
        "\n",
        "•\t\\d, stands for single digit, Any numeric digit from 0 to 9. (Think of this as matching “digit” characters.)\n",
        "\n",
        "•\t\\w, stands for single word, Any letter, numeric digit, or the underscore character. (Think of this as matching “word” characters.)\n",
        " \n",
        "•\t\\s stands for single space character, Any space, tab, or newline character. (Think of this as matching “space” characters.)\n"
      ],
      "metadata": {
        "id": "2W4_QaHbS7im"
      }
    },
    {
      "cell_type": "markdown",
      "source": [
        "**13. What do means by \\D, \\W, and \\S shorthand character classes signify in regular expressions?**\n",
        "\n",
        "•\t\\D - > Any character that is not a numeric digit from 0 to 9. \n",
        "\n",
        "•\t\\W - > Any character that is not a letter, numeric digit, or the underscore character.\n",
        "\n",
        "•\t\\S - > Any character that is not a space, tab, or newline.\n",
        "\n"
      ],
      "metadata": {
        "id": "-Z4UNiZSUBIk"
      }
    },
    {
      "cell_type": "markdown",
      "source": [
        "**14. What is the difference between .*? and .*?**\n",
        "\n",
        "•\t(.*?) matches any character (.) any number of times (*), as few times as possible to make the regex match (?). You'll get a match on any string, but you'll only capture a blank string because of the question mark. This feature is much more useful when you have a more complicated regex. Here, the parser doesn't have to capture anything at all to get a match: the asterisk allows any number of characters in the capturing group, while the question mark makes the parser save as many as possible from the input text for later, resulting in nothing being captured.\n",
        "\n",
        "•\t(.*)? captures a group zero or one times (?). That group consists of a run of any length (*) of any character (.). This also will match anything, but it will capture the first line, since the dot matches anything except a newline.\n"
      ],
      "metadata": {
        "id": "twfD16lXUBPa"
      }
    },
    {
      "cell_type": "code",
      "source": [
        "greedyRegex = re.compile(r'<.*>')\n",
        "mo = greedyRegex.search(' for dinner.>')\n",
        "mo.group()"
      ],
      "metadata": {
        "id": "17RQWLBnvP5G"
      },
      "execution_count": null,
      "outputs": []
    },
    {
      "cell_type": "code",
      "source": [
        "nongreedyRegex = re.compile(r'<.*?>')\n",
        "mo = nongreedyRegex.search(' for dinner.>')\n",
        "mo.group()"
      ],
      "metadata": {
        "id": "YRiS_T2KvxpW"
      },
      "execution_count": null,
      "outputs": []
    },
    {
      "cell_type": "markdown",
      "source": [
        "**15. What is the syntax for matching both numbers and lowercase letters with a character class?**\n",
        "\n",
        "•\tEither [0-9a-z] or [a-z0-9]"
      ],
      "metadata": {
        "id": "zpYm7drIUBWX"
      }
    },
    {
      "cell_type": "code",
      "source": [
        "reg1 = re.compile(r'[0-9a-z]')\n",
        "reg2 = re.compile(r'[a-z0-9]')\n",
        "\n",
        "mo1 = reg1.search('100 times I am Reading  this for 100 th time')\n",
        "mo1.group()"
      ],
      "metadata": {
        "id": "tLE5XpLPUAUs",
        "colab": {
          "base_uri": "https://localhost:8080/",
          "height": 35
        },
        "outputId": "8421578f-0713-4440-a72c-0455cc478269"
      },
      "execution_count": 19,
      "outputs": [
        {
          "output_type": "execute_result",
          "data": {
            "text/plain": [
              "'1'"
            ],
            "application/vnd.google.colaboratory.intrinsic+json": {
              "type": "string"
            }
          },
          "metadata": {},
          "execution_count": 19
        }
      ]
    },
    {
      "cell_type": "code",
      "source": [
        "reg2 = re.compile(r'[a-z0-9]')\n",
        "\n",
        "mo1 = reg2.search('times I am Reading  this for 100 th time')\n",
        "mo1.group()"
      ],
      "metadata": {
        "colab": {
          "base_uri": "https://localhost:8080/",
          "height": 35
        },
        "id": "jn_nzmgqwFai",
        "outputId": "4024179c-1ba6-47f1-ea64-5b061a7c855f"
      },
      "execution_count": 22,
      "outputs": [
        {
          "output_type": "execute_result",
          "data": {
            "text/plain": [
              "'t'"
            ],
            "application/vnd.google.colaboratory.intrinsic+json": {
              "type": "string"
            }
          },
          "metadata": {},
          "execution_count": 22
        }
      ]
    },
    {
      "cell_type": "markdown",
      "source": [
        "**16. What is the procedure for making a normal expression in regax case insensitive?**\n",
        "\n",
        "•\tPassing re.I or re.IGNORECASE as the second argument to re.compile() will make the matching case insensitive"
      ],
      "metadata": {
        "id": "upViBRYfUBcf"
      }
    },
    {
      "cell_type": "code",
      "source": [
        "cases = re.compile(r'deep', re.I)\n",
        "cases.search('Deep learning is part of data science').group()"
      ],
      "metadata": {
        "colab": {
          "base_uri": "https://localhost:8080/",
          "height": 35
        },
        "id": "ndnSyPh9Nl3I",
        "outputId": "2e5d2742-c80b-4884-a191-f8f747a2828c"
      },
      "execution_count": 8,
      "outputs": [
        {
          "output_type": "execute_result",
          "data": {
            "text/plain": [
              "'Deep'"
            ],
            "application/vnd.google.colaboratory.intrinsic+json": {
              "type": "string"
            }
          },
          "metadata": {},
          "execution_count": 8
        }
      ]
    },
    {
      "cell_type": "code",
      "source": [
        "casesen.search('DEEP is learning.').group()"
      ],
      "metadata": {
        "colab": {
          "base_uri": "https://localhost:8080/",
          "height": 35
        },
        "id": "bgGfyagyPIjh",
        "outputId": "7030ab85-5d36-40d7-df8a-d87c7c1b273a"
      },
      "execution_count": 9,
      "outputs": [
        {
          "output_type": "execute_result",
          "data": {
            "text/plain": [
              "'DEEP'"
            ],
            "application/vnd.google.colaboratory.intrinsic+json": {
              "type": "string"
            }
          },
          "metadata": {},
          "execution_count": 9
        }
      ]
    },
    {
      "cell_type": "markdown",
      "source": [
        "**17. What does the . character normally match? What does it match if re.DOTALL is passed as 2nd argument in re.compile()?**\n",
        "\n",
        "•\tThe . character normally matches any character except the newline character. If re.DOTALL is passed as the second argument to re.compile(), then the dot will also match newline characters."
      ],
      "metadata": {
        "id": "2LRhV5VUUBin"
      }
    },
    {
      "cell_type": "markdown",
      "source": [
        "**18. If numReg = re.compile(r'\\d+'), what will numRegex.sub('X', '11 drummers, 10 pipers, five rings, 4 hen') return?**"
      ],
      "metadata": {
        "id": "AgRcF-QHP84_"
      }
    },
    {
      "cell_type": "code",
      "source": [
        "numReg = re.compile(r'\\d+')\n",
        "mo = numReg.sub('X', '11 drummers, 10 pipers, five rings, 4 hen')\n",
        "mo"
      ],
      "metadata": {
        "id": "zPa1WSMrfUlD",
        "colab": {
          "base_uri": "https://localhost:8080/",
          "height": 35
        },
        "outputId": "77adce8a-a407-412e-b90a-6ee68ffc55c8"
      },
      "execution_count": 10,
      "outputs": [
        {
          "output_type": "execute_result",
          "data": {
            "text/plain": [
              "'X drummers, X pipers, five rings, X hen'"
            ],
            "application/vnd.google.colaboratory.intrinsic+json": {
              "type": "string"
            }
          },
          "metadata": {},
          "execution_count": 10
        }
      ]
    },
    {
      "cell_type": "markdown",
      "source": [
        "**19. What does passing re.VERBOSE as the 2nd argument to re.compile() allow to do?**\n",
        "\n",
        "•\tThe re.VERBOSE argument allows you to add whitespace and comments to the string passed to re.compile()"
      ],
      "metadata": {
        "id": "ZsYr0WfoQlr5"
      }
    },
    {
      "cell_type": "markdown",
      "source": [
        "**20. How would you write a regex that match a number with comma for every three digits? It must match the given following:**\n",
        "\n",
        "'42'\n",
        "\n",
        "'1,234'\n",
        "\n",
        "'6,368,745'\n",
        "\n",
        "but not the following:\n",
        "\n",
        "'12,34,567' (which has only two digits between the commas)\n",
        "\n",
        "'1234' (which lacks commas)\n"
      ],
      "metadata": {
        "id": "YeqbhDfARhzt"
      }
    },
    {
      "cell_type": "code",
      "source": [
        "reg1 = re.compile(r'^\\d{1,3}(,\\d{3})*$')\n",
        "mo1 = reg1.search('42')\n",
        "mo1.group()"
      ],
      "metadata": {
        "colab": {
          "base_uri": "https://localhost:8080/",
          "height": 35
        },
        "id": "jpP17vF5SSt0",
        "outputId": "7677444e-5f25-4b32-e9cf-dbaf96836bff"
      },
      "execution_count": 13,
      "outputs": [
        {
          "output_type": "execute_result",
          "data": {
            "text/plain": [
              "'42'"
            ],
            "application/vnd.google.colaboratory.intrinsic+json": {
              "type": "string"
            }
          },
          "metadata": {},
          "execution_count": 13
        }
      ]
    },
    {
      "cell_type": "code",
      "source": [
        "mo1 = reg1.search('1,234')\n",
        "mo1.group()"
      ],
      "metadata": {
        "colab": {
          "base_uri": "https://localhost:8080/",
          "height": 35
        },
        "id": "4JoxnIjJTo56",
        "outputId": "fabbb900-3922-4b0b-ed14-fc0839c5da0f"
      },
      "execution_count": 14,
      "outputs": [
        {
          "output_type": "execute_result",
          "data": {
            "text/plain": [
              "'1,234'"
            ],
            "application/vnd.google.colaboratory.intrinsic+json": {
              "type": "string"
            }
          },
          "metadata": {},
          "execution_count": 14
        }
      ]
    },
    {
      "cell_type": "code",
      "source": [
        "mo1 = reg1.search('6,368,745')\n",
        "mo1.group()"
      ],
      "metadata": {
        "colab": {
          "base_uri": "https://localhost:8080/",
          "height": 35
        },
        "id": "7Wu_gJi1TufF",
        "outputId": "b4db3fa4-d4fb-4748-9977-7cb7b534d641"
      },
      "execution_count": 17,
      "outputs": [
        {
          "output_type": "execute_result",
          "data": {
            "text/plain": [
              "'6,368,745'"
            ],
            "application/vnd.google.colaboratory.intrinsic+json": {
              "type": "string"
            }
          },
          "metadata": {},
          "execution_count": 17
        }
      ]
    },
    {
      "cell_type": "code",
      "source": [
        "mo1 = reg1.search('12,34,567')\n",
        "mo1.group()"
      ],
      "metadata": {
        "colab": {
          "base_uri": "https://localhost:8080/",
          "height": 188
        },
        "id": "K7R6ZCPjT3Fi",
        "outputId": "e8a2a4e0-42ec-4d97-bd96-a172486cd69e"
      },
      "execution_count": 16,
      "outputs": [
        {
          "output_type": "error",
          "ename": "AttributeError",
          "evalue": "ignored",
          "traceback": [
            "\u001b[0;31m---------------------------------------------------------------------------\u001b[0m",
            "\u001b[0;31mAttributeError\u001b[0m                            Traceback (most recent call last)",
            "\u001b[0;32m<ipython-input-16-22bc62922979>\u001b[0m in \u001b[0;36m<cell line: 2>\u001b[0;34m()\u001b[0m\n\u001b[1;32m      1\u001b[0m \u001b[0mmo1\u001b[0m \u001b[0;34m=\u001b[0m \u001b[0mreg1\u001b[0m\u001b[0;34m.\u001b[0m\u001b[0msearch\u001b[0m\u001b[0;34m(\u001b[0m\u001b[0;34m'12,34,567'\u001b[0m\u001b[0;34m)\u001b[0m\u001b[0;34m\u001b[0m\u001b[0;34m\u001b[0m\u001b[0m\n\u001b[0;32m----> 2\u001b[0;31m \u001b[0mmo1\u001b[0m\u001b[0;34m.\u001b[0m\u001b[0mgroup\u001b[0m\u001b[0;34m(\u001b[0m\u001b[0;34m)\u001b[0m\u001b[0;34m\u001b[0m\u001b[0;34m\u001b[0m\u001b[0m\n\u001b[0m",
            "\u001b[0;31mAttributeError\u001b[0m: 'NoneType' object has no attribute 'group'"
          ]
        }
      ]
    },
    {
      "cell_type": "code",
      "source": [
        "mo1 = reg1.search('1234')\n",
        "mo1.group()"
      ],
      "metadata": {
        "colab": {
          "base_uri": "https://localhost:8080/",
          "height": 188
        },
        "id": "bemqjWlJUEWB",
        "outputId": "7940604d-37e5-4af0-855a-427f328ec2c3"
      },
      "execution_count": 18,
      "outputs": [
        {
          "output_type": "error",
          "ename": "AttributeError",
          "evalue": "ignored",
          "traceback": [
            "\u001b[0;31m---------------------------------------------------------------------------\u001b[0m",
            "\u001b[0;31mAttributeError\u001b[0m                            Traceback (most recent call last)",
            "\u001b[0;32m<ipython-input-18-a40710442955>\u001b[0m in \u001b[0;36m<cell line: 2>\u001b[0;34m()\u001b[0m\n\u001b[1;32m      1\u001b[0m \u001b[0mmo1\u001b[0m \u001b[0;34m=\u001b[0m \u001b[0mreg1\u001b[0m\u001b[0;34m.\u001b[0m\u001b[0msearch\u001b[0m\u001b[0;34m(\u001b[0m\u001b[0;34m'1234'\u001b[0m\u001b[0;34m)\u001b[0m\u001b[0;34m\u001b[0m\u001b[0;34m\u001b[0m\u001b[0m\n\u001b[0;32m----> 2\u001b[0;31m \u001b[0mmo1\u001b[0m\u001b[0;34m.\u001b[0m\u001b[0mgroup\u001b[0m\u001b[0;34m(\u001b[0m\u001b[0;34m)\u001b[0m\u001b[0;34m\u001b[0m\u001b[0;34m\u001b[0m\u001b[0m\n\u001b[0m",
            "\u001b[0;31mAttributeError\u001b[0m: 'NoneType' object has no attribute 'group'"
          ]
        }
      ]
    },
    {
      "cell_type": "markdown",
      "source": [
        "**21. How would you write a regex that matches the full name of someone whose last name is Watanabe? You can assume that the first name that comes before it will always be one word that begins with a capital letter. The regex must match the following:**\n",
        "\n",
        "'Haruto Watanabe'\n",
        "\n",
        "'Alice Watanabe'\n",
        "\n",
        "'RoboCop Watanabe'\n",
        "\n",
        "but not the following:\n",
        "\n",
        "'haruto Watanabe' (where the first name is not capitalized)\n",
        "\n",
        "'Mr. Watanabe' (where the preceding word has a nonletter character)\n",
        "\n",
        "'Watanabe' (which has no first name)\n",
        "\n",
        "'Haruto watanabe' (where Watanabe is not capitalized)\n"
      ],
      "metadata": {
        "id": "mfguQbZIUJq5"
      }
    },
    {
      "cell_type": "code",
      "source": [
        "name = re.compile(r'[A-Z][a-z]*\\sWatanabe')\n",
        "reg1 = re.compile(r'^\\d{1,3}(,\\d{haruto Watanabe3})*$')\n",
        "mo1 = name.search('Haruto Watanabe')\n",
        "mo1.group()"
      ],
      "metadata": {
        "colab": {
          "base_uri": "https://localhost:8080/",
          "height": 35
        },
        "id": "d0mtsu78Vh6Z",
        "outputId": "025c99be-b1f1-4d40-e3d2-febf430a9378"
      },
      "execution_count": 19,
      "outputs": [
        {
          "output_type": "execute_result",
          "data": {
            "text/plain": [
              "'Haruto Watanabe'"
            ],
            "application/vnd.google.colaboratory.intrinsic+json": {
              "type": "string"
            }
          },
          "metadata": {},
          "execution_count": 19
        }
      ]
    },
    {
      "cell_type": "code",
      "source": [
        "mo1 = name.search('Alice Watanabe')\n",
        "mo1.group()"
      ],
      "metadata": {
        "colab": {
          "base_uri": "https://localhost:8080/",
          "height": 35
        },
        "id": "McjURkP8VmXV",
        "outputId": "d9535237-6ff9-40d6-f16c-0ed99f24afaf"
      },
      "execution_count": 20,
      "outputs": [
        {
          "output_type": "execute_result",
          "data": {
            "text/plain": [
              "'Alice Watanabe'"
            ],
            "application/vnd.google.colaboratory.intrinsic+json": {
              "type": "string"
            }
          },
          "metadata": {},
          "execution_count": 20
        }
      ]
    },
    {
      "cell_type": "code",
      "source": [
        "mo1 = name.search('RoboCop Watanabe')\n",
        "mo1.group()"
      ],
      "metadata": {
        "colab": {
          "base_uri": "https://localhost:8080/",
          "height": 35
        },
        "id": "eu8m7fz1VvRo",
        "outputId": "51702117-0dcc-4867-ebe0-a1796a95b979"
      },
      "execution_count": 21,
      "outputs": [
        {
          "output_type": "execute_result",
          "data": {
            "text/plain": [
              "'Cop Watanabe'"
            ],
            "application/vnd.google.colaboratory.intrinsic+json": {
              "type": "string"
            }
          },
          "metadata": {},
          "execution_count": 21
        }
      ]
    },
    {
      "cell_type": "code",
      "source": [
        "mo1 = name.search('haruto Watanabe')\n",
        "mo1.group()"
      ],
      "metadata": {
        "colab": {
          "base_uri": "https://localhost:8080/",
          "height": 188
        },
        "id": "e6ospGtpWCwh",
        "outputId": "37c353e5-f247-4d42-d44f-54e0aefa5761"
      },
      "execution_count": 22,
      "outputs": [
        {
          "output_type": "error",
          "ename": "AttributeError",
          "evalue": "ignored",
          "traceback": [
            "\u001b[0;31m---------------------------------------------------------------------------\u001b[0m",
            "\u001b[0;31mAttributeError\u001b[0m                            Traceback (most recent call last)",
            "\u001b[0;32m<ipython-input-22-e9062fc28e2f>\u001b[0m in \u001b[0;36m<cell line: 2>\u001b[0;34m()\u001b[0m\n\u001b[1;32m      1\u001b[0m \u001b[0mmo1\u001b[0m \u001b[0;34m=\u001b[0m \u001b[0mname\u001b[0m\u001b[0;34m.\u001b[0m\u001b[0msearch\u001b[0m\u001b[0;34m(\u001b[0m\u001b[0;34m'haruto Watanabe'\u001b[0m\u001b[0;34m)\u001b[0m\u001b[0;34m\u001b[0m\u001b[0;34m\u001b[0m\u001b[0m\n\u001b[0;32m----> 2\u001b[0;31m \u001b[0mmo1\u001b[0m\u001b[0;34m.\u001b[0m\u001b[0mgroup\u001b[0m\u001b[0;34m(\u001b[0m\u001b[0;34m)\u001b[0m\u001b[0;34m\u001b[0m\u001b[0;34m\u001b[0m\u001b[0m\n\u001b[0m",
            "\u001b[0;31mAttributeError\u001b[0m: 'NoneType' object has no attribute 'group'"
          ]
        }
      ]
    },
    {
      "cell_type": "code",
      "source": [
        "mo1 = name.search('Mr. Watanabe')\n",
        "mo1.group()"
      ],
      "metadata": {
        "colab": {
          "base_uri": "https://localhost:8080/",
          "height": 188
        },
        "id": "4LVTcb7NWOmg",
        "outputId": "99822a57-0f5b-4dc0-a1f5-74778ebd0083"
      },
      "execution_count": 23,
      "outputs": [
        {
          "output_type": "error",
          "ename": "AttributeError",
          "evalue": "ignored",
          "traceback": [
            "\u001b[0;31m---------------------------------------------------------------------------\u001b[0m",
            "\u001b[0;31mAttributeError\u001b[0m                            Traceback (most recent call last)",
            "\u001b[0;32m<ipython-input-23-2b6798375224>\u001b[0m in \u001b[0;36m<cell line: 2>\u001b[0;34m()\u001b[0m\n\u001b[1;32m      1\u001b[0m \u001b[0mmo1\u001b[0m \u001b[0;34m=\u001b[0m \u001b[0mname\u001b[0m\u001b[0;34m.\u001b[0m\u001b[0msearch\u001b[0m\u001b[0;34m(\u001b[0m\u001b[0;34m'Mr. Watanabe'\u001b[0m\u001b[0;34m)\u001b[0m\u001b[0;34m\u001b[0m\u001b[0;34m\u001b[0m\u001b[0m\n\u001b[0;32m----> 2\u001b[0;31m \u001b[0mmo1\u001b[0m\u001b[0;34m.\u001b[0m\u001b[0mgroup\u001b[0m\u001b[0;34m(\u001b[0m\u001b[0;34m)\u001b[0m\u001b[0;34m\u001b[0m\u001b[0;34m\u001b[0m\u001b[0m\n\u001b[0m",
            "\u001b[0;31mAttributeError\u001b[0m: 'NoneType' object has no attribute 'group'"
          ]
        }
      ]
    },
    {
      "cell_type": "code",
      "source": [
        "mo1 = name.search('Watanabe')\n",
        "mo1.group()"
      ],
      "metadata": {
        "colab": {
          "base_uri": "https://localhost:8080/",
          "height": 188
        },
        "id": "xtRVYmuHWXWZ",
        "outputId": "095566b1-75ad-4611-c7da-0f994ae96a9d"
      },
      "execution_count": 24,
      "outputs": [
        {
          "output_type": "error",
          "ename": "AttributeError",
          "evalue": "ignored",
          "traceback": [
            "\u001b[0;31m---------------------------------------------------------------------------\u001b[0m",
            "\u001b[0;31mAttributeError\u001b[0m                            Traceback (most recent call last)",
            "\u001b[0;32m<ipython-input-24-736f8642eace>\u001b[0m in \u001b[0;36m<cell line: 2>\u001b[0;34m()\u001b[0m\n\u001b[1;32m      1\u001b[0m \u001b[0mmo1\u001b[0m \u001b[0;34m=\u001b[0m \u001b[0mname\u001b[0m\u001b[0;34m.\u001b[0m\u001b[0msearch\u001b[0m\u001b[0;34m(\u001b[0m\u001b[0;34m'Watanabe'\u001b[0m\u001b[0;34m)\u001b[0m\u001b[0;34m\u001b[0m\u001b[0;34m\u001b[0m\u001b[0m\n\u001b[0;32m----> 2\u001b[0;31m \u001b[0mmo1\u001b[0m\u001b[0;34m.\u001b[0m\u001b[0mgroup\u001b[0m\u001b[0;34m(\u001b[0m\u001b[0;34m)\u001b[0m\u001b[0;34m\u001b[0m\u001b[0;34m\u001b[0m\u001b[0m\n\u001b[0m",
            "\u001b[0;31mAttributeError\u001b[0m: 'NoneType' object has no attribute 'group'"
          ]
        }
      ]
    },
    {
      "cell_type": "code",
      "source": [
        "mo1 = name.search('Haruto watanabe')\n",
        "mo1.group()"
      ],
      "metadata": {
        "colab": {
          "base_uri": "https://localhost:8080/",
          "height": 188
        },
        "id": "AlrITZXHWfSs",
        "outputId": "1f72a359-ddf0-4cb9-97a2-fb39f78f43c2"
      },
      "execution_count": 25,
      "outputs": [
        {
          "output_type": "error",
          "ename": "AttributeError",
          "evalue": "ignored",
          "traceback": [
            "\u001b[0;31m---------------------------------------------------------------------------\u001b[0m",
            "\u001b[0;31mAttributeError\u001b[0m                            Traceback (most recent call last)",
            "\u001b[0;32m<ipython-input-25-8402f294afd8>\u001b[0m in \u001b[0;36m<cell line: 2>\u001b[0;34m()\u001b[0m\n\u001b[1;32m      1\u001b[0m \u001b[0mmo1\u001b[0m \u001b[0;34m=\u001b[0m \u001b[0mname\u001b[0m\u001b[0;34m.\u001b[0m\u001b[0msearch\u001b[0m\u001b[0;34m(\u001b[0m\u001b[0;34m'Haruto watanabe'\u001b[0m\u001b[0;34m)\u001b[0m\u001b[0;34m\u001b[0m\u001b[0;34m\u001b[0m\u001b[0m\n\u001b[0;32m----> 2\u001b[0;31m \u001b[0mmo1\u001b[0m\u001b[0;34m.\u001b[0m\u001b[0mgroup\u001b[0m\u001b[0;34m(\u001b[0m\u001b[0;34m)\u001b[0m\u001b[0;34m\u001b[0m\u001b[0;34m\u001b[0m\u001b[0m\n\u001b[0m",
            "\u001b[0;31mAttributeError\u001b[0m: 'NoneType' object has no attribute 'group'"
          ]
        }
      ]
    },
    {
      "cell_type": "markdown",
      "source": [
        "**22. How would you write a regex that matches a sentence where the first word is either Alice, Bob, or Carol; the second word is either eats, pets, or throws; the third word is apples, cats, or baseballs; and the sentence ends with a period? This regex should be case-insensitive. It must match the following:**\n",
        "\n",
        "'Alice eats apples.'\n",
        "\n",
        "'Bob pets cats.'\n",
        "\n",
        "'Carol throws baseballs.'\n",
        "\n",
        "'Alice throws Apples.'\n",
        "\n",
        "'BOB EATS CATS.'\n",
        "\n",
        "but not the following:\n",
        "\n",
        "'RoboCop eats apples.'\n",
        "\n",
        "'ALICE THROWS FOOTBALLS.'\n",
        "\n",
        "'Carol eats 7 cats.'\n"
      ],
      "metadata": {
        "id": "mxC0bQ_TWgJy"
      }
    },
    {
      "cell_type": "code",
      "source": [
        "name = re.compile(r'(Alice|Bob|Carol)\\s(eats|pets|throws)\\s(apples|cats|baseballs)\\.', re.IGNORECASE)\n",
        "\n",
        "mo1 = name.search('Alice eats apples.')\n",
        "mo1.group()"
      ],
      "metadata": {
        "colab": {
          "base_uri": "https://localhost:8080/",
          "height": 35
        },
        "id": "VVZe-V5WXPCk",
        "outputId": "ab7e6d1c-3c3e-4e2b-e787-e2748374351f"
      },
      "execution_count": 26,
      "outputs": [
        {
          "output_type": "execute_result",
          "data": {
            "text/plain": [
              "'Alice eats apples.'"
            ],
            "application/vnd.google.colaboratory.intrinsic+json": {
              "type": "string"
            }
          },
          "metadata": {},
          "execution_count": 26
        }
      ]
    },
    {
      "cell_type": "code",
      "source": [
        "mo1 = name.search('Carol throws baseballs.')\n",
        "mo1.group()"
      ],
      "metadata": {
        "colab": {
          "base_uri": "https://localhost:8080/",
          "height": 35
        },
        "id": "TFoHaquIXY6e",
        "outputId": "ae395624-4919-4137-c72b-2aec33ac3144"
      },
      "execution_count": 27,
      "outputs": [
        {
          "output_type": "execute_result",
          "data": {
            "text/plain": [
              "'Carol throws baseballs.'"
            ],
            "application/vnd.google.colaboratory.intrinsic+json": {
              "type": "string"
            }
          },
          "metadata": {},
          "execution_count": 27
        }
      ]
    },
    {
      "cell_type": "code",
      "source": [
        "mo1 = name.search('Bob pets cats.')\n",
        "mo1.group()"
      ],
      "metadata": {
        "colab": {
          "base_uri": "https://localhost:8080/",
          "height": 35
        },
        "id": "tNczN8aAXbQq",
        "outputId": "69838430-b44d-449d-949f-a13701458c7f"
      },
      "execution_count": 29,
      "outputs": [
        {
          "output_type": "execute_result",
          "data": {
            "text/plain": [
              "'Bob pets cats.'"
            ],
            "application/vnd.google.colaboratory.intrinsic+json": {
              "type": "string"
            }
          },
          "metadata": {},
          "execution_count": 29
        }
      ]
    },
    {
      "cell_type": "code",
      "source": [
        "mo1 = name.search('RoboCop eats apples.')\n",
        "mo1.group()"
      ],
      "metadata": {
        "colab": {
          "base_uri": "https://localhost:8080/",
          "height": 188
        },
        "id": "OXYD8VBmYck5",
        "outputId": "aaecc30e-4d20-4fca-bb92-88b6782da6de"
      },
      "execution_count": 30,
      "outputs": [
        {
          "output_type": "error",
          "ename": "AttributeError",
          "evalue": "ignored",
          "traceback": [
            "\u001b[0;31m---------------------------------------------------------------------------\u001b[0m",
            "\u001b[0;31mAttributeError\u001b[0m                            Traceback (most recent call last)",
            "\u001b[0;32m<ipython-input-30-1d4a75efc4eb>\u001b[0m in \u001b[0;36m<cell line: 2>\u001b[0;34m()\u001b[0m\n\u001b[1;32m      1\u001b[0m \u001b[0mmo1\u001b[0m \u001b[0;34m=\u001b[0m \u001b[0mname\u001b[0m\u001b[0;34m.\u001b[0m\u001b[0msearch\u001b[0m\u001b[0;34m(\u001b[0m\u001b[0;34m'RoboCop eats apples.'\u001b[0m\u001b[0;34m)\u001b[0m\u001b[0;34m\u001b[0m\u001b[0;34m\u001b[0m\u001b[0m\n\u001b[0;32m----> 2\u001b[0;31m \u001b[0mmo1\u001b[0m\u001b[0;34m.\u001b[0m\u001b[0mgroup\u001b[0m\u001b[0;34m(\u001b[0m\u001b[0;34m)\u001b[0m\u001b[0;34m\u001b[0m\u001b[0;34m\u001b[0m\u001b[0m\n\u001b[0m",
            "\u001b[0;31mAttributeError\u001b[0m: 'NoneType' object has no attribute 'group'"
          ]
        }
      ]
    },
    {
      "cell_type": "code",
      "source": [
        "mo1 = name.search('ALICE THROWS FOOTBALLS.')\n",
        "mo1.group()"
      ],
      "metadata": {
        "colab": {
          "base_uri": "https://localhost:8080/",
          "height": 188
        },
        "id": "LzVYR2RRYjB9",
        "outputId": "7ca26329-956d-40bf-c0c6-c9c56649dd6d"
      },
      "execution_count": 31,
      "outputs": [
        {
          "output_type": "error",
          "ename": "AttributeError",
          "evalue": "ignored",
          "traceback": [
            "\u001b[0;31m---------------------------------------------------------------------------\u001b[0m",
            "\u001b[0;31mAttributeError\u001b[0m                            Traceback (most recent call last)",
            "\u001b[0;32m<ipython-input-31-2fe548956578>\u001b[0m in \u001b[0;36m<cell line: 2>\u001b[0;34m()\u001b[0m\n\u001b[1;32m      1\u001b[0m \u001b[0mmo1\u001b[0m \u001b[0;34m=\u001b[0m \u001b[0mname\u001b[0m\u001b[0;34m.\u001b[0m\u001b[0msearch\u001b[0m\u001b[0;34m(\u001b[0m\u001b[0;34m'ALICE THROWS FOOTBALLS.'\u001b[0m\u001b[0;34m)\u001b[0m\u001b[0;34m\u001b[0m\u001b[0;34m\u001b[0m\u001b[0m\n\u001b[0;32m----> 2\u001b[0;31m \u001b[0mmo1\u001b[0m\u001b[0;34m.\u001b[0m\u001b[0mgroup\u001b[0m\u001b[0;34m(\u001b[0m\u001b[0;34m)\u001b[0m\u001b[0;34m\u001b[0m\u001b[0;34m\u001b[0m\u001b[0m\n\u001b[0m",
            "\u001b[0;31mAttributeError\u001b[0m: 'NoneType' object has no attribute 'group'"
          ]
        }
      ]
    },
    {
      "cell_type": "code",
      "source": [
        "mo1 = name.search('Carol eats 7 cats.')\n",
        "mo1.group()"
      ],
      "metadata": {
        "colab": {
          "base_uri": "https://localhost:8080/",
          "height": 188
        },
        "id": "R4QJDLKyYvlJ",
        "outputId": "c8b4d64d-0e71-4355-a0fc-0a9545b130e0"
      },
      "execution_count": 32,
      "outputs": [
        {
          "output_type": "error",
          "ename": "AttributeError",
          "evalue": "ignored",
          "traceback": [
            "\u001b[0;31m---------------------------------------------------------------------------\u001b[0m",
            "\u001b[0;31mAttributeError\u001b[0m                            Traceback (most recent call last)",
            "\u001b[0;32m<ipython-input-32-e9cfa53d4b40>\u001b[0m in \u001b[0;36m<cell line: 2>\u001b[0;34m()\u001b[0m\n\u001b[1;32m      1\u001b[0m \u001b[0mmo1\u001b[0m \u001b[0;34m=\u001b[0m \u001b[0mname\u001b[0m\u001b[0;34m.\u001b[0m\u001b[0msearch\u001b[0m\u001b[0;34m(\u001b[0m\u001b[0;34m'Carol eats 7 cats.'\u001b[0m\u001b[0;34m)\u001b[0m\u001b[0;34m\u001b[0m\u001b[0;34m\u001b[0m\u001b[0m\n\u001b[0;32m----> 2\u001b[0;31m \u001b[0mmo1\u001b[0m\u001b[0;34m.\u001b[0m\u001b[0mgroup\u001b[0m\u001b[0;34m(\u001b[0m\u001b[0;34m)\u001b[0m\u001b[0;34m\u001b[0m\u001b[0;34m\u001b[0m\u001b[0m\n\u001b[0m",
            "\u001b[0;31mAttributeError\u001b[0m: 'NoneType' object has no attribute 'group'"
          ]
        }
      ]
    }
  ]
}