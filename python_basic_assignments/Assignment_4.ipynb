{
  "nbformat": 4,
  "nbformat_minor": 0,
  "metadata": {
    "colab": {
      "provenance": [],
      "authorship_tag": "ABX9TyNboc1ziV4+4BFngPh/02Aq",
      "include_colab_link": true
    },
    "kernelspec": {
      "name": "python3",
      "display_name": "Python 3"
    },
    "language_info": {
      "name": "python"
    }
  },
  "cells": [
    {
      "cell_type": "markdown",
      "metadata": {
        "id": "view-in-github",
        "colab_type": "text"
      },
      "source": [
        "<a href=\"https://colab.research.google.com/github/LGLV/ineuron_assignaments/blob/main/Assignment_4.ipynb\" target=\"_parent\"><img src=\"https://colab.research.google.com/assets/colab-badge.svg\" alt=\"Open In Colab\"/></a>"
      ]
    },
    {
      "cell_type": "markdown",
      "source": [
        "**1. What exactly is []?**\n",
        "\n",
        "•\tIt represents an empty list"
      ],
      "metadata": {
        "id": "drkT3YO6WDxy"
      }
    },
    {
      "cell_type": "markdown",
      "source": [
        "**2. In a list of values stored in a variable called spam, how would you assign the value 'hello' as the third value? (Assume [2, 4, 6, 8, 10] are in spam.)**"
      ],
      "metadata": {
        "id": "yErDI15nWXvD"
      }
    },
    {
      "cell_type": "code",
      "source": [
        "spam = [2, 4, 6, 8, 10]\n",
        "spam[2]='hello'\n",
        "spam"
      ],
      "metadata": {
        "colab": {
          "base_uri": "https://localhost:8080/"
        },
        "id": "WhpcGHTyioNx",
        "outputId": "ee8ad3ed-1f00-4720-e540-8582af57561b"
      },
      "execution_count": 1,
      "outputs": [
        {
          "output_type": "execute_result",
          "data": {
            "text/plain": [
              "[2, 4, 'hello', 8, 10]"
            ]
          },
          "metadata": {},
          "execution_count": 1
        }
      ]
    },
    {
      "cell_type": "markdown",
      "source": [
        "Let's pretend the spam includes the list ['a', 'b', 'c', 'd'] for the next three queries.\n",
        " \n",
        "**3. What is the value of spam[int(int('3' * 2) / 11)]?**"
      ],
      "metadata": {
        "id": "q5FX4I6VWX1y"
      }
    },
    {
      "cell_type": "code",
      "source": [
        "spam = ['a', 'b', 'c', 'd']\n",
        "spam[int(int('3' * 2) / 11)]"
      ],
      "metadata": {
        "colab": {
          "base_uri": "https://localhost:8080/",
          "height": 35
        },
        "id": "_2CzzMEpkhQZ",
        "outputId": "e615991e-7197-443a-e977-c8ff997fcd45"
      },
      "execution_count": 2,
      "outputs": [
        {
          "output_type": "execute_result",
          "data": {
            "text/plain": [
              "'d'"
            ],
            "application/vnd.google.colaboratory.intrinsic+json": {
              "type": "string"
            }
          },
          "metadata": {},
          "execution_count": 2
        }
      ]
    },
    {
      "cell_type": "markdown",
      "source": [
        "**4. What is the value of spam[-1]?**"
      ],
      "metadata": {
        "id": "oxNfUD1xWX7N"
      }
    },
    {
      "cell_type": "code",
      "source": [
        "spam[-1]"
      ],
      "metadata": {
        "colab": {
          "base_uri": "https://localhost:8080/",
          "height": 35
        },
        "id": "QCf1DmoKlyHR",
        "outputId": "3eb25c64-d15e-4968-f724-47359d0ad689"
      },
      "execution_count": 3,
      "outputs": [
        {
          "output_type": "execute_result",
          "data": {
            "text/plain": [
              "'d'"
            ],
            "application/vnd.google.colaboratory.intrinsic+json": {
              "type": "string"
            }
          },
          "metadata": {},
          "execution_count": 3
        }
      ]
    },
    {
      "cell_type": "markdown",
      "source": [
        "**5. What is the value of spam[:2]?**"
      ],
      "metadata": {
        "id": "ZzZRnnn1WYAg"
      }
    },
    {
      "cell_type": "code",
      "source": [
        "spam[:2]"
      ],
      "metadata": {
        "colab": {
          "base_uri": "https://localhost:8080/"
        },
        "id": "msifDzROmaLm",
        "outputId": "6873a097-4152-4a3a-a276-6cb71e539ca1"
      },
      "execution_count": 4,
      "outputs": [
        {
          "output_type": "execute_result",
          "data": {
            "text/plain": [
              "['a', 'b']"
            ]
          },
          "metadata": {},
          "execution_count": 4
        }
      ]
    },
    {
      "cell_type": "markdown",
      "source": [
        "Let's pretend bacon has the list [3.14, 'cat,' 11, 'cat,' True] for the next three questions.\n",
        "\n",
        "**6. What is the value of bacon.index('cat')?**"
      ],
      "metadata": {
        "id": "F6uJBZrtWYFi"
      }
    },
    {
      "cell_type": "code",
      "source": [
        "bacon = [3.14, 'cat', 11, 'cat', True] \n",
        "bacon.index('cat')"
      ],
      "metadata": {
        "colab": {
          "base_uri": "https://localhost:8080/"
        },
        "id": "yK1-e4a6nUcU",
        "outputId": "2ba21efa-d58c-4dbe-e821-53ee053c855c"
      },
      "execution_count": 20,
      "outputs": [
        {
          "output_type": "execute_result",
          "data": {
            "text/plain": [
              "1"
            ]
          },
          "metadata": {},
          "execution_count": 20
        }
      ]
    },
    {
      "cell_type": "markdown",
      "source": [
        "**7. How does bacon.append(99) change the look of the list value in bacon?**"
      ],
      "metadata": {
        "id": "FX_AbCLSWYKw"
      }
    },
    {
      "cell_type": "code",
      "source": [
        "bacon.append(99)\n",
        "bacon"
      ],
      "metadata": {
        "colab": {
          "base_uri": "https://localhost:8080/"
        },
        "id": "j8TEazsqoIkI",
        "outputId": "6a3f8e67-d231-442f-fdd4-071667306f08"
      },
      "execution_count": 21,
      "outputs": [
        {
          "output_type": "execute_result",
          "data": {
            "text/plain": [
              "[3.14, 'cat', 11, 'cat', True, 99]"
            ]
          },
          "metadata": {},
          "execution_count": 21
        }
      ]
    },
    {
      "cell_type": "markdown",
      "source": [
        "**8. How does bacon.remove('cat') change the look of the list in bacon?**"
      ],
      "metadata": {
        "id": "9sdMX0WIWYPg"
      }
    },
    {
      "cell_type": "code",
      "source": [
        "bacon.remove('cat')\n",
        "bacon"
      ],
      "metadata": {
        "colab": {
          "base_uri": "https://localhost:8080/"
        },
        "id": "FRtZNq0epXog",
        "outputId": "ea4d35eb-3506-40d3-979c-6dfccc7d6da2"
      },
      "execution_count": 22,
      "outputs": [
        {
          "output_type": "execute_result",
          "data": {
            "text/plain": [
              "[3.14, 11, 'cat', True, 99]"
            ]
          },
          "metadata": {},
          "execution_count": 22
        }
      ]
    },
    {
      "cell_type": "markdown",
      "source": [
        "9. What are the list concatenation and list replication operators?\n",
        "\n",
        "•\treplication operator is (*)\n",
        "\n",
        "•\tconcatenation operator is (+)\n"
      ],
      "metadata": {
        "id": "KJ_DyFFfWYUM"
      }
    },
    {
      "cell_type": "code",
      "source": [
        "# replication \n",
        "\n",
        "list0 = [1,3,4,7,11,18]\n",
        "list0*2"
      ],
      "metadata": {
        "colab": {
          "base_uri": "https://localhost:8080/"
        },
        "id": "PpRFAfM1qTOH",
        "outputId": "bff66e93-0910-4008-9400-3699a0be6dcb"
      },
      "execution_count": 49,
      "outputs": [
        {
          "output_type": "execute_result",
          "data": {
            "text/plain": [
              "[1, 3, 4, 7, 11, 18, 1, 3, 4, 7, 11, 18]"
            ]
          },
          "metadata": {},
          "execution_count": 49
        }
      ]
    },
    {
      "cell_type": "code",
      "source": [
        "#  concatenation operator\n",
        "list2 = ['a','b','c','d','e']\n",
        "list0 + list2"
      ],
      "metadata": {
        "colab": {
          "base_uri": "https://localhost:8080/"
        },
        "id": "K96u33Ogq2m_",
        "outputId": "a4927f0b-60ab-4b6c-e478-0857d49626e6"
      },
      "execution_count": 50,
      "outputs": [
        {
          "output_type": "execute_result",
          "data": {
            "text/plain": [
              "[1, 3, 4, 7, 11, 18, 'a', 'b', 'c', 'd', 'e']"
            ]
          },
          "metadata": {},
          "execution_count": 50
        }
      ]
    },
    {
      "cell_type": "markdown",
      "source": [
        "**10. What is difference between the list methods append() and insert()?**\n",
        "\n",
        "•\tappend() method adds a new value at the end of a list \n",
        "\n",
        "•\tinsert() method inserts a new value in a specific place of a list"
      ],
      "metadata": {
        "id": "oxM93j-2WYZQ"
      }
    },
    {
      "cell_type": "code",
      "source": [
        "#  append() method\n",
        "cars = ['VW', 'Ford', 'Nissan', 'Chevrolet']\n",
        "cars.append('KIA')\n",
        "cars"
      ],
      "metadata": {
        "colab": {
          "base_uri": "https://localhost:8080/"
        },
        "id": "gwLOW2JwscOP",
        "outputId": "7e5d4faf-7ec7-48b5-ea7b-e2cf7142089b"
      },
      "execution_count": 28,
      "outputs": [
        {
          "output_type": "execute_result",
          "data": {
            "text/plain": [
              "['VW', 'Ford', 'Nissan', 'Chevrolet', 'KIA']"
            ]
          },
          "metadata": {},
          "execution_count": 28
        }
      ]
    },
    {
      "cell_type": "code",
      "source": [
        "# insert() method\n",
        "cars = ['VW', 'Ford', 'Nissan', 'Chevrolet']\n",
        "cars.insert(1,'KIA')\n",
        "cars"
      ],
      "metadata": {
        "colab": {
          "base_uri": "https://localhost:8080/"
        },
        "id": "VXya-qnfs9yl",
        "outputId": "e88132a9-a6dd-449c-8af5-e30a070e7256"
      },
      "execution_count": 29,
      "outputs": [
        {
          "output_type": "execute_result",
          "data": {
            "text/plain": [
              "['VW', 'KIA', 'Ford', 'Nissan', 'Chevrolet']"
            ]
          },
          "metadata": {},
          "execution_count": 29
        }
      ]
    },
    {
      "cell_type": "markdown",
      "source": [
        "**11. What are the two methods for removing items from a list?**\n",
        "\n",
        "•\tremove()\n",
        "\n",
        "•\tpop()"
      ],
      "metadata": {
        "id": "mnFoOTUkuDfO"
      }
    },
    {
      "cell_type": "code",
      "source": [
        "#  remove()\n",
        "cars = ['VW', 'Ford', 'Nissan', 'Chevrolet']\n",
        "cars.remove('Nissan')\n",
        "cars"
      ],
      "metadata": {
        "colab": {
          "base_uri": "https://localhost:8080/"
        },
        "id": "vkH1_1QXuox1",
        "outputId": "2e24955f-6ee1-4871-bb13-17f9124e0968"
      },
      "execution_count": 36,
      "outputs": [
        {
          "output_type": "execute_result",
          "data": {
            "text/plain": [
              "['VW', 'Ford', 'Chevrolet']"
            ]
          },
          "metadata": {},
          "execution_count": 36
        }
      ]
    },
    {
      "cell_type": "code",
      "source": [
        "# pop()\n",
        "list2 = ['a','b','c','d','e']\n",
        "list2.pop()\n",
        "list2"
      ],
      "metadata": {
        "colab": {
          "base_uri": "https://localhost:8080/"
        },
        "id": "Ms7oHBPEvFoA",
        "outputId": "957da759-e0b8-480d-d444-71f283176cdb"
      },
      "execution_count": 37,
      "outputs": [
        {
          "output_type": "execute_result",
          "data": {
            "text/plain": [
              "['a', 'b', 'c', 'd']"
            ]
          },
          "metadata": {},
          "execution_count": 37
        }
      ]
    },
    {
      "cell_type": "markdown",
      "source": [
        "**12. Describe how list values and string values are identical.**\n",
        "\n",
        "•\tBoth can be passed to len()\n",
        "\n",
        "•\tCan be used in for loops\n",
        "\n",
        "•\tCan be concatenated or replicated\n",
        "\n",
        "•\tCan be used with the in and not in operators \n",
        "\n",
        "•\tHave indexes and slices"
      ],
      "metadata": {
        "id": "TScEcf_nuDvY"
      }
    },
    {
      "cell_type": "markdown",
      "source": [
        "**13. What's the difference between tuples and lists?**\n",
        "\n",
        "•\tLists use the square brackets [ ]: are mutable - they can have values added, removed, or changed-\n",
        "\n",
        "•\tTuples use parentheses (  ): are immutable; they cannot be changed at all."
      ],
      "metadata": {
        "id": "Sph4THR2uECZ"
      }
    },
    {
      "cell_type": "markdown",
      "source": [
        "**14. How do you type a tuple value that only contains the integer 42?**"
      ],
      "metadata": {
        "id": "EXD4kd83uEQY"
      }
    },
    {
      "cell_type": "code",
      "source": [
        "t = (42)\n",
        "t"
      ],
      "metadata": {
        "colab": {
          "base_uri": "https://localhost:8080/"
        },
        "id": "rO4QTNIpyUsB",
        "outputId": "3c618399-3df3-46f0-dcc0-3565b1a825e7"
      },
      "execution_count": 43,
      "outputs": [
        {
          "output_type": "execute_result",
          "data": {
            "text/plain": [
              "42"
            ]
          },
          "metadata": {},
          "execution_count": 43
        }
      ]
    },
    {
      "cell_type": "markdown",
      "source": [
        "**15. How do you get a list value's tuple form? How do you get a tuple value's list form?**"
      ],
      "metadata": {
        "id": "ZyGsztLEuEeQ"
      }
    },
    {
      "cell_type": "code",
      "source": [
        "#list to tuple\n",
        "l = [1, 3, 5, 7, 9]\n",
        "l_t = tuple(l)\n",
        "l_t"
      ],
      "metadata": {
        "colab": {
          "base_uri": "https://localhost:8080/"
        },
        "id": "ARCiPZQQzN5S",
        "outputId": "1a79cc2c-3dd4-4cf0-df4e-0c024f1d9d3f"
      },
      "execution_count": 44,
      "outputs": [
        {
          "output_type": "execute_result",
          "data": {
            "text/plain": [
              "(1, 3, 5, 7, 9)"
            ]
          },
          "metadata": {},
          "execution_count": 44
        }
      ]
    },
    {
      "cell_type": "code",
      "source": [
        "# tuple to list\n",
        "t = (2, 4, 6, 8, 10)\n",
        "t_l = list(t)\n",
        "t_l"
      ],
      "metadata": {
        "id": "vT8311qtzksh"
      },
      "execution_count": null,
      "outputs": []
    },
    {
      "cell_type": "markdown",
      "source": [
        "**16. Variables that \"contain\" list values are not necessarily lists themselves. Instead, what do they contain?**\n",
        "\n",
        "•\tVariables will contain references to list values rather than list values themselves."
      ],
      "metadata": {
        "id": "XW1_eWUPuErN"
      }
    },
    {
      "cell_type": "markdown",
      "source": [
        "**17. How do you distinguish between copy.copy() and copy.deepcopy()?**\n",
        "\n",
        "•\tcopy.copy()  known as A shallow copy constructs a new compound object and then (to the extent possible) inserts references into it to the objects found in the original.\n",
        "\n",
        "•\tcopy.deepcopy() known as A deep copy constructs a new compound object and then, recursively, inserts copies into it of the objects found in the original.\n",
        "\n"
      ],
      "metadata": {
        "id": "KrzP_bYAuFcf"
      }
    }
  ]
}