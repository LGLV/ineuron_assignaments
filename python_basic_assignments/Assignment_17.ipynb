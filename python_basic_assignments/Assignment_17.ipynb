{
  "nbformat": 4,
  "nbformat_minor": 0,
  "metadata": {
    "colab": {
      "provenance": [],
      "authorship_tag": "ABX9TyN+qh5pgUkywOinMiZKRkII",
      "include_colab_link": true
    },
    "kernelspec": {
      "name": "python3",
      "display_name": "Python 3"
    },
    "language_info": {
      "name": "python"
    }
  },
  "cells": [
    {
      "cell_type": "markdown",
      "metadata": {
        "id": "view-in-github",
        "colab_type": "text"
      },
      "source": [
        "<a href=\"https://colab.research.google.com/github/LGLV/ineuron_assignaments/blob/main/Assignment_17.ipynb\" target=\"_parent\"><img src=\"https://colab.research.google.com/assets/colab-badge.svg\" alt=\"Open In Colab\"/></a>"
      ]
    },
    {
      "cell_type": "markdown",
      "source": [
        "**1. Assign the value 7 to the variable guess_me. Then, write the conditional tests (if, else, and elif) to print the string 'too low' if guess_me is less than 7, 'too high' if greater than 7, and 'just right' if equal to 7.**"
      ],
      "metadata": {
        "id": "qJNuFavSbKi0"
      }
    },
    {
      "cell_type": "code",
      "execution_count": 8,
      "metadata": {
        "colab": {
          "base_uri": "https://localhost:8080/"
        },
        "id": "54U7mRPEbJFf",
        "outputId": "c3c34a79-0b08-4bde-e70f-e4fa21aba5fd"
      },
      "outputs": [
        {
          "output_type": "stream",
          "name": "stdout",
          "text": [
            "The value 6 is too low\n",
            "The value 8 is too high\n",
            "Youe heve the just right  value (7)\n"
          ]
        }
      ],
      "source": [
        "def guess_me(val):\n",
        "    if val < 7:\n",
        "        print(f'The value {val} is too low')\n",
        "    elif val > 7:\n",
        "        print(f'The value {val} is too high')\n",
        "    else:\n",
        "        print(f'You have the just right  value ({val})')\n",
        "\n",
        "guess_me(6)\n",
        "guess_me(8)\n",
        "guess_me(7)\n"
      ]
    },
    {
      "cell_type": "markdown",
      "source": [
        "**2. Assign the value 7 to the variable guess_me and the value 1 to the variable start. Write a while loop that compares start with guess_me. Print too low if start is less than guess me. If start equals guess_me, print 'found it!' and exit the loop. If start is greater than guess_me, print 'oops' and exit the loop. Increment start at the end of the loop**"
      ],
      "metadata": {
        "id": "1QvGGgg5iPNF"
      }
    },
    {
      "cell_type": "code",
      "source": [
        "guess_me = 7\n",
        "start = 1\n",
        "while True:\n",
        "    if start < guess_me:\n",
        "        print('too low')\n",
        "        break\n",
        "    if start == guess_me:\n",
        "        print('found it!')\n",
        "        break\n",
        "\n",
        "    else:\n",
        "        print('oops')\n",
        "        break\n",
        "        start += 1"
      ],
      "metadata": {
        "colab": {
          "base_uri": "https://localhost:8080/"
        },
        "id": "m8uYY-E1mkf4",
        "outputId": "df0b99ab-7c22-4ffb-ff2e-57966930c2d6"
      },
      "execution_count": 120,
      "outputs": [
        {
          "output_type": "stream",
          "name": "stdout",
          "text": [
            "too low\n"
          ]
        }
      ]
    },
    {
      "cell_type": "code",
      "source": [
        "guess_me = 7\n",
        "start = 1\n",
        "while start < guess_me:\n",
        "    print('too low')\n",
        "    start += 1 \n",
        "    \n",
        "if start == guess_me:\n",
        "    print('found it!')\n",
        "\n",
        "else:\n",
        "    print('oops')    \n",
        "\n",
        "    "
      ],
      "metadata": {
        "colab": {
          "base_uri": "https://localhost:8080/"
        },
        "id": "9biAMPCqlV-R",
        "outputId": "c316d42d-24ed-4c12-d920-d93ae9cefb22"
      },
      "execution_count": 121,
      "outputs": [
        {
          "output_type": "stream",
          "name": "stdout",
          "text": [
            "too low\n",
            "too low\n",
            "too low\n",
            "too low\n",
            "too low\n",
            "too low\n",
            "found it!\n"
          ]
        }
      ]
    },
    {
      "cell_type": "markdown",
      "source": [
        "**3. Print the following values of the list [3, 2, 1, 0] using a for loop.**"
      ],
      "metadata": {
        "id": "BDv6nK6Jut5z"
      }
    },
    {
      "cell_type": "code",
      "source": [
        "list = [3, 2, 1, 0]\n",
        "print([a for a in list])"
      ],
      "metadata": {
        "colab": {
          "base_uri": "https://localhost:8080/"
        },
        "id": "FGEvQjpSu4R9",
        "outputId": "88c81cdb-55fe-4ac7-d315-6a71eaebf7cc"
      },
      "execution_count": 131,
      "outputs": [
        {
          "output_type": "stream",
          "name": "stdout",
          "text": [
            "[3, 2, 1, 0]\n"
          ]
        }
      ]
    },
    {
      "cell_type": "code",
      "source": [
        "list = [3, 2, 1, 0]\n",
        "for a in list:\n",
        "    print(a)\n"
      ],
      "metadata": {
        "colab": {
          "base_uri": "https://localhost:8080/"
        },
        "id": "jE_zhwqivjfy",
        "outputId": "2ec0f8b0-de6b-40af-f529-48ae1ee7efc7"
      },
      "execution_count": 129,
      "outputs": [
        {
          "output_type": "stream",
          "name": "stdout",
          "text": [
            "3\n",
            "2\n",
            "1\n",
            "0\n"
          ]
        }
      ]
    },
    {
      "cell_type": "markdown",
      "source": [
        "**4. Use a list comprehension to make a list of the even numbers in range(10)**"
      ],
      "metadata": {
        "id": "it9nMEX7wQQN"
      }
    },
    {
      "cell_type": "code",
      "source": [
        "even_num = [a for a in range(10) if a%2 == 0]\n",
        "print(even_num) "
      ],
      "metadata": {
        "colab": {
          "base_uri": "https://localhost:8080/"
        },
        "id": "DzND-aNywTG6",
        "outputId": "701c74c0-923c-445f-8379-c55094468129"
      },
      "execution_count": 136,
      "outputs": [
        {
          "output_type": "stream",
          "name": "stdout",
          "text": [
            "[0, 2, 4, 6, 8]\n"
          ]
        }
      ]
    },
    {
      "cell_type": "markdown",
      "source": [
        "**5. Use a dictionary comprehension to create the dictionary squares. Use range(10) to return the keys, and use the square of each key as its value.**"
      ],
      "metadata": {
        "id": "QIboiv0Lxm8Z"
      }
    },
    {
      "cell_type": "code",
      "source": [
        "sq_val = dict([(a,pow(a,2)) for a in range(10)])\n",
        "sq_val"
      ],
      "metadata": {
        "colab": {
          "base_uri": "https://localhost:8080/"
        },
        "id": "WTs1wXdiyaDy",
        "outputId": "e43e5986-9068-48c5-b9d1-602e234bf6f8"
      },
      "execution_count": 149,
      "outputs": [
        {
          "output_type": "execute_result",
          "data": {
            "text/plain": [
              "{0: 0, 1: 1, 2: 4, 3: 9, 4: 16, 5: 25, 6: 36, 7: 49, 8: 64, 9: 81}"
            ]
          },
          "metadata": {},
          "execution_count": 149
        }
      ]
    },
    {
      "cell_type": "code",
      "source": [
        "sq_val2 = {a:a**2 for a in range(10)}\n",
        "sq_val2\n"
      ],
      "metadata": {
        "colab": {
          "base_uri": "https://localhost:8080/"
        },
        "id": "E3wGB6wixl2C",
        "outputId": "8f148086-029d-4b14-8f42-f5cb23da125d"
      },
      "execution_count": 151,
      "outputs": [
        {
          "output_type": "execute_result",
          "data": {
            "text/plain": [
              "{0: 0, 1: 1, 2: 4, 3: 9, 4: 16, 5: 25, 6: 36, 7: 49, 8: 64, 9: 81}"
            ]
          },
          "metadata": {},
          "execution_count": 151
        }
      ]
    },
    {
      "cell_type": "markdown",
      "source": [
        "**6. Construct the set odd from the odd numbers in the range using a set comprehension (10).**"
      ],
      "metadata": {
        "id": "ZNjJdAC-pLpv"
      }
    },
    {
      "cell_type": "code",
      "source": [
        "odd_numbers = set(a for a in range(10) if a%2 != 0)\n",
        "odd_numbers"
      ],
      "metadata": {
        "colab": {
          "base_uri": "https://localhost:8080/"
        },
        "id": "Eoa2jdXZpOl7",
        "outputId": "96e3e0b8-7bdb-4036-ff9f-fd2fdd10a62b"
      },
      "execution_count": 5,
      "outputs": [
        {
          "output_type": "execute_result",
          "data": {
            "text/plain": [
              "{1, 3, 5, 7, 9}"
            ]
          },
          "metadata": {},
          "execution_count": 5
        }
      ]
    },
    {
      "cell_type": "markdown",
      "source": [
        "**7. Use a generator comprehension to return the string 'Got ' and a number for the numbers in range(10). Iterate through this by using a for loop**"
      ],
      "metadata": {
        "id": "Dmykip_jqCD9"
      }
    },
    {
      "cell_type": "code",
      "source": [
        "genarator = (str(a) + '-Got' for a in range(10))\n",
        "for ele in genarator:\n",
        "    print(ele, end=', ')"
      ],
      "metadata": {
        "colab": {
          "base_uri": "https://localhost:8080/"
        },
        "id": "OdvX3DtGqSkt",
        "outputId": "7aa580c2-e77d-4ed7-dbd6-fe00fddaf8ce"
      },
      "execution_count": 9,
      "outputs": [
        {
          "output_type": "stream",
          "name": "stdout",
          "text": [
            "0-Got, 1-Got, 2-Got, 3-Got, 4-Got, 5-Got, 6-Got, 7-Got, 8-Got, 9-Got, "
          ]
        }
      ]
    },
    {
      "cell_type": "markdown",
      "source": [
        "**8. Define a function called good that returns the list ['Harry', 'Ron', 'Hermione'].**"
      ],
      "metadata": {
        "id": "37fMCgIOCVfE"
      }
    },
    {
      "cell_type": "code",
      "source": [
        "def good():\n",
        "    a = ['Harry', 'Ron', 'Hermione']\n",
        "    print(a)\n",
        "good()"
      ],
      "metadata": {
        "colab": {
          "base_uri": "https://localhost:8080/"
        },
        "id": "IbatVP-ACYfX",
        "outputId": "f56a5013-643c-499e-b369-488a53c9f3db"
      },
      "execution_count": 17,
      "outputs": [
        {
          "output_type": "stream",
          "name": "stdout",
          "text": [
            "['Harry', 'Ron', 'Hermione']\n"
          ]
        }
      ]
    },
    {
      "cell_type": "code",
      "source": [
        "def good():\n",
        "    a = ['Harry', 'Ron', 'Hermione']\n",
        "    return(a)\n",
        "good()"
      ],
      "metadata": {
        "colab": {
          "base_uri": "https://localhost:8080/"
        },
        "id": "XQMM5JRzDEb5",
        "outputId": "9ed5a9f8-96a6-4b08-ba2c-c14c74b978de"
      },
      "execution_count": 18,
      "outputs": [
        {
          "output_type": "execute_result",
          "data": {
            "text/plain": [
              "['Harry', 'Ron', 'Hermione']"
            ]
          },
          "metadata": {},
          "execution_count": 18
        }
      ]
    },
    {
      "cell_type": "markdown",
      "source": [
        "**9. Define a generator function called get_odds that returns the odd numbers from range(10). Use a for loop to find and print the third value returned.**"
      ],
      "metadata": {
        "id": "iZDW4Z8cDmJA"
      }
    },
    {
      "cell_type": "code",
      "source": [
        "def get_odds_1():\n",
        "    odds = ([a for a in range(10) if a%2 != 0])\n",
        "    return(odds)\n",
        "get_odds_1()"
      ],
      "metadata": {
        "colab": {
          "base_uri": "https://localhost:8080/"
        },
        "id": "-CCDLrMJFKq7",
        "outputId": "aa247068-9a89-4ca1-ff32-3948f61a8d61"
      },
      "execution_count": 35,
      "outputs": [
        {
          "output_type": "execute_result",
          "data": {
            "text/plain": [
              "[1, 3, 5, 7, 9]"
            ]
          },
          "metadata": {},
          "execution_count": 35
        }
      ]
    },
    {
      "cell_type": "code",
      "source": [
        "def get_odds_2():\n",
        "    odds = []\n",
        "    for a in range(10):\n",
        "        if a%2 != 0:\n",
        "            odds.append(a)\n",
        "    return(odds)    \n",
        "get_odds_2()"
      ],
      "metadata": {
        "colab": {
          "base_uri": "https://localhost:8080/"
        },
        "id": "NFJlCL45DtDH",
        "outputId": "672dac4a-7837-40d4-9566-57ae11d222aa"
      },
      "execution_count": 36,
      "outputs": [
        {
          "output_type": "execute_result",
          "data": {
            "text/plain": [
              "[1, 3, 5, 7, 9]"
            ]
          },
          "metadata": {},
          "execution_count": 36
        }
      ]
    },
    {
      "cell_type": "markdown",
      "source": [
        "**10. Define an exception called OopsException. Raise this exception to see what happens. Then write the code to catch this exception and print 'Caught an oops'.**"
      ],
      "metadata": {
        "id": "coPkeJTSHaqI"
      }
    },
    {
      "cell_type": "code",
      "source": [
        "class OopsException(Exception):\n",
        "    pass\n",
        "\n",
        "def test(input):\n",
        "    if input <0:\n",
        "        raise OopsException(a)\n",
        "try:\n",
        "    test(-100)\n",
        "except Exception as e:\n",
        "    print('Caught in Oops ->',e)"
      ],
      "metadata": {
        "colab": {
          "base_uri": "https://localhost:8080/"
        },
        "id": "UnoL2xzUHZfI",
        "outputId": "58146729-6cb6-42cf-eb46-22bec17a4145"
      },
      "execution_count": 40,
      "outputs": [
        {
          "output_type": "stream",
          "name": "stdout",
          "text": [
            "Caught in Oops -> name 'a' is not defined\n"
          ]
        }
      ]
    },
    {
      "cell_type": "markdown",
      "source": [
        "**11. Use zip() to make a dictionary called movies that pairs these lists: titles = ['Creature of Habit', 'Crewel Fate'] and plots = ['A nun turns into a monster', 'A haunted yarn shop'].**"
      ],
      "metadata": {
        "id": "rkNVliQUOqYx"
      }
    },
    {
      "cell_type": "code",
      "source": [
        "titles = ['Creature of Habit', 'Crewel Fate']\n",
        "plots = ['A nun turns into a monster', 'A haunted yarn shop']\n",
        "movies = dict(zip(titles, plots))\n",
        "movies"
      ],
      "metadata": {
        "colab": {
          "base_uri": "https://localhost:8080/"
        },
        "id": "BdmSJSuKOwTF",
        "outputId": "65fefa94-c02c-4820-add5-b361774dcb42"
      },
      "execution_count": 48,
      "outputs": [
        {
          "output_type": "execute_result",
          "data": {
            "text/plain": [
              "{'Creature of Habit': 'A nun turns into a monster',\n",
              " 'Crewel Fate': 'A haunted yarn shop'}"
            ]
          },
          "metadata": {},
          "execution_count": 48
        }
      ]
    }
  ]
}