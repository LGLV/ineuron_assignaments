{
  "nbformat": 4,
  "nbformat_minor": 0,
  "metadata": {
    "colab": {
      "provenance": [],
      "authorship_tag": "ABX9TyNgKZDrYidUpkAoz9BfjcV9",
      "include_colab_link": true
    },
    "kernelspec": {
      "name": "python3",
      "display_name": "Python 3"
    },
    "language_info": {
      "name": "python"
    }
  },
  "cells": [
    {
      "cell_type": "markdown",
      "metadata": {
        "id": "view-in-github",
        "colab_type": "text"
      },
      "source": [
        "<a href=\"https://colab.research.google.com/github/LGLV/ineuron_assignaments/blob/main/Programming_Assignment_14.ipynb\" target=\"_parent\"><img src=\"https://colab.research.google.com/assets/colab-badge.svg\" alt=\"Open In Colab\"/></a>"
      ]
    },
    {
      "cell_type": "markdown",
      "source": [
        "**1. Define a class with a generator which can iterate the numbers, which are divisible by\n",
        "7, between a given range 0 and n.**"
      ],
      "metadata": {
        "id": "7rSS2samxtGg"
      }
    },
    {
      "cell_type": "code",
      "execution_count": null,
      "metadata": {
        "colab": {
          "base_uri": "https://localhost:8080/"
        },
        "id": "AfyQtAEsxj7Y",
        "outputId": "a2dcb080-ebc5-4ba2-a3d6-924fcae77fee"
      },
      "outputs": [
        {
          "output_type": "stream",
          "name": "stdout",
          "text": [
            "Enter the range limit: 100\n",
            "Numbers divisible by 7:\n",
            "0 7 14 21 28 35 42 49 56 63 70 77 84 91 98 "
          ]
        }
      ],
      "source": [
        "class DivisibleBySeven:\n",
        "    def __init__(self, n): # the DivisibleBySeven class has an _init_ method that initializes the range limit n provided by the user.\n",
        "        self.n = n\n",
        "    def generate_numbers(self): # the class also has a generate_numbers method, which is a generator\n",
        "                                # that yields numbers divisible by 7 within the specified range.\n",
        "\n",
        "        for i in range(self.n + 1): # Then, the generate_numbers method is called in a loop, and each generated number divisible by 7 is printed.\n",
        "            if i % 7 == 0:\n",
        "                yield i\n",
        "\n",
        "# Create an instance of the class\n",
        "range_limit = int(input(\"Enter the range limit: \"))# To use the class, an instance is created with the range limit as an input.\n",
        "divisible_by_seven = DivisibleBySeven(range_limit)\n",
        "\n",
        "# Generate and iterate over the numbers divisible by 7\n",
        "print(\"Numbers divisible by 7:\")\n",
        "for number in divisible_by_seven.generate_numbers():\n",
        "    print(number, end = ' ')"
      ]
    },
    {
      "cell_type": "markdown",
      "source": [
        "**2. Write a program to compute the frequency of the words from the input. The output\n",
        "should output after sorting the key alphanumerically.**\n",
        "\n",
        "Suppose the following input is supplied to the program:\n",
        "\n",
        "New to Python or choosing between Python 2 and Python 3? Read Python 2 or\n",
        "Python 3.\n",
        "\n",
        "Then, the output should be:\n",
        "\n",
        "2:2\n",
        "\n",
        "3.:1\n",
        "\n",
        "3?:1\n",
        "\n",
        "New:1\n",
        "\n",
        "Python:5\n",
        "\n",
        "Read:1\n",
        "\n",
        "and:1\n",
        "\n",
        "between:1\n",
        "\n",
        "choosing:1\n",
        "\n",
        "or:2\n",
        "\n",
        "to:1\n",
        "\n"
      ],
      "metadata": {
        "id": "HRkATx3gx6io"
      }
    },
    {
      "cell_type": "code",
      "source": [
        "# Here's a Python program to compute the frequency of words from the input and sort them alphanumerically:\n",
        "\n",
        "from collections import Counter\n",
        "\n",
        "# Read the input\n",
        "input_str = input(\"Enter the input: \")\n",
        "\n",
        "# Tokenize the input into words\n",
        "words = input_str.split()\n",
        "\n",
        "# Compute the frequency of each word\n",
        "word_freq = Counter(words)\n",
        "\n",
        "# Sort the words in alphabetical order\n",
        "sorted_word_freq = sorted(word_freq.items(), key=lambda x: x[0])\n",
        "\n",
        "# Print the results\n",
        "for word, frequency in sorted_word_freq:\n",
        "    print(f'{word}:{frequency}')\n",
        "\n",
        "# This program reads the input, tokenizes it into words, and then uses the `Counter` class from the `collections`\n",
        "# module to calculate the frequency of each word. The words are then sorted alphabetically using the `sorted` function.\n",
        "# Finally, the sorted word frequencies are"
      ],
      "metadata": {
        "id": "3aHAc8EpvO79",
        "colab": {
          "base_uri": "https://localhost:8080/"
        },
        "outputId": "c9b33f3d-7375-432b-f21a-8665ecf5131b"
      },
      "execution_count": 6,
      "outputs": [
        {
          "output_type": "stream",
          "name": "stdout",
          "text": [
            "Enter the input: New to Python or choosing between Python 2 and Python 3? Read Python 2 or Python 3.\n",
            "2:2\n",
            "3.:1\n",
            "3?:1\n",
            "New:1\n",
            "Python:5\n",
            "Read:1\n",
            "and:1\n",
            "between:1\n",
            "choosing:1\n",
            "or:2\n",
            "to:1\n"
          ]
        }
      ]
    },
    {
      "cell_type": "markdown",
      "source": [
        "**3. Define a class Person and its two child classes: Male and Female. All classes have a\n",
        "method &quot;getGender&quot; which can print &quot;Male&quot; for Male class and &quot;Female&quot; for Female class.**\n",
        "\n"
      ],
      "metadata": {
        "id": "59aRtNHgytTY"
      }
    },
    {
      "cell_type": "code",
      "source": [
        "class Person:\n",
        "    def getGender(self):\n",
        "        pass\n",
        "\n",
        "class Male(Person):\n",
        "    def getGender(self):\n",
        "        print('Male')\n",
        "\n",
        "class Female(Person):\n",
        "    def getGender(self):\n",
        "        print('Female')"
      ],
      "metadata": {
        "id": "3IQDaZJQc9Pu"
      },
      "execution_count": 7,
      "outputs": []
    },
    {
      "cell_type": "code",
      "source": [
        "person = Person()\n",
        "person.getGender()  # No output\n",
        "\n",
        "male = Male()\n",
        "male.getGender()  # Output: \"Male\"\n",
        "\n",
        "female = Female()\n",
        "female.getGender()  # Output: \"Female\""
      ],
      "metadata": {
        "colab": {
          "base_uri": "https://localhost:8080/"
        },
        "id": "jgbA0Bs-enEn",
        "outputId": "1cb19924-0108-4cb1-86f4-6673088fc16c"
      },
      "execution_count": 8,
      "outputs": [
        {
          "output_type": "stream",
          "name": "stdout",
          "text": [
            "Male\n",
            "Female\n"
          ]
        }
      ]
    },
    {
      "cell_type": "markdown",
      "source": [
        "**4. Please write a program to generate all sentences where subject is in [&quot;I&quot;, &quot;You&quot;] and\n",
        "verb is in [&quot;Play&quot;, &quot;Love&quot;] and the object is in [&quot;Hockey&quot;,&quot;Football&quot;].**"
      ],
      "metadata": {
        "id": "G8CLpXQYy_kB"
      }
    },
    {
      "cell_type": "code",
      "source": [
        "subjects = [\"I\", \"You\"]\n",
        "verbs = [\"Play\", \"Love\"]\n",
        "objects = [\"Hockey\", \"Football\"]\n",
        "\n",
        "sentences = []\n",
        "\n",
        "# Generate all possible combinations of subject, verb, and object\n",
        "for subject in subjects:\n",
        "    for verb in verbs:\n",
        "        for obj in objects:\n",
        "            sentence = f\"{subject} {verb} {obj}\"\n",
        "            sentences.append(sentence)\n",
        "\n",
        "# Print all the generated sentences\n",
        "for sentence in sentences:\n",
        "    print(sentence)"
      ],
      "metadata": {
        "colab": {
          "base_uri": "https://localhost:8080/"
        },
        "id": "uhOVqVRafULU",
        "outputId": "1944737d-e849-4201-b060-4b7dbcf3502a"
      },
      "execution_count": 9,
      "outputs": [
        {
          "output_type": "stream",
          "name": "stdout",
          "text": [
            "I Play Hockey\n",
            "I Play Football\n",
            "I Love Hockey\n",
            "I Love Football\n",
            "You Play Hockey\n",
            "You Play Football\n",
            "You Love Hockey\n",
            "You Love Football\n"
          ]
        }
      ]
    },
    {
      "cell_type": "markdown",
      "source": [
        "**5. Please write a program to compress and decompress the string &quot;hello world!hello world!hello world!hello world!&quot;.**"
      ],
      "metadata": {
        "id": "xIMtQTkkzKFB"
      }
    },
    {
      "cell_type": "code",
      "source": [
        "import zlib\n",
        "\n",
        "# Original string\n",
        "original_string = \"hello world!hello world!hello world!hello world!\"\n",
        "print(\"Original string:\", original_string)\n",
        "\n",
        "# Compress the string\n",
        "compressed_data = zlib.compress(original_string.encode())\n",
        "print(\"Compressed data:\", compressed_data)\n",
        "\n",
        "# Decompress the string\n",
        "decompressed_data = zlib.decompress(compressed_data)\n",
        "decompressed_string = decompressed_data.decode()\n",
        "print(\"Decompressed string:\", decompressed_string)"
      ],
      "metadata": {
        "colab": {
          "base_uri": "https://localhost:8080/"
        },
        "id": "D6ib2GP4ggXV",
        "outputId": "c19a69a3-6863-4917-f5c7-faf9534ece84"
      },
      "execution_count": 10,
      "outputs": [
        {
          "output_type": "stream",
          "name": "stdout",
          "text": [
            "Original string: hello world!hello world!hello world!hello world!\n",
            "Compressed data: b'x\\x9c\\xcbH\\xcd\\xc9\\xc9W(\\xcf/\\xcaIQ\\xcc \\x82\\r\\x00\\xbd[\\x11\\xf5'\n",
            "Decompressed string: hello world!hello world!hello world!hello world!\n"
          ]
        }
      ]
    },
    {
      "cell_type": "markdown",
      "source": [
        "**6. Please write a binary search function which searches an item in a sorted list. The function should return the index of element to be searched in the list.**"
      ],
      "metadata": {
        "id": "2gz6sI2szXgZ"
      }
    },
    {
      "cell_type": "code",
      "source": [
        "def binary_search(arr, target):\n",
        "    low = 0\n",
        "    high = len(arr) - 1\n",
        "\n",
        "    while low <= high:\n",
        "        mid = (low + high) // 2\n",
        "\n",
        "        if arr[mid] == target:\n",
        "            return mid\n",
        "        elif arr[mid] < target:\n",
        "            low = mid + 1\n",
        "        else:\n",
        "            high = mid - 1\n",
        "\n",
        "    # Element not found\n",
        "    return -1"
      ],
      "metadata": {
        "id": "jev3bAIthJTz"
      },
      "execution_count": 11,
      "outputs": []
    },
    {
      "cell_type": "code",
      "source": [
        "sorted_list = [1, 2, 3, 4, 5, 6, 7, 8, 9]\n",
        "target = 6\n",
        "\n",
        "result = binary_search(sorted_list, target)\n",
        "if result != -1:\n",
        "    print(f\"Element found at index {result}.\")\n",
        "else:\n",
        "    print(\"Element not found.\")"
      ],
      "metadata": {
        "colab": {
          "base_uri": "https://localhost:8080/"
        },
        "id": "dmOu2VPkhaxm",
        "outputId": "972adb73-dc5a-4ad4-f551-46e90d3b564e"
      },
      "execution_count": 12,
      "outputs": [
        {
          "output_type": "stream",
          "name": "stdout",
          "text": [
            "Element found at index 5.\n"
          ]
        }
      ]
    }
  ]
}