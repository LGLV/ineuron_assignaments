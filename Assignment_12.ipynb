{
  "nbformat": 4,
  "nbformat_minor": 0,
  "metadata": {
    "colab": {
      "provenance": [],
      "authorship_tag": "ABX9TyNDG4ILQJHnJVnkiuvNjpHD",
      "include_colab_link": true
    },
    "kernelspec": {
      "name": "python3",
      "display_name": "Python 3"
    },
    "language_info": {
      "name": "python"
    }
  },
  "cells": [
    {
      "cell_type": "markdown",
      "metadata": {
        "id": "view-in-github",
        "colab_type": "text"
      },
      "source": [
        "<a href=\"https://colab.research.google.com/github/LGLV/ineuron_assignaments/blob/main/Assignment_12.ipynb\" target=\"_parent\"><img src=\"https://colab.research.google.com/assets/colab-badge.svg\" alt=\"Open In Colab\"/></a>"
      ]
    },
    {
      "cell_type": "markdown",
      "source": [
        "**1. In what modes should the PdfFileReader() and PdfFileWriter() File objects will be opened?**\n",
        "\n",
        "* For PdfFileReader() file objects should be opened in rb -> read binary mode.\n",
        "* For PdfFileWriter() file objects should be opened in wb -> write binary mode."
      ],
      "metadata": {
        "id": "QY9AoiIjGhcD"
      }
    },
    {
      "cell_type": "markdown",
      "source": [
        "**2. From a PdfFileReader object, how do you get a Page object for page 5?**\n",
        "\n",
        "* PdfFileReader class provides a method called getPage(page_no) to get a page object."
      ],
      "metadata": {
        "id": "cItkiukRHAjY"
      }
    },
    {
      "cell_type": "code",
      "source": [
        "pip install PyPDF2"
      ],
      "metadata": {
        "colab": {
          "base_uri": "https://localhost:8080/"
        },
        "id": "1moGSJDYIqoG",
        "outputId": "4d6835ae-afb9-48da-d56b-2634d8d93182"
      },
      "execution_count": 4,
      "outputs": [
        {
          "output_type": "stream",
          "name": "stdout",
          "text": [
            "Looking in indexes: https://pypi.org/simple, https://us-python.pkg.dev/colab-wheels/public/simple/\n",
            "Collecting PyPDF2\n",
            "  Downloading pypdf2-3.0.1-py3-none-any.whl (232 kB)\n",
            "\u001b[2K     \u001b[90m━━━━━━━━━━━━━━━━━━━━━━━━━━━━━━━━━━━━━━━\u001b[0m \u001b[32m232.6/232.6 kB\u001b[0m \u001b[31m8.3 MB/s\u001b[0m eta \u001b[36m0:00:00\u001b[0m\n",
            "\u001b[?25hInstalling collected packages: PyPDF2\n",
            "Successfully installed PyPDF2-3.0.1\n"
          ]
        }
      ]
    },
    {
      "cell_type": "code",
      "execution_count": null,
      "metadata": {
        "id": "s8dpD6KFGakt"
      },
      "outputs": [],
      "source": [
        "# Examplee:\n",
        "from PyPDF2 import PdfFileReader\n",
        "pdf_r = PdfFileReader(file_path)\n",
        "for page in pdf_r.getNumPages():\n",
        "    pdf_r.getPage(page) # It gives the page searched."
      ]
    },
    {
      "cell_type": "markdown",
      "source": [
        "\n",
        "**4. If a PdfFileReader object’s PDF is encrypted with the password swordfish, what must you do before you can obtain Page objects from it?**\n",
        "\n",
        "* If a PdfFileReader object’s PDF is encrypted with the password swordfish and you're not aware of it. first read the Pdf using the PdfFileReader Class. PdfFileReader class provides a attribute called isEncrypted to check whether a pdf is encrypted or not. the method returns true if a pdf is encrypted and vice versa.\n",
        "* if pdf is encrypted use the decrypt() method provided by PdfFileReader class first then try to read the contents/pages of the pdf, else PyPDF2 will raise the following error PyPDF2.utils.PdfReadError: file has not been decrypted\n"
      ],
      "metadata": {
        "id": "tTuVp-F9JxdF"
      }
    },
    {
      "cell_type": "code",
      "source": [
        "#Example:\n",
        "from PyPDF2 import PdfFileReader\n",
        "pdf_r = PdfFileReader(file_path)\n",
        "if pdf_r.isEncrypted: # It reviews whether the pdf is encrypted or not\n",
        "    pdf_r.decrypt(\"swordfish\")\n",
        "for page in pdf_r.pages:\n",
        "    print(page.extractText()) # It prints the text data of a page from pdf"
      ],
      "metadata": {
        "id": "-PVFEcXLKGUV"
      },
      "execution_count": null,
      "outputs": []
    },
    {
      "cell_type": "markdown",
      "source": [
        "**5. What methods do you use to rotate a page?**\n",
        "\n",
        "* PyPDF2 Package provides 2 methods to rotate a page:\n",
        "\n",
        "1. rotateClockWise() -> For Clockwise rotation\n",
        "2. rotateCounterClockWise() -> For Counter Clockwise rotation\n",
        "\n",
        "The PyPDF2 package only allows you to rotate a page in increments of 90 degrees. You will receive an AssertionError otherwise."
      ],
      "metadata": {
        "id": "jWmBAXLcKg5N"
      }
    },
    {
      "cell_type": "markdown",
      "source": [
        "\n",
        "**6. What is the difference between a Run object and a Paragraph object?**\n",
        "\n",
        "* The structure of a document is represented by three different data types in python-Docx. At the highest level, a Document object represents the entire document. The Document object contains a list of Paragraph objects for the paragraphs in the document. (A new paragraph begins whenever the user presses ENTER or RETURN while typing in a Word document.) Each of these Paragraph objects contains a list of one or more Run objects.\n",
        "\n",
        "* The text in a Word document is more than just a string. It has font, size, color, and other styling information associated with it. A style in Word is a collection of these attributes. A Run object is a contiguous run of text with the same style. A new Run object is needed whenever the text style changes.\n"
      ],
      "metadata": {
        "id": "8XJy9OCjLQMF"
      }
    },
    {
      "cell_type": "markdown",
      "source": [
        "**7. How do you obtain a list of Paragraph objects for a Document object that’s stored in a variable named doc?**"
      ],
      "metadata": {
        "id": "kv0468LTL4XI"
      }
    },
    {
      "cell_type": "code",
      "source": [
        "# Example \n",
        "from docx import Document\n",
        "doc = Document(\"sample_file.docx\") # Path of the Docx file\n",
        "print(doc.paragraphs) # Prints the list of Paragraph objects for a Document\n",
        "for paragraph in doc.paragraphs:\n",
        "    print(paragraph.text) # Prints the text in the paragraph"
      ],
      "metadata": {
        "id": "60WQuNQIL_rg"
      },
      "execution_count": null,
      "outputs": []
    },
    {
      "cell_type": "markdown",
      "source": [
        "**8. What type of object has bold, underline, italic, strike, and outline variables?**\n",
        "\n",
        "* Run object has bold, underline, italic, strike, and outline variables. The text in a Word document is more than just a string. It has font, size, color, and other styling information associated with it.\n",
        "\n",
        "* A style in Word is a collection of these attributes. A Run object is a contiguous run of text with the same style. A new Run object is needed whenever the text style changes."
      ],
      "metadata": {
        "id": "NnJ01i1qNkwe"
      }
    },
    {
      "cell_type": "markdown",
      "source": [
        "**9. What is the difference between False, True, and None for the bold variable?**"
      ],
      "metadata": {
        "id": "XZ_Hu4VBOHJ2"
      }
    },
    {
      "cell_type": "code",
      "source": [
        "bold = True  # Style Set to Bold\n",
        "bold = False # Style Not Set to Bold\n",
        "bold = None # Style is Not Applicable"
      ],
      "metadata": {
        "id": "1t4mT0SkONjb"
      },
      "execution_count": 6,
      "outputs": []
    },
    {
      "cell_type": "markdown",
      "source": [
        "**10. How do you create a Document object for a new Word document?**"
      ],
      "metadata": {
        "id": "nkPidO1aOTSl"
      }
    },
    {
      "cell_type": "code",
      "source": [
        "# Example \n",
        "from docx import Document\n",
        "document = Document()\n",
        "document.add_paragraph(\"iNeuron Full Stack DataScience Course\")\n",
        "document.save('mydocument.docx')"
      ],
      "metadata": {
        "id": "8so0LNjROe_v"
      },
      "execution_count": null,
      "outputs": []
    },
    {
      "cell_type": "markdown",
      "source": [
        "**11. How do you add a paragraph with the text 'Hello, there!' to a Document object stored in a variable named doc?**"
      ],
      "metadata": {
        "id": "bUxtYtQMOrAQ"
      }
    },
    {
      "cell_type": "code",
      "source": [
        "# Example Program\n",
        "from docx import Document\n",
        "doc = Document()\n",
        "doc.add_paragraph('Hello, there!')\n",
        "doc.save('hello.docx')"
      ],
      "metadata": {
        "id": "avydiNlrOvCA"
      },
      "execution_count": null,
      "outputs": []
    },
    {
      "cell_type": "markdown",
      "source": [
        "**12. What integers represent the levels of headings available in Word documents?**\n",
        "\n",
        "* The levels for a heading in a word document can be specified by using the level attribute inside the add_heading method. There are a total of 5 levels statring for 0 to 4. where level 0 makes a headline with the horizontal line below the text, whereas the heading level 1 is the main heading. Similarly, the other headings are sub-heading with their's font-sizes in decreasing order.\n"
      ],
      "metadata": {
        "id": "pYEJFO1xO2Vk"
      }
    }
  ]
}