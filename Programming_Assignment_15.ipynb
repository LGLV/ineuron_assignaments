{
  "nbformat": 4,
  "nbformat_minor": 0,
  "metadata": {
    "colab": {
      "provenance": [],
      "authorship_tag": "ABX9TyNr9dgt9HfH9fym+xIcgr46",
      "include_colab_link": true
    },
    "kernelspec": {
      "name": "python3",
      "display_name": "Python 3"
    },
    "language_info": {
      "name": "python"
    }
  },
  "cells": [
    {
      "cell_type": "markdown",
      "metadata": {
        "id": "view-in-github",
        "colab_type": "text"
      },
      "source": [
        "<a href=\"https://colab.research.google.com/github/LGLV/ineuron_assignaments/blob/main/Programming_Assignment_15.ipynb\" target=\"_parent\"><img src=\"https://colab.research.google.com/assets/colab-badge.svg\" alt=\"Open In Colab\"/></a>"
      ]
    },
    {
      "cell_type": "markdown",
      "source": [
        "1. Please write a program using generator to print the numbers which can be divisible by 5 and\n",
        "7 between 0 and n in comma separated form while n is input by console.\n",
        "\n",
        "Example:\n",
        "\n",
        "If the following n is given as input to the program:\n",
        "100\n",
        "\n",
        "Then, the output of the program should be:\n",
        "0,35,70"
      ],
      "metadata": {
        "id": "XhhgOHchkaf4"
      }
    },
    {
      "cell_type": "code",
      "source": [
        "def divisible_by_5_and_7(n):\n",
        "    for num in range(n + 1):\n",
        "        if num % 5 == 0 and num % 7 == 0:\n",
        "            yield str(num)\n",
        "\n",
        "# Get input from user\n",
        "n = int(input(\"Enter a number: \"))\n",
        "\n",
        "# Generate the divisible numbers using the generator\n",
        "numbers = divisible_by_5_and_7(n)\n",
        "\n",
        "# Print the numbers as comma-separated\n",
        "print(','.join(numbers))"
      ],
      "metadata": {
        "colab": {
          "base_uri": "https://localhost:8080/"
        },
        "id": "OrO_iSxgmRw8",
        "outputId": "ee5cd3a0-a96c-40e9-866e-1dc91ddeb031"
      },
      "execution_count": 1,
      "outputs": [
        {
          "output_type": "stream",
          "name": "stdout",
          "text": [
            "Enter a number: 100\n",
            "0,35,70\n"
          ]
        }
      ]
    },
    {
      "cell_type": "markdown",
      "source": [
        "2. Please write a program using generator to print the even numbers between 0 and n in comma\n",
        "separated form while n is input by console.\n",
        "\n",
        "Example:\n",
        "\n",
        "If the following n is given as input to the program:\n",
        "10\n",
        "\n",
        "Then, the output of the program should be:\n",
        "0,2,4,6,8,10\n",
        "\n"
      ],
      "metadata": {
        "id": "M3bN-B7zkptC"
      }
    },
    {
      "cell_type": "code",
      "source": [
        "def even_numbers(n):\n",
        "    for num in range(n + 1):\n",
        "        if num % 2 == 0 :\n",
        "            yield str(num)\n",
        "\n",
        "# Get input from user\n",
        "n = int(input(\"Enter a number: \"))\n",
        "\n",
        "# Generate the divisible numbers using the generator\n",
        "numbers = even_numbers(n)\n",
        "\n",
        "# Print the numbers as comma-separated\n",
        "print(','.join(numbers))"
      ],
      "metadata": {
        "colab": {
          "base_uri": "https://localhost:8080/"
        },
        "id": "PsE9dgHG7MKK",
        "outputId": "217db95f-2d47-4978-e529-a91c1420cfa9"
      },
      "execution_count": 2,
      "outputs": [
        {
          "output_type": "stream",
          "name": "stdout",
          "text": [
            "Enter a number: 10\n",
            "0,2,4,6,8,10\n"
          ]
        }
      ]
    },
    {
      "cell_type": "markdown",
      "source": [
        "3. The Fibonacci Sequence is computed based on the following formula:\n",
        "\n",
        "f(n)=0 if n=0\n",
        "\n",
        "f(n)=1 if n=1\n",
        "\n",
        "f(n)=f(n-1)+f(n-2) if n&gt;1\n",
        "\n",
        "Please write a program using list comprehension to print the Fibonacci Sequence in comma\n",
        "separated form with a given n input by console.\n",
        "\n",
        "Example:\n",
        "\n",
        "If the following n is given as input to the program:\n",
        "7\n",
        "\n",
        "Then, the output of the program should be:\n",
        "0,1,1,2,3,5,8,13"
      ],
      "metadata": {
        "id": "_tTPgrMwkyjQ"
      }
    },
    {
      "cell_type": "code",
      "source": [
        "def fib(n):\n",
        "    if n <= 1:\n",
        "        return n\n",
        "    else:\n",
        "        return fib(n-1) + fib(n-2)\n",
        "\n",
        "n = int(input(\"Enter a number: \"))\n",
        "\n",
        "fib_sequence = [str(fib(i)) for i in range(n+1)]\n",
        "\n",
        "print(','.join(fib_sequence))"
      ],
      "metadata": {
        "colab": {
          "base_uri": "https://localhost:8080/"
        },
        "id": "cX3du-I38tdD",
        "outputId": "d84270e8-f11c-4443-c8de-79e4e34e3f2d"
      },
      "execution_count": 7,
      "outputs": [
        {
          "output_type": "stream",
          "name": "stdout",
          "text": [
            "Enter a number: 7\n",
            "0,1,1,2,3,5,8,13\n"
          ]
        }
      ]
    },
    {
      "cell_type": "markdown",
      "source": [
        "4. Assuming that we have some email addresses in the &quot;username@companyname.com&quot; format,\n",
        "please write program to print the user name of a given email address. Both user names and\n",
        "company names are composed of letters only.\n",
        "\n",
        "Example:\n",
        "\n",
        "If the following email address is given as input to the program:\n",
        "john@google.com\n",
        "\n",
        "Then, the output of the program should be:\n",
        "john"
      ],
      "metadata": {
        "id": "4jve4mSNkzQa"
      }
    },
    {
      "cell_type": "code",
      "source": [
        "def get_username(email):\n",
        "    username = email.split('@')[0]\n",
        "    return username\n",
        "\n",
        "# Get input from user\n",
        "email_address = input(\"Enter an email address: \")\n",
        "\n",
        "# Get the username from the email address\n",
        "username = get_username(email_address)\n",
        "\n",
        "# Print the username\n",
        "print(\"Username:\", username)"
      ],
      "metadata": {
        "colab": {
          "base_uri": "https://localhost:8080/"
        },
        "id": "dGbXOKM6-iaR",
        "outputId": "7ca0b37c-8bfb-468a-8379-1aa13c201320"
      },
      "execution_count": 8,
      "outputs": [
        {
          "output_type": "stream",
          "name": "stdout",
          "text": [
            "Enter an email address: lgermanlv@gmail.com\n",
            "Username: lgermanlv\n"
          ]
        }
      ]
    },
    {
      "cell_type": "markdown",
      "source": [
        "5. Define a class named Shape and its subclass Square. The Square class has an init function\n",
        "which takes a length as argument.\n",
        "\n",
        "Both classes have a area function which can print the area\n",
        "of the shape where Shape&#39;s area is 0 by default."
      ],
      "metadata": {
        "id": "vTaJdOWnkz4z"
      }
    },
    {
      "cell_type": "code",
      "source": [
        "class Shape:\n",
        "    def __init__(self):\n",
        "        self.area = 0\n",
        "\n",
        "    def calculate_area(self):\n",
        "        print(\"Area of the shape is\", self.area)\n",
        "\n",
        "\n",
        "class Square(Shape):\n",
        "    def __init__(self, length):\n",
        "        super().__init__()\n",
        "        self.length = length\n",
        "\n",
        "    def calculate_area(self):\n",
        "        self.area = self.length * self.length\n",
        "        print(\"Area of the square is\", self.area)\n",
        "\n",
        "\n",
        "# Example usage\n",
        "my_shape = Shape()\n",
        "my_shape.calculate_area()  # Output: Area of the shape is 0\n",
        "\n",
        "my_square = Square(5)\n",
        "my_square.calculate_area()  # Output: Area of the square is 25"
      ],
      "metadata": {
        "colab": {
          "base_uri": "https://localhost:8080/"
        },
        "id": "UsITTOY2_nAP",
        "outputId": "c19f8ea0-d169-47cf-f9dc-6186196a2d7e"
      },
      "execution_count": 12,
      "outputs": [
        {
          "output_type": "stream",
          "name": "stdout",
          "text": [
            "Area of the shape is 0\n",
            "Area of the square is 25\n"
          ]
        }
      ]
    }
  ]
}