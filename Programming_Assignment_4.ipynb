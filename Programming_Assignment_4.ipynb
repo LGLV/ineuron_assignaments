{
  "nbformat": 4,
  "nbformat_minor": 0,
  "metadata": {
    "colab": {
      "provenance": [],
      "authorship_tag": "ABX9TyO6f0ZT0uZV6fKDEmSWXYMe",
      "include_colab_link": true
    },
    "kernelspec": {
      "name": "python3",
      "display_name": "Python 3"
    },
    "language_info": {
      "name": "python"
    }
  },
  "cells": [
    {
      "cell_type": "markdown",
      "metadata": {
        "id": "view-in-github",
        "colab_type": "text"
      },
      "source": [
        "<a href=\"https://colab.research.google.com/github/LGLV/ineuron_assignaments/blob/main/Programming_Assignment_4.ipynb\" target=\"_parent\"><img src=\"https://colab.research.google.com/assets/colab-badge.svg\" alt=\"Open In Colab\"/></a>"
      ]
    },
    {
      "cell_type": "markdown",
      "source": [
        "**1. Write a Python Program to Find the Factorial of a Number?**"
      ],
      "metadata": {
        "id": "suaqE1MdCum-"
      }
    },
    {
      "cell_type": "code",
      "execution_count": null,
      "metadata": {
        "colab": {
          "base_uri": "https://localhost:8080/"
        },
        "id": "XrF9_h32mILI",
        "outputId": "dc256081-1bde-402c-99e2-7cf4c20c52e6"
      },
      "outputs": [
        {
          "output_type": "stream",
          "name": "stdout",
          "text": [
            "Enter a number: 4\n",
            "The factorial of 4, is 24\n"
          ]
        }
      ],
      "source": [
        "factorial = int(input('Enter a number: '))\n",
        "\n",
        "num = 1\n",
        "\n",
        "if factorial < 0: \n",
        "    print('Not factorial for negative numbers')\n",
        "elif factorial == 0:\n",
        "    print('Factorial of 0 is 1.')\n",
        "else:\n",
        "    for i in range(1, factorial+1):\n",
        "        num = num * i\n",
        "    print(f'The factorial of {factorial}, is {num}')\n"
      ]
    },
    {
      "cell_type": "markdown",
      "source": [
        "**2. Write a Python Program to Display the multiplication Table?**"
      ],
      "metadata": {
        "id": "Vz0hc-A8Iiyd"
      }
    },
    {
      "cell_type": "code",
      "source": [
        "num = int(input(\"Display multiplication table of? \"))\n",
        "\n",
        "for i in range(1, 11):\n",
        "   print(num, 'x', i, '=', num*i)"
      ],
      "metadata": {
        "colab": {
          "base_uri": "https://localhost:8080/"
        },
        "id": "x0rFlfw2ooAw",
        "outputId": "f7bd751d-5c8e-44ea-a696-c793d0ca1518"
      },
      "execution_count": null,
      "outputs": [
        {
          "output_type": "stream",
          "name": "stdout",
          "text": [
            "Display multiplication table of? 14\n",
            "14 x 1 = 14\n",
            "14 x 2 = 28\n",
            "14 x 3 = 42\n",
            "14 x 4 = 56\n",
            "14 x 5 = 70\n",
            "14 x 6 = 84\n",
            "14 x 7 = 98\n",
            "14 x 8 = 112\n",
            "14 x 9 = 126\n",
            "14 x 10 = 140\n"
          ]
        }
      ]
    },
    {
      "cell_type": "markdown",
      "source": [
        "**3. Write a Python Program to Print the Fibonacci sequence?**"
      ],
      "metadata": {
        "id": "QcDdZ8HXMYzy"
      }
    },
    {
      "cell_type": "code",
      "source": [
        "nterms = int(input(\"How many terms? \"))\n",
        "\n",
        "# first two terms\n",
        "n1, n2 = 0, 1\n",
        "count = 0\n",
        "\n",
        "# check if the number of terms is valid\n",
        "if nterms <= 0:\n",
        "   print(\"Please enter a positive integer\")\n",
        "# if there is only one term, return n1\n",
        "elif nterms == 1:\n",
        "   print(\"Fibonacci sequence upto\",nterms,\":\")\n",
        "   print(n1)\n",
        "# generate fibonacci sequence\n",
        "else:\n",
        "   print(\"Fibonacci sequence:\")\n",
        "   while count < nterms:\n",
        "       print(n1)\n",
        "       nth = n1 + n2\n",
        "       # update values\n",
        "       n1 = n2\n",
        "       n2 = nth\n",
        "       count += 1"
      ],
      "metadata": {
        "colab": {
          "base_uri": "https://localhost:8080/"
        },
        "id": "1oNcsmE-tMPY",
        "outputId": "d5ffbaed-3630-42e5-8cba-180fbead31a9"
      },
      "execution_count": null,
      "outputs": [
        {
          "output_type": "stream",
          "name": "stdout",
          "text": [
            "How many terms? 7\n",
            "Fibonacci sequence:\n",
            "0\n",
            "1\n",
            "1\n",
            "2\n",
            "3\n",
            "5\n",
            "8\n"
          ]
        }
      ]
    },
    {
      "cell_type": "markdown",
      "source": [
        "**4. Write a Python Program to Check Armstrong Number?**\n",
        "\n",
        "A positive integer is called an Armstrong number of order n if:\n",
        "\n",
        "abcd... = an + bn + cn + dn + ...\n",
        "\n",
        "In case of an Armstrong number of 3 digits, the sum of cubes of each digit is equal to the number itself. For example:\n",
        "\n",
        "153 = 1*1*1 + 5*5*5 + 3*3*3  // 153 is an Armstrong number."
      ],
      "metadata": {
        "id": "Y_8Cfj96fJmk"
      }
    },
    {
      "cell_type": "code",
      "source": [
        "number = int(input('Enter a number:'))\n",
        "\n",
        "def check_number(num):\n",
        "\n",
        "    if num in range(1,10):\n",
        "        return True\n",
        "\n",
        "    power = len(str(num))  # This check the number of digits and equals to power.\n",
        "    sum = 0 # Declare a variable sum and initialize to 0\n",
        "    \n",
        "    start = num\n",
        "    while num > 0:# Ths will take positive numbers only.\n",
        "        digit = num % 10 # Calculating the last digit.\n",
        "        sum += digit**power # Suming the power of the digits.\n",
        "        num = num // 10 # floor division which update number with second last digit as last digit\n",
        "    \n",
        "    if sum == start:\n",
        "        return True\n",
        "    return False\n",
        "\n",
        "if check_number(number):\n",
        "    print(f'{number} is an Armstrong number')\n",
        "else:\n",
        "    print(f'{number} is  not an Armstrong number')"
      ],
      "metadata": {
        "colab": {
          "base_uri": "https://localhost:8080/"
        },
        "id": "YKNCKNM3f17x",
        "outputId": "683fe485-cc23-40b3-fe7b-c132864f9784"
      },
      "execution_count": null,
      "outputs": [
        {
          "output_type": "stream",
          "name": "stdout",
          "text": [
            "Enter a number:9\n",
            "9 is an Armstrong number\n"
          ]
        }
      ]
    },
    {
      "cell_type": "markdown",
      "source": [
        "**5. Write a Python Program to Find Armstrong Number in an Interval?**"
      ],
      "metadata": {
        "id": "JFXe9YbDWSVM"
      }
    },
    {
      "cell_type": "code",
      "source": [
        "init_interval = int(input('Enter the first value: ')) # Enter the lower interval value.\n",
        "last_interval = int(input('Enter the last value: ')) # Enter the upper interval value.\n",
        "\n",
        "\n",
        "for num in range(init_interval,last_interval+1): # Enter the lower and upper interval + 1 because the range excludes the last one by default.\n",
        "    power = len(str(num)) # Find the exponent\n",
        "    sum = 0 # Declare a variable sum and initialize to 0\n",
        "\n",
        "    start = num\n",
        "    while start > 0: # This will take positive numbers only.\n",
        "        digit = start % 10 # get the last digit in the number\n",
        "        sum += digit**power # find digit^power\n",
        "        start //=  10 # floor division which update number with second last digit as last digit\n",
        "\n",
        "    if num == sum:\n",
        "        print (f'{sum}: is an Amstrong number in the interval ({init_interval} - {last_interval})')"
      ],
      "metadata": {
        "colab": {
          "base_uri": "https://localhost:8080/"
        },
        "id": "SKpUNKKMf59j",
        "outputId": "24c09114-798d-47a1-fc01-01246ba4cc7a"
      },
      "execution_count": null,
      "outputs": [
        {
          "output_type": "stream",
          "name": "stdout",
          "text": [
            "Enter the first value: 100\n",
            "Enter the last value: 1000\n",
            "153: is an Amstrong number in the interval (100 - 1000)\n",
            "370: is an Amstrong number in the interval (100 - 1000)\n",
            "371: is an Amstrong number in the interval (100 - 1000)\n",
            "407: is an Amstrong number in the interval (100 - 1000)\n"
          ]
        }
      ]
    },
    {
      "cell_type": "markdown",
      "source": [
        "**6. Write a Python Program to Find the Sum of Natural Numbers?**\n",
        "\n",
        "We can solve the above problem using the following formula.\n",
        "\n",
        "n*(n+1)/2\n"
      ],
      "metadata": {
        "id": "B-gYYVR2rt5W"
      }
    },
    {
      "cell_type": "code",
      "source": [
        "nat_num = int(input('Enter a number: '))\n",
        "\n",
        "def natural_number(nat_num):\n",
        "    if nat_num <= 0:\n",
        "        print('Natural numbers are all positive integers from 1 to infinity')\n",
        "    \n",
        "    else:\n",
        "        return (nat_num*(nat_num+1))/2\n",
        "\n",
        "print(f'The sum of the natural number {nat_num} is: {natural_number(nat_num)}') "
      ],
      "metadata": {
        "colab": {
          "base_uri": "https://localhost:8080/"
        },
        "id": "bIlb_qXMf_2B",
        "outputId": "10a22955-418a-4451-ba14-77dfc9736dd1"
      },
      "execution_count": 12,
      "outputs": [
        {
          "output_type": "stream",
          "name": "stdout",
          "text": [
            "Enter a number: -3\n",
            "Natural numbers are all positive integers from 1 to infinity\n",
            "The sum of the natural number -3 is: None\n"
          ]
        }
      ]
    },
    {
      "cell_type": "code",
      "source": [
        "# Other option \n",
        "\n",
        "# Sum of natural numbers up to num\n",
        "\n",
        "num = int(input('Enter a number: '))\n",
        "\n",
        "if num <= 0:\n",
        "   print(\"Natural numbers are all positive integers from 1 to infinity\")\n",
        "else:\n",
        "   sum = 0\n",
        "   # use while loop to iterate until zero\n",
        "   while(num > 0):\n",
        "       sum += num\n",
        "       num -= 1\n",
        "   print(\"The sum is\", sum)"
      ],
      "metadata": {
        "colab": {
          "base_uri": "https://localhost:8080/"
        },
        "id": "wpxk51Ka0U2i",
        "outputId": "e4140959-9030-465e-9ac3-962f38f42d82"
      },
      "execution_count": 6,
      "outputs": [
        {
          "output_type": "stream",
          "name": "stdout",
          "text": [
            "Enter a number: 3\n",
            "The sum is 6\n"
          ]
        }
      ]
    }
  ]
}