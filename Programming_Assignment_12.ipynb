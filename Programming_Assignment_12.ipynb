{
  "nbformat": 4,
  "nbformat_minor": 0,
  "metadata": {
    "colab": {
      "provenance": [],
      "authorship_tag": "ABX9TyO9oJTWKeps6Etdd4gMa8nh",
      "include_colab_link": true
    },
    "kernelspec": {
      "name": "python3",
      "display_name": "Python 3"
    },
    "language_info": {
      "name": "python"
    }
  },
  "cells": [
    {
      "cell_type": "markdown",
      "metadata": {
        "id": "view-in-github",
        "colab_type": "text"
      },
      "source": [
        "<a href=\"https://colab.research.google.com/github/LGLV/ineuron_assignaments/blob/main/Programming_Assignment_12.ipynb\" target=\"_parent\"><img src=\"https://colab.research.google.com/assets/colab-badge.svg\" alt=\"Open In Colab\"/></a>"
      ]
    },
    {
      "cell_type": "markdown",
      "source": [
        "**1. Write a Python program to Extract Unique values dictionary values?**\n"
      ],
      "metadata": {
        "id": "TrF8plxWsyOM"
      }
    },
    {
      "cell_type": "code",
      "source": [
        "d = {\n",
        "    'key1':'1',\n",
        "    'key2':'2',\n",
        "    'key3':'3',\n",
        "    'key4':'1',\n",
        "    'key5':'2'\n",
        "}\n",
        "\n",
        "def unique_val(dictionary):\n",
        "    unique_val1 = set()\n",
        "    for i in dictionary.values():\n",
        "        unique_val1.update(i)\n",
        "    return(unique_val1)\n",
        "unique_val(d)"
      ],
      "metadata": {
        "colab": {
          "base_uri": "https://localhost:8080/"
        },
        "id": "XPRqcU0RtV7B",
        "outputId": "14460c14-7589-46ec-dc78-566aac4e6457"
      },
      "execution_count": null,
      "outputs": [
        {
          "output_type": "execute_result",
          "data": {
            "text/plain": [
              "{'1', '2', '3'}"
            ]
          },
          "metadata": {},
          "execution_count": 7
        }
      ]
    },
    {
      "cell_type": "code",
      "source": [
        "my_dict = {\n",
        "    'key1': [1, 2, 3],\n",
        "    'key2': [2, 3, 4],\n",
        "    'key3': [3, 4, 5],\n",
        "    'key4': [4, 5, 6]\n",
        "}\n",
        "\n",
        "def unique_val(dictionary):\n",
        "    unique_val1 = set()\n",
        "    for i in dictionary.values():\n",
        "        unique_val1.update(i)\n",
        "    return(unique_val1)\n",
        "unique_val(my_dict)"
      ],
      "metadata": {
        "colab": {
          "base_uri": "https://localhost:8080/"
        },
        "id": "PqvZgByYYdUD",
        "outputId": "21784bec-43c0-4d40-9aef-3f8136684852"
      },
      "execution_count": null,
      "outputs": [
        {
          "output_type": "execute_result",
          "data": {
            "text/plain": [
              "{1, 2, 3, 4, 5, 6}"
            ]
          },
          "metadata": {},
          "execution_count": 4
        }
      ]
    },
    {
      "cell_type": "markdown",
      "source": [
        "**2. Write a Python program to find the sum of all items in a dictionary?**\n"
      ],
      "metadata": {
        "id": "kY00q09Is4EG"
      }
    },
    {
      "cell_type": "code",
      "source": [
        "d2 = {\n",
        "    'n1':2,\n",
        "    'n2':1,\n",
        "    'n3':3\n",
        "    }\n",
        "\n",
        "def sum_items(dic): # First, we def a funct the takes two dict as input.\n",
        "    sum_items = [] # We start with an ampty list, that will take all the vals, in the dict.\n",
        "    for i in dic.values(): # Using a for loop, iterate on each value.\n",
        "        sum_items.append(i) # We appending every value of the dict to the empty list 'sum_items'.\n",
        "\n",
        "    return sum(sum_items) # Finally we return the sum of the values appended to the 'sum_items'.\n",
        "\n",
        "print(f'The sum of all items  in the dictionary \"{d2.values()}\" is: {sum_items(d2)}')"
      ],
      "metadata": {
        "colab": {
          "base_uri": "https://localhost:8080/"
        },
        "id": "Xcb-LBaELqMm",
        "outputId": "cfdb4118-e768-4201-f5fd-1cbd79696657"
      },
      "execution_count": null,
      "outputs": [
        {
          "output_type": "stream",
          "name": "stdout",
          "text": [
            "The sum of all items  in the dictionary \"dict_values([2, 1, 3])\" is: 6\n"
          ]
        }
      ]
    },
    {
      "cell_type": "markdown",
      "source": [
        "**3. Write a Python program to Merging two Dictionaries?**\n"
      ],
      "metadata": {
        "id": "bN6-c9YRs4Qa"
      }
    },
    {
      "cell_type": "code",
      "source": [
        "dict1 = {'name':'Luis Germán', 'last_name': 'López_Valdez', 'nationality': 'Mexican', 'Oficial Linguish':'Spanish'}\n",
        "dict2 = {'profession':'Chemist', 'work':'UACh', 'position':'Researcher', 'age':48}\n",
        "\n",
        "def merge_d(d1, d2):\n",
        "    merege_d = d1.copy()\n",
        "    merege_d.update(d2)\n",
        "    return merege_d\n",
        "\n",
        "merge_d(dict1, dict2)"
      ],
      "metadata": {
        "colab": {
          "base_uri": "https://localhost:8080/"
        },
        "id": "0gDH7YGL7Yya",
        "outputId": "04a1ff4f-dde1-479f-cb62-90dc03cf51ba"
      },
      "execution_count": null,
      "outputs": [
        {
          "output_type": "execute_result",
          "data": {
            "text/plain": [
              "{'name': 'Luis Germán',\n",
              " 'last_name': 'López_Valdez',\n",
              " 'nationality': 'Mexican',\n",
              " 'Oficial_Linguish': 'spanish',\n",
              " 'profession': 'Chemist',\n",
              " 'work': 'UACh',\n",
              " 'position': 'Resercher',\n",
              " 'age': 48}"
            ]
          },
          "metadata": {},
          "execution_count": 2
        }
      ]
    },
    {
      "cell_type": "markdown",
      "source": [
        "**4. Write a Python program to convert key-values list to flat dictionary?**\n"
      ],
      "metadata": {
        "id": "qj-MNtZLs4bw"
      }
    },
    {
      "cell_type": "code",
      "source": [
        "k_v_list = [('name', 'Luis Germán'),\n",
        "            ('last_name', 'López_Valdez'),\n",
        "            ('nationality', 'Mexican'),\n",
        "            ('oficial_Linguish', 'Spanish'),\n",
        "            ('profession', 'Chemist'),\n",
        "            ('work', 'UACh'),\n",
        "            ('position', 'Resercher'),\n",
        "            ('age', 48)]\n",
        "\n",
        "def flatten_dict(key_value_list): # First define a funct called 'flatten_dict', that takes a list of key_val pairs as input.\n",
        "    flat_dict = {} # We start with an empty dict.\n",
        "    for key, value in key_value_list: # Using a for loop, we iterate over each key_value pair, in the list.\n",
        "        flat_dict[key] = value # For each pair, we assign the key as the dict key, and the val as the dict val.\n",
        "    return flat_dict # Then we return the flat dict.\n",
        "\n",
        "flat_dict = flatten_dict(k_v_list)\n",
        "print(flat_dict)"
      ],
      "metadata": {
        "colab": {
          "base_uri": "https://localhost:8080/"
        },
        "id": "lYcelejy_ltM",
        "outputId": "42006fa9-61ee-442d-e62b-327fdf2899cf"
      },
      "execution_count": null,
      "outputs": [
        {
          "output_type": "stream",
          "name": "stdout",
          "text": [
            "{'name': 'Luis Germán', 'last_name': 'López_Valdez', 'nationality': 'Mexican', 'oficial_Linguish': 'Spanish', 'profession': 'Chemist', 'work': 'UACh', 'position': 'Resercher', 'age': 48}\n"
          ]
        }
      ]
    },
    {
      "cell_type": "markdown",
      "source": [
        "**5. Write a Python program to insertion at the beginning in OrderedDict?**\n"
      ],
      "metadata": {
        "id": "g-lJn5Tks4nw"
      }
    },
    {
      "cell_type": "code",
      "source": [
        "from collections import OrderedDict\n",
        "\n",
        "# Initialising ordered_dict\n",
        "ini_dict = OrderedDict([('name', 'Luis Germán'),\n",
        "            ('last_name', 'López_Valdez'),\n",
        "            ('nationality', 'Mexican'),\n",
        "            ('oficial_Linguish', 'Spanish'),\n",
        "            ('profession', 'Chemist'),\n",
        "            ('work', 'UACh'),\n",
        "            ('position', 'Resercher'),\n",
        "            ('age', 48)])\n",
        "\n",
        "# Creating a iniordered ordered dict\n",
        "iniordered_dict = OrderedDict()\n",
        "\n",
        "# Inserting new key-value pair at the beginning of iniordered_dict\n",
        "iniordered_dict.update({'gendre':'male'})\n",
        "iniordered_dict.move_to_end('gendre', last = False)\n",
        "\n",
        "# popitem() method to remove and insert key-value pair at beginning\n",
        "while ini_dict:\n",
        "    iniordered_dict.update({ini_dict.popitem(last=False)})\n",
        "\n",
        "# Print result\n",
        "print(\"Resultant Dictionary :\" + str(iniordered_dict))\n",
        "\n"
      ],
      "metadata": {
        "colab": {
          "base_uri": "https://localhost:8080/"
        },
        "id": "J2DAWEknMVAF",
        "outputId": "86751ce3-c902-4a4b-ba24-432261bea857"
      },
      "execution_count": 2,
      "outputs": [
        {
          "output_type": "stream",
          "name": "stdout",
          "text": [
            "Resultant Dictionary :OrderedDict([('gendre', 'male'), ('name', 'Luis Germán'), ('last_name', 'López_Valdez'), ('nationality', 'Mexican'), ('oficial_Linguish', 'Spanish'), ('profession', 'Chemist'), ('work', 'UACh'), ('position', 'Resercher'), ('age', 48)])\n"
          ]
        }
      ]
    },
    {
      "cell_type": "markdown",
      "source": [
        "**6. Write a Python program to check order of character in string using OrderedDict()?**\n"
      ],
      "metadata": {
        "id": "ftb-WJXas4y4"
      }
    },
    {
      "cell_type": "code",
      "source": [
        "from collections import OrderedDict\n",
        "\n",
        "string = 'Hello iNeuron world'\n",
        "pattern = 'loiN'\n",
        "\n",
        "def check_order_of_characters(string, pattern):\n",
        "    # Create an ordered dictionary to store the occurrences of characters\n",
        "    char_dict = OrderedDict.fromkeys(pattern)\n",
        "\n",
        "    # Initialize all values to zero\n",
        "    for key in char_dict:\n",
        "        char_dict[key] = 0\n",
        "\n",
        "    # Traverse the string and update the occurrences of characters\n",
        "    for char in string:\n",
        "        if char in char_dict:\n",
        "            char_dict[char] += 1\n",
        "\n",
        "    # Check if the characters occur in the same order as the pattern\n",
        "    for key in char_dict:\n",
        "        if char_dict[key] == 0:\n",
        "            return False\n",
        "\n",
        "    return True\n",
        "\n",
        "# Example usage\n",
        "result = check_order_of_characters(string, pattern)\n",
        "print(result)"
      ],
      "metadata": {
        "colab": {
          "base_uri": "https://localhost:8080/"
        },
        "id": "neKd8C28wHxo",
        "outputId": "7f50293c-498b-4c7f-f67f-56a8c04a625a"
      },
      "execution_count": 23,
      "outputs": [
        {
          "output_type": "stream",
          "name": "stdout",
          "text": [
            "True\n"
          ]
        }
      ]
    },
    {
      "cell_type": "code",
      "source": [
        "from collections import OrderedDict\n",
        "string = 'Hello iNeuron world'\n",
        "pattern = 'loiN'\n",
        "def check_order_of_characters(string, pattern):\n",
        "    # Create an OrderedDict to keep track of the order of characters\n",
        "    order_dict = OrderedDict.fromkeys(string)\n",
        "\n",
        "    # Iterate over the pattern and check the order in the OrderedDict\n",
        "    pattern_index = 0\n",
        "    for char in order_dict:\n",
        "        if pattern_index >= len(pattern):\n",
        "            # All characters in the pattern have been found in the string\n",
        "            break\n",
        "\n",
        "        if char == pattern[pattern_index]:\n",
        "            # Current character in the OrderedDict matches the next character in the pattern\n",
        "            pattern_index += 1\n",
        "\n",
        "    # Check if all characters in the pattern were found in the string in the same order\n",
        "    return pattern_index == len(pattern)\n",
        "\n",
        "\n",
        "# Test the function\n",
        "result = check_order_of_characters(string, pattern)\n",
        "print(result)"
      ],
      "metadata": {
        "colab": {
          "base_uri": "https://localhost:8080/"
        },
        "id": "SQJNHxKh1wtt",
        "outputId": "2e999dc2-b6b9-4700-bccc-6c0f67a93c68"
      },
      "execution_count": 20,
      "outputs": [
        {
          "output_type": "stream",
          "name": "stdout",
          "text": [
            "True\n"
          ]
        }
      ]
    },
    {
      "cell_type": "markdown",
      "source": [
        "**7. Write a Python program to sort Python Dictionaries by Key or Value?**"
      ],
      "metadata": {
        "id": "xO1jRwL3s4-Y"
      }
    },
    {
      "cell_type": "code",
      "source": [
        "my_dict = {'name': 'Luis Germán',\n",
        "           'last_name': 'López_Valdez',\n",
        "           'nationality': 'Mexican',\n",
        "           'Oficial_idiom': 'spanish',\n",
        "           'profession': 'Chemist',\n",
        "           'work': 'UACh',\n",
        "           'position': 'Resercher',\n",
        "           'age': '48'}\n",
        "\n",
        "def sort_dict_key(d): # In this program, the sort_dict_key function takes a dictionary as input.\n",
        "    sorted_dict = dict(sorted(d.items(), key=lambda x: x[0])) # It uses the sorted() function with a lambda function as the key argument.\n",
        "                                                              # The lambda function lambda x: x[0] extracts the keys from the dictionary items to perform the sorting.\n",
        "                                                              # The resulting sorted items are then converted back into a dictionary using the dict() function.\n",
        "    return sorted_dict\n",
        "\n",
        "def sort_dict_val(d): # the sort_dict_val function takes a dictionary as input.\n",
        "    sorted_dict = dict(sorted(d.items(), key=lambda x: x[1]) )# and uses the sorted() function with a lambda function lambda x: x[1] as the key argument.\n",
        "                                                              # This lambda function extracts the values from the dictionary items to perform the sorting.\n",
        "    return sorted_dict\n",
        "\n",
        "sort_dict_by_key = sort_dict_key(my_dict)\n",
        "print('Sorted by keys:\\n',sort_dict_by_key)\n",
        "\n",
        "sort_dict_by_val = sort_dict_val(my_dict)\n",
        "print('Sorted by values:\\n',sort_dict_by_val)\n"
      ],
      "metadata": {
        "id": "rpGEb5_yKdtm",
        "colab": {
          "base_uri": "https://localhost:8080/"
        },
        "outputId": "1bd93a2a-a0bc-4579-f321-e2d69bc11682"
      },
      "execution_count": 34,
      "outputs": [
        {
          "output_type": "stream",
          "name": "stdout",
          "text": [
            "Sorted by keys:\n",
            " {'Oficial_idiom': 'spanish', 'age': '48', 'last_name': 'López_Valdez', 'name': 'Luis Germán', 'nationality': 'Mexican', 'position': 'Resercher', 'profession': 'Chemist', 'work': 'UACh'}\n",
            "Sorted by values:\n",
            " {'age': '48', 'profession': 'Chemist', 'name': 'Luis Germán', 'last_name': 'López_Valdez', 'nationality': 'Mexican', 'position': 'Resercher', 'work': 'UACh', 'Oficial_idiom': 'spanish'}\n"
          ]
        }
      ]
    }
  ]
}