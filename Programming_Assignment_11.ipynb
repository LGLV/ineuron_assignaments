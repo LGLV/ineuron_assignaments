{
  "nbformat": 4,
  "nbformat_minor": 0,
  "metadata": {
    "colab": {
      "provenance": [],
      "authorship_tag": "ABX9TyMMp0QGPQvryx+WQveklYXM",
      "include_colab_link": true
    },
    "kernelspec": {
      "name": "python3",
      "display_name": "Python 3"
    },
    "language_info": {
      "name": "python"
    }
  },
  "cells": [
    {
      "cell_type": "markdown",
      "metadata": {
        "id": "view-in-github",
        "colab_type": "text"
      },
      "source": [
        "<a href=\"https://colab.research.google.com/github/LGLV/ineuron_assignaments/blob/main/Programming_Assignment_11.ipynb\" target=\"_parent\"><img src=\"https://colab.research.google.com/assets/colab-badge.svg\" alt=\"Open In Colab\"/></a>"
      ]
    },
    {
      "cell_type": "markdown",
      "source": [
        "**1. Write a Python program to find words which are greater than given length k?**\n"
      ],
      "metadata": {
        "id": "-fUtRltZPVPG"
      }
    },
    {
      "cell_type": "code",
      "source": [
        "sentence = 'This is a proof of length of words'\n",
        "k = 4\n",
        "\n",
        "def length(sentence, k):\n",
        "    words = sentence.split()\n",
        "    len_word = []\n",
        "\n",
        "    for word in words:\n",
        "        if len(word) > k:\n",
        "            len_word.append(word)\n",
        "    return(len_word)\n",
        "\n",
        "print(f'The words that are larger than {k} are: {length(sentence, k)}.')"
      ],
      "metadata": {
        "colab": {
          "base_uri": "https://localhost:8080/"
        },
        "id": "75MrKPyeXQdJ",
        "outputId": "ad7ceb94-139a-4320-9749-e639f2277319"
      },
      "execution_count": null,
      "outputs": [
        {
          "output_type": "stream",
          "name": "stdout",
          "text": [
            "The words that are larger than 4 are: ['proof', 'length', 'words'].\n"
          ]
        }
      ]
    },
    {
      "cell_type": "markdown",
      "source": [
        "**2. Write a Python program for removing i-th character from a string?**\n"
      ],
      "metadata": {
        "id": "cMVaG0N9PXmw"
      }
    },
    {
      "cell_type": "code",
      "source": [
        "string = input('Enter a string: ')\n",
        "i_th_chara = int(input('Enter the index of the ith string´s character to remove:'))\n",
        "\n",
        "def remove_chara(string, i):\n",
        "    if i <= 0 or i >= len(string): # It reviews if the index is within the valid range of the string.\n",
        "        return string # if not, it returns the original string.\n",
        "    return string[:i] + string[i+1:] # Otherwise, it concatenates the substring before the ith character (string[:i]),\n",
        "                                     # with the substring after the ith character (string[i+1:]).\n",
        "\n",
        "output = remove_chara(string, i_th_chara)\n",
        "print(f'Removing the {i_th_chara}th character the string results like: {output}')\n"
      ],
      "metadata": {
        "colab": {
          "base_uri": "https://localhost:8080/"
        },
        "id": "dfrYYWLRxucV",
        "outputId": "e593e991-26be-4f52-faff-3fc5bdf7c8e5"
      },
      "execution_count": 24,
      "outputs": [
        {
          "output_type": "stream",
          "name": "stdout",
          "text": [
            "Enter a string: l love iNeuron\n",
            "Enter the index of the ith string´s character to remove:-1\n",
            "Removing the -1th character the string results like: l love iNeuron\n"
          ]
        }
      ]
    },
    {
      "cell_type": "code",
      "source": [
        "def remove_char(s, i):\n",
        "    a = s[ : i] # a takes all the indexes before the ith removed index, the last one is not taken.\n",
        "    b = s[i + 1: ] # b takes since one index after the ith removed index.\n",
        "\n",
        "    return a+b # Then concatenates a + b, where not ith index exist..\n",
        "\n",
        "string = input('Enter a string: ')\n",
        "i_th_chara = int(input('Enter the index of the ith string´s character to remove: '))\n",
        "print(remove_char(string,i_th_chara))"
      ],
      "metadata": {
        "colab": {
          "base_uri": "https://localhost:8080/"
        },
        "id": "d6HKEKYt3OHd",
        "outputId": "bded8189-d2b0-47ee-cd7c-f1bef4fa2794"
      },
      "execution_count": 29,
      "outputs": [
        {
          "output_type": "stream",
          "name": "stdout",
          "text": [
            "Enter a string: l love iNeuron\n",
            "Enter the index of the ith string´s character to remove: -2\n",
            "l love iNeurn\n"
          ]
        }
      ]
    },
    {
      "cell_type": "markdown",
      "source": [
        "**3. Write a Python program to split and join a string?**\n"
      ],
      "metadata": {
        "id": "5pX6b4xYPXzs"
      }
    },
    {
      "cell_type": "code",
      "source": [
        "string = input('Enter a string: ')\n",
        "delimiter = input('Enter a delimiter: ')\n",
        "\n",
        "def split_and_join(string, delimiter):\n",
        "    string_del = string.split(delimiter) # Split the string in to a list of substrings, sepatarated with the specified delimiter.\n",
        "    string_join = ' '.join(string_del) # Join the substrings using a space as the new delimiter\n",
        "    return string_join\n",
        "\n",
        "result = split_and_join(string, delimiter)\n",
        "print(f'The joined result is: {result}')"
      ],
      "metadata": {
        "colab": {
          "base_uri": "https://localhost:8080/"
        },
        "id": "N3Df9o9Q8IfN",
        "outputId": "56d57384-5872-4b2a-cf49-aab9073255ce"
      },
      "execution_count": 120,
      "outputs": [
        {
          "output_type": "stream",
          "name": "stdout",
          "text": [
            "Enter a string: I love iNeuron\n",
            "Enter a delimiter: ,\n",
            "The joined result is: I love iNeuron\n"
          ]
        }
      ]
    },
    {
      "cell_type": "markdown",
      "source": [
        "**4. Write a Python to check if a given string is binary string or not?**\n"
      ],
      "metadata": {
        "id": "rS5q-o_wW856"
      }
    },
    {
      "cell_type": "code",
      "source": [
        "string1 = input('Enter a string: ')\n",
        "def bin_notbin(string):\n",
        "    for i in string:\n",
        "        if i != '0' and i != '1':\n",
        "            return False\n",
        "        return True\n",
        "\n",
        "output = bin_notbin(string1)\n",
        "\n",
        "if output:\n",
        "    print(f'The string \"{string1}\" is binary.')\n",
        "else:\n",
        "    print(f'The string \"{string1}\" is not binary.')"
      ],
      "metadata": {
        "colab": {
          "base_uri": "https://localhost:8080/"
        },
        "id": "1WPlDBCIIZtG",
        "outputId": "cd2fb88c-eae7-4fdf-ad32-1a5e1b1baa10"
      },
      "execution_count": 69,
      "outputs": [
        {
          "output_type": "stream",
          "name": "stdout",
          "text": [
            "Enter a string: 10000100010111\n",
            "The string \"10000100010111\" is binary.\n"
          ]
        }
      ]
    },
    {
      "cell_type": "code",
      "source": [
        "# Another manner\n",
        "\n",
        "import re\n",
        "string = input('Enter a string: ')\n",
        "\n",
        "def bin_not_bin(string):\n",
        "    bin = r'^[01]+$'\n",
        "    if re.match(bin, string):\n",
        "        return True\n",
        "    return False\n",
        "if bin_not_bin(string):\n",
        "    print(f'The string \"{string}\" is binary.')\n",
        "else:\n",
        "    print(f'The string \"{string}\" is not binary.')"
      ],
      "metadata": {
        "colab": {
          "base_uri": "https://localhost:8080/"
        },
        "id": "adgQOfsh9T-d",
        "outputId": "1e676a8a-d1c2-4e89-e1b9-29fdee677d06"
      },
      "execution_count": 71,
      "outputs": [
        {
          "output_type": "stream",
          "name": "stdout",
          "text": [
            "Enter a string: 100001111\n",
            "The string \"100001111\" is binary.\n"
          ]
        }
      ]
    },
    {
      "cell_type": "markdown",
      "source": [
        "**5. Write a Python program to find uncommon words from two Strings?**\n"
      ],
      "metadata": {
        "id": "t-CMlHufW8s8"
      }
    },
    {
      "cell_type": "code",
      "source": [
        "string1 = input('Enter the fist string: ')\n",
        "string2 = input('Enter the second string: ')\n",
        "\n",
        "comm = []\n",
        "uncomm = []\n",
        "\n",
        "def uncomm_w(str1, str2):\n",
        "    str1 = str1.split()\n",
        "    str2 = str2.split()\n",
        "    for i in str1:\n",
        "        if i not in str2:\n",
        "            uncomm.append(i)\n",
        "        elif i in str2:\n",
        "            comm.append(i)\n",
        "\n",
        "    for i in str2:\n",
        "        if i not in  str1:\n",
        "            uncomm.append(i)\n",
        "\n",
        "    return(uncomm)\n",
        "    return(comm)\n",
        "print(f'The uncommun words are: {uncomm_w(string1, string2)}')\n",
        "print(f'The commun words are: {comm}')"
      ],
      "metadata": {
        "colab": {
          "base_uri": "https://localhost:8080/"
        },
        "id": "G_c_XYDhG8Qh",
        "outputId": "57f42971-8623-43c4-c0b3-1cae1a9b83d3"
      },
      "execution_count": 97,
      "outputs": [
        {
          "output_type": "stream",
          "name": "stdout",
          "text": [
            "Enter the fist string: I love iNeuron\n",
            "Enter the second string: I love to learn in iNeuron\n",
            "The uncommun words are: ['to', 'learn', 'in']\n",
            "The commun words are: ['I', 'love', 'iNeuron']\n"
          ]
        }
      ]
    },
    {
      "cell_type": "markdown",
      "source": [
        "**6. Write a Python to find all duplicate characters in string?**\n"
      ],
      "metadata": {
        "id": "bHnanouxW8VN"
      }
    },
    {
      "cell_type": "code",
      "source": [
        "string = input('Enter a string: ')\n",
        "# Counting every characters of the string\n",
        "count = []\n",
        "for i in string:\n",
        "    if string.count(i) > 1:\n",
        "        if i not in count:\n",
        "            if i != ' ':\n",
        "                count.append(i)\n",
        "\n",
        "print(f'The duplicated characters in the string \"{string}\" \\nare: {count}')"
      ],
      "metadata": {
        "colab": {
          "base_uri": "https://localhost:8080/"
        },
        "id": "ay0_RCiFbpJZ",
        "outputId": "03c37cf2-f4b3-41d5-831f-d0860bd338c1"
      },
      "execution_count": 126,
      "outputs": [
        {
          "output_type": "stream",
          "name": "stdout",
          "text": [
            "Enter a string: I love iNeuron\n",
            "The duplicated characters in the string \"I love iNeuron\" \n",
            "are:['o', 'e']\n"
          ]
        }
      ]
    },
    {
      "cell_type": "markdown",
      "source": [
        "**7. Write a Python Program to check if a string contains any special character?**"
      ],
      "metadata": {
        "id": "9uj5uKCDW7uJ"
      }
    },
    {
      "cell_type": "code",
      "execution_count": 135,
      "metadata": {
        "id": "ObvaoGYCPJCk",
        "colab": {
          "base_uri": "https://localhost:8080/"
        },
        "outputId": "8953ca04-df6e-457f-e956-a4592e8ec9f7"
      },
      "outputs": [
        {
          "output_type": "stream",
          "name": "stdout",
          "text": [
            "Enter a string: iNeuron makes you earn lots of $$$\n",
            "The string \"iNeuron makes you earn lots of $$$\",\n",
            "is not accepted, contains special characters.\n"
          ]
        }
      ],
      "source": [
        "import re\n",
        "\n",
        "string = input('Enter a string: ')\n",
        "\n",
        "def spe_char(stg):\n",
        "    s_char = r'[!@#$%^&*(),.?\":{}|<>]'\n",
        "\n",
        "    coinci = re.match(s_char, stg)\n",
        "    if coinci:\n",
        "        return False\n",
        "    return True\n",
        "\n",
        "output = spe_char(string)\n",
        "\n",
        "if output:\n",
        "    print(f'The string \"{string}\",\\nis not accepted, contains special characters.')\n",
        "else:\n",
        "    print(f'The string \"{string}\",\\nis accepted, not contains special characters.')\n"
      ]
    }
  ]
}