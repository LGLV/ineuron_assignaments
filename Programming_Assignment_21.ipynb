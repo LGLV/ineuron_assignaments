{
  "nbformat": 4,
  "nbformat_minor": 0,
  "metadata": {
    "colab": {
      "provenance": [],
      "authorship_tag": "ABX9TyPvrvDcBTzh/EdOOA5xMDKM",
      "include_colab_link": true
    },
    "kernelspec": {
      "name": "python3",
      "display_name": "Python 3"
    },
    "language_info": {
      "name": "python"
    }
  },
  "cells": [
    {
      "cell_type": "markdown",
      "metadata": {
        "id": "view-in-github",
        "colab_type": "text"
      },
      "source": [
        "<a href=\"https://colab.research.google.com/github/LGLV/ineuron_assignaments/blob/main/Programming_Assignment_21.ipynb\" target=\"_parent\"><img src=\"https://colab.research.google.com/assets/colab-badge.svg\" alt=\"Open In Colab\"/></a>"
      ]
    },
    {
      "cell_type": "markdown",
      "source": [
        "Question 1\n",
        "Write a function that takes a list and a number as arguments. Add the number to the end of\n",
        "the list, then remove the first element of the list. The function should then return the updated\n",
        "list.\n",
        "\n",
        "Examples\n",
        "\n",
        "next_in_line([5, 6, 7, 8, 9], 1) ➞ [6, 7, 8, 9, 1]\n",
        "\n",
        "next_in_line([7, 6, 3, 23, 17], 10) ➞ [6, 3, 23, 17, 10]\n",
        "\n",
        "next_in_line([1, 10, 20, 42 ], 6) ➞ [10, 20, 42, 6]\n",
        "\n",
        "next_in_line([], 6) ➞ &quot;No list has been selected&quot;"
      ],
      "metadata": {
        "id": "vsh9dt1tcUMq"
      }
    },
    {
      "cell_type": "code",
      "execution_count": 1,
      "metadata": {
        "colab": {
          "base_uri": "https://localhost:8080/"
        },
        "id": "7hujtcVhb2cu",
        "outputId": "88207014-05c3-452a-86d6-fc8c12f36972"
      },
      "outputs": [
        {
          "output_type": "stream",
          "name": "stdout",
          "text": [
            "[6, 7, 8, 9, 1]\n",
            "[6, 3, 23, 17, 10]\n",
            "[10, 20, 42, 6]\n",
            "No list has been selected\n"
          ]
        }
      ],
      "source": [
        "def next_in_line(lst, num):\n",
        "    if not lst:  # Check if the list is empty\n",
        "        return \"No list has been selected\"\n",
        "\n",
        "    lst.append(num)  # Add the number to the end of the list\n",
        "    lst.pop(0)      # Remove the first element of the list\n",
        "    return lst      # Return the updated list\n",
        "\n",
        "# Ejemplos\n",
        "print(next_in_line([5, 6, 7, 8, 9], 1))      # ➞ [6, 7, 8, 9, 1]\n",
        "print(next_in_line([7, 6, 3, 23, 17], 10))   # ➞ [6, 3, 23, 17, 10]\n",
        "print(next_in_line([1, 10, 20, 42], 6))      # ➞ [10, 20, 42, 6]\n",
        "print(next_in_line([], 6))                    # ➞ \"No list has been selected\"\n"
      ]
    },
    {
      "cell_type": "markdown",
      "source": [
        "Question 2\n",
        "Create the function that takes a list of dictionaries and returns the sum of people&#39;s budgets.\n",
        "\n",
        "Examples\n",
        "\n",
        "get_budgets([\n",
        "\n",
        "{ &quot;name&quot;: &quot;John&quot;, &quot;age&quot;: 21, &quot;budget&quot;: 23000 },\n",
        "\n",
        "{ &quot;name&quot;: &quot;Steve&quot;, &quot;age&quot;: 32, &quot;budget&quot;: 40000 },\n",
        "\n",
        "{ &quot;name&quot;: &quot;Martin&quot;, &quot;age&quot;: 16, &quot;budget&quot;: 2700 }\n",
        "]) ➞ 65700\n",
        "\n",
        "get_budgets([\n",
        "    \n",
        "{ &quot;name&quot;: &quot;John&quot;, &quot;age&quot;: 21, &quot;budget&quot;: 29000 },\n",
        "\n",
        "{ &quot;name&quot;: &quot;Steve&quot;, &quot;age&quot;: 32, &quot;budget&quot;: 32000 },\n",
        "\n",
        "{ &quot;name&quot;: &quot;Martin&quot;, &quot;age&quot;: 16, &quot;budget&quot;: 1600 }\n",
        "]) ➞ 62600"
      ],
      "metadata": {
        "id": "xuvK5D81dFa-"
      }
    },
    {
      "cell_type": "code",
      "source": [
        "def get_budgets(lst):\n",
        "    total_budget = 0  # Initialize total budget to 0\n",
        "    for person in lst:  # Iterate through each dictionary in the list\n",
        "        total_budget += person.get(\"budget\", 0)  # Add the budget to total (default to 0 if not found)\n",
        "    return total_budget  # Return the total budget\n",
        "\n",
        "# Test cases\n",
        "print(get_budgets([\n",
        "    {\"name\": \"John\", \"age\": 21, \"budget\": 23000},\n",
        "    {\"name\": \"Steve\", \"age\": 32, \"budget\": 40000},\n",
        "    {\"name\": \"Martin\", \"age\": 16, \"budget\": 2700}\n",
        "]))  # ➞ 65700\n",
        "\n",
        "print(get_budgets([\n",
        "    {\"name\": \"John\", \"age\": 21, \"budget\": 29000},\n",
        "    {\"name\": \"Steve\", \"age\": 32, \"budget\": 32000},\n",
        "    {\"name\": \"Martin\", \"age\": 16, \"budget\": 1600}\n",
        "]))  # ➞ 62600\n"
      ],
      "metadata": {
        "colab": {
          "base_uri": "https://localhost:8080/"
        },
        "id": "yALsbQQsdFBG",
        "outputId": "b457a470-bcf1-475a-a5c1-d30dacb41bef"
      },
      "execution_count": 2,
      "outputs": [
        {
          "output_type": "stream",
          "name": "stdout",
          "text": [
            "65700\n",
            "62600\n"
          ]
        }
      ]
    },
    {
      "cell_type": "markdown",
      "source": [
        "Question 3\n",
        "Create a function that takes a string and returns a string with its letters in alphabetical order.\n",
        "\n",
        "Examples\n",
        "\n",
        "alphabet_soup(&quot;hello&quot;) ➞ &quot;ehllo&quot;\n",
        "\n",
        "alphabet_soup(&quot;edabit&quot;) ➞ &quot;abdeit&quot;\n",
        "\n",
        "alphabet_soup(&quot;hacker&quot;) ➞ &quot;acehkr&quot;\n",
        "\n",
        "alphabet_soup(&quot;geek&quot;) ➞ &quot;eegk&quot;\n",
        "\n",
        "alphabet_soup(&quot;javascript&quot;) ➞ &quot;aacijprstv&quot;"
      ],
      "metadata": {
        "id": "EeZdIdDueLtb"
      }
    },
    {
      "cell_type": "code",
      "source": [
        "def alpha(word):\n",
        "    r = ''\n",
        "    for i in sorted(word):\n",
        "        r += i\n",
        "    return r\n",
        "\n",
        "print(alpha(\"hello\"))\n",
        "print(alpha(\"edabit\"))\n",
        "print(alpha(\"hacker\"))\n",
        "print(alpha(\"geek\"))\n",
        "print(alpha(\"javascript\"))"
      ],
      "metadata": {
        "colab": {
          "base_uri": "https://localhost:8080/"
        },
        "id": "Y0tGgyHBfSTr",
        "outputId": "bdd239de-0788-4ac2-9487-8e86776bbaac"
      },
      "execution_count": 5,
      "outputs": [
        {
          "output_type": "stream",
          "name": "stdout",
          "text": [
            "ehllo\n",
            "abdeit\n",
            "acehkr\n",
            "eegk\n",
            "aacijprstv\n"
          ]
        }
      ]
    },
    {
      "cell_type": "code",
      "source": [
        "def alphabet_soup(s):\n",
        "    return ''.join(sorted(s))\n",
        "\n",
        "print(alphabet_soup(\"hello\")) # ➞ \"ehllo\"\n",
        "\n",
        "print(alphabet_soup(\"edabit\")) # ➞ \"abdeit\"\n",
        "\n",
        "print(alphabet_soup(\"hacker\")) # ➞ \"acehkr\"\n",
        "\n",
        "print(alphabet_soup(\"geek\")) # ➞ \"eegk\"\n",
        "\n",
        "print(alphabet_soup(\"javascript\")) # ➞ \"aacijprstv\")"
      ],
      "metadata": {
        "colab": {
          "base_uri": "https://localhost:8080/"
        },
        "id": "nN6k9IJZeK-d",
        "outputId": "72dff40a-7e13-4845-ab60-5c20d6c8726f"
      },
      "execution_count": 4,
      "outputs": [
        {
          "output_type": "stream",
          "name": "stdout",
          "text": [
            "ehllo\n",
            "abdeit\n",
            "acehkr\n",
            "eegk\n",
            "aacijprstv\n"
          ]
        }
      ]
    },
    {
      "cell_type": "markdown",
      "source": [
        "Question 4\n",
        "Suppose that you invest $10,000 for 10 years at an interest rate of 6% compounded monthly.\n",
        "What will be the value of your investment at the end of the 10 year period?\n",
        "Create a function that accepts:\n",
        "\n",
        "the principal **p**,\n",
        "\n",
        "the term in years **t**,\n",
        "\n",
        "the interest rate **r**,\n",
        "\n",
        "and the number of compounding periods per year **n**.\n",
        "\n",
        "The function returns the value at the end of term\n",
        "rounded to the nearest cent.\n",
        "For the example above:\n",
        "\n",
        "compound_interest(10000, 10, 0.06, 12) ➞ 18193.97\n",
        "\n",
        "Note that the interest rate is given as a decimal and n=12 because with monthly compounding\n",
        "there are 12 periods per year. Compounding can also be done annually, quarterly, weekly, or\n",
        "daily.\n",
        "\n",
        "Examples\n",
        "\n",
        "compound_interest(100, 1, 0.05, 1) ➞ 105.0\n",
        "\n",
        "compound_interest(3500, 15, 0.1, 4) ➞ 15399.26\n",
        "\n",
        "compound_interest(100000, 20, 0.15, 365) ➞ 2007316.26"
      ],
      "metadata": {
        "id": "cZ2P0f3Vf6qk"
      }
    },
    {
      "cell_type": "code",
      "source": [
        "def compound_interest(p, t, r, n):\n",
        "    # Calculate the amount using the compound interest formula\n",
        "    A = p * (1 + r / n) ** (n * t)\n",
        "    return round(A, 2)  # Round to the nearest cent\n",
        "\n",
        "# Test cases\n",
        "print(compound_interest(10000, 10, 0.06, 12))        # ➞ 18193.97\n",
        "print(compound_interest(100, 1, 0.05, 1))            # ➞ 105.0\n",
        "print(compound_interest(3500, 15, 0.1, 4))           # ➞ 15399.26\n",
        "print(compound_interest(100000, 20, 0.15, 365))      # ➞ 2007316.26\n"
      ],
      "metadata": {
        "colab": {
          "base_uri": "https://localhost:8080/"
        },
        "id": "Upnatiz8hD2i",
        "outputId": "3ab1d32d-f659-49b0-9e48-92c394b6b445"
      },
      "execution_count": 6,
      "outputs": [
        {
          "output_type": "stream",
          "name": "stdout",
          "text": [
            "18193.97\n",
            "105.0\n",
            "15399.26\n",
            "2007316.26\n"
          ]
        }
      ]
    },
    {
      "cell_type": "markdown",
      "source": [
        "Question 5\n",
        "Write a function that takes a list of elements and returns only the integers.\n",
        "Examples\n",
        "\n",
        "return_only_integer([9, 2, &quot;space&quot;, &quot;car&quot;, &quot;lion&quot;, 16]) ➞ [9, 2, 16]\n",
        "\n",
        "return_only_integer([&quot;hello&quot;, 81, &quot;basketball&quot;, 123, &quot;fox&quot;]) ➞ [81, 123]\n",
        "\n",
        "return_only_integer([10, &quot;121&quot;, 56, 20, &quot;car&quot;, 3, &quot;lion&quot;]) ➞ [10, 56, 20,\n",
        "3]\n",
        "\n",
        "return_only_integer([&quot;String&quot;, True, 3.3, 1]) ➞ [1]"
      ],
      "metadata": {
        "id": "D_6plZT-jXe_"
      }
    },
    {
      "cell_type": "code",
      "source": [
        "def lis_int(lst):\n",
        "    return[i for i in lst if isinstance(i, int)]\n",
        "\n",
        "print(lis_int([9, 2, \"space\", \"car\", \"lion\", 16]))\n",
        "print(lis_int([\"hello\", 81, \"basketball\", 123, \"fox\"]))\n",
        "print(lis_int([10, \"121\", 56, 20, \"car\", 3, \"lion\"]))"
      ],
      "metadata": {
        "colab": {
          "base_uri": "https://localhost:8080/"
        },
        "id": "WXXliqihiZXn",
        "outputId": "17246042-9941-4d87-8efb-80c224bb1434"
      },
      "execution_count": 12,
      "outputs": [
        {
          "output_type": "stream",
          "name": "stdout",
          "text": [
            "[9, 2, 16]\n",
            "[81, 123]\n",
            "[10, 56, 20, 3]\n"
          ]
        }
      ]
    },
    {
      "cell_type": "code",
      "source": [
        "def l_i(lst):\n",
        "    r = []\n",
        "    for i in lst:\n",
        "        if type(i) == int:\n",
        "            r.append(i)\n",
        "    return r\n",
        "\n",
        "print(l_i([9, 2, \"space\", \"car\", \"lion\", 16]))\n",
        "print(l_i([\"hello\", 81, \"basketball\", 123, \"fox\"]))\n",
        "print(l_i([10, \"121\", 56, 20, \"car\", 3, \"lion\"]))"
      ],
      "metadata": {
        "colab": {
          "base_uri": "https://localhost:8080/"
        },
        "id": "oOtabOtGkxmT",
        "outputId": "d1d3a05e-0143-471c-d978-4406b42e6dbb"
      },
      "execution_count": 18,
      "outputs": [
        {
          "output_type": "stream",
          "name": "stdout",
          "text": [
            "[9, 2, 16]\n",
            "[81, 123]\n",
            "[10, 56, 20, 3]\n"
          ]
        }
      ]
    }
  ]
}