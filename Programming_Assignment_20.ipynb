{
  "nbformat": 4,
  "nbformat_minor": 0,
  "metadata": {
    "colab": {
      "provenance": [],
      "authorship_tag": "ABX9TyMAyneMNFZcygJNlSXxmz/A",
      "include_colab_link": true
    },
    "kernelspec": {
      "name": "python3",
      "display_name": "Python 3"
    },
    "language_info": {
      "name": "python"
    }
  },
  "cells": [
    {
      "cell_type": "markdown",
      "metadata": {
        "id": "view-in-github",
        "colab_type": "text"
      },
      "source": [
        "<a href=\"https://colab.research.google.com/github/LGLV/ineuron_assignaments/blob/main/Programming_Assignment_20.ipynb\" target=\"_parent\"><img src=\"https://colab.research.google.com/assets/colab-badge.svg\" alt=\"Open In Colab\"/></a>"
      ]
    },
    {
      "cell_type": "markdown",
      "source": [
        "Question 1 Create a function that takes a list of strings and integers, and filters out the list so that it\n",
        "returns a list of integers only.\n",
        "\n",
        "Examples\n",
        "\n",
        "* filter_list([1, 2, 3, &quot;a&quot;, &quot;b&quot;, 4]) ➞ [1, 2, 3, 4]\n",
        "* filter_list([&quot;A&quot;, 0, &quot;Edabit&quot;, 1729, &quot;Python&quot;, &quot;1729&quot;]) ➞ [0, 1729]\n",
        "* filter_list([&quot;Nothing&quot;, &quot;here&quot;]) ➞ []"
      ],
      "metadata": {
        "id": "GPvMWuSYOSgv"
      }
    },
    {
      "cell_type": "code",
      "source": [
        "def filter_list(list):\n",
        "    r = []\n",
        "    for i in list:\n",
        "        if isinstance(i,int):\n",
        "            r.append(i)\n",
        "    return r\n",
        "print(filter_list([1, 2, 3, \"a\", \"b\", 4]))\n",
        "print(filter_list([\"A\", 0, \"Edabit\", 1729, \"Python\", \"1729\"]))\n",
        "print(filter_list([\"Nothing\", \"here\"]))"
      ],
      "metadata": {
        "colab": {
          "base_uri": "https://localhost:8080/"
        },
        "id": "4Cl_93o8OQI0",
        "outputId": "b8116b4e-9f3c-4e67-f6b7-3c9eeed4d2fc"
      },
      "execution_count": 6,
      "outputs": [
        {
          "output_type": "stream",
          "name": "stdout",
          "text": [
            "[1, 2, 3, 4]\n",
            "[0, 1729]\n",
            "[]\n"
          ]
        }
      ]
    },
    {
      "cell_type": "markdown",
      "source": [
        "Question 2\n",
        "Given a list of numbers, create a function which returns the list but with each element&#39;s\n",
        "index in the list added to itself. This means you add 0 to the number at index 0, add 1 to the\n",
        "number at index 1, etc...\n",
        "\n",
        "Examples\n",
        "\n",
        "add_indexes([0, 0, 0, 0, 0]) ➞ [0, 1, 2, 3, 4]\n",
        "\n",
        "add_indexes([1, 2, 3, 4, 5]) ➞ [1, 3, 5, 7, 9]\n",
        "\n",
        "add_indexes([5, 4, 3, 2, 1]) ➞ [5, 5, 5, 5, 5]"
      ],
      "metadata": {
        "id": "x3zPZiFWOHpg"
      }
    },
    {
      "cell_type": "code",
      "source": [
        "def add_indexes(list):\n",
        "    r = []\n",
        "    for index, number in enumerate(list):\n",
        "        r.append(number + index)\n",
        "    return r\n",
        "\n",
        "print(add_indexes([0, 0, 0, 0, 0]))\n",
        "print(add_indexes([1, 2, 3, 4, 5]))\n",
        "print(add_indexes([5, 4, 3, 2, 1]))\n"
      ],
      "metadata": {
        "colab": {
          "base_uri": "https://localhost:8080/"
        },
        "id": "wqUaXoGxTgIi",
        "outputId": "54e91efa-4353-4387-c20f-f89a65ce6ddb"
      },
      "execution_count": 9,
      "outputs": [
        {
          "output_type": "stream",
          "name": "stdout",
          "text": [
            "[0, 1, 2, 3, 4]\n",
            "[1, 3, 5, 7, 9]\n",
            "[5, 5, 5, 5, 5]\n"
          ]
        }
      ]
    },
    {
      "cell_type": "code",
      "source": [
        "def add_indexes(lst):\n",
        "    return [num + i for i, num in enumerate(lst)]\n",
        "\n",
        "# Ejemplos\n",
        "print(add_indexes([0, 0, 0, 0, 0]))  # ➞ [0, 1, 2, 3, 4]\n",
        "print(add_indexes([1, 2, 3, 4, 5]))  # ➞ [1, 3, 5, 7, 9]\n",
        "print(add_indexes([5, 4, 3, 2, 1]))  # ➞ [5, 5, 5, 5, 5]\n"
      ],
      "metadata": {
        "colab": {
          "base_uri": "https://localhost:8080/"
        },
        "id": "ZEHf0lMkSEoh",
        "outputId": "d1ae3826-3617-47c9-bcb9-348f2afa41ae"
      },
      "execution_count": 8,
      "outputs": [
        {
          "output_type": "stream",
          "name": "stdout",
          "text": [
            "[0, 1, 2, 3, 4]\n",
            "[1, 3, 5, 7, 9]\n",
            "[5, 5, 5, 5, 5]\n"
          ]
        }
      ]
    },
    {
      "cell_type": "markdown",
      "source": [
        "Question 3\n",
        "Create a function that takes the height and radius of a cone as arguments and returns the\n",
        "volume of the cone rounded to the nearest hundredth. See the resources tab for the formula.\n",
        "\n",
        "Examples\n",
        "\n",
        "cone_volume(3, 2) ➞ 12.57\n",
        "\n",
        "cone_volume(15, 6) ➞ 565.49\n",
        "\n",
        "cone_volume(18, 0) ➞ 0"
      ],
      "metadata": {
        "id": "SW6snIZIOJUq"
      }
    },
    {
      "cell_type": "code",
      "source": [
        "import math\n",
        "\n",
        "def cone_volume(height, radius):\n",
        "    volume = (1/3) * math.pi * (radius ** 2) * height\n",
        "    return round(volume, 2)\n",
        "\n",
        "# Ejemplos\n",
        "print(cone_volume(3, 2))  # ➞ 12.57\n",
        "print(cone_volume(15, 6)) # ➞ 565.49\n",
        "print(cone_volume(18, 0)) # ➞ 0.00\n"
      ],
      "metadata": {
        "colab": {
          "base_uri": "https://localhost:8080/"
        },
        "id": "jJQB6yyBWVmx",
        "outputId": "d3c94f26-f9c4-4e8a-fec6-1fdcffb1738d"
      },
      "execution_count": 18,
      "outputs": [
        {
          "output_type": "stream",
          "name": "stdout",
          "text": [
            "12.57\n",
            "565.49\n",
            "0.0\n"
          ]
        }
      ]
    },
    {
      "cell_type": "markdown",
      "source": [
        "Question 4\n",
        "This Triangular Number Sequence is generated from a pattern of dots that form a triangle.\n",
        "The first 5 numbers of the sequence, or dots, are:\n",
        "1, 3, 6, 10, 15\n",
        "This means that the first triangle has just one dot, the second one has three dots, the third one\n",
        "has 6 dots and so on.\n",
        "Write a function that gives the number of dots with its corresponding triangle number of the\n",
        "sequence.\n",
        "\n",
        "Examples\n",
        "\n",
        "triangle(1) ➞ 1\n",
        "\n",
        "triangle(6) ➞ 21\n",
        "\n",
        "triangle(215) ➞ 23220"
      ],
      "metadata": {
        "id": "WkuV50Z_OJ3G"
      }
    },
    {
      "cell_type": "code",
      "source": [
        "def triangle(n):\n",
        "    return n * (n + 1) // 2  # Usamos // para obtener un entero\n",
        "\n",
        "# Ejemplos\n",
        "print(triangle(1))    # ➞ 1\n",
        "print(triangle(6))    # ➞ 21\n",
        "print(triangle(215))  # ➞ 23220\n"
      ],
      "metadata": {
        "colab": {
          "base_uri": "https://localhost:8080/"
        },
        "id": "ocZyaWmjOJnb",
        "outputId": "62f38584-0555-416d-f441-23cf8874ba91"
      },
      "execution_count": 19,
      "outputs": [
        {
          "output_type": "stream",
          "name": "stdout",
          "text": [
            "1\n",
            "21\n",
            "23220\n"
          ]
        }
      ]
    },
    {
      "cell_type": "markdown",
      "source": [
        "Question 5\n",
        "Create a function that takes a list of numbers between 1 and 10 (excluding one number) and\n",
        "returns the missing number.\n",
        "\n",
        "Examples\n",
        "\n",
        "missing_num([1, 2, 3, 4, 6, 7, 8, 9, 10]) ➞ 5\n",
        "\n",
        "missing_num([7, 2, 3, 6, 5, 9, 1, 4, 8]) ➞ 10\n",
        "\n",
        "missing_num([10, 5, 1, 2, 4, 6, 8, 3, 9]) ➞ 7"
      ],
      "metadata": {
        "id": "o9HhfMKrOLV2"
      }
    },
    {
      "cell_type": "code",
      "source": [
        "def missing_num(lst):\n",
        "    # La suma de los números del 1 al 10 es 55\n",
        "    total_sum = 55\n",
        "    # Calculamos la suma de los números en la lista\n",
        "    current_sum = sum(lst)\n",
        "    # El número faltante es la diferencia entre la suma total y la suma actual\n",
        "    return total_sum - current_sum\n",
        "\n",
        "# Ejemplos\n",
        "print(missing_num([1, 2, 3, 4, 6, 7, 8, 9, 10]))  # ➞ 5\n",
        "print(missing_num([7, 2, 3, 6, 5, 9, 1, 4, 8]))   # ➞ 10\n",
        "print(missing_num([10, 5, 1, 2, 4, 6, 8, 3, 9]))  # ➞ 7\n"
      ],
      "metadata": {
        "colab": {
          "base_uri": "https://localhost:8080/"
        },
        "id": "u7HoaVv9OKiF",
        "outputId": "9976c826-83b1-4dec-a84b-f4f29f47afa9"
      },
      "execution_count": 20,
      "outputs": [
        {
          "output_type": "stream",
          "name": "stdout",
          "text": [
            "5\n",
            "10\n",
            "7\n"
          ]
        }
      ]
    }
  ]
}