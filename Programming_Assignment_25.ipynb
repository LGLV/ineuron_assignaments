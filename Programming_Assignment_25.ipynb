{
  "nbformat": 4,
  "nbformat_minor": 0,
  "metadata": {
    "colab": {
      "provenance": [],
      "authorship_tag": "ABX9TyN9fqm5QDOxo5t8fevrtjM9",
      "include_colab_link": true
    },
    "kernelspec": {
      "name": "python3",
      "display_name": "Python 3"
    },
    "language_info": {
      "name": "python"
    }
  },
  "cells": [
    {
      "cell_type": "markdown",
      "metadata": {
        "id": "view-in-github",
        "colab_type": "text"
      },
      "source": [
        "<a href=\"https://colab.research.google.com/github/LGLV/ineuron_assignaments/blob/main/Programming_Assignment_25.ipynb\" target=\"_parent\"><img src=\"https://colab.research.google.com/assets/colab-badge.svg\" alt=\"Open In Colab\"/></a>"
      ]
    },
    {
      "cell_type": "markdown",
      "source": [
        "Question 1\n",
        "Create a function that takes three integer arguments (a, b, c) and returns the amount of\n",
        "integers which are of equal value.\n",
        "\n",
        "Examples\n",
        "\n",
        "equal(3, 4, 3) ➞ 2\n",
        "\n",
        "equal(1, 1, 1) ➞ 3\n",
        "\n",
        "equal(3, 4, 1) ➞ 0\n",
        "\n",
        "Notes\n",
        "\n",
        "Your function must return 0, 2 or 3."
      ],
      "metadata": {
        "id": "YOQZDbp-ZNef"
      }
    },
    {
      "cell_type": "code",
      "execution_count": 2,
      "metadata": {
        "colab": {
          "base_uri": "https://localhost:8080/"
        },
        "id": "isfWNfE_ZH8B",
        "outputId": "eb663631-45b6-493c-9f1a-54602cd828d8"
      },
      "outputs": [
        {
          "output_type": "stream",
          "name": "stdout",
          "text": [
            "2\n",
            "3\n",
            "0\n"
          ]
        }
      ],
      "source": [
        "def amo_equal(a, b, c):\n",
        "    if a == b == c:\n",
        "        return 3\n",
        "    elif a == b or a == c or b == c:\n",
        "        return 2\n",
        "    else:\n",
        "        return 0\n",
        "\n",
        "print(amo_equal(3, 4, 3))\n",
        "print(amo_equal(1, 1, 1))\n",
        "print(amo_equal(3, 4, 1))\n"
      ]
    },
    {
      "cell_type": "markdown",
      "source": [
        "Question 2\n",
        "Write a function that converts a dictionary into a list of keys-values tuples.\n",
        "\n",
        "Examples\n",
        "\n",
        "dict_to_list({\n",
        "&quot;D&quot;: 1,\n",
        "&quot;B&quot;: 2,\n",
        "&quot;C&quot;: 3\n",
        "}) ➞ [(&quot;B&quot;, 2), (&quot;C&quot;, 3), (&quot;D&quot;, 1)]\n",
        "\n",
        "dict_to_list({\n",
        "&quot;likes&quot;: 2,\n",
        "&quot;dislikes&quot;: 3,\n",
        "&quot;followers&quot;: 10\n",
        "}) ➞ [(&quot;dislikes&quot;, 3), (&quot;followers&quot;, 10), (&quot;likes&quot;, 2)]\n",
        "\n",
        "Notes\n",
        "\n",
        "Return the elements in the list in alphabetical order."
      ],
      "metadata": {
        "id": "Ii-TY6eAbvun"
      }
    },
    {
      "cell_type": "code",
      "source": [
        "def dict_to_list(d):\n",
        "    # Convert dictionary items to a list of tuples and sort by key\n",
        "    return sorted(d.items())\n",
        "\n",
        "# Test cases\n",
        "print(dict_to_list({\n",
        "    \"D\": 1,\n",
        "    \"B\": 2,\n",
        "    \"C\": 3\n",
        "}))  # ➞ [(\"B\", 2), (\"C\", 3), (\"D\", 1)]\n",
        "\n",
        "print(dict_to_list({\n",
        "    \"likes\": 2,\n",
        "    \"dislikes\": 3,\n",
        "    \"followers\": 10\n",
        "}))  # ➞ [(\"dislikes\", 3), (\"followers\", 10), (\"likes\", 2)]\n"
      ],
      "metadata": {
        "colab": {
          "base_uri": "https://localhost:8080/"
        },
        "id": "z2ttTCK-bveU",
        "outputId": "7012e92d-6a61-43e9-806a-1af336e4bf22"
      },
      "execution_count": 3,
      "outputs": [
        {
          "output_type": "stream",
          "name": "stdout",
          "text": [
            "[('B', 2), ('C', 3), ('D', 1)]\n",
            "[('dislikes', 3), ('followers', 10), ('likes', 2)]\n"
          ]
        }
      ]
    },
    {
      "cell_type": "markdown",
      "source": [
        "Question 3\n",
        "Write a function that creates a dictionary with each (key, value) pair being the (lower case,\n",
        "upper case) versions of a letter, respectively.\n",
        "\n",
        "Examples\n",
        "\n",
        "mapping([&quot;p&quot;, &quot;s&quot;]) ➞ { &quot;p&quot;: &quot;P&quot;, &quot;s&quot;: &quot;S&quot; }\n",
        "\n",
        "mapping([&quot;a&quot;, &quot;b&quot;, &quot;c&quot;]) ➞ { &quot;a&quot;: &quot;A&quot;, &quot;b&quot;: &quot;B&quot;, &quot;c&quot;: &quot;C&quot; }\n",
        "\n",
        "mapping([&quot;a&quot;, &quot;v&quot;, &quot;y&quot;, &quot;z&quot;]) ➞ { &quot;a&quot;: &quot;A&quot;, &quot;v&quot;: &quot;V&quot;, &quot;y&quot;: &quot;Y&quot;, &quot;z&quot;: &quot;Z&quot; }\n",
        "\n",
        "Notes\n",
        "\n",
        "All of the letters in the input list will always be lowercase."
      ],
      "metadata": {
        "id": "DiIzKow8d6ya"
      }
    },
    {
      "cell_type": "code",
      "source": [
        "def mapping(letters):\n",
        "    # Create a dictionary with lowercase letters as keys and their uppercase versions as values\n",
        "    return {letter: letter.upper() for letter in letters}\n",
        "\n",
        "# Test cases\n",
        "print(mapping([\"p\", \"s\"]))                   # ➞ {\"p\": \"P\", \"s\": \"S\"}\n",
        "print(mapping([\"a\", \"b\", \"c\"]))               # ➞ {\"a\": \"A\", \"b\": \"B\", \"c\": \"C\"}\n",
        "print(mapping([\"a\", \"v\", \"y\", \"z\"]))          # ➞ {\"a\": \"A\", \"v\": \"V\", \"y\": \"Y\", \"z\": \"Z\"}\n"
      ],
      "metadata": {
        "colab": {
          "base_uri": "https://localhost:8080/"
        },
        "id": "UVStu-yOd6Jn",
        "outputId": "3bb28885-ab46-4099-cfd9-8cd51e66b567"
      },
      "execution_count": 4,
      "outputs": [
        {
          "output_type": "stream",
          "name": "stdout",
          "text": [
            "{'p': 'P', 's': 'S'}\n",
            "{'a': 'A', 'b': 'B', 'c': 'C'}\n",
            "{'a': 'A', 'v': 'V', 'y': 'Y', 'z': 'Z'}\n"
          ]
        }
      ]
    },
    {
      "cell_type": "markdown",
      "source": [
        "Question 4\n",
        "Write a function, that replaces all vowels in a string with a specified vowel.\n",
        "\n",
        "Examples\n",
        "\n",
        "vow_replace(&quot;apples and bananas&quot;, &quot;u&quot;) ➞ &quot;upplus und bununus&quot;\n",
        "\n",
        "vow_replace(&quot;cheese casserole&quot;, &quot;o&quot;) ➞ &quot;chooso cossorolo&quot;\n",
        "\n",
        "vow_replace(&quot;stuffed jalapeno poppers&quot;, &quot;e&quot;) ➞ &quot;steffed jelepene peppers&quot;\n",
        "\n",
        "Notes\n",
        "\n",
        "All words will be lowercase. Y is not considered a vowel."
      ],
      "metadata": {
        "id": "6GuZcs_Neioh"
      }
    },
    {
      "cell_type": "code",
      "source": [
        "def vow_replace(string, new_vowel):\n",
        "    # Define the vowels to be replaced\n",
        "    vowels = \"aeiou\"\n",
        "    # Replace each vowel in the string with the specified new vowel\n",
        "    replaced_string = ''.join(new_vowel if char in vowels else char for char in string)\n",
        "    return replaced_string\n",
        "\n",
        "# Test cases\n",
        "print(vow_replace(\"apples and bananas\", \"u\"))         # ➞ \"upplus und bununus\"\n",
        "print(vow_replace(\"cheese casserole\", \"o\"))           # ➞ \"chooso cossorolo\"\n",
        "print(vow_replace(\"stuffed jalapeno poppers\", \"e\"))   # ➞ \"steffed jelepene peppers\"\n"
      ],
      "metadata": {
        "colab": {
          "base_uri": "https://localhost:8080/"
        },
        "id": "4ituXe9YeiND",
        "outputId": "c76f0353-931a-48ef-cac8-b3d5070f8ce5"
      },
      "execution_count": 5,
      "outputs": [
        {
          "output_type": "stream",
          "name": "stdout",
          "text": [
            "upplus und bununus\n",
            "chooso cossorolo\n",
            "steffed jelepene peppers\n"
          ]
        }
      ]
    },
    {
      "cell_type": "markdown",
      "source": [
        "Question 5\n",
        "Create a function that takes a string as input and capitalizes a letter if its ASCII code is even\n",
        "and returns its lower case version if its ASCII code is odd.\n",
        "\n",
        "Examples\n",
        "\n",
        "ascii_capitalize(&quot;to be or not to be!&quot;) ➞ &quot;To Be oR NoT To Be!&quot;\n",
        "\n",
        "ascii_capitalize(&quot;THE LITTLE MERMAID&quot;) ➞ &quot;THe LiTTLe meRmaiD&quot;\n",
        "\n",
        "ascii_capitalize(&quot;Oh what a beautiful morning.&quot;) ➞ &quot;oH wHaT a BeauTiFuL\n",
        "moRNiNg.&quot;"
      ],
      "metadata": {
        "id": "8gzpYjfyfO4b"
      }
    },
    {
      "cell_type": "code",
      "source": [
        "def ascii_capitalize(s):\n",
        "    # Process each character based on its ASCII code\n",
        "    return ''.join(\n",
        "        char.upper() if ord(char) % 2 == 0 else char.lower()\n",
        "        for char in s\n",
        "    )\n",
        "\n",
        "# Test cases\n",
        "print(ascii_capitalize(\"to be or not to be!\"))          # ➞ \"To Be oR NoT To Be!\"\n",
        "print(ascii_capitalize(\"THE LITTLE MERMAID\"))            # ➞ \"THe LiTTLe meRmaiD\"\n",
        "print(ascii_capitalize(\"Oh what a beautiful morning.\"))  # ➞ \"oH wHaT a BeauTiFuL moRNiNg.\"\n"
      ],
      "metadata": {
        "colab": {
          "base_uri": "https://localhost:8080/"
        },
        "id": "u2HalF79fOf6",
        "outputId": "dde6d963-02bc-47a7-9063-5e81a9e6d01e"
      },
      "execution_count": 6,
      "outputs": [
        {
          "output_type": "stream",
          "name": "stdout",
          "text": [
            "To Be oR NoT To Be!\n",
            "THe LiTTLe meRmaiD\n",
            "oH wHaT a BeauTiFuL moRNiNg.\n"
          ]
        }
      ]
    }
  ]
}