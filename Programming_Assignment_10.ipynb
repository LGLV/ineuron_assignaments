{
  "nbformat": 4,
  "nbformat_minor": 0,
  "metadata": {
    "colab": {
      "provenance": [],
      "authorship_tag": "ABX9TyPOc59IWlA8LuZdirHMrPmx",
      "include_colab_link": true
    },
    "kernelspec": {
      "name": "python3",
      "display_name": "Python 3"
    },
    "language_info": {
      "name": "python"
    }
  },
  "cells": [
    {
      "cell_type": "markdown",
      "metadata": {
        "id": "view-in-github",
        "colab_type": "text"
      },
      "source": [
        "<a href=\"https://colab.research.google.com/github/LGLV/ineuron_assignaments/blob/main/Programming_Assignment_10.ipynb\" target=\"_parent\"><img src=\"https://colab.research.google.com/assets/colab-badge.svg\" alt=\"Open In Colab\"/></a>"
      ]
    },
    {
      "cell_type": "markdown",
      "source": [
        "**1. Write a Python program to find sum of elements in list?**\n"
      ],
      "metadata": {
        "id": "SAqWdXXFGTIi"
      }
    },
    {
      "cell_type": "code",
      "source": [
        "list1 = [1,2,3,4,6,8,9]\n",
        "def sum_list(lst):\n",
        "    if len(lst) == 0:\n",
        "        return 0\n",
        "    else:\n",
        "        return lst[0] + sum_list(lst[1:])\n",
        "output = sum_list(list1)\n",
        "print(f'The sum of the elements in the list {list1} is: {output}')"
      ],
      "metadata": {
        "colab": {
          "base_uri": "https://localhost:8080/"
        },
        "id": "g_vhTVFcIj2C",
        "outputId": "528df7cd-7f00-4e89-d68d-e3a81ea808f4"
      },
      "execution_count": 102,
      "outputs": [
        {
          "output_type": "stream",
          "name": "stdout",
          "text": [
            "The sum of the elements in the list [1, 2, 3, 4, 6, 8, 9] is: 33\n"
          ]
        }
      ]
    },
    {
      "cell_type": "markdown",
      "source": [
        "**2. Write a Python program to Multiply all numbers in the list?**\n"
      ],
      "metadata": {
        "id": "lhoWe07GGacy"
      }
    },
    {
      "cell_type": "code",
      "source": [
        "list2 = [1,2,3,4,5]\n",
        "def mult_list(lst):\n",
        "    output = 1\n",
        "    for i in lst:\n",
        "        output *= i\n",
        "    return output\n",
        "result = mult_list(list2)\n",
        "print(f'The result of multiply all numbers in the list {list2} is: {result}')"
      ],
      "metadata": {
        "colab": {
          "base_uri": "https://localhost:8080/"
        },
        "id": "yG9ibYPwMgMA",
        "outputId": "2a52fea0-a0d5-49c3-e9be-7118e51d63a9"
      },
      "execution_count": 103,
      "outputs": [
        {
          "output_type": "stream",
          "name": "stdout",
          "text": [
            "The result of multiply all numbers in the list [1, 2, 3, 4, 5] is: 120\n"
          ]
        }
      ]
    },
    {
      "cell_type": "markdown",
      "source": [
        "**3. Write a Python program to find smallest number in a list?**\n"
      ],
      "metadata": {
        "id": "Aw9eE81iGdmR"
      }
    },
    {
      "cell_type": "code",
      "source": [
        "list3 = [1,2,3,4,6,8,9]\n",
        "def min_num(numbers):\n",
        "    if len(numbers) == 0:\n",
        "        return None\n",
        "    min = numbers[0]\n",
        "    for i in numbers:\n",
        "        if i < min:\n",
        "            min = i\n",
        "    return min\n",
        "\n",
        "smallest_number = min_num(list3)\n",
        "print(f'The smallest number in the list {list3} is: {smallest_number}')"
      ],
      "metadata": {
        "colab": {
          "base_uri": "https://localhost:8080/"
        },
        "id": "Lk5QsUxgQVrS",
        "outputId": "40b5756c-f643-45c1-878f-8a3110b8159c"
      },
      "execution_count": 104,
      "outputs": [
        {
          "output_type": "stream",
          "name": "stdout",
          "text": [
            "The smallest number in the list [1, 2, 3, 4, 6, 8, 9] is: 1\n"
          ]
        }
      ]
    },
    {
      "cell_type": "code",
      "source": [
        "# A more simple manner.\n",
        "list3 = [1,2,3,4,6,8,9]\n",
        "print(f'The smallest number in the list {list3} is: {min(list3)}')"
      ],
      "metadata": {
        "colab": {
          "base_uri": "https://localhost:8080/"
        },
        "id": "MgXoLG1tQ5zy",
        "outputId": "7521c4a9-5d12-4160-d0a4-c94f8a9ff7a8"
      },
      "execution_count": 105,
      "outputs": [
        {
          "output_type": "stream",
          "name": "stdout",
          "text": [
            "The smallest number in the list [1, 2, 3, 4, 6, 8, 9] is: 1\n"
          ]
        }
      ]
    },
    {
      "cell_type": "markdown",
      "source": [
        "**4. Write a Python program to find largest number in a list?**\n"
      ],
      "metadata": {
        "id": "g8ipAxYBGaRw"
      }
    },
    {
      "cell_type": "code",
      "source": [
        "list4 = [1,2,3,4,6,8,9]\n",
        "def max_num(numbers):\n",
        "    if len(numbers) == 0: # Here we check if it is an empty list.\n",
        "        return None\n",
        "    max = numbers[0] # Here we call max to the fist number in the list.\n",
        "    for i in numbers: # Here we iterate over each  number in the list.\n",
        "        if i > max: # Inside this loop we compare the current number with the max one, if the current is greater than max.\n",
        "            max = i # We found the value.\n",
        "    return max # Here we return the max value.\n",
        "\n",
        "largest_number = max_num(list4) # Here we call the function with the list4.\n",
        "print(f'The smallest number in the list {list4} is: {largest_number}')"
      ],
      "metadata": {
        "colab": {
          "base_uri": "https://localhost:8080/"
        },
        "id": "107Ym197UA3l",
        "outputId": "09b8b017-2cab-45e0-e94d-c06f6024e832"
      },
      "execution_count": 106,
      "outputs": [
        {
          "output_type": "stream",
          "name": "stdout",
          "text": [
            "The smallest number in the list [1, 2, 3, 4, 6, 8, 9] is: 9\n"
          ]
        }
      ]
    },
    {
      "cell_type": "code",
      "source": [
        "list4 = [1,2,3,4,6,8,9]\n",
        "print(f'The largest number in the list {list4} is: {max(list4)}')"
      ],
      "metadata": {
        "colab": {
          "base_uri": "https://localhost:8080/"
        },
        "id": "xbx_QY8xTbBL",
        "outputId": "11fb1b4d-38ce-4037-96be-54c9e2fb86af"
      },
      "execution_count": 107,
      "outputs": [
        {
          "output_type": "stream",
          "name": "stdout",
          "text": [
            "The largest number in the list [1, 2, 3, 4, 6, 8, 9] is: 9\n"
          ]
        }
      ]
    },
    {
      "cell_type": "markdown",
      "source": [
        "**5. Write a Python program to find second largest number in a list?**\n"
      ],
      "metadata": {
        "id": "Lp0KejK9GaHB"
      }
    },
    {
      "cell_type": "code",
      "source": [
        "def find_second_largest_number(numbers):\n",
        "    if len(numbers) < 2: # here indicates that there is not a second largest nimber.\n",
        "        return None\n",
        "\n",
        "    largest = float('-inf') # Here initialize variable to negative infinity.\n",
        "    second_largest = float('-inf') # Here initialize variable to negative infinity.\n",
        "\n",
        "    for num in numbers: # Iterate over each number in the list\n",
        "        if num > largest: # If a number is greater than the current largest.\n",
        "            second_largest = largest # we update second_largest to hold the previous value of largest.\n",
        "            largest = num # And update largest to hold the current number.\n",
        "        elif num > second_largest and num != largest: # If a number is greater than the current second_largest and not equal to largest.\n",
        "            second_largest = num # We update second_largest to hold the current number.\n",
        "\n",
        "    if second_largest == float('-inf'): #Finally, we check if second_largest is still equal to negative infinity.\n",
        "        return None # If it is, it means there is no second largest number. So we return None.\n",
        "    else: # Otherwise, we return the second_largest value.\n",
        "        return second_largest\n",
        "\n",
        "# Example usage\n",
        "numbers_list = [5, 2, 8, 1, 9]\n",
        "second_largest_number = find_second_largest_number(numbers_list)\n",
        "if second_largest_number is None:\n",
        "    print(\"There is no second largest number.\")\n",
        "else:\n",
        "    print(\"The second largest number is:\", second_largest_number)"
      ],
      "metadata": {
        "colab": {
          "base_uri": "https://localhost:8080/"
        },
        "id": "w0l6K5e5cuAv",
        "outputId": "e55b78aa-582b-4f57-9ea9-970511b2c35d"
      },
      "execution_count": 108,
      "outputs": [
        {
          "output_type": "stream",
          "name": "stdout",
          "text": [
            "The second largest number is: 8\n"
          ]
        }
      ]
    },
    {
      "cell_type": "markdown",
      "source": [
        "**6. Write a Python program to find N largest elements from a list?**"
      ],
      "metadata": {
        "id": "FMMjvGPqGZ85"
      }
    },
    {
      "cell_type": "code",
      "source": [
        "def find_n_largest_elements(numbers, n): # we define a function called find_n_largest_elements that takes a list of numbers (numbers)\n",
        "                                         # and an integer (n) as input.\n",
        "    if len(numbers) < n: # First, we check if the length of the list is less than n.\n",
        "        return None # If it is, we return None to indicate that the list does not have enough elements.\n",
        "\n",
        "    sorted_numbers = sorted(numbers, reverse=True) # we sort the numbers list in descending order using the sorted() function with the reverse=True argument.\n",
        "                                                   # This creates a new list called sorted_numbers that contains the numbers in descending order.\n",
        "    n_largest = sorted_numbers[:n] # We then slice the sorted_numbers list from index 0 up to index n (exclusive)\n",
        "                                   # to extract the n largest elements into a new list called n_largest.\n",
        "\n",
        "    return n_largest\n",
        "\n",
        "# Example usage\n",
        "numbers_list = [5, 2, 8, 1, 9, 3, 7]\n",
        "n = 3\n",
        "n_largest_elements = find_n_largest_elements(numbers_list, n)\n",
        "if n_largest_elements is None:\n",
        "    print(\"The list does not have enough elements.\")\n",
        "else:\n",
        "    print(f\"The {n} largest elements are:\", n_largest_elements)"
      ],
      "metadata": {
        "colab": {
          "base_uri": "https://localhost:8080/"
        },
        "id": "z1_vFk8Wytad",
        "outputId": "d79d61d3-62af-4f38-d31f-5174e1a5a7bb"
      },
      "execution_count": 109,
      "outputs": [
        {
          "output_type": "stream",
          "name": "stdout",
          "text": [
            "The 3 largest elements are: [9, 8, 7]\n"
          ]
        }
      ]
    },
    {
      "cell_type": "code",
      "source": [
        "def Nmaxelements(list1, n):\n",
        "    final_list = []\n",
        "\n",
        "    for i in range(0, n):\n",
        "        max1 = 0\n",
        "\n",
        "        for j in range(len(list1)):\n",
        "            if list1[j] > max1:\n",
        "                max1 = list1[j]\n",
        "\n",
        "        list1.remove(max1)\n",
        "        final_list.append(max1)\n",
        "\n",
        "    return(final_list)\n",
        "\n",
        "\n",
        "# Driver code\n",
        "list1 = [2, 6, 41, 85, 0, 3, 7, 6, 10]\n",
        "n = 3\n",
        "\n",
        "# Calling the function\n",
        "output = Nmaxelements(list1, n)\n",
        "print(f'The {n} largest elements are: {output}')"
      ],
      "metadata": {
        "colab": {
          "base_uri": "https://localhost:8080/"
        },
        "id": "-IVskpJv2XAU",
        "outputId": "8429bce9-a131-4a17-e6bf-9ef696167879"
      },
      "execution_count": 110,
      "outputs": [
        {
          "output_type": "stream",
          "name": "stdout",
          "text": [
            "The 3 largest elements are: [85, 41, 10]\n"
          ]
        }
      ]
    },
    {
      "cell_type": "markdown",
      "source": [
        "**7. Write a Python program to print even numbers in a list?**\n"
      ],
      "metadata": {
        "id": "d-605OC8GZy-"
      }
    },
    {
      "cell_type": "code",
      "source": [
        "num_list = [5, 2, 8, 1, 9, 3, 7]\n",
        "even_list = []\n",
        "\n",
        "def even(lst):\n",
        "    for i in lst:\n",
        "        if i%2 == 0:\n",
        "            even_list.append(i)\n",
        "    return(even_list)\n",
        "output = even(num_list)\n",
        "print(f'The even numbers in the list {num_list}: are = > {output}.')"
      ],
      "metadata": {
        "colab": {
          "base_uri": "https://localhost:8080/"
        },
        "id": "ranCqISc0iHv",
        "outputId": "db165861-8850-46f0-9a9b-ac16c5d32b82"
      },
      "execution_count": 134,
      "outputs": [
        {
          "output_type": "stream",
          "name": "stdout",
          "text": [
            "The even numbers in the list [5, 2, 8, 1, 9, 3, 7]: are = > [2, 8].\n"
          ]
        }
      ]
    },
    {
      "cell_type": "markdown",
      "source": [
        "**8. Write a Python program to print odd numbers in a List?**\n"
      ],
      "metadata": {
        "id": "N2UzJJ2wGZmt"
      }
    },
    {
      "cell_type": "code",
      "source": [
        "num_list = [5, 2, 8, 1, 9, 3, 7]\n",
        "odd_list = []\n",
        "\n",
        "def odd(lst):\n",
        "    for i in lst:\n",
        "        if i%2 != 0:\n",
        "            odd_list.append(i)\n",
        "    return(odd_list)\n",
        "output = odd(num_list)\n",
        "print(f'The even numbers in the list {num_list}: are = > {sorted(output)}.')"
      ],
      "metadata": {
        "colab": {
          "base_uri": "https://localhost:8080/"
        },
        "id": "hrdHU6RPBv-R",
        "outputId": "1273567d-73a4-4c0a-f609-c2546d213eb9"
      },
      "execution_count": 150,
      "outputs": [
        {
          "output_type": "stream",
          "name": "stdout",
          "text": [
            "The even numbers in the list [5, 2, 8, 1, 9, 3, 7]: are = > [1, 3, 5, 7, 9].\n"
          ]
        }
      ]
    },
    {
      "cell_type": "markdown",
      "source": [
        "**9. Write a Python program to Remove empty List from List?**\n"
      ],
      "metadata": {
        "id": "7Y7L446FGZZx"
      }
    },
    {
      "cell_type": "code",
      "source": [
        "original_list = [1,2,3,'dog','cat',[], 3.5, True]\n",
        "empty_list = []\n",
        "def empty(lst):\n",
        "    for i in lst:\n",
        "        if i != []:\n",
        "            empty_list.append(i)\n",
        "    return(empty_list)\n",
        "print(f'The original list was: {original_list}\\n')\n",
        "\n",
        "print(f'The updated list is: {empty(original_list)}')\n"
      ],
      "metadata": {
        "colab": {
          "base_uri": "https://localhost:8080/"
        },
        "id": "f5PCynD8CWZk",
        "outputId": "543bd476-5dc0-4bb8-f3f5-0586273b86ff"
      },
      "execution_count": 155,
      "outputs": [
        {
          "output_type": "stream",
          "name": "stdout",
          "text": [
            "The original list was: [1, 2, 3, 'dog', 'cat', [], 3.5, True]\n",
            "\n",
            "The updated list is: [1, 2, 3, 'dog', 'cat', 3.5, True]\n"
          ]
        }
      ]
    },
    {
      "cell_type": "markdown",
      "source": [
        "**10. Write a Python program to Cloning or Copying a list?**\n"
      ],
      "metadata": {
        "id": "i66i90BwGZK5"
      }
    },
    {
      "cell_type": "code",
      "source": [
        "import copy\n",
        "\n",
        "copy_list = [1,2,3,4,5,6,7,8,9]\n",
        "cloned_copy = copy.copy(copy_list)\n",
        "cloned_copy"
      ],
      "metadata": {
        "colab": {
          "base_uri": "https://localhost:8080/"
        },
        "id": "BjtpheFiEb2Z",
        "outputId": "36348da2-4783-4ebf-be36-d59f232e7d8f"
      },
      "execution_count": 156,
      "outputs": [
        {
          "output_type": "execute_result",
          "data": {
            "text/plain": [
              "[1, 2, 3, 4, 5, 6, 7, 8, 9]"
            ]
          },
          "metadata": {},
          "execution_count": 156
        }
      ]
    },
    {
      "cell_type": "code",
      "source": [
        "import copy\n",
        "\n",
        "copy_list_2 = [9,8,7,6,5,4,3,2,1]\n",
        "cloned_copy_2 = copy.deepcopy(copy_list_2)\n",
        "cloned_copy_2"
      ],
      "metadata": {
        "colab": {
          "base_uri": "https://localhost:8080/"
        },
        "id": "OI0hCUNXEyrY",
        "outputId": "cd416c10-a23e-474c-88e1-82506c8e2965"
      },
      "execution_count": 158,
      "outputs": [
        {
          "output_type": "execute_result",
          "data": {
            "text/plain": [
              "[9, 8, 7, 6, 5, 4, 3, 2, 1]"
            ]
          },
          "metadata": {},
          "execution_count": 158
        }
      ]
    },
    {
      "cell_type": "markdown",
      "source": [
        "**11. Write a Python program to Count occurrences of an element in a list?**"
      ],
      "metadata": {
        "id": "M1rF0d9AGY8t"
      }
    },
    {
      "cell_type": "code",
      "execution_count": 174,
      "metadata": {
        "colab": {
          "base_uri": "https://localhost:8080/"
        },
        "id": "vCpjHU48GNP5",
        "outputId": "3b694285-3f1d-4cba-f138-8ef06be87ce2"
      },
      "outputs": [
        {
          "output_type": "stream",
          "name": "stdout",
          "text": [
            "The element 3, in the list [1, 2, 3, 'dog', 'cat', [], 3.5, True, 1, 2, 3, 4, 6, 8, 9]; ocurrs 2 times.\n"
          ]
        }
      ],
      "source": [
        "concat_list = [1, 2, 3, 'dog', 'cat', [], 3.5, True, 1, 2, 3, 4, 6, 8, 9]\n",
        "ele = 3\n",
        "def occurr(lst, ele):\n",
        "    count = 0\n",
        "    for i in lst:\n",
        "        if i == ele:\n",
        "            count += 1\n",
        "    return(count)\n",
        "\n",
        "print(f'The element {ele}, in the list {concat_list}; ocurrs {occurr(concat_list, 2)} times.')"
      ]
    }
  ]
}