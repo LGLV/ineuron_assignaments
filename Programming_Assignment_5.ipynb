{
  "nbformat": 4,
  "nbformat_minor": 0,
  "metadata": {
    "colab": {
      "provenance": [],
      "authorship_tag": "ABX9TyOVz2JNMWEkcOjUvNqmllqC",
      "include_colab_link": true
    },
    "kernelspec": {
      "name": "python3",
      "display_name": "Python 3"
    },
    "language_info": {
      "name": "python"
    }
  },
  "cells": [
    {
      "cell_type": "markdown",
      "metadata": {
        "id": "view-in-github",
        "colab_type": "text"
      },
      "source": [
        "<a href=\"https://colab.research.google.com/github/LGLV/ineuron_assignaments/blob/main/Programming_Assignment_5.ipynb\" target=\"_parent\"><img src=\"https://colab.research.google.com/assets/colab-badge.svg\" alt=\"Open In Colab\"/></a>"
      ]
    },
    {
      "cell_type": "markdown",
      "source": [
        "**1. Write a Python Program to Find LCM?**\n",
        "\n",
        "The least common multiple (L.C.M.) of two numbers is the smallest positive integer that is perfectly divisible by the two given numbers.\n",
        "\n",
        "For example, the L.C.M. of 12 and 14 is 84."
      ],
      "metadata": {
        "id": "RGKH8buK598l"
      }
    },
    {
      "cell_type": "code",
      "execution_count": 15,
      "metadata": {
        "colab": {
          "base_uri": "https://localhost:8080/"
        },
        "id": "zL7bi4as5wAI",
        "outputId": "e07435c8-7b9d-415b-ae11-49f77eadfab9"
      },
      "outputs": [
        {
          "output_type": "stream",
          "name": "stdout",
          "text": [
            "Enter the first number: 10\n",
            "Enter te second number: 12\n",
            "The LCM is of 10 and 12, is 60.\n"
          ]
        }
      ],
      "source": [
        "# Python Program to find the L.C.M. of two input number\n",
        "\n",
        "num1 = int(input('Enter the first number: '))\n",
        "num2 = int(input('Enter te second number: '))\n",
        "\n",
        "def compute_lcm(x, y):\n",
        "\n",
        "   # choose the greater number\n",
        "   if x > y:\n",
        "       greater = x\n",
        "   else:\n",
        "       greater = y\n",
        "\n",
        "   while(True):\n",
        "       if((greater % x == 0) and (greater % y == 0)):\n",
        "           lcm = greater\n",
        "           break\n",
        "       greater += 1\n",
        "\n",
        "   return lcm\n",
        "\n",
        "print(f'The LCM is of {num1} and {num2}, is {compute_lcm(num1, num2)}.')"
      ]
    },
    {
      "cell_type": "code",
      "source": [
        "# Oter option is by using the fact that the product of two numbers is equal to the product of the \n",
        "# least common multiple and greatest common divisor of those two numbers.\n",
        "'''Number1 * Number2 = L.C.M. * G.C.D.'''\n",
        "\n",
        "f_num =  int(input('Enter the first number: '))\n",
        "s_num = int(input('Enter te second number: '))\n",
        "\n",
        "# This function computes GCD \n",
        "def calc_gcd(x, y):\n",
        "\n",
        "   while(y):\n",
        "       x, y = y, x % y\n",
        "   return x\n",
        "\n",
        "# This function computes LCM\n",
        "def calc_lcm(x, y):\n",
        "   lcm = (x*y)//calc_gcd(x,y)\n",
        "   return lcm\n",
        "\n",
        "print(f'The LCM of {f_num} and {s_num} is: {calc_lcm(f_num, s_num)}')\n"
      ],
      "metadata": {
        "colab": {
          "base_uri": "https://localhost:8080/"
        },
        "id": "1l4Z-vUL8_mz",
        "outputId": "a14fad6c-23ac-4186-e193-12f9195c1703"
      },
      "execution_count": 14,
      "outputs": [
        {
          "output_type": "stream",
          "name": "stdout",
          "text": [
            "Enter the first number: 23\n",
            "Enter te second number: 25\n",
            "The LCM of 23 and 25 is: 575\n"
          ]
        }
      ]
    },
    {
      "cell_type": "markdown",
      "source": [
        "**2. Write a Python Program to Find HCF?**"
      ],
      "metadata": {
        "id": "kNasuH5lDINt"
      }
    },
    {
      "cell_type": "code",
      "source": [
        "fi_num =  int(input('Enter the first number: '))\n",
        "se_num = int(input('Enter te second number: '))\n",
        "\n",
        "# This function computes GCD \n",
        "def calc_gcd(x, y):\n",
        "\n",
        "   while(y):\n",
        "       x, y = y, x % y\n",
        "   return x\n",
        "\n",
        "print(f'The GCD or HCF of {fi_num} and {se_num} is: {calc_gcd(fi_num, se_num)}')\n"
      ],
      "metadata": {
        "colab": {
          "base_uri": "https://localhost:8080/"
        },
        "id": "OC5TNp6hDXKx",
        "outputId": "4e97275d-c212-4b9c-9529-7ec0cf58592b"
      },
      "execution_count": 22,
      "outputs": [
        {
          "output_type": "stream",
          "name": "stdout",
          "text": [
            "Enter the first number: 24\n",
            "Enter te second number: 53\n",
            "The GCD or HCF of 24 and 53 is: 1\n"
          ]
        }
      ]
    },
    {
      "cell_type": "code",
      "source": [
        "# A second option\n",
        "# Python program to find H.C.F of two numbers\n",
        "\n",
        "num1 = int(input('Enter the first number: '))\n",
        "num2 = int(input('Enter te second number: '))\n",
        "\n",
        "# define a function\n",
        "def compute_hcf(x, y):\n",
        "\n",
        "# choose the smaller number\n",
        "    if x > y:\n",
        "        smaller = y\n",
        "    else:\n",
        "        smaller = x\n",
        "    for i in range(1, smaller+1):\n",
        "        if((x % i == 0) and (y % i == 0)):\n",
        "            hcf = i \n",
        "    return hcf\n",
        "\n",
        "print(\"The HCF is:\", compute_hcf(num1, num2))"
      ],
      "metadata": {
        "colab": {
          "base_uri": "https://localhost:8080/"
        },
        "id": "_WlzQxH1EMvw",
        "outputId": "18a7e96e-6884-48c0-faf1-0b067adf6321"
      },
      "execution_count": 23,
      "outputs": [
        {
          "output_type": "stream",
          "name": "stdout",
          "text": [
            "Enter the first number: 24\n",
            "Enter te second number: 53\n",
            "The HCF is: 1\n"
          ]
        }
      ]
    },
    {
      "cell_type": "markdown",
      "source": [
        "**3. Write a Python Program to Convert Decimal to Binary, Octal and Hexadecimal?**\n"
      ],
      "metadata": {
        "id": "UZ_wr6s8MtFs"
      }
    },
    {
      "cell_type": "code",
      "source": [
        "# Python program to convert decimal into other number systems\n",
        "num = int(input('Enter a number: '))\n",
        "\n",
        "print(\"The decimal number\", num, \"is:\")\n",
        "print(bin(num), \"in binary.\")\n",
        "print(oct(num), \"in octal.\")\n",
        "print(hex(num), \"in hexadecimal.\")"
      ],
      "metadata": {
        "colab": {
          "base_uri": "https://localhost:8080/"
        },
        "id": "Kq5z-p_0H1fu",
        "outputId": "1c9606b5-3d97-447f-bba4-32ab00f9cad8"
      },
      "execution_count": 51,
      "outputs": [
        {
          "output_type": "stream",
          "name": "stdout",
          "text": [
            "Enter a number: 12\n",
            "The decimal number 12 is:\n",
            "0b1100 in binary.\n",
            "0o14 in octal.\n",
            "0xc in hexadecimal.\n"
          ]
        }
      ]
    },
    {
      "cell_type": "markdown",
      "source": [
        "**4. Write a Python Program To Find ASCII value of a character?**"
      ],
      "metadata": {
        "id": "iIeM0nzbh-7I"
      }
    },
    {
      "cell_type": "code",
      "source": [
        "a = int(input('Enter a number with an unknown ASCII code: '))\n",
        "b = str(input('Enter a character with an unknown ASCII code: '))\n",
        "\n",
        "def char(a, b):\n",
        "    print(f'The ASCII of {a} is: {chr(a)}')\n",
        "    print(f'The ASCII of {b} is: {ord(b)}')\n",
        "\n",
        "char(a,b)"
      ],
      "metadata": {
        "colab": {
          "base_uri": "https://localhost:8080/"
        },
        "id": "18TPaSBSG0e4",
        "outputId": "ce8d2e66-7641-4db9-fdd9-faa00f097beb"
      },
      "execution_count": 109,
      "outputs": [
        {
          "output_type": "stream",
          "name": "stdout",
          "text": [
            "Enter a number with an unknown ASCII code: 600\n",
            "Enter a character with an unknown ASCII code: °\n",
            "The ASCII of 600 is: ɘ\n",
            "The ASCII of ° is: 176\n"
          ]
        }
      ]
    },
    {
      "cell_type": "markdown",
      "source": [
        "**5. Write a Python Program to Make a Simple Calculator with 4 basic mathematical operations?**"
      ],
      "metadata": {
        "id": "A2Uvn48HRx38"
      }
    },
    {
      "cell_type": "code",
      "source": [
        "num1 = float(input('Enter number 1: '))\n",
        "num2 = float(input('Enter number 2: '))\n",
        "\n",
        "def calc(num1, num2):\n",
        "    print(f'Addition of {num1} + {num2} = {num1+num2}')\n",
        "    print(f'Subtraction of {num1} - {num2} = {num1-num2}')\n",
        "    print(f'Multiplication of {num1} x {num2} = {num1*num2}')\n",
        "    print(f'Division of {num1} / {num2} = {num1/num2}')\n",
        "\n",
        "calc(num1, num2)"
      ],
      "metadata": {
        "colab": {
          "base_uri": "https://localhost:8080/"
        },
        "id": "oJzxsjmVRX3g",
        "outputId": "f3a1e479-aff1-4e4a-a613-31ae3631d4f4"
      },
      "execution_count": 116,
      "outputs": [
        {
          "output_type": "stream",
          "name": "stdout",
          "text": [
            "Enter number 1: 23\n",
            "Enter number 2: 345\n",
            "Addition of 23.0 + 345.0 = 368.0\n",
            "Subtraction of 23.0 - 345.0 = -322.0\n",
            "Multiplication of 23.0 x 345.0 = 7935.0\n",
            "Division of 23.0 / 345.0 = 0.06666666666666667\n"
          ]
        }
      ]
    },
    {
      "cell_type": "code",
      "source": [
        "# Other option\n",
        "print('Choose an option: \\n')\n",
        "print('1: Addition')\n",
        "print('2: Subtraction')\n",
        "print('3: Multiplication ')\n",
        "print('4: Division \\n')\n",
        "\n",
        "choise = int(input('Enter a valid option: '))\n",
        "\n",
        "\n",
        "def add(x, y):\n",
        "    return x+y\n",
        "\n",
        "def subs(x, y):\n",
        "    return x-y\n",
        "\n",
        "def multi(x, y):\n",
        "    return x*y\n",
        "\n",
        "def div(x, y):\n",
        "    return x/y\n",
        "\n",
        "num1 = float(input('\\nEnter first number: '))\n",
        "num2 = float(input('\\nEnter second number: '))\n",
        "\n",
        "if choise == 1:\n",
        "    print (f'\\n{num1} + {num2} = {add(num1, num2)}')\n",
        "if choise == 2:\n",
        "    print (f'\\n{num1} - {num2} = {subs(num1, num2)}')\n",
        "if choise == 3:\n",
        "    print (f'\\n{num1} X {num2} = {multi(num1, num2)}')\n",
        "if choise == 4:\n",
        "    print ((f'\\n{num1}/{num2} = {div(num1, num2)}'))"
      ],
      "metadata": {
        "colab": {
          "base_uri": "https://localhost:8080/"
        },
        "id": "bX24ed1vU9oh",
        "outputId": "476656f9-d47e-45b2-8f4e-89662a91d712"
      },
      "execution_count": 167,
      "outputs": [
        {
          "output_type": "stream",
          "name": "stdout",
          "text": [
            "Choose an option: \n",
            "\n",
            "1: Addition\n",
            "2: Subtraction\n",
            "3: Multiplication \n",
            "4: Division \n",
            "\n",
            "Enter a valid option: 2\n",
            "\n",
            "Enter first number: 3\n",
            "\n",
            "Enter second number: 12\n",
            "\n",
            "3.0 - 12.0 = -9.0\n"
          ]
        }
      ]
    },
    {
      "cell_type": "code",
      "source": [
        "# Other option\n",
        "print('Choose an option: \\n')\n",
        "print('1: Addition')\n",
        "print('2: Subtraction')\n",
        "print('3: Multiplication ')\n",
        "print('4: Division \\n')\n",
        "\n",
        "choise = int(input('Enter an option: \\n'))\n",
        "\n",
        "def add(x, y):\n",
        "    return x+y\n",
        "\n",
        "def subs(x, y):\n",
        "    return x-y\n",
        "\n",
        "def multi(x, y):\n",
        "    return x*y\n",
        "\n",
        "def div(x, y):\n",
        "    return x/y\n",
        "\n",
        "num1 = float(input('Enter first number: '))\n",
        "num2 = float(input('Enter second number: '))\n",
        "\n",
        "\n",
        "if choise == 1:\n",
        "    print (add(num1, num2))\n",
        "\n",
        "\n",
        "if choise == 2:\n",
        "    print (subs(num1, num2))\n",
        "\n",
        "\n",
        "if choise == 3:    \n",
        "    print (multi(num1, num2))\n",
        "\n",
        "\n",
        "if choise == 4:    \n",
        "    print (div(num1, num2)) "
      ],
      "metadata": {
        "colab": {
          "base_uri": "https://localhost:8080/"
        },
        "id": "YXqniV_4Ym1X",
        "outputId": "dce8e327-03f7-4573-b96c-548b7aa1457e"
      },
      "execution_count": 145,
      "outputs": [
        {
          "output_type": "stream",
          "name": "stdout",
          "text": [
            "Choose an option: \n",
            "\n",
            "1: Addition\n",
            "2: Subtraction\n",
            "3: Multiplication \n",
            "4: Division \n",
            "\n",
            "Enter an option: \n",
            "1\n",
            "Enter first number: 6\n",
            "Enter second number: 0\n",
            "6.0\n"
          ]
        }
      ]
    }
  ]
}