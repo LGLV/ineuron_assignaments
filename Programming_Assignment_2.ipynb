{
  "nbformat": 4,
  "nbformat_minor": 0,
  "metadata": {
    "colab": {
      "provenance": [],
      "authorship_tag": "ABX9TyO+FYsdXEI8Y8wNHC6SVyep",
      "include_colab_link": true
    },
    "kernelspec": {
      "name": "python3",
      "display_name": "Python 3"
    },
    "language_info": {
      "name": "python"
    }
  },
  "cells": [
    {
      "cell_type": "markdown",
      "metadata": {
        "id": "view-in-github",
        "colab_type": "text"
      },
      "source": [
        "<a href=\"https://colab.research.google.com/github/LGLV/ineuron_assignaments/blob/main/Programming_Assignment_2.ipynb\" target=\"_parent\"><img src=\"https://colab.research.google.com/assets/colab-badge.svg\" alt=\"Open In Colab\"/></a>"
      ]
    },
    {
      "cell_type": "markdown",
      "source": [
        "**1. Write a Python program to convert kilometers to miles?**"
      ],
      "metadata": {
        "id": "QH4FIZjZ5gNT"
      }
    },
    {
      "cell_type": "code",
      "execution_count": null,
      "metadata": {
        "colab": {
          "base_uri": "https://localhost:8080/"
        },
        "id": "A356FBGj5d51",
        "outputId": "b029eb6e-7cca-4521-a2b6-f4835ced6a40"
      },
      "outputs": [
        {
          "output_type": "stream",
          "name": "stdout",
          "text": [
            "Enter the quantity of km to conver to miles: 8\n",
            "8.0 km is equal to 4.968 miles\n"
          ]
        }
      ],
      "source": [
        "mile = float(input('Enter the quantity of km to conver to miles: '))\n",
        "def km_m(mile):\n",
        "    return mile*0.621\n",
        "     \n",
        "print(f'{mile} km is equal to {km_m(mile)} miles')"
      ]
    },
    {
      "cell_type": "markdown",
      "source": [
        "2. Write a Python program to convert Celsius to Fahrenheit?\n"
      ],
      "metadata": {
        "id": "gRIqVpD45m7s"
      }
    },
    {
      "cell_type": "code",
      "source": [
        "farenh = float(input('Enter temperature in °C to conver to °F: '))\n",
        "\n",
        "def c_f(farenh):\n",
        "    return (farenh*9)/ 5 + 32\n",
        "\n",
        "print(f'{farenh} °C are {c_f(farenh)}°F')"
      ],
      "metadata": {
        "colab": {
          "base_uri": "https://localhost:8080/"
        },
        "id": "3XlU4fR6aWBw",
        "outputId": "54dd5dea-9281-481b-ca61-e6b463cc4e7f"
      },
      "execution_count": null,
      "outputs": [
        {
          "output_type": "stream",
          "name": "stdout",
          "text": [
            "Enter temperature in °C to conver to °F: 100\n",
            "100.0 °C are 212.0°F\n"
          ]
        }
      ]
    },
    {
      "cell_type": "markdown",
      "source": [
        "3. Write a Python program to display calendar?\n"
      ],
      "metadata": {
        "id": "hLfeOBMg5p-F"
      }
    },
    {
      "cell_type": "code",
      "source": [
        "import calendar\n",
        "year = int(input('Enter a calendar year: '))\n",
        "print(calendar.calendar(year))"
      ],
      "metadata": {
        "colab": {
          "base_uri": "https://localhost:8080/"
        },
        "id": "z10z9mL4cl7G",
        "outputId": "063d03c2-a956-40b5-e8f4-727f00e9663a"
      },
      "execution_count": null,
      "outputs": [
        {
          "output_type": "stream",
          "name": "stdout",
          "text": [
            "Enter a calendar year: 2010\n",
            "                                  2010\n",
            "\n",
            "      January                   February                   March\n",
            "Mo Tu We Th Fr Sa Su      Mo Tu We Th Fr Sa Su      Mo Tu We Th Fr Sa Su\n",
            "             1  2  3       1  2  3  4  5  6  7       1  2  3  4  5  6  7\n",
            " 4  5  6  7  8  9 10       8  9 10 11 12 13 14       8  9 10 11 12 13 14\n",
            "11 12 13 14 15 16 17      15 16 17 18 19 20 21      15 16 17 18 19 20 21\n",
            "18 19 20 21 22 23 24      22 23 24 25 26 27 28      22 23 24 25 26 27 28\n",
            "25 26 27 28 29 30 31                                29 30 31\n",
            "\n",
            "       April                      May                       June\n",
            "Mo Tu We Th Fr Sa Su      Mo Tu We Th Fr Sa Su      Mo Tu We Th Fr Sa Su\n",
            "          1  2  3  4                      1  2          1  2  3  4  5  6\n",
            " 5  6  7  8  9 10 11       3  4  5  6  7  8  9       7  8  9 10 11 12 13\n",
            "12 13 14 15 16 17 18      10 11 12 13 14 15 16      14 15 16 17 18 19 20\n",
            "19 20 21 22 23 24 25      17 18 19 20 21 22 23      21 22 23 24 25 26 27\n",
            "26 27 28 29 30            24 25 26 27 28 29 30      28 29 30\n",
            "                          31\n",
            "\n",
            "        July                     August                  September\n",
            "Mo Tu We Th Fr Sa Su      Mo Tu We Th Fr Sa Su      Mo Tu We Th Fr Sa Su\n",
            "          1  2  3  4                         1             1  2  3  4  5\n",
            " 5  6  7  8  9 10 11       2  3  4  5  6  7  8       6  7  8  9 10 11 12\n",
            "12 13 14 15 16 17 18       9 10 11 12 13 14 15      13 14 15 16 17 18 19\n",
            "19 20 21 22 23 24 25      16 17 18 19 20 21 22      20 21 22 23 24 25 26\n",
            "26 27 28 29 30 31         23 24 25 26 27 28 29      27 28 29 30\n",
            "                          30 31\n",
            "\n",
            "      October                   November                  December\n",
            "Mo Tu We Th Fr Sa Su      Mo Tu We Th Fr Sa Su      Mo Tu We Th Fr Sa Su\n",
            "             1  2  3       1  2  3  4  5  6  7             1  2  3  4  5\n",
            " 4  5  6  7  8  9 10       8  9 10 11 12 13 14       6  7  8  9 10 11 12\n",
            "11 12 13 14 15 16 17      15 16 17 18 19 20 21      13 14 15 16 17 18 19\n",
            "18 19 20 21 22 23 24      22 23 24 25 26 27 28      20 21 22 23 24 25 26\n",
            "25 26 27 28 29 30 31      29 30                     27 28 29 30 31\n",
            "\n"
          ]
        }
      ]
    },
    {
      "cell_type": "markdown",
      "source": [
        "4. Write a Python program to solve quadratic equation?"
      ],
      "metadata": {
        "id": "aiv15ZfS5tEG"
      }
    },
    {
      "cell_type": "code",
      "source": [
        "a = float(input('Enter the x^2 coefficient: '))\n",
        "b = float(input('Enter the x coefficient: '))\n",
        "c = float(input('Enter the independent coefficient: '))\n",
        "\n",
        "def quad_ec(a, b, c):\n",
        "\n",
        "    disc = (b**2)-4*a*c\n",
        "    print(f'The discriminant value is: {disc}, then.')\n",
        "\n",
        "    if disc > 0:\n",
        "        \n",
        "        x1 = (-b+(b**2-4*a*c)**0.5)/2*a\n",
        "        x2 = (-b-(b**2-4*a*c)**0.5)/2*a\n",
        "        print(f'We have two real solutions: \\nx1 = {x1} \\nx2 = {x2}')\n",
        "    \n",
        "    elif disc == 0:\n",
        "\n",
        "        x1 = (-b+(b**2-4*a*c)**0.5)/2*a\n",
        "        x2 = (-b-(b**2-4*a*c)**0.5)/2*a\n",
        "        print(f'We have two equal real solutions: \\nx1 = {x1} \\nx2 = {x2}')\n",
        "    \n",
        "    else:\n",
        "        x1 = (-b+(b**2-4*a*c)**0.5)/2*a\n",
        "        x2 = (-b-(b**2-4*a*c)**0.5)/2*a\n",
        "        print(f'We have two imaginary solutions: \\nx1 = {x1} \\nx2 = {x2}')\n",
        "\n",
        "quad_ec(a, b, c)"
      ],
      "metadata": {
        "colab": {
          "base_uri": "https://localhost:8080/"
        },
        "id": "CaA6Uh7oeaGA",
        "outputId": "6769d50a-777c-4f1a-e8fc-65ad701275db"
      },
      "execution_count": 70,
      "outputs": [
        {
          "output_type": "stream",
          "name": "stdout",
          "text": [
            "Enter the x^2 coefficient: 1\n",
            "Enter the x coefficient: 1\n",
            "Enter the independent coefficient: 1\n",
            "The discriminant value is: -3.0, then.\n",
            "We have two imaginary solutions: \n",
            "x1 = (-0.49999999999999994+0.8660254037844386j) \n",
            "x2 = (-0.5-0.8660254037844386j)\n"
          ]
        }
      ]
    },
    {
      "cell_type": "markdown",
      "source": [
        "5. Write a Python program to swap two variables without temp variable?"
      ],
      "metadata": {
        "id": "JxLOgHoG5zHS"
      }
    },
    {
      "cell_type": "code",
      "source": [
        "before_date = float(input('Enter the now number: '))\n",
        "after_date = float(input('Enter the after number: '))\n",
        "\n",
        "def Bef_Aft(before_date, after_date):\n",
        "    a = before_date\n",
        "    before_date = after_date\n",
        "    after_date = a\n",
        "    return before_date, after_date\n",
        "print('Initial date:', before_date, ',', after_date)\n",
        "before_date, after_date = Bef_Aft(before_date, after_date)\n",
        "print('Swaped date:', before_date, ',', after_date)"
      ],
      "metadata": {
        "colab": {
          "base_uri": "https://localhost:8080/"
        },
        "id": "dXhbsPR3qeuF",
        "outputId": "aaaeb849-8c17-4164-ffaa-53e169f22780"
      },
      "execution_count": 62,
      "outputs": [
        {
          "output_type": "stream",
          "name": "stdout",
          "text": [
            "Enter the now number: 23\n",
            "Enter the after number: 32\n",
            "Initial date: 23.0 , 32.0\n",
            "Swaped date: 32.0 , 23.0\n"
          ]
        }
      ]
    },
    {
      "cell_type": "code",
      "source": [
        "num_1 = int(input('Enter first number: '))\n",
        "num_2 = int(input('Enter second number: '))\n",
        "\n",
        "\n",
        "def swapNumbers(num_1,num_2):\n",
        "        print('Before Swapping:',num_1,num_2)\n",
        "        num_1 = num_1+num_2\n",
        "        num_2 = num_1-num_2\n",
        "        num_1 = num_1-num_2\n",
        "        print('After Swapping:',num_1,num_2)\n",
        "\n",
        "swapNumbers(num_1,num_2)"
      ],
      "metadata": {
        "colab": {
          "base_uri": "https://localhost:8080/"
        },
        "id": "djUY6WZuqyLS",
        "outputId": "fecc3124-aea1-4f30-c3a4-3feb51b1a994"
      },
      "execution_count": 65,
      "outputs": [
        {
          "output_type": "stream",
          "name": "stdout",
          "text": [
            "Enter first number: 23\n",
            "Enter second number: 32\n",
            "Before Swapping: 23 32\n",
            "After Swapping: 32 23\n"
          ]
        }
      ]
    }
  ]
}