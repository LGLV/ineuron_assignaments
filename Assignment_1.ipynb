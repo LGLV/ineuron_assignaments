{
  "nbformat": 4,
  "nbformat_minor": 0,
  "metadata": {
    "colab": {
      "provenance": [],
      "authorship_tag": "ABX9TyOwxrIIMB1gxwC90qoE0WqU",
      "include_colab_link": true
    },
    "kernelspec": {
      "name": "python3",
      "display_name": "Python 3"
    },
    "language_info": {
      "name": "python"
    }
  },
  "cells": [
    {
      "cell_type": "markdown",
      "metadata": {
        "id": "view-in-github",
        "colab_type": "text"
      },
      "source": [
        "<a href=\"https://colab.research.google.com/github/LGLV/ineuron_assignaments/blob/main/Assignment_1.ipynb\" target=\"_parent\"><img src=\"https://colab.research.google.com/assets/colab-badge.svg\" alt=\"Open In Colab\"/></a>"
      ]
    },
    {
      "cell_type": "markdown",
      "source": [
        "**1. In the below elements which of them are values or an expression? eg:- values can be integer or string and expressions will be mathematical operators.**\n",
        "\n",
        "* *(operator)\n",
        "* 'hello' (value)\n",
        "* -87.8 (value)\n",
        "* -(operator)\n",
        "* /(operator)\n",
        "* +(operator)\n",
        "* 6 (value)\n"
      ],
      "metadata": {
        "id": "rnRSp_oVS3kX"
      }
    },
    {
      "cell_type": "markdown",
      "source": [
        "**2. What is the difference between string and variable?**\n",
        "* Variable is a symbol where we can store info \n",
        "* String is an expression (word) enclosed between “ ” and we can assign it to a variable.\n"
      ],
      "metadata": {
        "id": "fnDNhzxNTWbW"
      }
    },
    {
      "cell_type": "markdown",
      "source": [
        "**3. Describe three different data types.**\n",
        "* Numerical data type as: Integer and floating \n",
        "* Categorical data type as: name or labels \n",
        "* Boolean data type as: True, False\n"
      ],
      "metadata": {
        "id": "Jr_qaJsCTh_A"
      }
    },
    {
      "cell_type": "code",
      "source": [
        "# Data type\n",
        "a = 1\n",
        "b = 3.1415\n",
        "c = 'Luis'\n",
        "d = True\n",
        "print(a, 'is =', type(a))\n",
        "print(b, 'is =', type(b))\n",
        "print(c, 'is =', type(c))\n",
        "print(d, 'is =', type(d))"
      ],
      "metadata": {
        "colab": {
          "base_uri": "https://localhost:8080/"
        },
        "id": "WtfydR-DT3_9",
        "outputId": "88983329-3de4-4448-b63c-ba6cd2439d7c"
      },
      "execution_count": null,
      "outputs": [
        {
          "output_type": "stream",
          "name": "stdout",
          "text": [
            "1 is = <class 'int'>\n",
            "3.1415 is = <class 'float'>\n",
            "Luis is = <class 'str'>\n",
            "True is = <class 'bool'>\n"
          ]
        }
      ]
    },
    {
      "cell_type": "markdown",
      "source": [
        "**4. What is an expression made up of? What do all expressions do?**\n",
        "* An expression is made of operands and operators\n",
        "* All expression produces values or results \n"
      ],
      "metadata": {
        "id": "ft_Iu36ETts0"
      }
    },
    {
      "cell_type": "markdown",
      "source": [
        "**5. This assignment statements, like spam = 10. What is the difference between an expression and a statement?**\n",
        "* An expression produces a value or result.\n",
        "* A statement creates a variable or display values.\n"
      ],
      "metadata": {
        "id": "0YCU0HI4VlHI"
      }
    },
    {
      "cell_type": "code",
      "execution_count": null,
      "metadata": {
        "colab": {
          "base_uri": "https://localhost:8080/",
          "height": 53
        },
        "id": "wipVNPifR9Ou",
        "outputId": "e75eb68d-9032-4f9d-ca94-4f8d43fad927"
      },
      "outputs": [
        {
          "output_type": "stream",
          "name": "stdout",
          "text": [
            "27\n"
          ]
        },
        {
          "output_type": "execute_result",
          "data": {
            "text/plain": [
              "'LGLB'"
            ],
            "application/vnd.google.colaboratory.intrinsic+json": {
              "type": "string"
            }
          },
          "metadata": {},
          "execution_count": 20
        }
      ],
      "source": [
        "# Expression\n",
        "print(3**3)\n",
        "# Statement\n",
        "name = 'LGLB'\n",
        "name"
      ]
    },
    {
      "cell_type": "markdown",
      "source": [
        "**6. After running the following code, what does the variable bacon contain?**\n",
        "\n",
        "bacon = 22\n",
        "\n",
        "bacon + 1\n"
      ],
      "metadata": {
        "id": "irH1MYiSYzE7"
      }
    },
    {
      "cell_type": "code",
      "source": [
        "bacon = 22\n",
        "bacon + 1"
      ],
      "metadata": {
        "colab": {
          "base_uri": "https://localhost:8080/"
        },
        "id": "1ObXRcLRYmWQ",
        "outputId": "95d8e8e8-d95e-45d5-9b4e-9065880450fc"
      },
      "execution_count": null,
      "outputs": [
        {
          "output_type": "execute_result",
          "data": {
            "text/plain": [
              "23"
            ]
          },
          "metadata": {},
          "execution_count": 21
        }
      ]
    },
    {
      "cell_type": "markdown",
      "source": [
        "**7. What should the values of the following two terms be?**\n",
        "\n",
        "'spam' + 'spamspam'\n",
        "\n",
        "'spam' * 3\n"
      ],
      "metadata": {
        "id": "pdpC2SNdY-57"
      }
    },
    {
      "cell_type": "code",
      "source": [
        "a = 'spam' + 'spamspam'\n",
        "b = 'spam' * 3\n",
        "\n",
        "print(f'a= {a}\\nb= {b}')"
      ],
      "metadata": {
        "colab": {
          "base_uri": "https://localhost:8080/"
        },
        "id": "bQw6WRlqZD9F",
        "outputId": "ddd95c55-9efa-45e7-a7e7-c1eb42d5f7bd"
      },
      "execution_count": null,
      "outputs": [
        {
          "output_type": "stream",
          "name": "stdout",
          "text": [
            "a= spamspamspam\n",
            "b= spamspamspam\n"
          ]
        }
      ]
    },
    {
      "cell_type": "markdown",
      "source": [
        "**8. Why is eggs a valid variable name while 100 is invalid?**"
      ],
      "metadata": {
        "id": "uMtnXkkPaLJ0"
      }
    },
    {
      "cell_type": "code",
      "source": [
        "eggs = 20\n",
        "100 = 'one hundred' # No variable can star whit number"
      ],
      "metadata": {
        "colab": {
          "base_uri": "https://localhost:8080/",
          "height": 133
        },
        "id": "LY7R9AYFaSaw",
        "outputId": "7b0e68aa-a9f1-499e-affe-a674f7f9b3cd"
      },
      "execution_count": null,
      "outputs": [
        {
          "output_type": "error",
          "ename": "SyntaxError",
          "evalue": "ignored",
          "traceback": [
            "\u001b[0;36m  File \u001b[0;32m\"<ipython-input-39-b70d80e18511>\"\u001b[0;36m, line \u001b[0;32m2\u001b[0m\n\u001b[0;31m    100 = 'one hundred'\u001b[0m\n\u001b[0m    ^\u001b[0m\n\u001b[0;31mSyntaxError\u001b[0m\u001b[0;31m:\u001b[0m cannot assign to literal here. Maybe you meant '==' instead of '='?\n"
          ]
        }
      ]
    },
    {
      "cell_type": "markdown",
      "source": [
        "**9. What three functions can be used to get the integer, floating-point number, or string version of a value?**\n",
        "\n",
        "* int()\n",
        "* float()\n",
        "* str()\n"
      ],
      "metadata": {
        "id": "bPSanIXca6Cu"
      }
    },
    {
      "cell_type": "code",
      "source": [
        "print(int(3.14))\n",
        "print(float(3))\n",
        "print(str(9.0))"
      ],
      "metadata": {
        "colab": {
          "base_uri": "https://localhost:8080/"
        },
        "id": "l7HGlCcLbYI6",
        "outputId": "34ac380a-79c1-4518-b6a9-994e95d88b5e"
      },
      "execution_count": null,
      "outputs": [
        {
          "output_type": "stream",
          "name": "stdout",
          "text": [
            "3\n",
            "3.0\n",
            "9.0\n"
          ]
        }
      ]
    },
    {
      "cell_type": "markdown",
      "source": [
        "**10. Why does this expression cause an error? How can you fix it?**\n",
        "\n",
        "'I have eaten ' + 99 + ' burritos.'\n",
        "\n",
        "* cause expression cannot do mathematical operations between strings and integers. \n",
        "* can only concatenate str (not \"int\") to str\n"
      ],
      "metadata": {
        "id": "4UBHg7TKaO8r"
      }
    },
    {
      "cell_type": "code",
      "source": [
        "# To fix it \n",
        "'I have eaten ' + str(99) + ' burritos.' # str(99) converts numeric 99 to string."
      ],
      "metadata": {
        "colab": {
          "base_uri": "https://localhost:8080/",
          "height": 35
        },
        "id": "N_8wbqYbceeC",
        "outputId": "4f7d3a27-a13a-49c3-a71a-30a1c7a20168"
      },
      "execution_count": null,
      "outputs": [
        {
          "output_type": "execute_result",
          "data": {
            "text/plain": [
              "'I have eaten 99 burritos.'"
            ],
            "application/vnd.google.colaboratory.intrinsic+json": {
              "type": "string"
            }
          },
          "metadata": {},
          "execution_count": 46
        }
      ]
    }
  ]
}