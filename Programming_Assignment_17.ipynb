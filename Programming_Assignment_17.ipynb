{
  "nbformat": 4,
  "nbformat_minor": 0,
  "metadata": {
    "colab": {
      "provenance": [],
      "authorship_tag": "ABX9TyNFQ9PXgFf0vKoBsmHxFHGn",
      "include_colab_link": true
    },
    "kernelspec": {
      "name": "python3",
      "display_name": "Python 3"
    },
    "language_info": {
      "name": "python"
    }
  },
  "cells": [
    {
      "cell_type": "markdown",
      "metadata": {
        "id": "view-in-github",
        "colab_type": "text"
      },
      "source": [
        "<a href=\"https://colab.research.google.com/github/LGLV/ineuron_assignaments/blob/main/Programming_Assignment_17.ipynb\" target=\"_parent\"><img src=\"https://colab.research.google.com/assets/colab-badge.svg\" alt=\"Open In Colab\"/></a>"
      ]
    },
    {
      "cell_type": "markdown",
      "source": [
        "Question1. Create a function that takes three arguments a, b, c and returns the sum of the\n",
        "numbers that are evenly divided by c from the range a, b inclusive.\n",
        "\n",
        "Examples\n",
        "\n",
        "* evenly_divisible(1, 10, 20) ➞ 0\n",
        "\n",
        "No number between 1 and 10 can be evenly divided by 20.\n",
        "\n",
        "* evenly_divisible(1, 10, 2) ➞ 30\n",
        "\n",
        "2 + 4 + 6 + 8 + 10 = 30\n",
        "\n",
        "* evenly_divisible(1, 10, 3) ➞ 18\n",
        "\n",
        "3 + 6 + 9 = 18"
      ],
      "metadata": {
        "id": "HFcl_EUnawRJ"
      }
    },
    {
      "cell_type": "code",
      "execution_count": 1,
      "metadata": {
        "colab": {
          "base_uri": "https://localhost:8080/"
        },
        "id": "clE7NRd6auB8",
        "outputId": "2448e3e2-8d7a-4196-cf40-8fc7e11c287d"
      },
      "outputs": [
        {
          "output_type": "stream",
          "name": "stdout",
          "text": [
            "0\n",
            "30\n",
            "18\n"
          ]
        }
      ],
      "source": [
        "def evenly_divisible(a, b, c):\n",
        "    total = 0\n",
        "    for i in range(a, b + 1):\n",
        "        if i % c == 0:\n",
        "            total += i\n",
        "    return total\n",
        "\n",
        "# Examples\n",
        "print(evenly_divisible(1, 10, 20))  # Output: 0\n",
        "print(evenly_divisible(1, 10, 2))   # Output: 30\n",
        "print(evenly_divisible(1, 10, 3))   # Output: 18\n"
      ]
    },
    {
      "cell_type": "markdown",
      "source": [
        "Question2. Create a function that returns True if a given inequality expression is correct and\n",
        "False otherwise.\n",
        "\n",
        "Examples\n",
        "* correct_signs(&quot;3 &lt; 7 &lt; 11&quot;) ➞ True\n",
        "* correct_signs(&quot;13 &gt; 44 &gt; 33 &gt; 1&quot;) ➞ False\n",
        "* correct_signs(&quot;1 &lt; 2 &lt; 6 &lt; 9 &gt; 3&quot;) ➞ True"
      ],
      "metadata": {
        "id": "PB24uixOdrFe"
      }
    },
    {
      "cell_type": "code",
      "source": [
        "def correct_signs(inequality):\n",
        "    return eval(inequality)\n",
        "\n",
        "# Examples\n",
        "print(correct_signs(\"3 < 7 < 11\"))     # Output: True\n",
        "print(correct_signs(\"13 > 44 > 33 > 1\"))  # Output: False\n",
        "print(correct_signs(\"1 < 2 < 6 < 9 > 3\"))  # Output: True\n"
      ],
      "metadata": {
        "colab": {
          "base_uri": "https://localhost:8080/"
        },
        "id": "JnUVOERKd5mf",
        "outputId": "1f905658-a461-4eef-9677-40bc542359ce"
      },
      "execution_count": 2,
      "outputs": [
        {
          "output_type": "stream",
          "name": "stdout",
          "text": [
            "True\n",
            "False\n",
            "True\n"
          ]
        }
      ]
    },
    {
      "cell_type": "markdown",
      "source": [
        "Question3. Create a function that replaces all the vowels in a string with a specified character.\n",
        "\n",
        "Examples\n",
        "* replace_vowels(&quot;the aardvark&quot;, &quot;#&quot;) ➞ &quot;th# ##rdv#rk&quot;\n",
        "* replace_vowels(&quot;minnie mouse&quot;, &quot;?&quot;) ➞ &quot;m?nn?? m??s?&quot;\n",
        "* replace_vowels(&quot;shakespeare&quot;, &quot;*&quot;) ➞ &quot;sh*k*sp**r*&quot;"
      ],
      "metadata": {
        "id": "Fc3SQ9pod8ix"
      }
    },
    {
      "cell_type": "code",
      "source": [
        "def replace_vowels(string, char):\n",
        "    vowels = \"aeiouAEIOU\"\n",
        "    return ''.join([char if letter in vowels else letter for letter in string])\n",
        "\n",
        "# Examples\n",
        "print(replace_vowels(\"the aardvark\", \"#\"))      # Output: \"th# ##rdv#rk\"\n",
        "print(replace_vowels(\"minnie mouse\", \"?\"))      # Output: \"m?nn?? m??s?\"\n",
        "print(replace_vowels(\"shakespeare\", \"*\"))       # Output: \"sh*k*sp**r*\"\n"
      ],
      "metadata": {
        "colab": {
          "base_uri": "https://localhost:8080/"
        },
        "id": "ign-kDiZerop",
        "outputId": "1ebd46a3-07a2-4c19-9992-123662075f42"
      },
      "execution_count": 5,
      "outputs": [
        {
          "output_type": "stream",
          "name": "stdout",
          "text": [
            "th# ##rdv#rk\n",
            "m?nn?? m??s?\n",
            "sh*k*sp**r*\n"
          ]
        }
      ]
    },
    {
      "cell_type": "markdown",
      "source": [
        "Question4. Write a function that calculates the factorial of a number recursively.\n",
        "\n",
        "Examples\n",
        "* factorial(5) ➞ 120\n",
        "* factorial(3) ➞ 6\n",
        "* factorial(1) ➞ 1\n",
        "* factorial(0) ➞ 1"
      ],
      "metadata": {
        "id": "vMwOsW4ifGXv"
      }
    },
    {
      "cell_type": "code",
      "source": [
        "def factorial(n):\n",
        "    # Base case: factorial of 0 or 1 is 1\n",
        "    if n == 0 or n == 1:\n",
        "        return 1\n",
        "    # Recursive case: multiply n by the factorial of (n-1)\n",
        "    else:\n",
        "        return n * factorial(n - 1)\n",
        "\n",
        "# Examples\n",
        "print(factorial(5))  # Output: 120\n",
        "print(factorial(3))  # Output: 6\n",
        "print(factorial(1))  # Output: 1\n",
        "print(factorial(0))  # Output: 1\n"
      ],
      "metadata": {
        "colab": {
          "base_uri": "https://localhost:8080/"
        },
        "id": "u9pw0GvWfPCL",
        "outputId": "c788690f-2c1b-409b-df42-46bea00a37e5"
      },
      "execution_count": 6,
      "outputs": [
        {
          "output_type": "stream",
          "name": "stdout",
          "text": [
            "120\n",
            "6\n",
            "1\n",
            "1\n"
          ]
        }
      ]
    },
    {
      "cell_type": "markdown",
      "source": [
        "Question 5\n",
        "Hamming distance is the number of characters that differ between two strings.\n",
        "\n",
        "To illustrate:\n",
        "* String1: &quot;abcbba&quot;\n",
        "* String2: &quot;abcbda&quot;\n",
        "\n",
        "Hamming Distance: 1 - &quot;b&quot; vs. &quot;d&quot; is the only difference.\n",
        "Create a function that computes the hamming distance between two strings.\n",
        "\n",
        "Examples\n",
        "\n",
        "* hamming_distance(&quot;abcde&quot;, &quot;bcdef&quot;) ➞ 5\n",
        "* hamming_distance(&quot;abcde&quot;, &quot;abcde&quot;) ➞ 0\n",
        "* hamming_distance(&quot;strong&quot;, &quot;strung&quot;) ➞ 1"
      ],
      "metadata": {
        "id": "Bfi1ZA_XfqOB"
      }
    },
    {
      "cell_type": "code",
      "source": [
        "def hamming_distance(str1, str2):\n",
        "    # Ensure both strings have the same length\n",
        "    if len(str1) != len(str2):\n",
        "        return \"Strings must be of the same length\"\n",
        "\n",
        "    # Initialize a counter for differences\n",
        "    distance = 0\n",
        "\n",
        "    # Iterate over the characters of both strings\n",
        "    for i in range(len(str1)):\n",
        "        # Count the differences\n",
        "        if str1[i] != str2[i]:\n",
        "            distance += 1\n",
        "\n",
        "    return distance\n",
        "\n",
        "# Examples\n",
        "print(hamming_distance(\"abcde\", \"bcdef\"))  # Output: 5\n",
        "print(hamming_distance(\"abcde\", \"abcde\"))  # Output: 0\n",
        "print(hamming_distance(\"strong\", \"strung\"))  # Output: 1\n"
      ],
      "metadata": {
        "colab": {
          "base_uri": "https://localhost:8080/"
        },
        "id": "z55fN9cXfp2t",
        "outputId": "23eaa27f-b974-46cb-9eac-2d1ffa382280"
      },
      "execution_count": 7,
      "outputs": [
        {
          "output_type": "stream",
          "name": "stdout",
          "text": [
            "5\n",
            "0\n",
            "1\n"
          ]
        }
      ]
    }
  ]
}