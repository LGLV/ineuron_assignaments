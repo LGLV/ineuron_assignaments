{
  "nbformat": 4,
  "nbformat_minor": 0,
  "metadata": {
    "colab": {
      "provenance": [],
      "authorship_tag": "ABX9TyOnHnttGjyhYGcAvHDu2P45",
      "include_colab_link": true
    },
    "kernelspec": {
      "name": "python3",
      "display_name": "Python 3"
    },
    "language_info": {
      "name": "python"
    }
  },
  "cells": [
    {
      "cell_type": "markdown",
      "metadata": {
        "id": "view-in-github",
        "colab_type": "text"
      },
      "source": [
        "<a href=\"https://colab.research.google.com/github/LGLV/ineuron_assignaments/blob/main/Programming_Assignment_9.ipynb\" target=\"_parent\"><img src=\"https://colab.research.google.com/assets/colab-badge.svg\" alt=\"Open In Colab\"/></a>"
      ]
    },
    {
      "cell_type": "markdown",
      "source": [
        "**1. Write a Python program to check if the given number is a Disarium Number?**\n",
        "A number is said to be the Disarium number when the sum of its digit raised to the power of their respective positions becomes equal to the number itself.\n",
        "\n",
        "For example, 175 is a Disarium number as follows:\n",
        "\n",
        "1^1+ 7^2 + 5^3 = 1+ 49 + 125 = 175"
      ],
      "metadata": {
        "id": "xNE0Cz52WmGc"
      }
    },
    {
      "cell_type": "code",
      "source": [
        "Number = int(input(\"Enter the Number to Check Disarium Number = \"))\n",
        "length = len(str(Number))\n",
        "\n",
        "Temp = Number\n",
        "Sum = 0\n",
        "rem = 0\n",
        "\n",
        "while Temp > 0:\n",
        "    rem = Temp % 10\n",
        "    Sum = Sum + int(rem**length)\n",
        "    Temp = Temp // 10\n",
        "    length = length - 1\n",
        "\n",
        "print(\"The Sum of the Digits = %d\" %Sum)\n",
        "\n",
        "if Sum == Number:\n",
        "    print(\"\\n%d is a Disarium Number.\" %Number)\n",
        "else:\n",
        "    print(\"%d is Not a Disarium Number.\" %Number)"
      ],
      "metadata": {
        "colab": {
          "base_uri": "https://localhost:8080/"
        },
        "id": "HnpC7qT-cpWh",
        "outputId": "95d85e19-d05c-46e8-f1a8-6402d0be50cb"
      },
      "execution_count": 3,
      "outputs": [
        {
          "output_type": "stream",
          "name": "stdout",
          "text": [
            "Enter the Number to Check Disarium Number = 175\n",
            "The Sum of the Digits = 175\n",
            "\n",
            "175 is a Disarium Number.\n"
          ]
        }
      ]
    },
    {
      "cell_type": "code",
      "source": [
        "def is_disarium(number):\n",
        "    # Convert the number to a string to iterate through its digits\n",
        "    num_str = str(number)\n",
        "    \n",
        "    # Calculate the sum of digits raised to their respective positions\n",
        "    digit_sum = sum(int(digit)**(index+1) for index, digit in enumerate(num_str))\n",
        "    \n",
        "    # Check if the sum is equal to the original number\n",
        "    if digit_sum == number:\n",
        "        return True\n",
        "    else:\n",
        "        return False\n",
        "\n",
        "# Example usage\n",
        "num = int(input('Enter a number: '))\n",
        "if is_disarium(num):\n",
        "    print(num, \"is a Disarium number\")\n",
        "else:\n",
        "    print(num, \"is not a Disarium number\")"
      ],
      "metadata": {
        "colab": {
          "base_uri": "https://localhost:8080/"
        },
        "id": "IlTzxjYOYsWf",
        "outputId": "373df6a8-bbd6-4309-cc4e-84f8a91fa0fc"
      },
      "execution_count": 1,
      "outputs": [
        {
          "output_type": "stream",
          "name": "stdout",
          "text": [
            "Enter a number: 175\n",
            "175 is a Disarium number\n"
          ]
        }
      ]
    },
    {
      "cell_type": "markdown",
      "source": [
        "**2. Write a Python program to print all disarium numbers between 1 to 100?**\n"
      ],
      "metadata": {
        "id": "WHsySF-4WmSi"
      }
    },
    {
      "cell_type": "code",
      "source": [
        "def calculateLength(n): #calculateLength() will count the digits present in a number    \n",
        "    length = 0\n",
        "    while(n != 0):\n",
        "        length = length + 1\n",
        "        n = n//10\n",
        "    return length\n",
        "\n",
        "def sumOfDigits(num):  #sumOfDigits() will calculates the sum of digits powered with their respective position  \n",
        "    rem = sum = 0\n",
        "    len = calculateLength(num)\n",
        "\n",
        "    while(num > 0):\n",
        "        rem = num%10\n",
        "        sum = sum + (rem**len)\n",
        "        num = num//10\n",
        "        len = len - 1\n",
        "    return sum\n",
        "\n",
        "result = 0\n",
        "disarium_numbers = []\n",
        "\n",
        "print(\"Disarium numbers between 1 and 100 are:\") #Displays all disarium numbers between 1 and 100   \n",
        "for i in range(1, 101):\n",
        "    result = sumOfDigits(i)\n",
        "\n",
        "    if(result == i):\n",
        "        disarium_numbers.append(i)\n",
        "print(disarium_numbers)"
      ],
      "metadata": {
        "colab": {
          "base_uri": "https://localhost:8080/"
        },
        "id": "tOY5JtFSg7C9",
        "outputId": "925e6aac-7db4-46b6-9d76-e7972d3b8b22"
      },
      "execution_count": 16,
      "outputs": [
        {
          "output_type": "stream",
          "name": "stdout",
          "text": [
            "Disarium numbers between 1 and 100 are:\n",
            "[1, 2, 3, 4, 5, 6, 7, 8, 9, 89]\n"
          ]
        }
      ]
    },
    {
      "cell_type": "code",
      "source": [
        "def is_disarium(number):\n",
        "    num_str = str(number)\n",
        "    digit_sum = sum(int(digit)**(index+1) for index, digit in enumerate(num_str))\n",
        "    \n",
        "    if digit_sum == number:\n",
        "        return True\n",
        "    else:\n",
        "        return False\n",
        "\n",
        "# Find and print Disarium numbers between 1 and 100\n",
        "disarium_numbers = []\n",
        "for num in range(1, 101):\n",
        "    if is_disarium(num):\n",
        "        disarium_numbers.append(num)\n",
        "\n",
        "print(\"Disarium numbers between 1 and 100:\")\n",
        "print(disarium_numbers)"
      ],
      "metadata": {
        "colab": {
          "base_uri": "https://localhost:8080/"
        },
        "id": "wDigKqbDa6e3",
        "outputId": "46fab3ce-065e-4838-bc3b-dbcc9dc5317c"
      },
      "execution_count": 13,
      "outputs": [
        {
          "output_type": "stream",
          "name": "stdout",
          "text": [
            "Disarium numbers between 1 and 100:\n",
            "[1, 2, 3, 4, 5, 6, 7, 8, 9, 89]\n"
          ]
        }
      ]
    },
    {
      "cell_type": "markdown",
      "source": [
        "**3. Write a Python program to check if the given number is Happy Number?**\n",
        "\n",
        "A number is said to be happy if it yields 1 when replaced by the sum of squares of its digits repeatedly. If this process results in an endless cycle of numbers containing 4, then the number will be an unhappy number.\n",
        "\n",
        "Let's understand by an example:\n",
        "\n",
        "Number = 32\n",
        "\n",
        "3^2+ 2^2 = 13\n",
        "\n",
        "1^2 + 3^2 = 10\n",
        "\n",
        "1^2 + 0^2 = 1"
      ],
      "metadata": {
        "id": "fwqm6yYZWmd_"
      }
    },
    {
      "cell_type": "code",
      "source": [
        "def is_happy_number(num):\n",
        "    seen_numbers = set()  # To store previously seen numbers\n",
        "\n",
        "    while num != 1 and num not in seen_numbers:\n",
        "        seen_numbers.add(num)\n",
        "        num = sum_of_squares_of_digits(num)\n",
        "\n",
        "    return num == 1\n",
        "\n",
        "def sum_of_squares_of_digits(num):\n",
        "    total = 0\n",
        "    while num > 0:\n",
        "        digit = num % 10\n",
        "        total += digit ** 2\n",
        "        num //= 10\n",
        "    return total\n",
        "\n",
        "# Example usage\n",
        "number = 19\n",
        "\n",
        "if is_happy_number(number):\n",
        "    print(number, \"is a Happy Number\")\n",
        "else:\n",
        "    print(number, \"is not a Happy Number\")"
      ],
      "metadata": {
        "colab": {
          "base_uri": "https://localhost:8080/"
        },
        "id": "ni0HQ8XCkrp2",
        "outputId": "f2c73e95-47fc-47ed-b975-d2fbe73a4a32"
      },
      "execution_count": 17,
      "outputs": [
        {
          "output_type": "stream",
          "name": "stdout",
          "text": [
            "19 is a Happy Number\n"
          ]
        }
      ]
    },
    {
      "cell_type": "markdown",
      "source": [
        "**4. Write a Python program to print all happy numbers between 1 and 100?**\n"
      ],
      "metadata": {
        "id": "sw4pQvmtWmpr"
      }
    },
    {
      "cell_type": "code",
      "source": [
        "def is_happy_number(num):\n",
        "    seen_numbers = set()  # To store previously seen numbers\n",
        "\n",
        "    while num != 1 and num not in seen_numbers:\n",
        "        seen_numbers.add(num)\n",
        "        num = sum_of_squares_of_digits(num)\n",
        "\n",
        "    return num == 1\n",
        "\n",
        "def sum_of_squares_of_digits(num):\n",
        "    total = 0\n",
        "    while num > 0:\n",
        "        digit = num % 10\n",
        "        total += digit ** 2\n",
        "        num //= 10\n",
        "    return total\n",
        "\n",
        "happy_numbers = []\n",
        "for i in range(1, 101):\n",
        "    if is_happy_number(i):\n",
        "        happy_numbers.append(i)\n",
        "\n",
        "print(\"Happy numbers between 1 and 100:\")\n",
        "print(happy_numbers)"
      ],
      "metadata": {
        "colab": {
          "base_uri": "https://localhost:8080/"
        },
        "id": "2OLFdodT64ZG",
        "outputId": "0580a424-4805-4c27-ec62-62345cb38cef"
      },
      "execution_count": 2,
      "outputs": [
        {
          "output_type": "stream",
          "name": "stdout",
          "text": [
            "Happy numbers between 1 and 100:\n",
            "[1, 7, 10, 13, 19, 23, 28, 31, 32, 44, 49, 68, 70, 79, 82, 86, 91, 94, 97, 100]\n"
          ]
        }
      ]
    },
    {
      "cell_type": "code",
      "source": [
        "def is_happy_number(n):\n",
        "    visited = set()\n",
        "    while n != 1:\n",
        "        n = sum(int(digit) ** 2 for digit in str(n))\n",
        "        if n in visited:\n",
        "            return False\n",
        "        visited.add(n)\n",
        "    return True\n",
        "\n",
        "def print_happy_numbers(start, end):\n",
        "    happy_numbers = []\n",
        "    for num in range(start, end + 1):\n",
        "        if is_happy_number(num):\n",
        "            happy_numbers.append(num)\n",
        "    print(\"Happy numbers between\", start, \"and\", end, \"are:\", happy_numbers)\n",
        "\n",
        "print_happy_numbers(1, 100)"
      ],
      "metadata": {
        "colab": {
          "base_uri": "https://localhost:8080/"
        },
        "id": "tjecorz_9x8d",
        "outputId": "5be6ac39-1dd8-417c-ede3-b8496502d7f9"
      },
      "execution_count": 3,
      "outputs": [
        {
          "output_type": "stream",
          "name": "stdout",
          "text": [
            "Happy numbers between 1 and 100 are: [1, 7, 10, 13, 19, 23, 28, 31, 32, 44, 49, 68, 70, 79, 82, 86, 91, 94, 97, 100]\n"
          ]
        }
      ]
    },
    {
      "cell_type": "markdown",
      "source": [
        "**5. Write a Python program to determine whether the given number is a Harshad Number?**\n",
        "\n",
        "A Harshad number is a number that is divisible by the sum of its digits.\n"
      ],
      "metadata": {
        "id": "R0tZzXhQWm1F"
      }
    },
    {
      "cell_type": "code",
      "source": [
        "def is_harshad_number(n):\n",
        "    # Calculate the sum of the digits\n",
        "    digit_sum = sum(int(digit) for digit in str(n))\n",
        "    \n",
        "    # Check if the number is divisible by the sum of its digits\n",
        "    if n % digit_sum == 0:\n",
        "        return True\n",
        "    else:\n",
        "        return False\n",
        "\n",
        "# Test the function with some numbers\n",
        "numbers = [18, 21, 32, 45, 100]\n",
        "\n",
        "for num in numbers:\n",
        "    if is_harshad_number(num):\n",
        "        print(num, \"is a Harshad number.\")\n",
        "    else:\n",
        "        print(num, \"is not a Harshad number.\")"
      ],
      "metadata": {
        "colab": {
          "base_uri": "https://localhost:8080/"
        },
        "id": "HmLbcbULhuBS",
        "outputId": "ea0c75fd-8d75-4a95-9969-83fb62712607"
      },
      "execution_count": 1,
      "outputs": [
        {
          "output_type": "stream",
          "name": "stdout",
          "text": [
            "18 is a Harshad number.\n",
            "21 is a Harshad number.\n",
            "32 is not a Harshad number.\n",
            "45 is a Harshad number.\n",
            "100 is a Harshad number.\n"
          ]
        }
      ]
    },
    {
      "cell_type": "code",
      "source": [
        "    num = 156;    \n",
        "    rem = sum = 0;    \n",
        "         \n",
        "    #Make a copy of num and store it in variable n    \n",
        "    n = num;    \n",
        "         \n",
        "    #Calculates sum of digits    \n",
        "    while(num > 0):    \n",
        "        rem = num%10;    \n",
        "        sum = sum + rem;    \n",
        "        num = num//10;    \n",
        "         \n",
        "    #Checks whether the number is divisible by the sum of digits    \n",
        "    if(n%sum == 0):    \n",
        "        print(str(n) + \" is a harshad number\");    \n",
        "    else:    \n",
        "        print(str(n) + \" is not a harshad number\");    "
      ],
      "metadata": {
        "colab": {
          "base_uri": "https://localhost:8080/"
        },
        "id": "rg9l1kv_ik6T",
        "outputId": "f7bc2322-d71f-4d28-e98c-fe2e92e24bc1"
      },
      "execution_count": 2,
      "outputs": [
        {
          "output_type": "stream",
          "name": "stdout",
          "text": [
            "156 is a harshad number\n"
          ]
        }
      ]
    },
    {
      "cell_type": "markdown",
      "source": [
        "**6. Write a Python program to print all pronic numbers between 1 and 100?**\n",
        "\n",
        "Pronic numbers, also known as oblong numbers or rectangular numbers, are the product of two consecutive integers."
      ],
      "metadata": {
        "id": "XqO2gT41WnAB"
      }
    },
    {
      "cell_type": "code",
      "execution_count": 5,
      "metadata": {
        "colab": {
          "base_uri": "https://localhost:8080/"
        },
        "id": "cvndrgokWV0e",
        "outputId": "1c9118e3-5ab9-4ebe-9cdb-a0a3b97f5c7c"
      },
      "outputs": [
        {
          "output_type": "stream",
          "name": "stdout",
          "text": [
            "Pronic numbers between 1 and 100 are: [2, 6, 12, 20, 30, 42, 56, 72, 90]\n"
          ]
        }
      ],
      "source": [
        "def print_pronic_numbers(start, end):\n",
        "    pronic_numbers = []\n",
        "    for num in range(start, end + 1):\n",
        "        for i in range(1, num):\n",
        "            if i * (i + 1) == num:\n",
        "                pronic_numbers.append(num)\n",
        "                break\n",
        "    print(\"Pronic numbers between\", start, \"and\", end, \"are:\", pronic_numbers)\n",
        "\n",
        "print_pronic_numbers(1, 100)"
      ]
    },
    {
      "cell_type": "code",
      "source": [
        "minPro = int(input(\"Enter the first Number = \"))\n",
        "maxPro = int(input(\"Enter the last  Number = \"))\n",
        "\n",
        "def checkPronic(Number):\n",
        "    i = 0\n",
        "    flag = 0\n",
        "    while i <= Number:\n",
        "        if Number == i * (i + 1):\n",
        "            flag = 1\n",
        "            break\n",
        "        i = i + 1\n",
        "    return flag\n",
        "\n",
        "print(\"\\nThe List of Pronic Numbers Between {0} and {1}\".format(minPro, maxPro)) \n",
        "for i in range(minPro, maxPro):\n",
        "    if(checkPronic(i) == 1):\n",
        "        print(i, end = '   ')"
      ],
      "metadata": {
        "colab": {
          "base_uri": "https://localhost:8080/"
        },
        "id": "zZwbF28VkjOC",
        "outputId": "33798421-ecf0-46d4-9d1f-43f5dd6d80cf"
      },
      "execution_count": 21,
      "outputs": [
        {
          "output_type": "stream",
          "name": "stdout",
          "text": [
            "Enter the first Number = 1\n",
            "Enter the last  Number = 100\n",
            "\n",
            "The List of Pronic Numbers Between 1 and 100\n",
            "2   6   12   20   30   42   56   72   90   "
          ]
        }
      ]
    }
  ]
}