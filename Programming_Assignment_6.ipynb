{
  "nbformat": 4,
  "nbformat_minor": 0,
  "metadata": {
    "colab": {
      "provenance": [],
      "authorship_tag": "ABX9TyPHat+Y9bQDB0VfPZgKWm64",
      "include_colab_link": true
    },
    "kernelspec": {
      "name": "python3",
      "display_name": "Python 3"
    },
    "language_info": {
      "name": "python"
    }
  },
  "cells": [
    {
      "cell_type": "markdown",
      "metadata": {
        "id": "view-in-github",
        "colab_type": "text"
      },
      "source": [
        "<a href=\"https://colab.research.google.com/github/LGLV/ineuron_assignaments/blob/main/Programming_Assignment_6.ipynb\" target=\"_parent\"><img src=\"https://colab.research.google.com/assets/colab-badge.svg\" alt=\"Open In Colab\"/></a>"
      ]
    },
    {
      "cell_type": "markdown",
      "source": [
        "**1. Write a Python Program to Display Fibonacci Sequence Using Recursion?**"
      ],
      "metadata": {
        "id": "0kMVRp8twT80"
      }
    },
    {
      "cell_type": "code",
      "execution_count": null,
      "metadata": {
        "colab": {
          "base_uri": "https://localhost:8080/"
        },
        "id": "pSafZSpjwKs_",
        "outputId": "cb2c4bf4-7b5b-45b4-a74d-3f3c623950a3"
      },
      "outputs": [
        {
          "output_type": "stream",
          "name": "stdout",
          "text": [
            "Enter the number of terms desired: 8\n",
            "Fibonacci sequence:\n",
            "0\n",
            "1\n",
            "1\n",
            "2\n",
            "3\n",
            "5\n",
            "8\n",
            "13\n"
          ]
        }
      ],
      "source": [
        "nterms = int(input('Enter the number of terms desired: '))\n",
        "\n",
        "def recur_fibo(n):\n",
        "   if n <= 1:\n",
        "       return n\n",
        "   else:\n",
        "       return(recur_fibo(n-1) + recur_fibo(n-2))\n",
        "\n",
        "# check if the number of terms is valid\n",
        "if nterms <= 0:\n",
        "   print(\"Plese enter a positive integer\")\n",
        "else:\n",
        "   print(\"Fibonacci sequence:\")\n",
        "   for i in range(nterms):\n",
        "       print(recur_fibo(i))"
      ]
    },
    {
      "cell_type": "markdown",
      "source": [
        "**2. Write a Python Program to Find Factorial of Number Using Recursion?**"
      ],
      "metadata": {
        "id": "nyXB5HYSx-Ck"
      }
    },
    {
      "cell_type": "code",
      "source": [
        "num = int(input('Enter a number whose factorial is desired: '))\n",
        "\n",
        "def re_fact(n):\n",
        "   if n == 1:\n",
        "       return n\n",
        "   else:\n",
        "       return n*re_fact(n-1)\n",
        "\n",
        "\n",
        "if num < 0:\n",
        "   print('Enter a positive number.')\n",
        "elif num == 0:\n",
        "   print(f'The factorial of {num} is 1.')\n",
        "else:\n",
        "   print(f'The factorial of {num} is: {re_fact(num)}')\n"
      ],
      "metadata": {
        "colab": {
          "base_uri": "https://localhost:8080/"
        },
        "id": "uXS7OxIIx5kC",
        "outputId": "c81aed81-f125-4a75-d496-1dc95b15a675"
      },
      "execution_count": null,
      "outputs": [
        {
          "output_type": "stream",
          "name": "stdout",
          "text": [
            "Enter a number whose factorial is desired: 56\n",
            "The factorial of 56 is: 710998587804863451854045647463724949736497978881168458687447040000000000000\n"
          ]
        }
      ]
    },
    {
      "cell_type": "markdown",
      "source": [
        "**3. Write a Python Program to calculate your Body Mass Index?**\n",
        "\n",
        "Body Mass Index is a simple calculation using a person's height and weight. The formula is BMI = kg/m2 where kg is a person's weight in kilograms and m2 is their height in metres squared. A BMI of 25.0 or more is overweight, while the healthy range is 18.5 to 24.9."
      ],
      "metadata": {
        "id": "sRNemvGez-Wx"
      }
    },
    {
      "cell_type": "code",
      "source": [
        "height = float(input('Your height here: '))\n",
        "weight = float(input('Your weight in Kg here: '))\n",
        "\n",
        "def bmi(height, weight):\n",
        "    BMI = weight/(height**2)\n",
        "    print(BMI)\n",
        "    if BMI >= 25 and BMI < 30:\n",
        "        print('Take care, you are overweight.')\n",
        "    elif BMI > 18.5 and  BMI < 24.9:\n",
        "        print('You are in a healthy range.')\n",
        "    else:\n",
        "        #elif BMI > 30:\n",
        "        print('You have an obesity problem..')\n",
        "    \n",
        "bmi(height, weight)\n"
      ],
      "metadata": {
        "colab": {
          "base_uri": "https://localhost:8080/"
        },
        "id": "pQ3izJHgzQCX",
        "outputId": "5e6ef0ed-7b21-43ee-920e-b50b71352425"
      },
      "execution_count": null,
      "outputs": [
        {
          "output_type": "stream",
          "name": "stdout",
          "text": [
            "Your height here: 1.68\n",
            "Your weight in Kg here: 100\n",
            "35.43083900226758\n",
            "You have an obesity problem..\n"
          ]
        }
      ]
    },
    {
      "cell_type": "markdown",
      "source": [
        "**4. Write a Python Program to calculate the natural logarithm of any number?**"
      ],
      "metadata": {
        "id": "hngYGZBz8ebj"
      }
    },
    {
      "cell_type": "code",
      "source": [
        "import math\n",
        "\n",
        "number_ln = float(input('Enter a number: '))\n",
        "\n",
        "if number_ln < 0:\n",
        "    print('Not natuaral log for numbers < 0')\n",
        "else:\n",
        "    log = math.log(number_ln)\n",
        "    print(f'Natural log of {number_ln} is: {log}')\n"
      ],
      "metadata": {
        "colab": {
          "base_uri": "https://localhost:8080/"
        },
        "id": "nD2dvz-MTLTA",
        "outputId": "735faac0-af0c-4893-e328-a8a987a36b30"
      },
      "execution_count": 10,
      "outputs": [
        {
          "output_type": "stream",
          "name": "stdout",
          "text": [
            "Enter a number: -1\n",
            "Not natuaral log for numbers < 0\n"
          ]
        }
      ]
    },
    {
      "cell_type": "markdown",
      "source": [
        "**5. Write a Python Program for cube sum of first n natural numbers?**"
      ],
      "metadata": {
        "id": "o85djecUTFYj"
      }
    },
    {
      "cell_type": "code",
      "source": [
        "cub_num = int(input('Enter a natural number: '))\n",
        "\n",
        "sum = 0\n",
        "\n",
        "for i in range(0, cub_num+1):\n",
        "    sum = sum + i**3\n",
        "    #print(sum)\n",
        "print(f'The cube sum of the first {cub_num} natural numbers is: {sum}')"
      ],
      "metadata": {
        "colab": {
          "base_uri": "https://localhost:8080/"
        },
        "id": "X_n1zf9OUkYI",
        "outputId": "c474e859-dd8d-4a22-c43f-4e0168e5f7bd"
      },
      "execution_count": 44,
      "outputs": [
        {
          "output_type": "stream",
          "name": "stdout",
          "text": [
            "Enter a natural number: 3\n",
            "The cube sum of the first 3 natural numbers is: 36\n"
          ]
        }
      ]
    },
    {
      "cell_type": "code",
      "source": [
        "# Other option\n",
        "n_cub_num = int(input('Enter a natural number: '))\n",
        "\n",
        "def cub_n(n_cub_num):\n",
        "    s = 0\n",
        "    for i in range (1 , n_cub_num+1):\n",
        "        s += i**3\n",
        "    return s\n",
        "print(f'The cube sum of the first {n_cub_num} natural numbers is: {cub_n(n_cub_num)}')"
      ],
      "metadata": {
        "colab": {
          "base_uri": "https://localhost:8080/"
        },
        "id": "fXbCxLKfYs_j",
        "outputId": "c45bee5a-2310-4a48-adac-1e6998847b11"
      },
      "execution_count": 43,
      "outputs": [
        {
          "output_type": "stream",
          "name": "stdout",
          "text": [
            "Enter a natural number: 5\n",
            "The cube sum of the first 5 natural numbers is: 225\n"
          ]
        }
      ]
    }
  ]
}