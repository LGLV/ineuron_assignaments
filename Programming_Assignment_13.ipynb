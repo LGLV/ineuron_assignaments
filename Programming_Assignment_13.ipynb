{
  "nbformat": 4,
  "nbformat_minor": 0,
  "metadata": {
    "colab": {
      "provenance": [],
      "authorship_tag": "ABX9TyMQsyChv+M9sfnhL1la2SZB",
      "include_colab_link": true
    },
    "kernelspec": {
      "name": "python3",
      "display_name": "Python 3"
    },
    "language_info": {
      "name": "python"
    }
  },
  "cells": [
    {
      "cell_type": "markdown",
      "metadata": {
        "id": "view-in-github",
        "colab_type": "text"
      },
      "source": [
        "<a href=\"https://colab.research.google.com/github/LGLV/ineuron_assignaments/blob/main/Programming_Assignment_13.ipynb\" target=\"_parent\"><img src=\"https://colab.research.google.com/assets/colab-badge.svg\" alt=\"Open In Colab\"/></a>"
      ]
    },
    {
      "cell_type": "markdown",
      "source": [
        "**1. Write a program that calculates and prints the value according to the given formula:**\n",
        "\n",
        "Q = Square root of [(2 * C * D)/H]\n",
        "\n",
        "Following are the fixed values of C and H:\n",
        "\n",
        "C is 50. H is 30.\n",
        "\n",
        "D is the variable whose values should be input to your program in a comma-separated\n",
        "\n",
        "sequence.\n",
        "\n",
        "Example\n",
        "\n",
        "Let us assume the following comma separated input sequence is given to the program:\n",
        "\n",
        "100,150,180\n",
        "\n",
        "The output of the program should be:\n",
        "\n",
        "18,22,24\n",
        "\n"
      ],
      "metadata": {
        "id": "UzVHnGjdEAaB"
      }
    },
    {
      "cell_type": "code",
      "source": [
        "import math\n",
        "from math import sqrt\n",
        "\n",
        "input_sequence = input(\"Enter comma-separated values for D: \")\n",
        "d_values = input_sequence.split(\",\")\n",
        "\n",
        "C = 50\n",
        "H = 30\n",
        "\n",
        "def calculate_q(d): # Here we define avariable to calculate q.\n",
        "    return int(((2 * C * d) / H)**0.5) # It returns the q values.\n",
        "\n",
        "output_sequence = [str(calculate_q(int(d))) for d in d_values] # Here we call the function as a list comprenhenssion to retrive the d_values as int.\n",
        "output = \",\".join(output_sequence) # Here we join the d values with comma separated.\n",
        "\n",
        "print(\"The output of the program is:\", (output))"
      ],
      "metadata": {
        "colab": {
          "base_uri": "https://localhost:8080/"
        },
        "id": "XoJK6KDT8Ug4",
        "outputId": "19c180ba-e714-449a-d708-d10548a83ec7"
      },
      "execution_count": 34,
      "outputs": [
        {
          "output_type": "stream",
          "name": "stdout",
          "text": [
            "Enter comma-separated values for D: 100,150,180\n",
            "The output of the program is: 18,22,24\n"
          ]
        }
      ]
    },
    {
      "cell_type": "markdown",
      "source": [
        "**2. Write a program which takes 2 digits, X,Y as input and generates a 2-dimensional array.\n",
        "The element value in the i-th row and j-th column of the array should be i*j.\n",
        "Note: i=0,1.., X-1; j=0,1,¡Y-1.**\n",
        "\n",
        "Example\n",
        "\n",
        "Suppose the following inputs are given to the program:\n",
        "\n",
        "3,5\n",
        "\n",
        "Then, the output of the program should be:\n",
        "\n",
        "[[0, 0, 0, 0, 0], [0, 1, 2, 3, 4], [0, 2, 4, 6, 8]]\n",
        "\n"
      ],
      "metadata": {
        "id": "fi7V-k5aEDcC"
      }
    },
    {
      "cell_type": "code",
      "source": [
        "def generate_array(x, y): # Defining the function to generate the array with x rows and y columns.\n",
        "    array = [[0 for j in range(y)] for i in range(x)] # Generate 2 dimmensional array, creating a nested list with x rows and y columns initialized with 0.\n",
        "    # Nested loops to iterate over each element in the array and assigns the values of i*j to it, where i = rows, j = columns, indexes.\n",
        "    for i in range(x):\n",
        "        for j in range(y):\n",
        "            array[i][j] = i * j\n",
        "    return array\n",
        "\n",
        "# The program prompts the user to enter two digits, X and Y, separated by a comma. It uses the input function to capture the user's input,\n",
        "# Then the map function combined with int is used to convert the input values from strings to integers and assign them to the variables x and y.\n",
        "x, y = map(int, input(\"Enter two digits, X and Y: \").split(\",\"))\n",
        "\n",
        "# The program calls the generate_array function with the user-provided values of x and y as arguments and assigns the returned array to the variable result.\n",
        "# Generating the 2-dimensional array.\n",
        "result = generate_array(x, y)\n",
        "\n",
        "# Printing the array.\n",
        "print(result)"
      ],
      "metadata": {
        "colab": {
          "base_uri": "https://localhost:8080/"
        },
        "id": "brvtnsDrItIB",
        "outputId": "410542da-29f2-4fcd-d26d-510bd24e68b3"
      },
      "execution_count": 35,
      "outputs": [
        {
          "output_type": "stream",
          "name": "stdout",
          "text": [
            "Enter two digits, X and Y: 3,5\n",
            "[[0, 0, 0, 0, 0], [0, 1, 2, 3, 4], [0, 2, 4, 6, 8]]\n"
          ]
        }
      ]
    },
    {
      "cell_type": "markdown",
      "source": [
        "**3. Write a program that accepts a comma separated sequence of words as input and prints the\n",
        "words in a comma-separated sequence after sorting them alphabetically.**\n",
        "\n",
        "Suppose the following input is supplied to the program:\n",
        "\n",
        "without,hello,bag,world\n",
        "\n",
        "Then, the output should be:\n",
        "\n",
        "bag,hello,without,world\n",
        "\n"
      ],
      "metadata": {
        "id": "g9infquEEDmV"
      }
    },
    {
      "cell_type": "code",
      "source": [
        "words_sequense = input(\"Enter a comma separated sequence of words: \")\n",
        "\n",
        "words = words_sequense.split(',')\n",
        "\n",
        "sorted_words = sorted(words)\n",
        "\n",
        "result = ','.join(sorted_words)\n",
        "\n",
        "# print(words)\n",
        "# print(sorted_words)\n",
        "print('The sorted and comma separated words are:', result)"
      ],
      "metadata": {
        "colab": {
          "base_uri": "https://localhost:8080/"
        },
        "id": "nJ8A5LleSXxM",
        "outputId": "3dbdcaa7-b00e-4509-e4a2-f425a2deede4"
      },
      "execution_count": 36,
      "outputs": [
        {
          "output_type": "stream",
          "name": "stdout",
          "text": [
            "Enter a comma separated sequence of words: Hello,magic,world,of,python,with,iNeuron\n",
            "The sorted and comma separated words are: Hello,iNeuron,magic,of,python,with,world\n"
          ]
        }
      ]
    },
    {
      "cell_type": "markdown",
      "source": [
        "**4. Write a program that accepts a sequence of whitespace separated words as input and prints\n",
        "the words after removing all duplicate words and sorting them alphanumerically.**\n",
        "\n",
        "Suppose the following input is supplied to the program:\n",
        "\n",
        "hello world and practice makes perfect and hello world again\n",
        "\n",
        "Then, the output should be:\n",
        "\n",
        "again and hello makes perfect practice world\n",
        "\n"
      ],
      "metadata": {
        "id": "OBYLd9ofEDwC"
      }
    },
    {
      "cell_type": "code",
      "source": [
        "# Taking input from the user\n",
        "input_sequence = input(\"Enter a sequence of whitespace-separated words: \")\n",
        "\n",
        "# Splitting the input into a list of words\n",
        "words = input_sequence.split()\n",
        "\n",
        "# Removing duplicate words while preserving the order\n",
        "unique_words = list(dict.fromkeys(words))\n",
        "\n",
        "# Sorting the unique words alphanumerically\n",
        "sorted_words = sorted(unique_words)\n",
        "\n",
        "# Joining the sorted words into a whitespace-separated sequence\n",
        "output_sequence = \" \".join(sorted_words)\n",
        "\n",
        "# Printing the output\n",
        "print(output_sequence)"
      ],
      "metadata": {
        "colab": {
          "base_uri": "https://localhost:8080/"
        },
        "id": "uISjC207XeB0",
        "outputId": "06abe9f1-efab-43c6-d7ea-48c409666854"
      },
      "execution_count": 37,
      "outputs": [
        {
          "output_type": "stream",
          "name": "stdout",
          "text": [
            "Enter a sequence of whitespace-separated words: hello world and practice makes perfect and hello world again\n",
            "again and hello makes perfect practice world\n"
          ]
        }
      ]
    },
    {
      "cell_type": "code",
      "source": [
        "# Taking input from the user\n",
        "input_sequence = input(\"Enter a sequence of whitespace-separated words: \")\n",
        "\n",
        "# Splitting the input into a list of words\n",
        "words = input_sequence.split()\n",
        "\n",
        "# Removing duplicate words\n",
        "unique_words = list(set(words))\n",
        "\n",
        "# Sorting the unique words alphanumerically\n",
        "sorted_words = sorted(unique_words)\n",
        "\n",
        "# Joining the sorted words into a whitespace-separated sequence\n",
        "output_sequence = \" \".join(sorted_words)\n",
        "\n",
        "# Printing the output\n",
        "print(output_sequence)"
      ],
      "metadata": {
        "colab": {
          "base_uri": "https://localhost:8080/"
        },
        "id": "IzdIYCOVaKKJ",
        "outputId": "049e8f31-a85f-4e70-855b-0a146e86853c"
      },
      "execution_count": 38,
      "outputs": [
        {
          "output_type": "stream",
          "name": "stdout",
          "text": [
            "Enter a sequence of whitespace-separated words: hello world and practice makes perfect and hello world again\n",
            "again and hello makes perfect practice world\n"
          ]
        }
      ]
    },
    {
      "cell_type": "markdown",
      "source": [
        "**5. Write a program that accepts a sentence and calculate the number of letters and digits.**\n",
        "\n",
        "Suppose the following input is supplied to the program:\n",
        "\n",
        "hello world! 123\n",
        "\n",
        "Then, the output should be:\n",
        "\n",
        "LETTERS 10\n",
        "\n",
        "DIGITS 3\n",
        "\n"
      ],
      "metadata": {
        "id": "LfSgm0noED4W"
      }
    },
    {
      "cell_type": "code",
      "source": [
        "sentence = input('Enter a sentence: ')\n",
        "\n",
        "def calc(senten):\n",
        "    letters = 0\n",
        "    digits = 0\n",
        "    other = 0\n",
        "    for i in senten:\n",
        "        if i.isalpha():\n",
        "            letters += 1\n",
        "\n",
        "        elif i.isdigit():\n",
        "            digits += 1\n",
        "\n",
        "        else:\n",
        "            other += 1\n",
        "\n",
        "    return(letters, digits, other)\n",
        "\n",
        "letters, digits, other = calc(sentence)\n",
        "\n",
        "print('The amount of letters is:', letters)\n",
        "print('The amount of digits is:', digits)\n",
        "print('The amount of spaces and simbols is:', other)"
      ],
      "metadata": {
        "colab": {
          "base_uri": "https://localhost:8080/"
        },
        "id": "UG2l3giGE00r",
        "outputId": "fc7b27dd-0299-4892-f294-9a85ac07103d"
      },
      "execution_count": 41,
      "outputs": [
        {
          "output_type": "stream",
          "name": "stdout",
          "text": [
            "Enter a sentence: Hello world of python 3 with iNeuron!!!\n",
            "The amount of letters is: 29\n",
            "The amount of digits is: 1\n",
            "The amount of spaces and simbols is: 9\n"
          ]
        }
      ]
    },
    {
      "cell_type": "markdown",
      "source": [
        "**6. A website requires the users to input username and password to register. Write a program to\n",
        "check the validity of password input by users.**\n",
        "\n",
        "Following are the criteria for checking the password:\n",
        "\n",
        "1. At least 1 letter between [a-z]\n",
        "2. At least 1 number between [0-9]\n",
        "1. At least 1 letter between [A-Z]\n",
        "3. At least 1 character from [$#@]\n",
        "4. Minimum length of transaction password: 6\n",
        "5. Maximum length of transaction password: 12\n",
        "\n",
        "Your program should accept a sequence of comma separated passwords and will check them\n",
        "according to the above criteria. Passwords that match the criteria are to be printed, each\n",
        "separated by a comma.\n",
        "\n",
        "Example\n",
        "\n",
        "If the following passwords are given as input to the program:\n",
        "\n",
        "ABd1234@1,a F1#,2w3E*,2We3345\n",
        "\n",
        "Then, the output of the program should be:\n",
        "\n",
        "ABd1234@1"
      ],
      "metadata": {
        "id": "EHC1GdSIEEAA"
      }
    },
    {
      "cell_type": "code",
      "source": [
        "import re\n",
        "\n",
        "def check_password_validity(password): # Here check_password_validity function takes a password as input\n",
        "\n",
        "    # And checks its validity based on the given criteria.\n",
        "    # It uses regular expressions to perform the required checks.\n",
        "    # If any of the criteria are not met, the function returns False,indicating that the password is invalid.\n",
        "    if len(password) < 6 or len(password) > 12:\n",
        "        return False\n",
        "\n",
        "    if not re.search(r\"[a-z]\", password):\n",
        "        return False\n",
        "\n",
        "    if not re.search(r\"[A-Z]\", password):\n",
        "        return False\n",
        "\n",
        "    if not re.search(r\"[0-9]\", password):\n",
        "        return False\n",
        "\n",
        "    if not re.search(r\"[$#@]\", password):\n",
        "        return False\n",
        "    # If all the criteria are met, the function returns True, indicating that the password is valid.\n",
        "    return True\n",
        "\n",
        "# Get the sequence of comma-separated passwords from the user\n",
        "passwords = input(\"Enter comma-separated passwords: \")\n",
        "\n",
        "\n",
        "# Split the passwords by comma and check their validity\n",
        "valid_passwords = []\n",
        "for password in passwords.split(\",\"): # It splits the input by comma,\n",
        "    password = password.strip() # trims any whitespace around each password\n",
        "    if check_password_validity(password):# checks their validity using the check_password_validity function.\n",
        "        valid_passwords.append(password) # Valid passwords are stored in the valid_passwords list.\n",
        "\n",
        "# Print the valid passwords separated by comma\n",
        "print(\"Valid passwords: \" + \", \".join(valid_passwords))"
      ],
      "metadata": {
        "colab": {
          "base_uri": "https://localhost:8080/"
        },
        "id": "oRUT_mTMKqZk",
        "outputId": "967d88e7-27fd-4dcb-93a0-4340614fcfd3"
      },
      "execution_count": 42,
      "outputs": [
        {
          "output_type": "stream",
          "name": "stdout",
          "text": [
            "Enter comma-separated passwords: ABd1234@1,a F1#,2w3E*,2We3345\n",
            "Valid passwords: ABd1234@1\n"
          ]
        }
      ]
    }
  ]
}