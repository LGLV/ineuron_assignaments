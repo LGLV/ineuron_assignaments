{
  "nbformat": 4,
  "nbformat_minor": 0,
  "metadata": {
    "colab": {
      "provenance": [],
      "authorship_tag": "ABX9TyMkmzhZ+uuWeJkfYoY/XTG3",
      "include_colab_link": true
    },
    "kernelspec": {
      "name": "python3",
      "display_name": "Python 3"
    },
    "language_info": {
      "name": "python"
    }
  },
  "cells": [
    {
      "cell_type": "markdown",
      "metadata": {
        "id": "view-in-github",
        "colab_type": "text"
      },
      "source": [
        "<a href=\"https://colab.research.google.com/github/LGLV/ineuron_assignaments/blob/main/Programming_Assignment_22.ipynb\" target=\"_parent\"><img src=\"https://colab.research.google.com/assets/colab-badge.svg\" alt=\"Open In Colab\"/></a>"
      ]
    },
    {
      "cell_type": "markdown",
      "source": [
        "Question 1\n",
        "Create a function that takes three parameters where:\n",
        "\n",
        "* x is the start of the range (inclusive).\n",
        "\n",
        "* y is the end of the range (inclusive).\n",
        "\n",
        "* n is the divisor to be checked against.\n",
        "\n",
        "Return an ordered list with numbers in the range that are divisible by the third parameter n.\n",
        "Return an empty list if there are no numbers that are divisible by n.\n",
        "\n",
        "Examples\n",
        "\n",
        "list_operation(1, 10, 3) ➞ [3, 6, 9]\n",
        "\n",
        "list_operation(7, 9, 2) ➞ [8]\n",
        "\n",
        "list_operation(15, 20, 7) ➞ []"
      ],
      "metadata": {
        "id": "4Mf1p_ZJmbVb"
      }
    },
    {
      "cell_type": "code",
      "source": [
        "def divsible(x, y, n):\n",
        "    r = []\n",
        "    for i in range(x, y + 1): # the last number in the serie is not taken, that's why (y+1)\n",
        "        if i % n == 0:\n",
        "            r.append(i)\n",
        "    return r\n",
        "\n",
        "print(divsible(1, 10, 3))\n",
        "print(divsible(7, 9, 2))\n",
        "print(divsible(15, 20, 7))\n"
      ],
      "metadata": {
        "colab": {
          "base_uri": "https://localhost:8080/"
        },
        "id": "K1FY_L89ntCx",
        "outputId": "b0d466e5-c6f9-4643-e68b-63daf6b1f236"
      },
      "execution_count": 2,
      "outputs": [
        {
          "output_type": "stream",
          "name": "stdout",
          "text": [
            "[3, 6, 9]\n",
            "[8]\n",
            "[]\n"
          ]
        }
      ]
    },
    {
      "cell_type": "code",
      "execution_count": 1,
      "metadata": {
        "colab": {
          "base_uri": "https://localhost:8080/"
        },
        "id": "rlLdt0pBmXDN",
        "outputId": "0abba231-296b-4fa0-c4ce-ff02f2ff1f37"
      },
      "outputs": [
        {
          "output_type": "stream",
          "name": "stdout",
          "text": [
            "[3, 6, 9]\n",
            "[8]\n",
            "[]\n"
          ]
        }
      ],
      "source": [
        "def list_operation(x, y, n):\n",
        "    # Create a list of numbers in the range that are divisible by n\n",
        "    return [i for i in range(x, y + 1) if i % n == 0]\n",
        "\n",
        "# Test cases\n",
        "print(list_operation(1, 10, 3))  # ➞ [3, 6, 9]\n",
        "print(list_operation(7, 9, 2))   # ➞ [8]\n",
        "print(list_operation(15, 20, 7))  # ➞ []\n"
      ]
    },
    {
      "cell_type": "markdown",
      "source": [
        "Question 2\n",
        "Create a function that takes in two lists and returns True if the second list follows the first list\n",
        "by one element, and False otherwise. In other words, determine if the second list is the first\n",
        "list shifted to the right by 1.\n",
        "\n",
        "Examples\n",
        "\n",
        "simon_says([1, 2], [5, 1]) ➞ True\n",
        "\n",
        "simon_says([1, 2], [5, 5]) ➞ False\n",
        "\n",
        "simon_says([1, 2, 3, 4, 5], [0, 1, 2, 3, 4]) ➞ True\n",
        "\n",
        "simon_says([1, 2, 3, 4, 5], [5, 5, 1, 2, 3]) ➞ False\n",
        "\n",
        "Notes\n",
        "\n",
        "* Both input lists will be of the same length, and will have a minimum length of 2.\n",
        "* The values of the 0-indexed element in the second list and the n-1th indexed element\n",
        "in the first list do not matter."
      ],
      "metadata": {
        "id": "O4U2-KLkpBGz"
      }
    },
    {
      "cell_type": "code",
      "source": [
        "def simon_says(list1, list2):\n",
        "    # Check if the second list is equal to the first list shifted right by one\n",
        "    return list1[:-1] == list2[1:]\n",
        "\n",
        "# Test cases\n",
        "print(simon_says([1, 2], [5, 1]))  # ➞ True\n",
        "print(simon_says([1, 2], [5, 5]))  # ➞ False\n",
        "print(simon_says([1, 2, 3, 4, 5], [0, 1, 2, 3, 4]))  # ➞ True\n",
        "print(simon_says([1, 2, 3, 4, 5], [5, 5, 1, 2, 3]))  # ➞ False\n"
      ],
      "metadata": {
        "colab": {
          "base_uri": "https://localhost:8080/"
        },
        "id": "ztgqhSj2pAC1",
        "outputId": "a487e1b2-0384-4943-b84c-aebd5dd17e7e"
      },
      "execution_count": 3,
      "outputs": [
        {
          "output_type": "stream",
          "name": "stdout",
          "text": [
            "True\n",
            "False\n",
            "True\n",
            "False\n"
          ]
        }
      ]
    },
    {
      "cell_type": "markdown",
      "source": [
        "Question 3\n",
        "A group of friends have decided to start a secret society. The name will be the first letter of\n",
        "each of their names, sorted in alphabetical order.\n",
        "Create a function that takes in a list of names and returns the name of the secret society.\n",
        "\n",
        "Examples\n",
        "\n",
        "society_name([&quot;Adam&quot;, &quot;Sarah&quot;, &quot;Malcolm&quot;]) ➞ &quot;AMS&quot;\n",
        "\n",
        "society_name([&quot;Harry&quot;, &quot;Newt&quot;, &quot;Luna&quot;, &quot;Cho&quot;]) ➞ &quot;CHLN&quot;\n",
        "\n",
        "society_name([&quot;Phoebe&quot;, &quot;Chandler&quot;, &quot;Rachel&quot;, &quot;Ross&quot;, &quot;Monica&quot;, &quot;Joey&quot;])"
      ],
      "metadata": {
        "id": "iRv0_5yxqAMQ"
      }
    },
    {
      "cell_type": "code",
      "source": [
        "def society_name(names):\n",
        "    # Get the first letter of each name and sort them in alphabetical order\n",
        "    return ''.join(sorted([name[0] for name in names]))\n",
        "\n",
        "print(society_name([\"Adam\", \"Sarah\", \"Malcolm\"]))  # ➞ \"AMS\"\n",
        "print(society_name([\"Harry\", \"Newt\", \"Luna\", \"Cho\"]))  # ➞ \"CHLN\"\n",
        "print(society_name([\"Phoebe\", \"Chandler\", \"Rachel\", \"Ross\", \"Monica\", \"Joey\"]))  # ➞ \"CJMPRR\""
      ],
      "metadata": {
        "colab": {
          "base_uri": "https://localhost:8080/"
        },
        "id": "DHV4FDVrp_xD",
        "outputId": "a28dbc62-7383-4ee8-8bad-5192371979c0"
      },
      "execution_count": 6,
      "outputs": [
        {
          "output_type": "stream",
          "name": "stdout",
          "text": [
            "AMS\n",
            "CHLN\n",
            "CJMPRR\n"
          ]
        }
      ]
    },
    {
      "source": [
        "def s_name(names):\n",
        "    r = [] # Changed r to a list\n",
        "    for name in names:\n",
        "        r.append(name[0]) # Append the first letter of each name to the list\n",
        "    r.sort() # Sort the list in alphabetical order\n",
        "    return ''.join(r) # Join the list elements into a string\n",
        "\n",
        "print(s_name([\"Adam\", \"Sarah\", \"Malcolm\"])) # Output: AMS\n",
        "print(s_name([\"Harry\", \"Newt\", \"Luna\", \"Cho\"])) # Output: CHLN\n",
        "print(s_name([\"Phoebe\", \"Chandler\", \"Rachel\", \"Ross\", \"Monica\", \"Joey\"])) # Output: CJMPRR"
      ],
      "cell_type": "code",
      "metadata": {
        "colab": {
          "base_uri": "https://localhost:8080/"
        },
        "id": "wYOCsfTAreyU",
        "outputId": "83ff0b15-2ad9-471f-9ce9-aca65636f367"
      },
      "execution_count": 7,
      "outputs": [
        {
          "output_type": "stream",
          "name": "stdout",
          "text": [
            "AMS\n",
            "CHLN\n",
            "CJMPRR\n"
          ]
        }
      ]
    },
    {
      "cell_type": "markdown",
      "source": [
        "Question 4\n",
        "An isogram is a word that has no duplicate letters. Create a function that takes a string and\n",
        "returns either True or False depending on whether or not it&#39;s an &quot;isogram&quot;.\n",
        "\n",
        "Examples\n",
        "\n",
        "is_isogram(&quot;Algorism&quot;) ➞ True\n",
        "\n",
        "is_isogram(&quot;PasSword&quot;) ➞ False\n",
        "\n",
        "Not case sensitive.\n",
        "\n",
        "is_isogram(&quot;Consecutive&quot;) ➞ False\n",
        "\n",
        "Notes\n",
        "\n",
        "* Ignore letter case (should not be case sensitive).\n",
        "* All test cases contain valid one word strings."
      ],
      "metadata": {
        "id": "VgrHAci-sgjn"
      }
    },
    {
      "cell_type": "code",
      "source": [
        "def is_isogram(word):\n",
        "    # Convert the word to lowercase and check for duplicates\n",
        "    word = word.lower()\n",
        "    return len(set(word)) == len(word)\n",
        "\n",
        "# Test cases\n",
        "print(is_isogram(\"Algorism\"))      # ➞ True\n",
        "print(is_isogram(\"PasSword\"))      # ➞ False\n",
        "print(is_isogram(\"Consecutive\"))   # ➞ False\n"
      ],
      "metadata": {
        "colab": {
          "base_uri": "https://localhost:8080/"
        },
        "id": "dYckOKdJsgGf",
        "outputId": "984f945e-6f67-41ac-d4bf-cd0a32d345ac"
      },
      "execution_count": 8,
      "outputs": [
        {
          "output_type": "stream",
          "name": "stdout",
          "text": [
            "True\n",
            "False\n",
            "False\n"
          ]
        }
      ]
    },
    {
      "cell_type": "markdown",
      "source": [
        "Question 5\n",
        "Create a function that takes a string and returns True or False, depending on whether the\n",
        "characters are in order or not.\n",
        "\n",
        "Examples\n",
        "\n",
        "is_in_order(&quot;abc&quot;) ➞ True\n",
        "\n",
        "is_in_order(&quot;edabit&quot;) ➞ False\n",
        "\n",
        "is_in_order(&quot;123&quot;) ➞ True\n",
        "\n",
        "is_in_order(&quot;xyzz&quot;) ➞ True\n",
        "\n",
        "Notes\n",
        "\n",
        "You don&#39;t have to handle empty strings."
      ],
      "metadata": {
        "id": "sQb6jbcYvL-N"
      }
    },
    {
      "cell_type": "code",
      "source": [
        "def is_in_order(s):\n",
        "    # Compare the string to its sorted version\n",
        "    return s == ''.join(sorted(s))\n",
        "\n",
        "# Test cases\n",
        "print(is_in_order(\"abc\"))       # ➞ True\n",
        "print(is_in_order(\"edabit\"))    # ➞ False\n",
        "print(is_in_order(\"123\"))       # ➞ True\n",
        "print(is_in_order(\"xyzz\"))      # ➞ True\n"
      ],
      "metadata": {
        "colab": {
          "base_uri": "https://localhost:8080/"
        },
        "id": "KD6vrCkXvLnZ",
        "outputId": "4861c9e1-1bb7-4e0f-b9b1-64aaab9c71dd"
      },
      "execution_count": 30,
      "outputs": [
        {
          "output_type": "stream",
          "name": "stdout",
          "text": [
            "True\n",
            "False\n",
            "True\n",
            "True\n"
          ]
        }
      ]
    }
  ]
}