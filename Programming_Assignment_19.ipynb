{
  "nbformat": 4,
  "nbformat_minor": 0,
  "metadata": {
    "colab": {
      "provenance": [],
      "authorship_tag": "ABX9TyPumE0Thjc/az4YV8sUZI6m",
      "include_colab_link": true
    },
    "kernelspec": {
      "name": "python3",
      "display_name": "Python 3"
    },
    "language_info": {
      "name": "python"
    }
  },
  "cells": [
    {
      "cell_type": "markdown",
      "metadata": {
        "id": "view-in-github",
        "colab_type": "text"
      },
      "source": [
        "<a href=\"https://colab.research.google.com/github/LGLV/ineuron_assignaments/blob/main/Programming_Assignment_19.ipynb\" target=\"_parent\"><img src=\"https://colab.research.google.com/assets/colab-badge.svg\" alt=\"Open In Colab\"/></a>"
      ]
    },
    {
      "cell_type": "markdown",
      "source": [
        "Question 1 Create a function that takes a string and returns a string in which each character is repeated once.\n",
        "\n",
        "Examples\n",
        "\n",
        "* double_char(&quot;String&quot;) ➞ &quot;SSttrriinngg&quot;\n",
        "* double_char(&quot;Hello World!&quot;) ➞ &quot;HHeelllloo WWoorrlldd!!&quot;\n",
        "* double_char(&quot;1234!_ &quot;) ➞ &quot;11223344!!__ &quot;"
      ],
      "metadata": {
        "id": "TCyb4-Ia3VsJ"
      }
    },
    {
      "cell_type": "code",
      "source": [
        "def duplicate(letter):\n",
        "    result = ''\n",
        "    for lett in (letter):\n",
        "        result += lett * 2\n",
        "\n",
        "    return result\n",
        "\n",
        "print(duplicate(\"String\"))\n",
        "print(duplicate(\"Hello World!\"))\n",
        "print(duplicate(\"1234!_ \"))\n",
        "\n"
      ],
      "metadata": {
        "colab": {
          "base_uri": "https://localhost:8080/"
        },
        "id": "DqcgLI5G89oA",
        "outputId": "89376a34-6ce5-4628-b147-d55b952fb349"
      },
      "execution_count": 25,
      "outputs": [
        {
          "output_type": "stream",
          "name": "stdout",
          "text": [
            "SSttrriinngg\n",
            "HHeelllloo  WWoorrlldd!!\n",
            "11223344!!__  \n"
          ]
        }
      ]
    },
    {
      "cell_type": "code",
      "source": [
        "def double_char(s):\n",
        "    return ''.join([char * 2 for char in s])\n",
        "\n",
        "# Examples\n",
        "print(double_char(\"String\"))        # ➞ \"SSttrriinngg\"\n",
        "print(double_char(\"Hello World!\"))  # ➞ \"HHeelllloo WWoorrlldd!!\"\n",
        "print(double_char(\"1234!_ \"))       # ➞ \"11223344!!__ \"\n"
      ],
      "metadata": {
        "colab": {
          "base_uri": "https://localhost:8080/"
        },
        "id": "FXONUnn66PmX",
        "outputId": "a62032ab-2540-4063-b0c6-58ac243fa435"
      },
      "execution_count": 26,
      "outputs": [
        {
          "output_type": "stream",
          "name": "stdout",
          "text": [
            "SSttrriinngg\n",
            "HHeelllloo  WWoorrlldd!!\n",
            "11223344!!__  \n"
          ]
        }
      ]
    },
    {
      "cell_type": "markdown",
      "source": [
        "Question 2 Create a function that reverses a boolean value and returns the string &quot;boolean expected&quot; if another variable type is given.\n",
        "\n",
        "Examples\n",
        "\n",
        "* reverse(True) ➞ False\n",
        "* reverse(False) ➞ True\n",
        "* reverse(0) ➞ &quot;boolean expected&quot;\n",
        "* reverse(None) ➞ &quot;boolean expected&quot;"
      ],
      "metadata": {
        "id": "_9_qfE6y7rGo"
      }
    },
    {
      "cell_type": "code",
      "source": [
        "def reverse(value):\n",
        "    if isinstance(value, bool):\n",
        "        return not value\n",
        "    else:\n",
        "        return \"boolean expected\"\n",
        "\n",
        "# Ejemplos\n",
        "print(reverse(True))    # ➞ False\n",
        "print(reverse(False))   # ➞ True\n",
        "print(reverse(0))       # ➞ \"boolean expected\"\n",
        "print(reverse(None))    # ➞ \"boolean expected\"\n"
      ],
      "metadata": {
        "colab": {
          "base_uri": "https://localhost:8080/"
        },
        "id": "rV32nlnN7pP9",
        "outputId": "5f8519d7-78b1-4883-bde8-3be08c7a6108"
      },
      "execution_count": 39,
      "outputs": [
        {
          "output_type": "stream",
          "name": "stdout",
          "text": [
            "False\n",
            "True\n",
            "boolean expected\n",
            "boolean expected\n"
          ]
        }
      ]
    },
    {
      "cell_type": "markdown",
      "source": [
        "Question 3 Create a function that returns the thickness (in meters) of a piece of paper after folding it n\n",
        "number of times. The paper starts off with a thickness of 0.5mm.\n",
        "\n",
        "Examples\n",
        "\n",
        "* num_layers(1) ➞ &quot;0.001m&quot;\n",
        "Paper folded once is 1mm (equal to 0.001m)\n",
        "* num_layers(4) ➞ &quot;0.008m&quot;\n",
        "Paper folded 4 times is 8mm (equal to 0.008m)\n",
        "* num_layers(21) ➞ &quot;1048.576m&quot;\n",
        "Paper folded 21 times is 1048576mm (equal to 1048.576m)"
      ],
      "metadata": {
        "id": "ZayLdwYoFoHI"
      }
    },
    {
      "cell_type": "code",
      "source": [
        "def num_layers(n):\n",
        "    initial_thickness_mm = 0.5  # El grosor inicial en mm\n",
        "    final_thickness_mm = initial_thickness_mm * (2 ** n)  # Doblado n veces\n",
        "    final_thickness_m = final_thickness_mm / 1000  # Convertir a metros\n",
        "    return f\"{final_thickness_m}m\"\n",
        "\n",
        "# Ejemplos\n",
        "print(num_layers(1))   # ➞ \"0.001m\"\n",
        "print(num_layers(4))   # ➞ \"0.008m\"\n",
        "print(num_layers(21))  # ➞ \"1048.576m\"\n"
      ],
      "metadata": {
        "colab": {
          "base_uri": "https://localhost:8080/"
        },
        "id": "n3_0Zfa2AiIk",
        "outputId": "aa86a3e6-45d5-4a0d-9099-d703efb60ca4"
      },
      "execution_count": 40,
      "outputs": [
        {
          "output_type": "stream",
          "name": "stdout",
          "text": [
            "0.001m\n",
            "0.008m\n",
            "1048.576m\n"
          ]
        }
      ]
    },
    {
      "cell_type": "markdown",
      "source": [
        "Question 4 Create a function that takes a single string as argument and returns an ordered list containing\n",
        "the indices of all capital letters in the string.\n",
        "\n",
        "Examples\n",
        "\n",
        "* index_of_caps(&quot;eDaBiT&quot;) ➞ [1, 3, 5]\n",
        "* index_of_caps(&quot;eQuINoX&quot;) ➞ [1, 3, 4, 6]\n",
        "* index_of_caps(&quot;determine&quot;) ➞ []\n",
        "* index_of_caps(&quot;STRIKE&quot;) ➞ [0, 1, 2, 3, 4, 5]\n",
        "* index_of_caps(&quot;sUn&quot;) ➞ [1]"
      ],
      "metadata": {
        "id": "xcOvdF-vG3eA"
      }
    },
    {
      "cell_type": "code",
      "source": [
        "def index_cap(word):\n",
        "    r = []\n",
        "    for i, leter in enumerate(word):\n",
        "        if leter.isupper():\n",
        "            r.append(i)\n",
        "    return r\n",
        "print(index_cap(\"eDaBiT\"))\n",
        "print(index_cap(\"eQuINoX\"))\n",
        "print(index_cap(\"determine\"))\n",
        "print(index_cap(\"STRIKE\"))\n",
        "print(index_cap(\"sUn\"))\n",
        "\n"
      ],
      "metadata": {
        "colab": {
          "base_uri": "https://localhost:8080/"
        },
        "id": "8Zdu2lttIB9z",
        "outputId": "213d1a91-f85b-4c1a-93d7-8e0dd53e524f"
      },
      "execution_count": 48,
      "outputs": [
        {
          "output_type": "stream",
          "name": "stdout",
          "text": [
            "[1, 3, 5]\n",
            "[1, 3, 4, 6]\n",
            "[]\n",
            "[0, 1, 2, 3, 4, 5]\n",
            "[1]\n"
          ]
        }
      ]
    },
    {
      "cell_type": "code",
      "source": [
        "def index_of_caps(s):\n",
        "    return [i for i, char in enumerate(s) if char.isupper()]\n",
        "\n",
        "# Ejemplos\n",
        "print(index_of_caps(\"eDaBiT\"))    # ➞ [1, 3, 5]\n",
        "print(index_of_caps(\"eQuINoX\"))   # ➞ [1, 3, 4, 6]\n",
        "print(index_of_caps(\"determine\")) # ➞ []\n",
        "print(index_of_caps(\"STRIKE\"))    # ➞ [0, 1, 2, 3, 4, 5]\n",
        "print(index_of_caps(\"sUn\"))       # ➞ [1]\n"
      ],
      "metadata": {
        "colab": {
          "base_uri": "https://localhost:8080/"
        },
        "id": "U-zDS3wIBWg1",
        "outputId": "dcf7c8fd-6b64-4720-cada-ff24f77f4d38"
      },
      "execution_count": 49,
      "outputs": [
        {
          "output_type": "stream",
          "name": "stdout",
          "text": [
            "[1, 3, 5]\n",
            "[1, 3, 4, 6]\n",
            "[]\n",
            "[0, 1, 2, 3, 4, 5]\n",
            "[1]\n"
          ]
        }
      ]
    },
    {
      "cell_type": "markdown",
      "source": [
        "Question 5 Using list comprehensions, create a function that finds all even numbers from 1 to the given number.\n",
        "\n",
        "Examples\n",
        "* find_even_nums(8) ➞ [2, 4, 6, 8]\n",
        "* find_even_nums(4) ➞ [2, 4]\n",
        "* find_even_nums(2) ➞ [2]"
      ],
      "metadata": {
        "id": "tlwESq6GKeof"
      }
    },
    {
      "cell_type": "code",
      "source": [
        "def find_even_nums(n):\n",
        "    return [i for i in range(1, n+1) if i % 2 == 0]\n",
        "\n",
        "# Ejemplos\n",
        "print(find_even_nums(8))  # ➞ [2, 4, 6, 8]\n",
        "print(find_even_nums(4))  # ➞ [2, 4]\n",
        "print(find_even_nums(2))  # ➞ [2]\n"
      ],
      "metadata": {
        "colab": {
          "base_uri": "https://localhost:8080/"
        },
        "id": "9_tbmdxYBvCP",
        "outputId": "ac9ba9bd-b282-4161-ce6e-328dfa8532d3"
      },
      "execution_count": 50,
      "outputs": [
        {
          "output_type": "stream",
          "name": "stdout",
          "text": [
            "[2, 4, 6, 8]\n",
            "[2, 4]\n",
            "[2]\n"
          ]
        }
      ]
    },
    {
      "cell_type": "code",
      "source": [
        "def even_num(n):\n",
        "    r = []\n",
        "    for i in range(1, n+1):\n",
        "        if i  % 2 == 0:\n",
        "            r.append(i)\n",
        "    return r\n",
        "\n",
        "print(even_num(8))\n",
        "print(even_num(4))\n",
        "print(even_num(2))"
      ],
      "metadata": {
        "colab": {
          "base_uri": "https://localhost:8080/"
        },
        "id": "JLS_T9lkLO1O",
        "outputId": "57077b95-e615-4526-daaa-af52653ca564"
      },
      "execution_count": 51,
      "outputs": [
        {
          "output_type": "stream",
          "name": "stdout",
          "text": [
            "[2, 4, 6, 8]\n",
            "[2, 4]\n",
            "[2]\n"
          ]
        }
      ]
    }
  ]
}