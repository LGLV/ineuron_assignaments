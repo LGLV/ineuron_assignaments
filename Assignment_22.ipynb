{
  "nbformat": 4,
  "nbformat_minor": 0,
  "metadata": {
    "colab": {
      "provenance": [],
      "authorship_tag": "ABX9TyOCWcyXD5wTGcCIxGFCnc6P",
      "include_colab_link": true
    },
    "kernelspec": {
      "name": "python3",
      "display_name": "Python 3"
    },
    "language_info": {
      "name": "python"
    }
  },
  "cells": [
    {
      "cell_type": "markdown",
      "metadata": {
        "id": "view-in-github",
        "colab_type": "text"
      },
      "source": [
        "<a href=\"https://colab.research.google.com/github/LGLV/ineuron_assignaments/blob/main/Assignment_22.ipynb\" target=\"_parent\"><img src=\"https://colab.research.google.com/assets/colab-badge.svg\" alt=\"Open In Colab\"/></a>"
      ]
    },
    {
      "cell_type": "markdown",
      "source": [
        "**1. What is the result of the code, and explain?**\n",
        "\n",
        "&gt;&gt;&gt; X = &#39;iNeuron&#39;\n",
        "\n",
        "&gt;&gt;&gt; def func():\n",
        "\n",
        "print(X)\n",
        "\n",
        "&gt;&gt;&gt; func()"
      ],
      "metadata": {
        "id": "t1WcsHo3HVGQ"
      }
    },
    {
      "cell_type": "code",
      "execution_count": null,
      "metadata": {
        "colab": {
          "base_uri": "https://localhost:8080/"
        },
        "id": "dicdkKCWHI-j",
        "outputId": "ac5262ad-6027-4462-b194-d99bd21aff6e"
      },
      "outputs": [
        {
          "output_type": "stream",
          "name": "stdout",
          "text": [
            "iNeuron\n"
          ]
        }
      ],
      "source": [
        "X = 'iNeuron' # This is a variable out side of the function. Golbal variable\n",
        "def funct(): # Here, an empty function is defined. \n",
        "    print(X) # Here we print the parmaeter X asigning its value to the function.\n",
        "\n",
        "funct() # Here we call the fuction with te asigned argument retirning a value"
      ]
    },
    {
      "cell_type": "markdown",
      "source": [
        "**2. What is the result of the code, and explain?**\n",
        "\n",
        "&gt;&gt;&gt; X = &#39;iNeuron&#39;\n",
        "\n",
        "&gt;&gt;&gt; def func():\n",
        "\n",
        "X = &#39;NI!&#39;\n",
        "\n",
        "\n",
        "&gt;&gt;&gt; func()\n",
        "\n",
        "&gt;&gt;&gt; print(X)"
      ],
      "metadata": {
        "id": "SiPWUGPrMELO"
      }
    },
    {
      "cell_type": "code",
      "source": [
        "X = 'iNeuron'\n",
        "def func():\n",
        "    X = 'NI!'\n",
        "func()\n",
        "print(X)    \n",
        "#The global variables are access in side the functions in python. But we can not access function variable out side function.\n",
        "# Then X is golbal variable and we are able to print it out side of the function solution = 'iNeuron'"
      ],
      "metadata": {
        "colab": {
          "base_uri": "https://localhost:8080/"
        },
        "id": "aCdEKlqbMDWb",
        "outputId": "36130e6b-ff77-4ff1-90ec-81b2cef92c46"
      },
      "execution_count": null,
      "outputs": [
        {
          "output_type": "stream",
          "name": "stdout",
          "text": [
            "iNeuron\n"
          ]
        }
      ]
    },
    {
      "cell_type": "code",
      "source": [
        "X = 'iNeuron'\n",
        "def func():\n",
        "    X = 'NI!'\n",
        "    print(X)\n",
        "func()\n",
        "#We can access function variable in side function."
      ],
      "metadata": {
        "colab": {
          "base_uri": "https://localhost:8080/"
        },
        "id": "8W9xcqROMDTc",
        "outputId": "eec8d651-b385-4590-ca65-d5b64aee1908"
      },
      "execution_count": null,
      "outputs": [
        {
          "output_type": "stream",
          "name": "stdout",
          "text": [
            "NI!\n"
          ]
        }
      ]
    },
    {
      "cell_type": "markdown",
      "source": [
        "**3. What does this code print, and why?**\n",
        "\n",
        "&gt;&gt;&gt; X = &#39;iNeuron&#39;\n",
        "\n",
        "&gt;&gt;&gt; def func():\n",
        "X = &#39;NI&#39;\n",
        "\n",
        "print(X)\n",
        "\n",
        "&gt;&gt;&gt; func()\n",
        "\n",
        "&gt;&gt;&gt; print(X)"
      ],
      "metadata": {
        "id": "xoyUgBeePFVA"
      }
    },
    {
      "cell_type": "code",
      "source": [
        "X = 'iNeuron'\n",
        "def func():\n",
        "    X = 'NI'\n",
        "    print(X)\n",
        "\n",
        "func() # Here we call the in side function variable 'NI'.\n",
        "print(X) # Here we call the global variable, out side of the function 'iNeuron'."
      ],
      "metadata": {
        "colab": {
          "base_uri": "https://localhost:8080/"
        },
        "id": "FD_m1X4ZPGuz",
        "outputId": "47e288f4-541b-4832-f577-5d06a2fbbccb"
      },
      "execution_count": null,
      "outputs": [
        {
          "output_type": "stream",
          "name": "stdout",
          "text": [
            "NI\n",
            "iNeuron\n"
          ]
        }
      ]
    },
    {
      "cell_type": "markdown",
      "source": [
        "**4. What output does this code produce? Why?**\n",
        "\n",
        "&gt;&gt;&gt; X = &#39;iNeuron&#39;\n",
        "\n",
        "&gt;&gt;&gt; def func():\n",
        "\n",
        "global X\n",
        "\n",
        "X = &#39;NI&#39;\n",
        "\n",
        "&gt;&gt;&gt; func()\n",
        "\n",
        "&gt;&gt;&gt; print(X)"
      ],
      "metadata": {
        "id": "WjHwuXxgqLi-"
      }
    },
    {
      "cell_type": "code",
      "source": [
        "X = 'iNeuron'\n",
        "def func():\n",
        "    global X # As X is the global variable in side the function, this is called.\n",
        "    X = 'NI'\n",
        "\n",
        "func()\n",
        "print(X)"
      ],
      "metadata": {
        "colab": {
          "base_uri": "https://localhost:8080/"
        },
        "id": "WpZYukQYqLzK",
        "outputId": "966afa10-a8a2-4cbe-8df2-db049deedd99"
      },
      "execution_count": null,
      "outputs": [
        {
          "output_type": "stream",
          "name": "stdout",
          "text": [
            "iNeuron\n"
          ]
        }
      ]
    },
    {
      "cell_type": "markdown",
      "source": [
        "**5. What about this code—what’s the output, and why?**\n",
        "\n",
        "&gt;&gt;&gt; X = &#39;iNeuron&#39;\n",
        "\n",
        "&gt;&gt;&gt; def func():\n",
        "\n",
        "X = &#39;NI&#39;\n",
        "\n",
        "def nested():\n",
        "\n",
        "print(X)\n",
        "\n",
        "nested()\n",
        "\n",
        "&gt;&gt;&gt; func()\n",
        "\n",
        "&gt;&gt;&gt; X"
      ],
      "metadata": {
        "id": "Ka8lF9OVsDnf"
      }
    },
    {
      "cell_type": "code",
      "source": [
        "X = 'iNeuron'\n",
        "def func():\n",
        "    X = 'NI!'\n",
        "    def nested():\n",
        "        print(X)\n",
        "    nested()\n",
        "func() #Here we call the nested variable X in side the fuction.\n",
        "X # Here we only call the out side global variable. "
      ],
      "metadata": {
        "colab": {
          "base_uri": "https://localhost:8080/",
          "height": 53
        },
        "id": "hArBOzcQqLTX",
        "outputId": "511038ca-ede0-42e2-c7fc-af9005b192b4"
      },
      "execution_count": null,
      "outputs": [
        {
          "output_type": "stream",
          "name": "stdout",
          "text": [
            "NI!\n"
          ]
        },
        {
          "output_type": "execute_result",
          "data": {
            "text/plain": [
              "'iNeuron'"
            ],
            "application/vnd.google.colaboratory.intrinsic+json": {
              "type": "string"
            }
          },
          "metadata": {},
          "execution_count": 71
        }
      ]
    },
    {
      "cell_type": "markdown",
      "source": [
        "**6. How about this code: what is its output in Python 3, and explain?**\n",
        "\n",
        "&gt;&gt;&gt; def func():\n",
        "\n",
        "X = &#39;NI&#39;\n",
        "\n",
        "def nested():\n",
        "\n",
        "nonlocal X\n",
        "\n",
        "X = &#39;Spam&#39;\n",
        "\n",
        "nested()\n",
        "\n",
        "print(X)\n",
        "\n",
        "&gt;&gt;&gt; func()"
      ],
      "metadata": {
        "id": "8zXNtrHeqLFD"
      }
    },
    {
      "cell_type": "code",
      "source": [
        "def func():\n",
        "    X = 'NI'\n",
        "    def nested():\n",
        "        nonlocal X\n",
        "        X = 'Spam'\n",
        "    nested()\n",
        "    print(X)\n",
        "\n",
        "func()\n",
        "\n",
        "#Nonlocal variables are used in nested functions whose local scope is not defined. \n",
        "#This means that the variable can be neither in the local nor the global scope. it print the updated value from nested \n",
        "#function\n",
        "\n",
        "#Sol : 'spam'"
      ],
      "metadata": {
        "id": "qMR6OO5JqKqw",
        "colab": {
          "base_uri": "https://localhost:8080/"
        },
        "outputId": "17b72bc8-3aca-4f1e-f141-9c8ca42c53fe"
      },
      "execution_count": 10,
      "outputs": [
        {
          "output_type": "stream",
          "name": "stdout",
          "text": [
            "NI\n"
          ]
        }
      ]
    }
  ]
}