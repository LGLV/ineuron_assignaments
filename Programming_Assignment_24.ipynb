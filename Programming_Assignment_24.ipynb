{
  "nbformat": 4,
  "nbformat_minor": 0,
  "metadata": {
    "colab": {
      "provenance": [],
      "authorship_tag": "ABX9TyNdXB+Ob7dGCRKxRW7KdO9P",
      "include_colab_link": true
    },
    "kernelspec": {
      "name": "python3",
      "display_name": "Python 3"
    },
    "language_info": {
      "name": "python"
    }
  },
  "cells": [
    {
      "cell_type": "markdown",
      "metadata": {
        "id": "view-in-github",
        "colab_type": "text"
      },
      "source": [
        "<a href=\"https://colab.research.google.com/github/LGLV/ineuron_assignaments/blob/main/Programming_Assignment_24.ipynb\" target=\"_parent\"><img src=\"https://colab.research.google.com/assets/colab-badge.svg\" alt=\"Open In Colab\"/></a>"
      ]
    },
    {
      "cell_type": "markdown",
      "source": [
        "Question 1\n",
        "Create a function that takes an integer and returns a list from 1 to the given number, where:\n",
        "1. If the number can be divided evenly by 4, amplify it by 10 (i.e. return 10 times the\n",
        "number).\n",
        "2. If the number cannot be divided evenly by 4, simply return the number.\n",
        "\n",
        "Examples\n",
        "\n",
        "amplify(4) ➞ [1, 2, 3, 40]\n",
        "\n",
        "amplify(3) ➞ [1, 2, 3]\n",
        "\n",
        "amplify(25) ➞ [1, 2, 3, 40, 5, 6, 7, 80, 9, 10, 11, 120, 13, 14, 15, 160,\n",
        "17, 18, 19, 200, 21, 22, 23, 240, 25]\n",
        "\n",
        "Notes\n",
        "\n",
        "* The given integer will always be equal to or greater than 1.\n",
        "* Include the number (see example above).\n",
        "* To perform this problem with its intended purpose, try doing it with list\n",
        "comprehensions. If that&#39;s too difficult, just solve the challenge any way you can."
      ],
      "metadata": {
        "id": "8oWPqTOfQ6Sa"
      }
    },
    {
      "cell_type": "code",
      "execution_count": 1,
      "metadata": {
        "colab": {
          "base_uri": "https://localhost:8080/"
        },
        "id": "59_knnAkQw2M",
        "outputId": "07188b91-8d96-491a-dfc8-6da192b32902"
      },
      "outputs": [
        {
          "output_type": "stream",
          "name": "stdout",
          "text": [
            "[1, 2, 3, 40]\n",
            "[1, 2, 3]\n",
            "[1, 2, 3, 40, 5, 6, 7, 80, 9, 10, 11, 120, 13, 14, 15, 160, 17, 18, 19, 200, 21, 22, 23, 240, 25]\n"
          ]
        }
      ],
      "source": [
        "def amplify(n):\n",
        "    return [i * 10 if i % 4 == 0 else i for i in range(1, n + 1)]\n",
        "\n",
        "# Test cases\n",
        "print(amplify(4))    # ➞ [1, 2, 3, 40]\n",
        "print(amplify(3))    # ➞ [1, 2, 3]\n",
        "print(amplify(25))   # ➞ [1, 2, 3, 40, 5, 6, 7, 80, 9, 10, 11, 120, 13, 14, 15, 160, 17, 18, 19, 200, 21, 22, 23, 240, 25]\n"
      ]
    },
    {
      "cell_type": "markdown",
      "source": [
        "Question 2\n",
        "Create a function that takes a list of numbers and return the number that&#39;s unique.\n",
        "\n",
        "Examples\n",
        "\n",
        "unique([3, 3, 3, 7, 3, 3]) ➞ 7\n",
        "\n",
        "unique([0, 0, 0.77, 0, 0]) ➞ 0.77\n",
        "\n",
        "unique([0, 1, 1, 1, 1, 1, 1, 1]) ➞ 0\n",
        "\n",
        "Notes\n",
        "\n",
        "Test cases will always have exactly one unique number while all others are the same."
      ],
      "metadata": {
        "id": "w4H78ovoTPzg"
      }
    },
    {
      "cell_type": "code",
      "source": [
        "from collections import Counter\n",
        "\n",
        "def unique(numbers):\n",
        "    # Count the occurrences of each number\n",
        "    counts = Counter(numbers)\n",
        "    # Find the number that occurs exactly once\n",
        "    for number, count in counts.items():\n",
        "        if count == 1:\n",
        "            return number\n",
        "\n",
        "# Test cases\n",
        "print(unique([3, 3, 3, 7, 3, 3]))    # ➞ 7\n",
        "print(unique([0, 0, 0.77, 0, 0]))     # ➞ 0.77\n",
        "print(unique([0, 1, 1, 1, 1, 1, 1, 1]))  # ➞ 0\n"
      ],
      "metadata": {
        "colab": {
          "base_uri": "https://localhost:8080/"
        },
        "id": "oF7EB8U5TcvD",
        "outputId": "ba35f845-cd31-4a04-92ad-c628f6c4ab90"
      },
      "execution_count": 2,
      "outputs": [
        {
          "output_type": "stream",
          "name": "stdout",
          "text": [
            "7\n",
            "0.77\n",
            "0\n"
          ]
        }
      ]
    },
    {
      "cell_type": "markdown",
      "source": [
        "Question 3\n",
        "Your task is to create a Circle constructor that creates a circle with a radius provided by an\n",
        "argument. The circles constructed must have two getters getArea() (PIr^2) and\n",
        "getPerimeter() (2PI*r) which give both respective areas and perimeter (circumference).\n",
        "\n",
        "For help with this class, I have provided you with a Rectangle constructor which you can use\n",
        "as a base example.\n",
        "\n",
        "Examples\n",
        "\n",
        "circy = Circle(11)\n",
        "\n",
        "circy.getArea()\n",
        "\n",
        "Should return 380.132711084365\n",
        "\n",
        "circy = Circle(4.44)\n",
        "\n",
        "circy.getPerimeter()\n",
        "\n",
        "hould return 27.897342763877365\n",
        "\n",
        "Notes\n",
        "\n",
        "Round results up to the nearest integer."
      ],
      "metadata": {
        "id": "q6bSFlkOTr7d"
      }
    },
    {
      "cell_type": "code",
      "source": [
        "import math\n",
        "\n",
        "class Circle:\n",
        "    def __init__(self, radius):\n",
        "        self.radius = radius\n",
        "\n",
        "    def getArea(self):\n",
        "        area = math.pi * (self.radius ** 2)\n",
        "        return round(area)\n",
        "\n",
        "    def getPerimeter(self):\n",
        "        perimeter = 2 * math.pi * self.radius\n",
        "        return round(perimeter)\n",
        "\n",
        "# Test cases\n",
        "circy = Circle(11)\n",
        "print(circy.getArea())        # ➞ 380\n",
        "print(circy.getPerimeter())   # ➞ 69\n",
        "\n",
        "circy2 = Circle(4.44)\n",
        "print(circy2.getArea())       # ➞ 62\n",
        "print(circy2.getPerimeter())  # ➞ 28\n"
      ],
      "metadata": {
        "colab": {
          "base_uri": "https://localhost:8080/"
        },
        "id": "kztwy0o-Trh8",
        "outputId": "253058de-665a-48e0-c1ce-afad9ae58e3f"
      },
      "execution_count": 3,
      "outputs": [
        {
          "output_type": "stream",
          "name": "stdout",
          "text": [
            "380\n",
            "69\n",
            "62\n",
            "28\n"
          ]
        }
      ]
    },
    {
      "cell_type": "markdown",
      "source": [
        "Question 4\n",
        "Create a function that takes a list of strings and return a list, sorted from shortest to longest.\n",
        "\n",
        "Examples\n",
        "\n",
        "sort_by_length([&quot;Google&quot;, &quot;Apple&quot;, &quot;Microsoft&quot;])\n",
        "➞ [&quot;Apple&quot;, &quot;Google&quot;, &quot;Microsoft&quot;]\n",
        "\n",
        "sort_by_length([&quot;Leonardo&quot;, &quot;Michelangelo&quot;, &quot;Raphael&quot;, &quot;Donatello&quot;]) ➞ [&quot;Raphael&quot;, &quot;Leonardo&quot;, &quot;Donatello&quot;, &quot;Michelangelo&quot;]\n",
        "\n",
        "sort_by_length([&quot;Turing&quot;, &quot;Einstein&quot;, &quot;Jung&quot;])\n",
        "➞ [&quot;Jung&quot;, &quot;Turing&quot;, &quot;Einstein&quot;]\n",
        "\n",
        "Notes\n",
        "\n",
        "All test cases contain lists with strings of different lengths, so you won&#39;t have to deal with\n",
        "multiple strings of the same length."
      ],
      "metadata": {
        "id": "wjkM6G_fVfYp"
      }
    },
    {
      "cell_type": "code",
      "source": [
        "def sort_by_length(strings):\n",
        "    # Sort the list of strings by their length\n",
        "    return sorted(strings, key=len)\n",
        "\n",
        "# Test cases\n",
        "print(sort_by_length([\"Google\", \"Apple\", \"Microsoft\"]))  # ➞ [\"Apple\", \"Google\", \"Microsoft\"]\n",
        "print(sort_by_length([\"Leonardo\", \"Michelangelo\", \"Raphael\", \"Donatello\"]))  # ➞ [\"Raphael\", \"Leonardo\", \"Donatello\", \"Michelangelo\"]\n",
        "print(sort_by_length([\"Turing\", \"Einstein\", \"Jung\"]))  # ➞ [\"Jung\", \"Turing\", \"Einstein\"]\n"
      ],
      "metadata": {
        "colab": {
          "base_uri": "https://localhost:8080/"
        },
        "id": "ZdaALlEUVfH4",
        "outputId": "f2080cec-8931-4ee5-9e1f-837f988c1af0"
      },
      "execution_count": 4,
      "outputs": [
        {
          "output_type": "stream",
          "name": "stdout",
          "text": [
            "['Apple', 'Google', 'Microsoft']\n",
            "['Raphael', 'Leonardo', 'Donatello', 'Michelangelo']\n",
            "['Jung', 'Turing', 'Einstein']\n"
          ]
        }
      ]
    },
    {
      "cell_type": "markdown",
      "source": [
        "Question 5\n",
        "Create a function that validates whether three given integers form a Pythagorean triplet. The\n",
        "sum of the squares of the two smallest integers must equal the square of the largest number to\n",
        "be validated.\n",
        "\n",
        "Examples\n",
        "\n",
        "is_triplet(3, 4, 5) ➞ True\n",
        "\n",
        "3² + 4² = 25\n",
        "\n",
        "5² = 25\n",
        "is_triplet(13, 5, 12) ➞ True\n",
        "\n",
        "5² + 12² = 169\n",
        "\n",
        "13² = 169\n",
        "is_triplet(1, 2, 3) ➞ False\n",
        "\n",
        "1² + 2² = 5\n",
        "\n",
        "3² = 9\n",
        "\n",
        "Notes\n",
        "\n",
        "Numbers may not be given in a sorted order."
      ],
      "metadata": {
        "id": "XVr89ogvWMjA"
      }
    },
    {
      "cell_type": "code",
      "source": [
        "def triplet(x, y, z):\n",
        "    larger = max(x, y, z)\n",
        "\n",
        "    if larger == x:\n",
        "        return y**2 + z**2 == x**2\n",
        "\n",
        "    elif larger == y:\n",
        "        return x**2 + z**2 == y**2\n",
        "\n",
        "    else:\n",
        "        return x**2 + y**2 == z**2\n",
        "\n",
        "print(triplet(3, 4, 5))  # ➞ True\n",
        "print(triplet(13, 5, 12))  # ➞ True\n",
        "print(triplet(1, 2, 3))  # ➞ False\n"
      ],
      "metadata": {
        "colab": {
          "base_uri": "https://localhost:8080/"
        },
        "id": "XY5mRDmBWMS0",
        "outputId": "65057027-8c0b-4027-9167-396f6082bf4c"
      },
      "execution_count": 5,
      "outputs": [
        {
          "output_type": "stream",
          "name": "stdout",
          "text": [
            "True\n",
            "True\n",
            "False\n"
          ]
        }
      ]
    }
  ]
}