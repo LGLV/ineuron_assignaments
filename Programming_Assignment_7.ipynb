{
  "nbformat": 4,
  "nbformat_minor": 0,
  "metadata": {
    "colab": {
      "provenance": [],
      "authorship_tag": "ABX9TyPuWxM+iG86oJrzFtuokXOb",
      "include_colab_link": true
    },
    "kernelspec": {
      "name": "python3",
      "display_name": "Python 3"
    },
    "language_info": {
      "name": "python"
    }
  },
  "cells": [
    {
      "cell_type": "markdown",
      "metadata": {
        "id": "view-in-github",
        "colab_type": "text"
      },
      "source": [
        "<a href=\"https://colab.research.google.com/github/LGLV/ineuron_assignaments/blob/main/Programming_Assignment_7.ipynb\" target=\"_parent\"><img src=\"https://colab.research.google.com/assets/colab-badge.svg\" alt=\"Open In Colab\"/></a>"
      ]
    },
    {
      "cell_type": "markdown",
      "source": [
        "**1. Write a Python Program to find sum of array?**\n"
      ],
      "metadata": {
        "id": "_UET7p-IfoVK"
      }
    },
    {
      "cell_type": "code",
      "source": [
        "a = [1, 3, 5, 7, 9]\n",
        "\n",
        "sum = 0\n",
        "\n",
        "for i in a:\n",
        "    if type(i) == int:\n",
        "        sum += i\n",
        "        #print(sum)\n",
        "print(sum)"
      ],
      "metadata": {
        "colab": {
          "base_uri": "https://localhost:8080/"
        },
        "id": "VrNf07M5ibSC",
        "outputId": "e65fd4fe-de1a-405f-eacd-42c32936b10f"
      },
      "execution_count": 14,
      "outputs": [
        {
          "output_type": "stream",
          "name": "stdout",
          "text": [
            "25\n"
          ]
        }
      ]
    },
    {
      "cell_type": "markdown",
      "source": [
        "**2. Write a Python Program to find largest element in an array?**\n"
      ],
      "metadata": {
        "id": "_Da6AQg_fsWP"
      }
    },
    {
      "cell_type": "code",
      "execution_count": 2,
      "metadata": {
        "colab": {
          "base_uri": "https://localhost:8080/",
          "height": 35
        },
        "id": "Tq9SnskEfStZ",
        "outputId": "298ed5f8-6192-4ff3-fbc8-c0230c5cc0b4"
      },
      "outputs": [
        {
          "output_type": "execute_result",
          "data": {
            "text/plain": [
              "'The largest numerically in the array is: 9'"
            ],
            "application/vnd.google.colaboratory.intrinsic+json": {
              "type": "string"
            }
          },
          "metadata": {},
          "execution_count": 2
        }
      ],
      "source": [
        "a = [1, 3, 5, 7, 9]\n",
        "\n",
        "m = max(a)\n",
        "(f'The largest numerically in the array is: {m}')"
      ]
    },
    {
      "cell_type": "code",
      "source": [
        "b = ['Luis', 'Germán', 'López', 'Valdez']\n",
        "n = max(b)\n",
        "(f'The largest alphabetically in the array is: {n}')"
      ],
      "metadata": {
        "colab": {
          "base_uri": "https://localhost:8080/",
          "height": 35
        },
        "id": "2tzcX7LIlQlv",
        "outputId": "8fa62a96-2d90-4065-9b3b-20ab266c6a80"
      },
      "execution_count": null,
      "outputs": [
        {
          "output_type": "execute_result",
          "data": {
            "text/plain": [
              "'The largest alphabetically in the array is: Valdez'"
            ],
            "application/vnd.google.colaboratory.intrinsic+json": {
              "type": "string"
            }
          },
          "metadata": {},
          "execution_count": 34
        }
      ]
    },
    {
      "cell_type": "markdown",
      "source": [
        "**3. Write a Python Program for array rotation?**\n"
      ],
      "metadata": {
        "id": "yUoe54ILfu5w"
      }
    },
    {
      "cell_type": "code",
      "source": [
        "def array_rot(a,d):\n",
        "    l = []\n",
        "    n=len(a)\n",
        "    for i in range(d,n):\n",
        "        l.append(a[i])\n",
        "    i = 0\n",
        "    for i in range (0,d):\n",
        "        l.append(a[i])\n",
        "    a=l.copy()\n",
        "    return a\n",
        " \n",
        "arr = [1, 2, 3, 4, 5, 6, 7]\n",
        "print(\"Array after left rotation is: \", end=' ')\n",
        "print(array_rot(arr, 2))"
      ],
      "metadata": {
        "colab": {
          "base_uri": "https://localhost:8080/"
        },
        "id": "sHdLNhrKhk5u",
        "outputId": "66bb36d7-e81a-4170-b511-990922df47a7"
      },
      "execution_count": 55,
      "outputs": [
        {
          "output_type": "stream",
          "name": "stdout",
          "text": [
            "Array after left rotation is:  [3, 4, 5, 6, 7, 1, 2]\n"
          ]
        }
      ]
    },
    {
      "cell_type": "markdown",
      "source": [
        "**4. Write a Python Program to Split the array and add the first part to the end?**\n"
      ],
      "metadata": {
        "id": "RM5pmONgf11i"
      }
    },
    {
      "cell_type": "code",
      "source": [
        "arr = [12, 10, 5, 6, 52, 36]\n",
        "a = arr[:2]\n",
        "b = arr[2:]\n",
        "b.extend(a)\n",
        "for i in b:\n",
        "    print(i, end=' ')"
      ],
      "metadata": {
        "colab": {
          "base_uri": "https://localhost:8080/"
        },
        "id": "DRj9KlL3YK9_",
        "outputId": "5cc922fc-c718-48aa-f3af-ced9a4e939f1"
      },
      "execution_count": 43,
      "outputs": [
        {
          "output_type": "stream",
          "name": "stdout",
          "text": [
            "5 6 52 36 12 10 "
          ]
        }
      ]
    },
    {
      "cell_type": "code",
      "source": [
        "arr = [12, 10, 5, 6, 52, 36]\n",
        "a = arr[:2]\n",
        "b = arr[2:]\n",
        "b.append(a)\n",
        "for i in b:\n",
        "    print(i, end=' ')"
      ],
      "metadata": {
        "colab": {
          "base_uri": "https://localhost:8080/"
        },
        "id": "SnZksY3yXpaA",
        "outputId": "59d2bbad-8c36-4570-b48b-8973819da231"
      },
      "execution_count": 35,
      "outputs": [
        {
          "output_type": "stream",
          "name": "stdout",
          "text": [
            "5 6 52 36 [12, 10] "
          ]
        }
      ]
    },
    {
      "cell_type": "markdown",
      "source": [
        "**5. Write a Python Program to check if given array is Monotonic?**\n",
        "\n",
        "The task is to check whether the array is Monotonic or not. An array is monotonic if it is either monotone increasing or monotone decreasing. \n",
        "* An array A is monotone increasing if for all i <= j, A[i] <= A[j]. \n",
        "\n",
        "* An array A is monotone decreasing if for all i <= j, A[i] >= A[j]. "
      ],
      "metadata": {
        "id": "Mgz0C4bhpEOo"
      }
    },
    {
      "cell_type": "code",
      "source": [
        "def mono(A):\n",
        "    return(all(A[i] <= A[i+1] for i in range(len(A)-1)) or\n",
        "           all(A[i] >= A[i+1] for i in range(len(A)-1)))\n",
        "\n",
        "A = [12, 10, 5, 6, 52, 36]\n",
        "\n",
        "print(f'Is the array {A} monotonic? {mono(A)}')"
      ],
      "metadata": {
        "colab": {
          "base_uri": "https://localhost:8080/"
        },
        "id": "2idtLwtzY93v",
        "outputId": "b0bb3bac-4443-4a69-9ea4-87f891524fef"
      },
      "execution_count": 54,
      "outputs": [
        {
          "output_type": "stream",
          "name": "stdout",
          "text": [
            "Is the array [12, 10, 5, 6, 52, 36] monotonic? False\n"
          ]
        }
      ]
    }
  ]
}