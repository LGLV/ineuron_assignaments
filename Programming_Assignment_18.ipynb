{
  "nbformat": 4,
  "nbformat_minor": 0,
  "metadata": {
    "colab": {
      "provenance": [],
      "authorship_tag": "ABX9TyOv0lbykib5YEWtYVqRXl+E",
      "include_colab_link": true
    },
    "kernelspec": {
      "name": "python3",
      "display_name": "Python 3"
    },
    "language_info": {
      "name": "python"
    }
  },
  "cells": [
    {
      "cell_type": "markdown",
      "metadata": {
        "id": "view-in-github",
        "colab_type": "text"
      },
      "source": [
        "<a href=\"https://colab.research.google.com/github/LGLV/ineuron_assignaments/blob/main/Programming_Assignment_18.ipynb\" target=\"_parent\"><img src=\"https://colab.research.google.com/assets/colab-badge.svg\" alt=\"Open In Colab\"/></a>"
      ]
    },
    {
      "cell_type": "markdown",
      "source": [
        "Question 1\n",
        "Create a function that takes a list of non-negative integers and strings and return a new list\n",
        "without the strings.\n",
        "\n",
        "Examples\n",
        "\n",
        "* filter_list([1, 2, &quot;a&quot;, &quot;b&quot;]) ➞ [1, 2]\n",
        "* filter_list([1, &quot;a&quot;, &quot;b&quot;, 0, 15]) ➞ [1, 0, 15]\n",
        "* filter_list([1, 2, &quot;aasf&quot;, &quot;1&quot;, &quot;123&quot;, 123]) ➞ [1, 2, 123]"
      ],
      "metadata": {
        "id": "wqtPx8XBkQ0S"
      }
    },
    {
      "cell_type": "code",
      "execution_count": 1,
      "metadata": {
        "colab": {
          "base_uri": "https://localhost:8080/"
        },
        "id": "LCno0ZEvkN7B",
        "outputId": "13b89bb0-e4af-4a73-c532-5f2298a42104"
      },
      "outputs": [
        {
          "output_type": "stream",
          "name": "stdout",
          "text": [
            "[1, 2]\n",
            "[1, 0, 15]\n",
            "[1, 2, 123]\n"
          ]
        }
      ],
      "source": [
        "def filter_list(lst):\n",
        "    # Use a list comprehension to filter out strings\n",
        "    return [item for item in lst if isinstance(item, int)]\n",
        "\n",
        "# Examples\n",
        "print(filter_list([1, 2, \"a\", \"b\"]))              # Output: [1, 2]\n",
        "print(filter_list([1, \"a\", \"b\", 0, 15]))          # Output: [1, 0, 15]\n",
        "print(filter_list([1, 2, \"aasf\", \"1\", \"123\", 123]))  # Output: [1, 2, 123]\n"
      ]
    },
    {
      "cell_type": "markdown",
      "source": [
        "Question 2\n",
        "The &quot;Reverser&quot; takes a string as input and returns that string in reverse order, with the\n",
        "opposite case.\n",
        "\n",
        "Examples\n",
        "\n",
        "* reverse(&quot;Hello World&quot;) ➞ &quot;DLROw OLLEh&quot;\n",
        "* reverse(&quot;ReVeRsE&quot;) ➞ &quot;eSrEvEr&quot;\n",
        "* reverse(&quot;Radar&quot;) ➞ &quot;RADAr&quot;"
      ],
      "metadata": {
        "id": "lJIS7GsXnRIa"
      }
    },
    {
      "cell_type": "code",
      "source": [
        "def reverse(s):\n",
        "    # Reverse the string and swap case\n",
        "    return s[::-1].swapcase()\n",
        "\n",
        "# Examples\n",
        "print(reverse(\"Hello World\"))  # Output: \"DLROw OLLEh\"\n",
        "print(reverse(\"ReVeRsE\"))      # Output: \"eSrEvEr\"\n",
        "print(reverse(\"Radar\"))         # Output: \"RADAr\"\n"
      ],
      "metadata": {
        "colab": {
          "base_uri": "https://localhost:8080/"
        },
        "id": "Q4RcrxoqnRkk",
        "outputId": "697da551-f99d-4c75-ced7-053186fdf445"
      },
      "execution_count": 13,
      "outputs": [
        {
          "output_type": "stream",
          "name": "stdout",
          "text": [
            "DLROw OLLEh\n",
            "eSrEvEr\n",
            "RADAr\n"
          ]
        }
      ]
    },
    {
      "cell_type": "markdown",
      "source": [
        "Question 3\n",
        "You can assign variables from lists like this:\n",
        "\n",
        "* lst = [1, 2, 3, 4, 5, 6]\n",
        "* first = lst[0]\n",
        "* middle = lst[1:-1]\n",
        "* last = lst[-1]\n",
        "* print(first) ➞ outputs 1\n",
        "* print(middle) ➞ outputs [2, 3, 4, 5]\n",
        "* print(last) ➞ outputs 6\n",
        "\n",
        "With Python 3, you can assign variables from lists in a much more succinct way. Create variables first, middle and last from the given list using destructuring assignment (check the Resources tab for some examples), where:\n",
        "\n",
        "* first ➞ 1\n",
        "* middle ➞ [2, 3, 4, 5]\n",
        "* last ➞ 6\n",
        "\n",
        "Your task is to unpack the list writeyourcodehere into three variables, being first,middle, and last, with middle being everything in between the first and last element. Then print all three variables."
      ],
      "metadata": {
        "id": "BDWG1wnooyJ7"
      }
    },
    {
      "cell_type": "code",
      "source": [
        "lst = [1, 2, 3, 4, 5, 6]\n",
        "\n",
        "# Using destructuring assignment to assign first, middle, and last\n",
        "first, *middle, last = lst\n",
        "\n",
        "print('first:', first)   # Output: 1\n",
        "print('middle:', middle)  # Output: [2, 3, 4, 5]\n",
        "print('last:', last)    # Output: 6\n"
      ],
      "metadata": {
        "colab": {
          "base_uri": "https://localhost:8080/"
        },
        "id": "XyLowJ1Doz2v",
        "outputId": "e4f04afa-6031-4f98-f80c-ca702d7eff51"
      },
      "execution_count": 20,
      "outputs": [
        {
          "output_type": "stream",
          "name": "stdout",
          "text": [
            "first: 1\n",
            "middle: [2, 3, 4, 5]\n",
            "last: 6\n"
          ]
        }
      ]
    },
    {
      "cell_type": "markdown",
      "source": [
        "Question 4\n",
        "Write a function that calculates the factorial of a number recursively.\n",
        "\n",
        "Examples\n",
        "\n",
        "* factorial(5) ➞ 120\n",
        "* factorial(3) ➞ 6\n",
        "* factorial(1) ➞ 1\n",
        "* factorial(0) ➞ 1"
      ],
      "metadata": {
        "id": "CNdIl7Q-qjDi"
      }
    },
    {
      "cell_type": "code",
      "source": [
        "def factorial(n):\n",
        "    # Base case: if n is 0 or 1, return 1\n",
        "    if n == 0 or n == 1:\n",
        "        return 1\n",
        "    # Recursive case: n * factorial of (n - 1)\n",
        "    return n * factorial(n - 1)\n",
        "\n",
        "# Examples\n",
        "print(f'The factorial of 5 is:',factorial(5))  # ➞ 120\n",
        "print(f'The factorial of 3 is:',factorial(3))  # ➞ 6\n",
        "print(f'The factorial of 1 is:',factorial(1))  # ➞ 1\n",
        "print(f'The factorial of 0 is:',factorial(0))  # ➞ 1"
      ],
      "metadata": {
        "colab": {
          "base_uri": "https://localhost:8080/"
        },
        "id": "mtPYd3o9qkEc",
        "outputId": "5ab35810-6ceb-44aa-f322-56d7a3c2d8cd"
      },
      "execution_count": 25,
      "outputs": [
        {
          "output_type": "stream",
          "name": "stdout",
          "text": [
            "The factorial of 5 is: 120\n",
            "The factorial of 3 is: 6\n",
            "The factorial of 1 is: 1\n",
            "The factorial of 0 is: 1\n"
          ]
        }
      ]
    },
    {
      "cell_type": "markdown",
      "source": [
        "Question 5\n",
        "Write a function that moves all elements of one type to the end of the list.\n",
        "\n",
        "Examples\n",
        "\n",
        "* move_to_end([1, 3, 2, 4, 4, 1], 1) ➞ [3, 2, 4, 4, 1, 1]\n",
        "\n",
        "Move all the 1s to the end of the array.\n",
        "\n",
        "* move_to_end([7, 8, 9, 1, 2, 3, 4], 9) ➞ [7, 8, 1, 2, 3, 4, 9]\n",
        "* move_to_end([&quot;a&quot;, &quot;a&quot;, &quot;a&quot;, &quot;b&quot;], &quot;a&quot;) ➞ [&quot;b&quot;, &quot;a&quot;, &quot;a&quot;, &quot;a&quot;]"
      ],
      "metadata": {
        "id": "syvOCvJ4sTWs"
      }
    },
    {
      "cell_type": "code",
      "source": [
        "def move_to_end(lst, elem):\n",
        "    # Create a new list with all elements except the specified one\n",
        "    new_list = [x for x in lst if x != elem]\n",
        "    # Count how many times the specified element appears\n",
        "    count_elem = lst.count(elem)\n",
        "    # Extend the new list with the specified element repeated\n",
        "    new_list.extend([elem] * count_elem)\n",
        "    return new_list\n",
        "\n",
        "# Examples\n",
        "print(move_to_end([1, 3, 2, 4, 4, 1], 1))  # ➞ [3, 2, 4, 4, 1, 1]\n",
        "print(move_to_end([7, 8, 9, 1, 2, 3, 4], 9))  # ➞ [7, 8, 1, 2, 3, 4, 9]\n",
        "print(move_to_end([\"a\", \"a\", \"a\", \"b\"], \"a\"))  # ➞ [\"b\", \"a\", \"a\", \"a\"]\n"
      ],
      "metadata": {
        "colab": {
          "base_uri": "https://localhost:8080/"
        },
        "id": "QHMyui3-sT_X",
        "outputId": "dce53010-b3f0-414b-9164-5ed08179dd4d"
      },
      "execution_count": 26,
      "outputs": [
        {
          "output_type": "stream",
          "name": "stdout",
          "text": [
            "[3, 2, 4, 4, 1, 1]\n",
            "[7, 8, 1, 2, 3, 4, 9]\n",
            "['b', 'a', 'a', 'a']\n"
          ]
        }
      ]
    }
  ]
}