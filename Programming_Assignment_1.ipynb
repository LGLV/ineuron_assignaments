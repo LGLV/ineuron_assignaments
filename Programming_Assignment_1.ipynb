{
  "nbformat": 4,
  "nbformat_minor": 0,
  "metadata": {
    "colab": {
      "provenance": [],
      "authorship_tag": "ABX9TyM2PC7sW147bXT2cCXY16FD",
      "include_colab_link": true
    },
    "kernelspec": {
      "name": "python3",
      "display_name": "Python 3"
    },
    "language_info": {
      "name": "python"
    }
  },
  "cells": [
    {
      "cell_type": "markdown",
      "metadata": {
        "id": "view-in-github",
        "colab_type": "text"
      },
      "source": [
        "<a href=\"https://colab.research.google.com/github/LGLV/ineuron_assignaments/blob/main/Programming_Assignment_1.ipynb\" target=\"_parent\"><img src=\"https://colab.research.google.com/assets/colab-badge.svg\" alt=\"Open In Colab\"/></a>"
      ]
    },
    {
      "cell_type": "markdown",
      "source": [
        "**1. Write a Python program to print &quot;Hello Python&quot;?**\n"
      ],
      "metadata": {
        "id": "PVjsFEn16dzr"
      }
    },
    {
      "cell_type": "code",
      "source": [
        "print(\"Hello Python\")"
      ],
      "metadata": {
        "colab": {
          "base_uri": "https://localhost:8080/"
        },
        "id": "lcYs2bj061JB",
        "outputId": "35e20710-03db-4161-fd16-8a188baff5ef"
      },
      "execution_count": 1,
      "outputs": [
        {
          "output_type": "stream",
          "name": "stdout",
          "text": [
            "Hello Python\n"
          ]
        }
      ]
    },
    {
      "cell_type": "markdown",
      "source": [
        "**2. Write a Python program to do arithmetical operations addition and division.?**\n"
      ],
      "metadata": {
        "id": "V91bf9YQ6ioj"
      }
    },
    {
      "cell_type": "code",
      "source": [
        "def sum_div(a, b):\n",
        "    sum = a+b\n",
        "    div = a/b\n",
        "    print(f'The result of sum {a} + {b} is: {sum}.\\n\\nThe resut of division {a}/{b} is: {div}')\n",
        "sum_div(1, 2)"
      ],
      "metadata": {
        "colab": {
          "base_uri": "https://localhost:8080/"
        },
        "id": "m0QVfHj367yi",
        "outputId": "5626b5ad-3f76-4797-ab8b-1e90893d81d6"
      },
      "execution_count": 12,
      "outputs": [
        {
          "output_type": "stream",
          "name": "stdout",
          "text": [
            "The result of sum 1 + 2 is: 3.\n",
            "\n",
            "The resut of division 1/2 is: 0.5\n"
          ]
        }
      ]
    },
    {
      "cell_type": "markdown",
      "source": [
        "**3. Write a Python program to find the area of a triangle?**\n"
      ],
      "metadata": {
        "id": "91igRW2L6ib4"
      }
    },
    {
      "cell_type": "code",
      "source": [
        "base = int(input('Enter the base measurement: '))\n",
        "height = int(input('Enter the triangle´s height: '))\n",
        "\n",
        "def triangle_area(base, height):\n",
        "    return (base*height)/2\n",
        " \n",
        "print(f'The triangle´s area is: {triangle_area(base, height)}')\n"
      ],
      "metadata": {
        "colab": {
          "base_uri": "https://localhost:8080/"
        },
        "id": "i6swH6_Z9ERi",
        "outputId": "7d836e36-294a-4b49-8a84-871a5aa20ee2"
      },
      "execution_count": 40,
      "outputs": [
        {
          "output_type": "stream",
          "name": "stdout",
          "text": [
            "Enter the base measurement: 2\n",
            "Enter the triangle´s height: 3\n",
            "The triangle´s area is: 3.0\n"
          ]
        }
      ]
    },
    {
      "cell_type": "code",
      "source": [
        "base_f = float(input('Enter the base measurement: '))\n",
        "height_f = float(input('Enter the triangle´s height: '))\n",
        "\n",
        "def triangle_area(base_f, height_f):\n",
        "    return (base_f*height_f)/2\n",
        " \n",
        "print(f'The triangle´s area is: {triangle_area(base_f, height_f)}')"
      ],
      "metadata": {
        "colab": {
          "base_uri": "https://localhost:8080/"
        },
        "id": "w1KSgOxjejmr",
        "outputId": "e8ef968e-ee52-41a0-ac0b-770a8413a1e5"
      },
      "execution_count": 3,
      "outputs": [
        {
          "output_type": "stream",
          "name": "stdout",
          "text": [
            "Enter the base measurement: 3.5\n",
            "Enter the triangle´s height: 2\n",
            "The triangle´s area is: 3.5\n"
          ]
        }
      ]
    },
    {
      "cell_type": "markdown",
      "source": [
        "**4. Write a Python program to swap two variables?**"
      ],
      "metadata": {
        "id": "iUdwmtUc6iNP"
      }
    },
    {
      "cell_type": "code",
      "source": [
        "before_date = float(input('Enter the now number: '))\n",
        "after_date = float(input('Enter the after number: '))\n",
        "\n",
        "def Bef_Aft(before_date, after_date):\n",
        "    a = before_date\n",
        "    before_date = after_date\n",
        "    after_date = a\n",
        "    return before_date, after_date\n",
        "print('Initial date:', before_date, ',', after_date)\n",
        "before_date, after_date = Bef_Aft(before_date, after_date)\n",
        "print('Swaped date:', before_date, ',', after_date)"
      ],
      "metadata": {
        "colab": {
          "base_uri": "https://localhost:8080/"
        },
        "id": "r2X26XsBAl3S",
        "outputId": "65757e4c-3268-44cf-d366-1ea3eaf04aa1"
      },
      "execution_count": 12,
      "outputs": [
        {
          "output_type": "stream",
          "name": "stdout",
          "text": [
            "Enter the now number: 9\n",
            "Enter the after number: 6\n",
            "Initial date: 9.0 , 6.0\n",
            "Swaped date: 6.0 , 9.0\n"
          ]
        }
      ]
    },
    {
      "cell_type": "markdown",
      "source": [
        "**5. Write a Python program to generate a random number?**"
      ],
      "metadata": {
        "id": "bcy52vld6hrz"
      }
    },
    {
      "cell_type": "code",
      "execution_count": 39,
      "metadata": {
        "colab": {
          "base_uri": "https://localhost:8080/"
        },
        "id": "_1w_cn1V6ab-",
        "outputId": "fd8a78ee-922c-495b-8a24-346ba461cfb9"
      },
      "outputs": [
        {
          "output_type": "stream",
          "name": "stdout",
          "text": [
            "Enter the first num:1\n",
            "Enter the second num:3\n",
            "Random number_1: 2\n",
            "Random number_2: 1\n",
            "Random number_3: 1\n"
          ]
        }
      ],
      "source": [
        "random_1 = float(input('Enter the first num:'))\n",
        "random_2 = float(input('Enter the second num:'))\n",
        "from random import randint\n",
        "def rand_num(random_1, random_2):\n",
        "    return randint(random_1, random_2)\n",
        "print('Random number_1:', randint(random_1, random_2))\n",
        "print('Random number_2:', randint(random_1, random_2))\n",
        "print('Random number_3:', randint(random_1, random_2))"
      ]
    }
  ]
}