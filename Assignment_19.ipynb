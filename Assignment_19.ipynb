{
  "nbformat": 4,
  "nbformat_minor": 0,
  "metadata": {
    "colab": {
      "provenance": [],
      "authorship_tag": "ABX9TyMdXfxPbZuLnqiKGa5r5pUP",
      "include_colab_link": true
    },
    "kernelspec": {
      "name": "python3",
      "display_name": "Python 3"
    },
    "language_info": {
      "name": "python"
    }
  },
  "cells": [
    {
      "cell_type": "markdown",
      "metadata": {
        "id": "view-in-github",
        "colab_type": "text"
      },
      "source": [
        "<a href=\"https://colab.research.google.com/github/LGLV/ineuron_assignaments/blob/main/Assignment_19.ipynb\" target=\"_parent\"><img src=\"https://colab.research.google.com/assets/colab-badge.svg\" alt=\"Open In Colab\"/></a>"
      ]
    },
    {
      "cell_type": "markdown",
      "source": [
        "**1. Make a class called Thing with no contents and print it. Then, create an object called example\n",
        "from this class and also print it. Are the printed values the same or different?** "
      ],
      "metadata": {
        "id": "atoDiK8IKvub"
      }
    },
    {
      "cell_type": "code",
      "execution_count": 1,
      "metadata": {
        "colab": {
          "base_uri": "https://localhost:8080/"
        },
        "id": "rR1B6HAgKsAG",
        "outputId": "c81f5d99-8f4a-4904-c97c-6bf181899321"
      },
      "outputs": [
        {
          "output_type": "stream",
          "name": "stdout",
          "text": [
            "<class '__main__.Thing'>\n"
          ]
        }
      ],
      "source": [
        "class Thing:\n",
        "    pass\n",
        "print(Thing)"
      ]
    },
    {
      "cell_type": "code",
      "source": [
        "example = Thing() \n",
        "print(example)"
      ],
      "metadata": {
        "colab": {
          "base_uri": "https://localhost:8080/"
        },
        "id": "EQR0CXFvUodo",
        "outputId": "89b51305-93ed-4075-ba42-80f3cf87d7cf"
      },
      "execution_count": 2,
      "outputs": [
        {
          "output_type": "stream",
          "name": "stdout",
          "text": [
            "<__main__.Thing object at 0x7fcff9c9a830>\n"
          ]
        }
      ]
    },
    {
      "cell_type": "markdown",
      "source": [
        "**2. Create a new class called Thing2 and add the value &#39;abc&#39; to the letters class attribute. Letters\n",
        "should be printed.**"
      ],
      "metadata": {
        "id": "Ok0lLsEqV9iP"
      }
    },
    {
      "cell_type": "code",
      "source": [
        "class Thing2:\n",
        "    letters = 'abc'\n",
        "print(Thing2.letters)"
      ],
      "metadata": {
        "colab": {
          "base_uri": "https://localhost:8080/"
        },
        "id": "s7MZ0iHWWC5n",
        "outputId": "25d46076-e4bf-4fda-8abd-eb778f350ec1"
      },
      "execution_count": 3,
      "outputs": [
        {
          "output_type": "stream",
          "name": "stdout",
          "text": [
            "abc\n"
          ]
        }
      ]
    },
    {
      "cell_type": "markdown",
      "source": [
        "**3. Make yet another class called, of course, Thing3. This time, assign the value &#39;xyz&#39; to an instance\n",
        "(object) attribute called letters. Print letters. Do you need to make an object from the class to do\n",
        "this?**"
      ],
      "metadata": {
        "id": "0yxR6B4nWbNO"
      }
    },
    {
      "cell_type": "code",
      "source": [
        "class Thing3:\n",
        "    def __init__(self):\n",
        "        self.letters = 'xyz'\n",
        "print(Thing3.letters) "
      ],
      "metadata": {
        "colab": {
          "base_uri": "https://localhost:8080/",
          "height": 205
        },
        "id": "vecQ3xwiWjPq",
        "outputId": "6a16c3af-c282-40fb-d830-601a73bc69af"
      },
      "execution_count": 4,
      "outputs": [
        {
          "output_type": "error",
          "ename": "AttributeError",
          "evalue": "ignored",
          "traceback": [
            "\u001b[0;31m---------------------------------------------------------------------------\u001b[0m",
            "\u001b[0;31mAttributeError\u001b[0m                            Traceback (most recent call last)",
            "\u001b[0;32m<ipython-input-4-7122c5721d0d>\u001b[0m in \u001b[0;36m<cell line: 4>\u001b[0;34m()\u001b[0m\n\u001b[1;32m      2\u001b[0m     \u001b[0;32mdef\u001b[0m \u001b[0m__init__\u001b[0m\u001b[0;34m(\u001b[0m\u001b[0mself\u001b[0m\u001b[0;34m)\u001b[0m\u001b[0;34m:\u001b[0m\u001b[0;34m\u001b[0m\u001b[0;34m\u001b[0m\u001b[0m\n\u001b[1;32m      3\u001b[0m         \u001b[0mself\u001b[0m\u001b[0;34m.\u001b[0m\u001b[0mletters\u001b[0m \u001b[0;34m=\u001b[0m \u001b[0;34m'xyz'\u001b[0m\u001b[0;34m\u001b[0m\u001b[0;34m\u001b[0m\u001b[0m\n\u001b[0;32m----> 4\u001b[0;31m \u001b[0mprint\u001b[0m\u001b[0;34m(\u001b[0m\u001b[0mThing3\u001b[0m\u001b[0;34m.\u001b[0m\u001b[0mletters\u001b[0m\u001b[0;34m)\u001b[0m\u001b[0;34m\u001b[0m\u001b[0;34m\u001b[0m\u001b[0m\n\u001b[0m",
            "\u001b[0;31mAttributeError\u001b[0m: type object 'Thing3' has no attribute 'letters'"
          ]
        }
      ]
    },
    {
      "cell_type": "markdown",
      "source": [
        "The variable letters comes from any **object** made from Thing3. Not from the **class** Thing3."
      ],
      "metadata": {
        "id": "r1NaRkAyZgcO"
      }
    },
    {
      "cell_type": "code",
      "source": [
        "any_object = Thing3() # Is necesary to create an object from the class Thing3, to print it.\n",
        "print(any_object.letters)"
      ],
      "metadata": {
        "colab": {
          "base_uri": "https://localhost:8080/"
        },
        "id": "HX0Wri0-X5sD",
        "outputId": "e2564993-686b-4c66-d0cb-160f58aee177"
      },
      "execution_count": 5,
      "outputs": [
        {
          "output_type": "stream",
          "name": "stdout",
          "text": [
            "xyz\n"
          ]
        }
      ]
    },
    {
      "cell_type": "markdown",
      "source": [
        "**4. Create an Element class with the instance attributes name, symbol, and number. Create a class\n",
        "object with the values &#39;Hydrogen,&#39; &#39;H,&#39; and 1.**"
      ],
      "metadata": {
        "id": "bITnFJ1RuuZi"
      }
    },
    {
      "cell_type": "code",
      "source": [
        "class Element:\n",
        "    def __init__(self, name, symbol, number):\n",
        "        self.name = name\n",
        "        self.symbol = symbol\n",
        "        self.number = number\n",
        "element = Element('Hydrogen', 'H', '1')"
      ],
      "metadata": {
        "id": "InlGKJcsu85E"
      },
      "execution_count": 6,
      "outputs": []
    },
    {
      "cell_type": "code",
      "source": [
        "element.name"
      ],
      "metadata": {
        "colab": {
          "base_uri": "https://localhost:8080/",
          "height": 35
        },
        "id": "N1H95Bv7vsok",
        "outputId": "8c959698-5e59-4967-d165-2c43eaf39e03"
      },
      "execution_count": null,
      "outputs": [
        {
          "output_type": "execute_result",
          "data": {
            "text/plain": [
              "'Hydrogen'"
            ],
            "application/vnd.google.colaboratory.intrinsic+json": {
              "type": "string"
            }
          },
          "metadata": {},
          "execution_count": 10
        }
      ]
    },
    {
      "cell_type": "markdown",
      "source": [
        "**5. Make a dictionary with these keys and values: &#39;name&#39;: &#39;Hydrogen&#39;, &#39;symbol&#39;: &#39;H&#39;, &#39;number&#39;: 1. Then,\n",
        "create an object called hydrogen from class Element using this dictionary.**"
      ],
      "metadata": {
        "id": "VEBMgWHlLrqo"
      }
    },
    {
      "cell_type": "code",
      "source": [
        "element_dict = {'name': 'Hydrogen', 'symbol': 'H', 'number': 1}\n",
        "print(element_dict)\n",
        "hydrogen = Element(*element_dict.values())\n",
        "print(hydrogen.name, hydrogen.number, hydrogen.symbol, sep = ':\\t')\n",
        "hydrogen = Element(**element_dict)\n",
        "print(hydrogen.name, hydrogen.number, hydrogen.symbol, sep = ',\\t')"
      ],
      "metadata": {
        "colab": {
          "base_uri": "https://localhost:8080/"
        },
        "id": "77u3LpbuL10M",
        "outputId": "d542e5ad-7fe5-49db-86aa-0d9bda213e16"
      },
      "execution_count": 8,
      "outputs": [
        {
          "output_type": "stream",
          "name": "stdout",
          "text": [
            "{'name': 'Hydrogen', 'symbol': 'H', 'number': 1}\n",
            "Hydrogen:\t1:\tH\n",
            "Hydrogen,\t1,\tH\n"
          ]
        }
      ]
    },
    {
      "cell_type": "markdown",
      "source": [
        "**6. For the Element class, define a method called dump() that prints the values of the object’s\n",
        "attributes (name, symbol, and number). Create the hydrogen object from this new definition and\n",
        "use dump() to print its attributes.**"
      ],
      "metadata": {
        "id": "wTElseojPNCa"
      }
    },
    {
      "cell_type": "code",
      "source": [
        "class Element:\n",
        "    def __init__(self, name, symbol, number):\n",
        "        self.name =name\n",
        "        self.symbol = symbol\n",
        "        self.number = number\n",
        "\n",
        "    def dump(self):\n",
        "        print(self.name, self.symbol, self.number, sep = '\\t') \n",
        "\n",
        "hydrogen = Element('Hydrogen', 'H', 1)\n",
        "hydrogen.dump()"
      ],
      "metadata": {
        "colab": {
          "base_uri": "https://localhost:8080/"
        },
        "id": "dl_crSd6NoiP",
        "outputId": "e3347109-1e54-47ba-df58-17ce4b240f67"
      },
      "execution_count": 15,
      "outputs": [
        {
          "output_type": "stream",
          "name": "stdout",
          "text": [
            "Hydrogen\tH\t1\n"
          ]
        }
      ]
    },
    {
      "cell_type": "markdown",
      "source": [
        "**7. Call print(hydrogen). In the definition of Element, change the name of method dump to __ str __ ,\n",
        "create a new hydrogen object, and call print(hydrogen) again.**"
      ],
      "metadata": {
        "id": "0uA1sZCVXUfR"
      }
    },
    {
      "cell_type": "code",
      "source": [
        "print(hydrogen)\n",
        "\n",
        "class Element:\n",
        "    def __init__(self, name, symbol, number):\n",
        "        self.name =name\n",
        "        self.symbol = symbol\n",
        "        self.number = number\n",
        "    \n",
        "    def __str__(self):\n",
        "        print(self.name, self.symbol, self.number) \n",
        "        \n",
        "hydrogen2 = Element('Hydrogen', 'H', 1)\n",
        "hydrogen2.__str__()\n",
        "print(hydrogen2)"
      ],
      "metadata": {
        "colab": {
          "base_uri": "https://localhost:8080/",
          "height": 259
        },
        "id": "0kvK7cBOXbLo",
        "outputId": "a39ebc64-c7f8-4ea4-bc45-f2d5f68c3cdb"
      },
      "execution_count": 16,
      "outputs": [
        {
          "output_type": "stream",
          "name": "stdout",
          "text": [
            "<__main__.Element object at 0x7fcff9c9b7c0>\n",
            "Hydrogen H 1\n",
            "Hydrogen H 1\n"
          ]
        },
        {
          "output_type": "error",
          "ename": "TypeError",
          "evalue": "ignored",
          "traceback": [
            "\u001b[0;31m---------------------------------------------------------------------------\u001b[0m",
            "\u001b[0;31mTypeError\u001b[0m                                 Traceback (most recent call last)",
            "\u001b[0;32m<ipython-input-16-22ff2c25f43b>\u001b[0m in \u001b[0;36m<cell line: 14>\u001b[0;34m()\u001b[0m\n\u001b[1;32m     12\u001b[0m \u001b[0mhydrogen2\u001b[0m \u001b[0;34m=\u001b[0m \u001b[0mElement\u001b[0m\u001b[0;34m(\u001b[0m\u001b[0;34m'Hydrogen'\u001b[0m\u001b[0;34m,\u001b[0m \u001b[0;34m'H'\u001b[0m\u001b[0;34m,\u001b[0m \u001b[0;36m1\u001b[0m\u001b[0;34m)\u001b[0m\u001b[0;34m\u001b[0m\u001b[0;34m\u001b[0m\u001b[0m\n\u001b[1;32m     13\u001b[0m \u001b[0mhydrogen2\u001b[0m\u001b[0;34m.\u001b[0m\u001b[0m__str__\u001b[0m\u001b[0;34m(\u001b[0m\u001b[0;34m)\u001b[0m\u001b[0;34m\u001b[0m\u001b[0;34m\u001b[0m\u001b[0m\n\u001b[0;32m---> 14\u001b[0;31m \u001b[0mprint\u001b[0m\u001b[0;34m(\u001b[0m\u001b[0mhydrogen2\u001b[0m\u001b[0;34m)\u001b[0m\u001b[0;34m\u001b[0m\u001b[0;34m\u001b[0m\u001b[0m\n\u001b[0m",
            "\u001b[0;31mTypeError\u001b[0m: __str__ returned non-string (type NoneType)"
          ]
        }
      ]
    },
    {
      "cell_type": "markdown",
      "source": [
        "**8. Modify Element to make the attributes name, symbol, and number private. Define a getter\n",
        "property for each to return its value.**"
      ],
      "metadata": {
        "id": "Xm_upvB6kCjs"
      }
    },
    {
      "cell_type": "code",
      "source": [
        "class Element:\n",
        "    def __init__(self, name, symbol, number ):\n",
        "        self.name1 = name\n",
        "        self.symbol1 = symbol\n",
        "        self.number1 = number\n",
        "\n",
        "    @property\n",
        "    def get_name(self):\n",
        "        return self.name1\n",
        "\n",
        "    @property\n",
        "    def get_symbol(self):\n",
        "        return self.symbol1\n",
        "    \n",
        "    @property\n",
        "    def get_number(self):\n",
        "        return self.number1\n",
        "\n",
        "hydrogen = Element('Hydrogen', 'H', 1)\n",
        "\n",
        "print(hydrogen.get_name)\n",
        "print(hydrogen.get_symbol)\n",
        "print(hydrogen.get_number)"
      ],
      "metadata": {
        "colab": {
          "base_uri": "https://localhost:8080/"
        },
        "id": "dnTkX_TUkJiV",
        "outputId": "e4c839d6-77c7-4b5a-fa8c-ca891d19dae7"
      },
      "execution_count": 1,
      "outputs": [
        {
          "output_type": "stream",
          "name": "stdout",
          "text": [
            "Hydrogen\n",
            "H\n",
            "1\n"
          ]
        }
      ]
    },
    {
      "cell_type": "markdown",
      "source": [
        "**9. Define three classes: Bear, Rabbit, and Octothorpe. For each, define only one method: eats(). This\n",
        "should return &#39;berries&#39; (Bear), &#39;clover&#39; (Rabbit), or &#39;campers&#39; (Octothorpe). Create one object from\n",
        "each and print what it eats.**"
      ],
      "metadata": {
        "id": "hMp8YFDTSfZW"
      }
    },
    {
      "cell_type": "code",
      "source": [
        "class Bear:\n",
        "    def eats (self):\n",
        "        print('Bears eat berries')\n",
        "\n",
        "class Rabbit:\n",
        "    def eats (self):\n",
        "        print('Rabbits eat clover')\n",
        "\n",
        "class Octothorpe:\n",
        "    def eats (self):\n",
        "        print('Octothopers eat campers')\n",
        "\n",
        "bear = Bear()\n",
        "rabbit = Rabbit()\n",
        "octothorpe = Octothorpe()\n",
        "\n",
        "bear.eats()\n",
        "rabbit.eats()\n",
        "octothorpe.eats()\n"
      ],
      "metadata": {
        "colab": {
          "base_uri": "https://localhost:8080/"
        },
        "id": "7l45LtrXWvCu",
        "outputId": "e5cb8f79-3cdf-4a61-abdd-ea5a6a2c1bfe"
      },
      "execution_count": 32,
      "outputs": [
        {
          "output_type": "stream",
          "name": "stdout",
          "text": [
            "Bears eat berries\n",
            "Rabbits eat clover\n",
            "Octothopers eat campers\n"
          ]
        }
      ]
    },
    {
      "cell_type": "markdown",
      "source": [
        "**10. Define these classes: Laser, Claw, and SmartPhone. Each has only one method: does(). This\n",
        "returns &#39;disintegrate&#39; (Laser), &#39;crush&#39; (Claw), or &#39;ring&#39; (SmartPhone). Then, define the class Robot that\n",
        "has one instance (object) of each of these. Define a does() method for the Robot that prints what its\n",
        "component objects do.**"
      ],
      "metadata": {
        "id": "ZKfnHdDffjSN"
      }
    },
    {
      "cell_type": "code",
      "source": [
        "class Laser: # This is a class\n",
        "    def does(self): # This is a method\n",
        "        return('disintegrate') # This returns something\n",
        "\n",
        "class Claw:\n",
        "    def does(self):\n",
        "        return('crush')\n",
        "\n",
        "class SmartPhone:\n",
        "    def does(self):\n",
        "        return('ring')\n",
        "\n",
        "class Robot: # This is a class\n",
        "    def __init__(self): # This is an instance (object)\n",
        "        self.laser = Laser()\n",
        "        self.claw = Claw()\n",
        "        self.smartphone = SmartPhone()\n",
        "    def does(self):\n",
        "        print('\\n',self.laser.does(),'\\n',self.claw.does(),'\\n',self.smartphone.does())\n",
        "\n",
        "r2d2 = Robot()\n",
        "r2d2.does()"
      ],
      "metadata": {
        "colab": {
          "base_uri": "https://localhost:8080/"
        },
        "id": "WlLGc644firG",
        "outputId": "cfc3d8d2-2ff9-4640-d61b-025ebf90b2b4"
      },
      "execution_count": 84,
      "outputs": [
        {
          "output_type": "stream",
          "name": "stdout",
          "text": [
            "\n",
            " disintegrate \n",
            " crush \n",
            " ring\n"
          ]
        }
      ]
    },
    {
      "cell_type": "code",
      "source": [
        "salary = input('Choise a position (Executive/Manager/Senior Manager)')\n",
        "\n",
        "# salary = salary.lower()\n",
        "\n",
        "if salary == 'Executive':\n",
        "    print('The salary range is between 30000-40000')\n",
        "\n",
        "elif salary ==  'Manager':\n",
        "    print('The salary range is between 60000-90000')\n",
        "\n",
        "elif salary ==  'Senior Manager':\n",
        "    print('The salary range is between 120000-160000')\n",
        "\n",
        "else:\n",
        "    print('Please, enter a correct option.')\n"
      ],
      "metadata": {
        "colab": {
          "base_uri": "https://localhost:8080/"
        },
        "id": "Veke8ck-ScjU",
        "outputId": "1e36ad5e-cc75-40df-8bba-a71c0a365107"
      },
      "execution_count": 23,
      "outputs": [
        {
          "output_type": "stream",
          "name": "stdout",
          "text": [
            "Choise a position (Executive/Manager/Senior Manager)Senior Manager\n",
            "The salary range is between 120000-160000\n"
          ]
        }
      ]
    }
  ]
}