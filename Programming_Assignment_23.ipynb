{
  "nbformat": 4,
  "nbformat_minor": 0,
  "metadata": {
    "colab": {
      "provenance": [],
      "authorship_tag": "ABX9TyPZ0FJhYhp43Xl69xcdoA62",
      "include_colab_link": true
    },
    "kernelspec": {
      "name": "python3",
      "display_name": "Python 3"
    },
    "language_info": {
      "name": "python"
    }
  },
  "cells": [
    {
      "cell_type": "markdown",
      "metadata": {
        "id": "view-in-github",
        "colab_type": "text"
      },
      "source": [
        "<a href=\"https://colab.research.google.com/github/LGLV/ineuron_assignaments/blob/main/Programming_Assignment_23.ipynb\" target=\"_parent\"><img src=\"https://colab.research.google.com/assets/colab-badge.svg\" alt=\"Open In Colab\"/></a>"
      ]
    },
    {
      "cell_type": "markdown",
      "source": [
        "Question 1\n",
        "Create a function that takes a number as an argument and returns True or False depending\n",
        "on whether the number is symmetrical or not. A number is symmetrical when it is the same as\n",
        "its reverse.\n",
        "\n",
        "Examples\n",
        "\n",
        "is_symmetrical(7227) ➞ True\n",
        "\n",
        "is_symmetrical(12567) ➞ False\n",
        "\n",
        "is_symmetrical(44444444) ➞ True\n",
        "\n",
        "is_symmetrical(9939) ➞ False\n",
        "\n",
        "is_symmetrical(1112111) ➞ True"
      ],
      "metadata": {
        "id": "BZA67Q7TGwo0"
      }
    },
    {
      "cell_type": "code",
      "execution_count": 1,
      "metadata": {
        "colab": {
          "base_uri": "https://localhost:8080/"
        },
        "id": "qiaLDW7TGpNt",
        "outputId": "321ef805-2f5a-4287-b493-4057d9998d3d"
      },
      "outputs": [
        {
          "output_type": "stream",
          "name": "stdout",
          "text": [
            "True\n",
            "False\n",
            "True\n",
            "False\n",
            "True\n"
          ]
        }
      ],
      "source": [
        "def is_symmetrical(num):\n",
        "    # Convert the number to a string\n",
        "    num_str = str(num)\n",
        "    # Check if the string is the same as its reverse\n",
        "    return num_str == num_str[::-1]\n",
        "\n",
        "# Test cases\n",
        "print(is_symmetrical(7227))      # ➞ True\n",
        "print(is_symmetrical(12567))     # ➞ False\n",
        "print(is_symmetrical(44444444))   # ➞ True\n",
        "print(is_symmetrical(9939))      # ➞ False\n",
        "print(is_symmetrical(1112111))    # ➞ True\n"
      ]
    },
    {
      "cell_type": "markdown",
      "source": [
        "Question 2\n",
        "Given a string of numbers separated by a comma and space, return the product of the\n",
        "numbers.\n",
        "\n",
        "Examples\n",
        "\n",
        "multiply_nums(&quot;2, 3&quot;) ➞ 6\n",
        "\n",
        "multiply_nums(&quot;1, 2, 3, 4&quot;) ➞ 24\n",
        "\n",
        "multiply_nums(&quot;54, 75, 453, 0&quot;) ➞ 0\n",
        "\n",
        "multiply_nums(&quot;10, -2&quot;) ➞ -20"
      ],
      "metadata": {
        "id": "uwfvKX24IdzM"
      }
    },
    {
      "cell_type": "code",
      "source": [
        "def multiply_nums(numbers_str):\n",
        "    # Split the string into a list of numbers\n",
        "    numbers = map(int, numbers_str.split(\", \"))\n",
        "    # Initialize the product variable\n",
        "    product = 1\n",
        "    # Multiply all numbers together\n",
        "    for num in numbers:\n",
        "        product *= num\n",
        "    return product\n",
        "\n",
        "# Test cases\n",
        "print(multiply_nums(\"2, 3\"))           # ➞ 6\n",
        "print(multiply_nums(\"1, 2, 3, 4\"))     # ➞ 24\n",
        "print(multiply_nums(\"54, 75, 453, 0\")) # ➞ 0\n",
        "print(multiply_nums(\"10, -2\"))         # ➞ -20\n"
      ],
      "metadata": {
        "colab": {
          "base_uri": "https://localhost:8080/"
        },
        "id": "x6ZPlqrVIsM8",
        "outputId": "cebc0d04-7bc8-4650-9bc9-2be8c14dd043"
      },
      "execution_count": 2,
      "outputs": [
        {
          "output_type": "stream",
          "name": "stdout",
          "text": [
            "6\n",
            "24\n",
            "0\n",
            "-20\n"
          ]
        }
      ]
    },
    {
      "cell_type": "markdown",
      "source": [
        "Question 3\n",
        "Create a function that squares every digit of a number.\n",
        "\n",
        "Examples\n",
        "\n",
        "square_digits(9119) ➞ 811181\n",
        "\n",
        "square_digits(2483) ➞ 416649\n",
        "\n",
        "square_digits(3212) ➞ 9414\n",
        "\n",
        "Notes\n",
        "\n",
        "The function receives an integer and must return an integer."
      ],
      "metadata": {
        "id": "vWawF6kBKLxg"
      }
    },
    {
      "cell_type": "code",
      "source": [
        "def square_digits(num):\n",
        "    # Convert the number to a string to iterate over each digit\n",
        "    num_str = str(num)\n",
        "    # Square each digit and concatenate the results\n",
        "    squared_digits = ''.join(str(int(digit) ** 2) for digit in num_str)\n",
        "    # Convert the result back to an integer\n",
        "    return int(squared_digits)\n",
        "\n",
        "# Test cases\n",
        "print(square_digits(9119))  # ➞ 811181\n",
        "print(square_digits(2483))  # ➞ 416649\n",
        "print(square_digits(3212))  # ➞ 9414\n"
      ],
      "metadata": {
        "colab": {
          "base_uri": "https://localhost:8080/"
        },
        "id": "QStxurzFKRWc",
        "outputId": "502ad43c-4265-48df-97e5-0b92029fbab2"
      },
      "execution_count": 3,
      "outputs": [
        {
          "output_type": "stream",
          "name": "stdout",
          "text": [
            "811181\n",
            "416649\n",
            "9414\n"
          ]
        }
      ]
    },
    {
      "cell_type": "markdown",
      "source": [
        "Question 4\n",
        "Create a function that sorts a list and removes all duplicate items from it.\n",
        "\n",
        "Examples\n",
        "\n",
        "setify([1, 3, 3, 5, 5]) ➞ [1, 3, 5]\n",
        "\n",
        "setify([4, 4, 4, 4]) ➞ [4]\n",
        "\n",
        "setify([5, 7, 8, 9, 10, 15]) ➞ [5, 7, 8, 9, 10, 15]\n",
        "\n",
        "setify([3, 3, 3, 2, 1]) ➞ [1, 2, 3]"
      ],
      "metadata": {
        "id": "gQIvPEswLIWG"
      }
    },
    {
      "cell_type": "code",
      "source": [
        "def setify(lst):\n",
        "    # Convert the list to a set to remove duplicates, then back to a list\n",
        "    return sorted(list(set(lst)))\n",
        "\n",
        "print(setify([1, 3, 3, 5, 5]))  # ➞ [1, 3, 5]\n",
        "print(setify([4, 4, 4, 4]))  # ➞ [4]\n",
        "print(setify([5, 7, 8, 9, 10, 15]))  # ➞ [5, 7, 8, 9, 10, 15]\n",
        "print(setify([3, 3, 3, 2, 1]))  # ➞ [1, 2, 3]"
      ],
      "metadata": {
        "colab": {
          "base_uri": "https://localhost:8080/"
        },
        "id": "sPd-uQDmLIDL",
        "outputId": "ccd7711e-0603-4adc-d47e-cb1712821986"
      },
      "execution_count": 5,
      "outputs": [
        {
          "output_type": "stream",
          "name": "stdout",
          "text": [
            "[1, 3, 5]\n",
            "[4]\n",
            "[5, 7, 8, 9, 10, 15]\n",
            "[1, 2, 3]\n"
          ]
        }
      ]
    },
    {
      "cell_type": "markdown",
      "source": [
        "Question 5\n",
        "Create a function that returns the mean of all digits.\n",
        "\n",
        "Examples\n",
        "\n",
        "mean(42) ➞ 3\n",
        "\n",
        "mean(12345) ➞ 3\n",
        "\n",
        "mean(666) ➞ 6\n",
        "\n",
        "Notes\n",
        "\n",
        "* The mean of all digits is the sum of digits / how many digits there are (e.g. mean of digits in 512 is (5+1+2)/3(number of digits) = 8/3=2).\n",
        "\n",
        "* The mean will always be an integer."
      ],
      "metadata": {
        "id": "aV3mPH46NDVM"
      }
    },
    {
      "cell_type": "code",
      "source": [
        "def mean(num):\n",
        "    # Convert the number to a string to iterate over each digit\n",
        "    num_str = str(num)\n",
        "    # Calculate the sum of the digits and the count of digits\n",
        "    total_sum = sum(int(digit) for digit in num_str)\n",
        "    count = len(num_str)\n",
        "    # Calculate the mean (integer division)\n",
        "    return total_sum // count\n",
        "\n",
        "# Test cases\n",
        "print(mean(42))       # ➞ 3\n",
        "print(mean(12345))   # ➞ 3\n",
        "print(mean(666))     # ➞ 6\n"
      ],
      "metadata": {
        "colab": {
          "base_uri": "https://localhost:8080/"
        },
        "id": "0O0Ok_2zNDMn",
        "outputId": "c6b7366c-155d-4eca-d358-03019cf3a6f7"
      },
      "execution_count": 8,
      "outputs": [
        {
          "output_type": "stream",
          "name": "stdout",
          "text": [
            "3\n",
            "3\n",
            "6\n"
          ]
        }
      ]
    }
  ]
}